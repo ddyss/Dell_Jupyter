{
 "cells": [
  {
   "cell_type": "code",
   "execution_count": 6,
   "metadata": {},
   "outputs": [
    {
     "data": {
      "text/plain": [
       "5"
      ]
     },
     "execution_count": 6,
     "metadata": {},
     "output_type": "execute_result"
    }
   ],
   "source": [
    "# LeetCode 1023  驼峰字符串匹配判别\n",
    "class Solution:\n",
    "    def camelMatch(self, queries: List[str], pattern: str) -> List[bool]:\n",
    "        # 从原串中去掉模式串，如果剩余的都是小写字母则为true\n",
    "\n",
    "        res = []\n",
    "        for query in queries:\n",
    "            res.append(self.isMatch(query,pattern))\n",
    "        return res\n",
    "\n",
    "    def isMatch(self,query,pattern):\n",
    "        query = list(query)\n",
    "        pattern = list(pattern)\n",
    "        i = 0\n",
    "        n = len(pattern)\n",
    "        \n",
    "        tmp = 0\n",
    "        while i < n:        \n",
    "            if pattern[i] in query[tmp:]:                \n",
    "                tmp = query.index(pattern[i])            \n",
    "                i += 1\n",
    "                query.pop(tmp)            \n",
    "            else:\n",
    "                return False\n",
    "            \n",
    "        for que in query:\n",
    "            if 'A' <= que <= 'Z':\n",
    "                return False\n",
    "        return True"
   ]
  },
  {
   "cell_type": "code",
   "execution_count": 5,
   "metadata": {
    "collapsed": true,
    "jupyter": {
     "outputs_hidden": true
    }
   },
   "outputs": [
    {
     "ename": "KeyboardInterrupt",
     "evalue": "",
     "output_type": "error",
     "traceback": [
      "\u001b[1;31m---------------------------------------------------------------------------\u001b[0m",
      "\u001b[1;31mKeyboardInterrupt\u001b[0m                         Traceback (most recent call last)",
      "\u001b[1;32m<ipython-input-5-d88e10040871>\u001b[0m in \u001b[0;36m<module>\u001b[1;34m\u001b[0m\n\u001b[0;32m     31\u001b[0m \u001b[0mpattern\u001b[0m \u001b[1;33m=\u001b[0m \u001b[1;34m\"FB\"\u001b[0m\u001b[1;33m\u001b[0m\u001b[0m\n\u001b[0;32m     32\u001b[0m \u001b[1;33m\u001b[0m\u001b[0m\n\u001b[1;32m---> 33\u001b[1;33m \u001b[0mprint\u001b[0m\u001b[1;33m(\u001b[0m\u001b[0mSolution\u001b[0m\u001b[1;33m(\u001b[0m\u001b[1;33m)\u001b[0m\u001b[1;33m.\u001b[0m\u001b[0mcamelMatch\u001b[0m\u001b[1;33m(\u001b[0m\u001b[0mqueries\u001b[0m\u001b[1;33m,\u001b[0m\u001b[0mpattern\u001b[0m\u001b[1;33m)\u001b[0m\u001b[1;33m)\u001b[0m\u001b[1;33m\u001b[0m\u001b[0m\n\u001b[0m",
      "\u001b[1;32m<ipython-input-5-d88e10040871>\u001b[0m in \u001b[0;36mcamelMatch\u001b[1;34m(self, queries, pattern)\u001b[0m\n\u001b[0;32m      4\u001b[0m         \u001b[0mres\u001b[0m \u001b[1;33m=\u001b[0m \u001b[1;33m[\u001b[0m\u001b[1;33m]\u001b[0m\u001b[1;33m\u001b[0m\u001b[0m\n\u001b[0;32m      5\u001b[0m         \u001b[1;32mfor\u001b[0m \u001b[0mquery\u001b[0m \u001b[1;32min\u001b[0m \u001b[0mqueries\u001b[0m\u001b[1;33m:\u001b[0m\u001b[1;33m\u001b[0m\u001b[0m\n\u001b[1;32m----> 6\u001b[1;33m             \u001b[0mres\u001b[0m\u001b[1;33m.\u001b[0m\u001b[0mappend\u001b[0m\u001b[1;33m(\u001b[0m\u001b[0mself\u001b[0m\u001b[1;33m.\u001b[0m\u001b[0misMatch\u001b[0m\u001b[1;33m(\u001b[0m\u001b[0mquery\u001b[0m\u001b[1;33m,\u001b[0m\u001b[0mpattern\u001b[0m\u001b[1;33m)\u001b[0m\u001b[1;33m)\u001b[0m\u001b[1;33m\u001b[0m\u001b[0m\n\u001b[0m\u001b[0;32m      7\u001b[0m         \u001b[1;32mreturn\u001b[0m \u001b[0mres\u001b[0m\u001b[1;33m\u001b[0m\u001b[0m\n\u001b[0;32m      8\u001b[0m \u001b[1;33m\u001b[0m\u001b[0m\n",
      "\u001b[1;32m<ipython-input-5-d88e10040871>\u001b[0m in \u001b[0;36misMatch\u001b[1;34m(self, query, pattern)\u001b[0m\n\u001b[0;32m     24\u001b[0m             \u001b[1;32mreturn\u001b[0m \u001b[1;32mFalse\u001b[0m\u001b[1;33m\u001b[0m\u001b[0m\n\u001b[0;32m     25\u001b[0m         \u001b[1;32mwhile\u001b[0m \u001b[0mi\u001b[0m \u001b[1;33m<\u001b[0m \u001b[0mn1\u001b[0m\u001b[1;33m:\u001b[0m\u001b[1;33m\u001b[0m\u001b[0m\n\u001b[1;32m---> 26\u001b[1;33m             \u001b[1;32mif\u001b[0m \u001b[1;34m'A'\u001b[0m \u001b[1;33m<=\u001b[0m \u001b[0mquery\u001b[0m\u001b[1;33m[\u001b[0m\u001b[0mi\u001b[0m\u001b[1;33m+\u001b[0m\u001b[1;36m1\u001b[0m\u001b[1;33m]\u001b[0m \u001b[1;33m<=\u001b[0m \u001b[1;34m'Z'\u001b[0m\u001b[1;33m:\u001b[0m\u001b[1;33m\u001b[0m\u001b[0m\n\u001b[0m\u001b[0;32m     27\u001b[0m                 \u001b[1;32mreturn\u001b[0m \u001b[1;32mFalse\u001b[0m\u001b[1;33m\u001b[0m\u001b[0m\n\u001b[0;32m     28\u001b[0m         \u001b[1;32mreturn\u001b[0m \u001b[1;32mTrue\u001b[0m\u001b[1;33m\u001b[0m\u001b[0m\n",
      "\u001b[1;31mKeyboardInterrupt\u001b[0m: "
     ]
    }
   ],
   "source": [
    "# https://leetcode-cn.com/problems/camelcase-matching/solution/tuo-feng-shi-pi-pei-by-lenn123/   这个敲的应该有问题，超时了\n",
    "# LeetCode 1023  驼峰字符串匹配判别\n",
    "from typing import List\n",
    "class Solution:\n",
    "    def camelMatch(self, queries: List[str], pattern: str) -> List[bool]:\n",
    "        res = []\n",
    "        for query in queries:\n",
    "            res.append(self.isMatch(query,pattern))\n",
    "        return res\n",
    "\n",
    "    def isMatch(self,query,pattern):\n",
    "        i = 0\n",
    "        j = 0\n",
    "        n1 = len(query)\n",
    "        n2 = len(pattern)\n",
    "        while i < n1 and j < n2:\n",
    "            if query[i] == pattern[j]:\n",
    "                i += 1\n",
    "                j += 1\n",
    "            elif 'A' <= query[i] <= 'Z':\n",
    "                return False\n",
    "            else:\n",
    "                i += 1\n",
    "\n",
    "        if j != n2:\n",
    "            return False\n",
    "        while i < n1:\n",
    "            if 'A' <= query[i+1] <= 'Z':\n",
    "                return False\n",
    "        return True\n",
    "    \n",
    "queries = [\"FooBar\",\"FooBarTest\",\"FootBall\",\"FrameBuffer\",\"ForceFeedBack\"]\n",
    "pattern = \"FB\"\n",
    "\n",
    "print(Solution().camelMatch(queries,pattern))  "
   ]
  },
  {
   "cell_type": "code",
   "execution_count": null,
   "metadata": {},
   "outputs": [],
   "source": []
  }
 ],
 "metadata": {
  "kernelspec": {
   "display_name": "Python 3",
   "language": "python",
   "name": "python3"
  },
  "language_info": {
   "codemirror_mode": {
    "name": "ipython",
    "version": 3
   },
   "file_extension": ".py",
   "mimetype": "text/x-python",
   "name": "python",
   "nbconvert_exporter": "python",
   "pygments_lexer": "ipython3",
   "version": "3.6.6"
  }
 },
 "nbformat": 4,
 "nbformat_minor": 4
}
