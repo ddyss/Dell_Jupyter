{
 "cells": [
  {
   "cell_type": "code",
   "execution_count": 1,
   "metadata": {},
   "outputs": [
    {
     "data": {
      "text/plain": [
       "'1523'"
      ]
     },
     "execution_count": 1,
     "metadata": {},
     "output_type": "execute_result"
    }
   ],
   "source": [
    "# leetcode 415 字符串相加           类似的43题，字符串相乘\n",
    "# 只允许对单个字符串使用int函数，不能直接int相加或者相乘\n",
    "num1 = '1289'\n",
    "num2 = '234'\n",
    "def addStrings(num1,num2):\n",
    "    i = len(num1) - 1\n",
    "    j = len(num2) - 1\n",
    "    \n",
    "    carry = 0    # 初始化一个进位标志位0，在循环中不断更新\n",
    "    \n",
    "    res = ''    \n",
    "    while i >= 0 or j >= 0:\n",
    "        # 从最大i，j开始，倒序遍历；先做一个判断，后期当i或j减小到0的时候，可以进行补0\n",
    "        n1 = int(num1[i]) if i >= 0 else 0\n",
    "        n2 = int(num2[j]) if j >= 0 else 0  # 必须判断j>=0，不然j=-1时，依然存在num[j]，表示的是倒数第1个数，\n",
    "        \n",
    "        # 不断更新进位\n",
    "        tmp = n1 + n2 + carry\n",
    "        carry = tmp//10\n",
    "        res = str(tmp%10) + res\n",
    "        i -= 1\n",
    "        j -= 1\n",
    "\n",
    "    # 如果carry存在的话，就在前面加个1\n",
    "    return str(carry) + res if carry else res\n",
    "addStrings(num1,num2) # '1523'"
   ]
  },
  {
   "cell_type": "code",
   "execution_count": null,
   "metadata": {},
   "outputs": [],
   "source": []
  }
 ],
 "metadata": {
  "kernelspec": {
   "display_name": "Python 3",
   "language": "python",
   "name": "python3"
  },
  "language_info": {
   "codemirror_mode": {
    "name": "ipython",
    "version": 3
   },
   "file_extension": ".py",
   "mimetype": "text/x-python",
   "name": "python",
   "nbconvert_exporter": "python",
   "pygments_lexer": "ipython3",
   "version": "3.6.6"
  }
 },
 "nbformat": 4,
 "nbformat_minor": 4
}
