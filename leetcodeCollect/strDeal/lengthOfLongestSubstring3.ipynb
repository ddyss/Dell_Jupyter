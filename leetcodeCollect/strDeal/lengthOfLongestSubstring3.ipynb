{
 "cells": [
  {
   "cell_type": "code",
   "execution_count": 71,
   "metadata": {},
   "outputs": [
    {
     "name": "stdout",
     "output_type": "stream",
     "text": [
      "7\n"
     ]
    }
   ],
   "source": [
    "# LeetCode 3 无重复字符的最长子串          # 这种代码更容易理解，可读性好一些\n",
    "from typing import List\n",
    "class Solution:\n",
    "    def lengthOfLongestSubstring(self, s: str) -> int:\n",
    "        if not s:return 0\n",
    "        \n",
    "        res = []\n",
    "        count = 1\n",
    "        n = len(s)\n",
    "        for i in range(n):\n",
    "            if s[i] not in res:\n",
    "                res.append(s[i])\n",
    "            else:\n",
    "                tmp = res.index(s[i])    \n",
    "                # 这里超出的话，返回的res是一个空列表而已[]，并不会报错\n",
    "                res = res[tmp+1:]\n",
    "                \n",
    "                # 最后都要再加上s[i]\n",
    "                res.append(s[i])\n",
    "                \n",
    "            count = max(count,len(res))\n",
    "        return count\n",
    "    \n",
    "s = 'helloworldqwe'\n",
    "print(Solution().lengthOfLongestSubstring(s))"
   ]
  },
  {
   "cell_type": "code",
   "execution_count": 72,
   "metadata": {},
   "outputs": [
    {
     "name": "stdout",
     "output_type": "stream",
     "text": [
      "7\n"
     ]
    }
   ],
   "source": [
    "# https://leetcode-cn.com/problems/longest-substring-without-repeating-characters/\n",
    "# solution/si-lu-qing-xi-yi-ci-bian-li-gao-xiao-qiu-jie-by-jo/\n",
    "# LeetCode 3 无重复字符的最长子串   # 这种代码更容易理解，可读性好一些\n",
    "from typing import List\n",
    "class Solution:\n",
    "    def lengthOfLongestSubstring(self, s: str) -> int:\n",
    "        # 使用一个辅助变量来暂时存储匹配的子串\n",
    "        ans = ''\n",
    "        tep = ''\n",
    "        for i in s:\n",
    "            # 遍历，若不重复则记录该字符\n",
    "            if i not in tep:\n",
    "                tep += i\n",
    "            # 如果遇到了已经存在的字符，则找到该字符所在位置，删除该字符，并保留该位置之后的子串，并把当前字符加入到最后，完成更新\n",
    "            else:\n",
    "                tep = tep[tep.index(i)+1:]\n",
    "                tep += i \n",
    "            # 如果是当前最长的，就替换掉之前存储的最长子串\n",
    "            if len(tep) > len(ans): \n",
    "                ans = tep \n",
    "        return len(ans)\n",
    "\n",
    "s = 'helloworldqwe'\n",
    "print(Solution().lengthOfLongestSubstring(s))\n"
   ]
  },
  {
   "cell_type": "code",
   "execution_count": null,
   "metadata": {},
   "outputs": [],
   "source": [
    "class Solution:\n",
    "    def lengthOfLongestSubstring(self, s: str) -> int:\n",
    "        if not s:return 0\n",
    "        left = 0\n",
    "        # 经过set操作后，会进行去重，居然都是字母有序不重复的？按道理应该无序，难道是巧合？\n",
    "        lookup = set()\n",
    "        \n",
    "        n = len(s)\n",
    "        max_len = 0\n",
    "        cur_len = 0\n",
    "        for i in range(n):\n",
    "            cur_len += 1\n",
    "            while s[i] in lookup:\n",
    "                lookup.remove(s[left])\n",
    "                left += 1\n",
    "                cur_len -= 1\n",
    "            if cur_len > max_len:\n",
    "                max_len = cur_len\n",
    "            lookup.add(s[i])\n",
    "        return max_len\n"
   ]
  },
  {
   "cell_type": "code",
   "execution_count": null,
   "metadata": {},
   "outputs": [],
   "source": []
  }
 ],
 "metadata": {
  "kernelspec": {
   "display_name": "Python 3",
   "language": "python",
   "name": "python3"
  },
  "language_info": {
   "codemirror_mode": {
    "name": "ipython",
    "version": 3
   },
   "file_extension": ".py",
   "mimetype": "text/x-python",
   "name": "python",
   "nbconvert_exporter": "python",
   "pygments_lexer": "ipython3",
   "version": "3.6.6"
  }
 },
 "nbformat": 4,
 "nbformat_minor": 4
}
