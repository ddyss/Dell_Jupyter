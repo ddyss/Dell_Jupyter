{
 "cells": [
  {
   "cell_type": "code",
   "execution_count": 4,
   "metadata": {},
   "outputs": [
    {
     "name": "stdout",
     "output_type": "stream",
     "text": [
      "6\n"
     ]
    }
   ],
   "source": [
    "# LeetCode 43    字符串相乘，# 只允许对单个字符串使用int函数，不能直接int相加或者相乘   # 类似 415题 字符串相加\n",
    "# 时间复杂度：O(mn + n 2)   空间复杂度：O(m+n) 最长不会超过m+n\n",
    "def multiply(num1, num2):\n",
    "    if num1 == '0' or num2 == '0':\n",
    "        return '0'\n",
    "    \n",
    "    def addstr(s1, s2):\n",
    "        i = len(s1) - 1\n",
    "        j = len(s2) - 1\n",
    "        carry = 0\n",
    "        res = ''\n",
    "        while i >= 0 or j >= 0:\n",
    "            num1 = s1[i] if i >= 0 else '0'\n",
    "            num2 = s2[j] if j >= 0 else '0'\n",
    "            tmp = int(num1) + int(num2) + carry\n",
    "            carry = tmp // 10\n",
    "            res = str(tmp % 10) + res\n",
    "            i -= 1\n",
    "            j -= 1\n",
    "        return str(carry) + res if carry else res\n",
    "\n",
    "    def mulstr(strs, num):\n",
    "        i = len(strs) - 1\n",
    "        res = ''\n",
    "        carry = 0\n",
    "        while i >= 0:\n",
    "            s = strs[i] if i >= 0 else '0'\n",
    "            tmp = int(s) * int(num) + carry\n",
    "            carry = tmp // 10\n",
    "            res = str(tmp % 10) + res\n",
    "            i -= 1\n",
    "        return str(carry) + res if carry else res\n",
    "\n",
    "    n1 = len(num1)\n",
    "    res = ''\n",
    "    for i in range(n1):\n",
    "        res = addstr(res, mulstr(num2, num1[i]) + '0' * (n1-i-1))\n",
    "    return res\n",
    "print(multiply('2','3'))"
   ]
  },
  {
   "cell_type": "code",
   "execution_count": null,
   "metadata": {},
   "outputs": [],
   "source": []
  }
 ],
 "metadata": {
  "kernelspec": {
   "display_name": "Python 3",
   "language": "python",
   "name": "python3"
  },
  "language_info": {
   "codemirror_mode": {
    "name": "ipython",
    "version": 3
   },
   "file_extension": ".py",
   "mimetype": "text/x-python",
   "name": "python",
   "nbconvert_exporter": "python",
   "pygments_lexer": "ipython3",
   "version": "3.6.6"
  }
 },
 "nbformat": 4,
 "nbformat_minor": 4
}
