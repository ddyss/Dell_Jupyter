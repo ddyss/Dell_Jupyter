{
 "cells": [
  {
   "cell_type": "code",
   "execution_count": 1,
   "metadata": {},
   "outputs": [],
   "source": [
    "# LeetCode 718  最长公共子序列，公共子序列是连续不间断的           1143题  则不要求连续          # 举一反三 # 718\\1035\\1143\n",
    "# https://leetcode-cn.com/problems/maximum-length-of-repeated-subarray/solution/ni-de-yi-fu-wo-ba-liao-zui-chang-gong-gong-zi-xu-l/\n",
    "\n",
    "# 形象解释动态规划     连续公共--左上 [i-1][j-1] 到右下 的一条线        两个都加1，才确保连续\n",
    "# https://leetcode-cn.com/problems/maximum-length-of-repeated-subarray/solution/yi-zhang-biao-ba-ju-hua-kan-dong-dong-tai-gui-hua-/\n",
    "\n",
    "# 双指针索引暴力遍历解法，每次把结果存在dp里     # 时间复杂度： O(N x M)  空间复杂度： O(N x M)\n",
    "class Solution:\n",
    "    def findLength(self,A,B):\n",
    "        n,m = len(A),len(B)\n",
    "        # 创建一个n+1 * m+1 的全0矩阵，并赋初值全0，考虑到其中一个为空的情况\n",
    "        dp = [[0]*(m+1) for _ in range(n+1)]\n",
    "        count = 0       \n",
    "        \n",
    "        for i in range(1,n+1):\n",
    "            for j in range(1,m+1):\n",
    "                # if判断不变，\n",
    "                if A[i-1] == B[j-1]:\n",
    "                    dp[i][j] = dp[i-1][j-1] + 1\n",
    "                    # 该问题中是子数组，元素要求是连续的，对应的就是图718中，一条斜线下来；不相等则不用考虑取什么两者最大\n",
    "                    count = max(count,dp[i][j])  # 不断更新最大count\n",
    "        \n",
    "        return count  # 返回count值\n",
    "        "
   ]
  },
  {
   "cell_type": "code",
   "execution_count": 2,
   "metadata": {},
   "outputs": [
    {
     "name": "stdout",
     "output_type": "stream",
     "text": [
      "2\n"
     ]
    }
   ],
   "source": [
    "def func(nums1,nums2):\n",
    "    n = len(nums1)\n",
    "    m = len(nums2)\n",
    "    dp = [[0]*(m+1) for _ in range(n+1)]\n",
    "    \n",
    "    count = 0\n",
    "    \n",
    "    for i in range(1,n+1):\n",
    "        for j in range(1,m+1):\n",
    "            if nums1[i-1] == nums2[j-1]:\n",
    "                dp[i][j] = dp[i-1][j-1] + 1\n",
    "                count = max(count,dp[i][j])\n",
    "    return count\n",
    "nums1 = [1,2,3,2,1]\n",
    "nums2 = [3,2,2,1,4,7]\n",
    "print(func(nums1,nums2))"
   ]
  },
  {
   "cell_type": "code",
   "execution_count": 1,
   "metadata": {},
   "outputs": [],
   "source": [
    "# 滑动窗口法 https://leetcode-cn.com/problems/maximum-length-of-repeated-subarray/solution/hua-dong-chuang-kou-12xing-ji-jian-python-by-java_/\n",
    "from typing import List\n",
    "class Solution:\n",
    "    def findLength(self, A: List[int], B: List[int]) -> int:\n",
    "        #求A，B左对齐右切平，连续最长子数组长度。\n",
    "        def maxLength(A,B)->int:\n",
    "            maxSame=curSame=0   #全局最大，当前连续\n",
    "            # zip() 返回的是一个对象。如需展示列表，需手动 list() 转换。\n",
    "            # a = [1,2,3] b = [4,5,6] 如：zipped = zip(a,b)     # [(1, 4), (2, 5), (3, 6)]\n",
    "            # zip(*zipped)          # 与 zip 相反，*zipped 可理解为解压，返回二维矩阵式 [(1, 2, 3), (4, 5, 6)]\n",
    "            for a,b in zip(A,B):\n",
    "                if a==b: curSame+=1 #相同连续+1\n",
    "                else:   #不同看看maxSame有没破纪录\n",
    "                    maxSame=max(maxSame,curSame)\n",
    "                    curSame=0   #连续清零\n",
    "            return max(maxSame,curSame) \n",
    "        #★↑ 不能只返回maxSame，否则当真正的maxSame发生在末尾则出错。\n",
    "        ans=0\n",
    "        #求 A[ai]对齐B[0] 的情况\n",
    "        for ai in range(len(A)):    \n",
    "            # 调用上面的函数maxLength\n",
    "            ans=max(ans,maxLength(A[ai:],B))\n",
    "        #求 A[0]对齐B[bi] 的情况\n",
    "        for bi in range(len(B)):    #A[0]对齐B[0]的已经做过了，故初始bi=1\n",
    "            ans=max(ans,maxLength(A,B[bi:]))\n",
    "        return ans\n",
    "\n"
   ]
  },
  {
   "cell_type": "code",
   "execution_count": null,
   "metadata": {},
   "outputs": [],
   "source": []
  }
 ],
 "metadata": {
  "kernelspec": {
   "display_name": "Python 3",
   "language": "python",
   "name": "python3"
  },
  "language_info": {
   "codemirror_mode": {
    "name": "ipython",
    "version": 3
   },
   "file_extension": ".py",
   "mimetype": "text/x-python",
   "name": "python",
   "nbconvert_exporter": "python",
   "pygments_lexer": "ipython3",
   "version": "3.6.6"
  }
 },
 "nbformat": 4,
 "nbformat_minor": 4
}
