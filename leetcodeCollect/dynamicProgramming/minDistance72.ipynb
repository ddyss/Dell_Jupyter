{
 "cells": [
  {
   "cell_type": "code",
   "execution_count": 1,
   "metadata": {},
   "outputs": [],
   "source": [
    "# LeetCode 72 编辑距离   【hard】   计算出将 word1 转换成 word2 所使用的最少操作数 \n",
    "# https://leetcode-cn.com/problems/edit-distance/solution/zi-di-xiang-shang-he-zi-ding-xiang-xia-by-powcai-3/\n",
    "class Solution:\n",
    "    def minDistance(self, word1, word2):\n",
    "        n1 = len(word1)\n",
    "        n2 = len(word2)\n",
    "        # 为什么大一圈，因为要防止出现空字符\n",
    "        dp = [[0]*(n2+1) for _ in range(n1+1)]\n",
    "        # 赋上初始值\n",
    "        for i in range(1,n1+1):\n",
    "            dp[i][0] = dp[i-1][0] + 1\n",
    "        for j in range(1,n2+1):\n",
    "            dp[0][j] = dp[0][j-1] + 1\n",
    "        \n",
    "        for i in range(1,n1+1):\n",
    "            for j in range(1,n2+1):\n",
    "                if word1[i-1] == word2[j-1]:\n",
    "                    dp[i][j] = dp[i-1][j-1]\n",
    "                else:\n",
    "                    dp[i][j] = min(dp[i-1][j-1],dp[i-1][j],dp[i][j-1]) + 1 #相等、删除、插入\n",
    "        # return dp[n1][n2]\n",
    "        return dp[-1][-1]"
   ]
  },
  {
   "cell_type": "code",
   "execution_count": null,
   "metadata": {},
   "outputs": [],
   "source": []
  }
 ],
 "metadata": {
  "kernelspec": {
   "display_name": "Python 3",
   "language": "python",
   "name": "python3"
  },
  "language_info": {
   "codemirror_mode": {
    "name": "ipython",
    "version": 3
   },
   "file_extension": ".py",
   "mimetype": "text/x-python",
   "name": "python",
   "nbconvert_exporter": "python",
   "pygments_lexer": "ipython3",
   "version": "3.6.6"
  }
 },
 "nbformat": 4,
 "nbformat_minor": 4
}
