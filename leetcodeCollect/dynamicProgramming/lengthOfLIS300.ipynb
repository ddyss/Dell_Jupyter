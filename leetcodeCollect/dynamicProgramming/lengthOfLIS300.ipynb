{
 "cells": [
  {
   "cell_type": "code",
   "execution_count": 11,
   "metadata": {},
   "outputs": [
    {
     "name": "stdout",
     "output_type": "stream",
     "text": [
      "4\n"
     ]
    }
   ],
   "source": [
    "# LeetCode 300  最长上升子序列，可以不连续\n",
    "# https://leetcode-cn.com/problems/longest-increasing-subsequence/solution/zui-chang-shang-sheng-zi-xu-lie-dong-tai-gui-hua-2/\n",
    "# https://leetcode-cn.com/problems/longest-increasing-subsequence/solution/liang-chong-jie-jue-fang-shi-dong-tai-gui-hua-er-f/\n",
    "\n",
    "class Solution: \n",
    "    def lengthOfLIS(self, nums):\n",
    "        n = len(nums)\n",
    "        #初始化，至少为1，初始值dp[i]全为1\n",
    "        dp = [1] * n #双指针索引 暴力求解\n",
    "\n",
    "        # 相当于直接暴力求解，i=1时，遍历j；然后i=2，遍历j；一直到i=n，遍历j\n",
    "        for i in range(1,n):\n",
    "            for j in range(i):\n",
    "                #当nums[j] < nums[i]时，dp[j] + 1，在dp[j]前面的基础上进行加1，否则不变，也就是和dp[i]对比\n",
    "                if nums[j] < nums[i]:         # 如果要求非严格递增，将此行 '<' 改为 '<=' 即可。           \n",
    "                    dp[i] = max(dp[i], dp[j] + 1) \n",
    "        #返回最大值，即为最长长度\n",
    "        return max(dp) \n",
    "t = Solution()\n",
    "nums = [10,9,2,5,3,7,101,18]\n",
    "print(t.lengthOfLIS(nums))"
   ]
  },
  {
   "cell_type": "code",
   "execution_count": null,
   "metadata": {},
   "outputs": [],
   "source": [
    "# 最长上升子序列长度，必须连续时的遍历解法\n",
    "def increase_subnums(nums):\n",
    "    res = []\n",
    "    n = len(nums)\n",
    "\n",
    "    if n <= 1:\n",
    "        return nums\n",
    "    count = 0\n",
    "\n",
    "    for i in range(1,n):\n",
    "\n",
    "        if nums[i] >= nums[i - 1]:\n",
    "            res.append(nums[i - 1])\n",
    "            # print(res)\n",
    "        else:\n",
    "            res = []\n",
    "\n",
    "        count = max(count, len(res))\n",
    "\n",
    "    return count + 1"
   ]
  }
 ],
 "metadata": {
  "kernelspec": {
   "display_name": "Python 3",
   "language": "python",
   "name": "python3"
  },
  "language_info": {
   "codemirror_mode": {
    "name": "ipython",
    "version": 3
   },
   "file_extension": ".py",
   "mimetype": "text/x-python",
   "name": "python",
   "nbconvert_exporter": "python",
   "pygments_lexer": "ipython3",
   "version": "3.6.6"
  }
 },
 "nbformat": 4,
 "nbformat_minor": 4
}
