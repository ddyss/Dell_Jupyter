{
 "cells": [
  {
   "cell_type": "code",
   "execution_count": 5,
   "metadata": {},
   "outputs": [
    {
     "name": "stdout",
     "output_type": "stream",
     "text": [
      "6\n"
     ]
    }
   ],
   "source": [
    "# LeetCode 53 最大子序和\n",
    "class Solution:\n",
    "    def maxSubArray(self,nums):\n",
    "        n = len(nums)\n",
    "        # if n == 1: # 这一步省去，也是正确的，可以通过；因为包含在后面的式子里了\n",
    "            # return max(nums[0],0)\n",
    "        dp = [0]*n\n",
    "        # 初值\n",
    "        dp[0] = nums[0]\n",
    "        for i in range(1,n):\n",
    "            # 动态规划，推导出来的公式\n",
    "            dp[i] = max(dp[i-1]+nums[i],nums[i])\n",
    "            \n",
    "        # 是实时更新的dp，最终返回dp中的最大值\n",
    "        return max(dp)\n",
    "s = [-2,1,-3,4,-1,2,1,-5,4]\n",
    "print(Solution().maxSubArray(s))\n",
    "\n",
    "\n",
    "\n",
    "# 还可以更精简，直接在nums上进行操作。相当于不用新创建一个dp，节省内存\n",
    "class Solution:\n",
    "    def maxSubArray(self,nums):\n",
    "        n = len(nums)\n",
    "        if n == 1:\n",
    "            return nums[0]\n",
    "\n",
    "        for i in range(1,n):\n",
    "            # 动态规划，直接在nums操作\n",
    "            nums[i] = max(nums[i-1]+nums[i],nums[i])\n",
    "        return max(nums)"
   ]
  },
  {
   "cell_type": "code",
   "execution_count": null,
   "metadata": {},
   "outputs": [],
   "source": [
    "class Solution:\n",
    "    def maxSubArray(self, nums: List[int]) -> int:\n",
    "        # 暴力解法  时间复杂度o(n) 空间复杂度o(l)\n",
    "        n = len(nums)\n",
    "\n",
    "        tmp = nums[0]\n",
    "        max_ = tmp\n",
    "\n",
    "        for i in range(1,n):\n",
    "            # 这种情况下，最大可能出现在后面，只需一直保存最大值即可\n",
    "            if tmp + nums[i] > nums[i]:\n",
    "                max_ = max(max_,tmp+nums[i])\n",
    "                tmp = tmp+nums[i]\n",
    "            # 这种情况下，最大肯定到此为止，重新开始\n",
    "            else:\n",
    "                max_ = max(max_,tmp+nums[i],nums[i])\n",
    "                tmp = nums[i]\n",
    "        return max_"
   ]
  }
 ],
 "metadata": {
  "kernelspec": {
   "display_name": "Python 3",
   "language": "python",
   "name": "python3"
  },
  "language_info": {
   "codemirror_mode": {
    "name": "ipython",
    "version": 3
   },
   "file_extension": ".py",
   "mimetype": "text/x-python",
   "name": "python",
   "nbconvert_exporter": "python",
   "pygments_lexer": "ipython3",
   "version": "3.6.6"
  }
 },
 "nbformat": 4,
 "nbformat_minor": 4
}
