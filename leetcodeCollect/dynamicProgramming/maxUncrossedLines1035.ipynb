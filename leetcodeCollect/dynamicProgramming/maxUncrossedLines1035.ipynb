{
 "cells": [
  {
   "cell_type": "code",
   "execution_count": 3,
   "metadata": {},
   "outputs": [
    {
     "name": "stdout",
     "output_type": "stream",
     "text": [
      "3\n"
     ]
    }
   ],
   "source": [
    "class Solution: #1035 代码和 1143 一模一样   # 718\\1035\\1143\n",
    "    def maxUncrossedLines(self,A,B):\n",
    "        m,n = len(A),len(B)\n",
    "        dp = [[0]*(n+1) for _ in range(m+1)]\n",
    "        \n",
    "        for i in range(1,m+1):\n",
    "            for j in range(1,n+1):\n",
    "                if A[i-1] == B[j-1]:\n",
    "                    dp[i][j] = dp[i-1][j-1] + 1\n",
    "                else:\n",
    "                    dp[i][j] = max(dp[i-1][j],dp[i][j-1])\n",
    "        return dp[m][n]\n",
    "m = [2,5,1,2,5]\n",
    "n = [10,5,2,1,5,2]\n",
    "t = Solution()\n",
    "print(t.maxUncrossedLines(m,n))"
   ]
  },
  {
   "cell_type": "code",
   "execution_count": null,
   "metadata": {},
   "outputs": [],
   "source": []
  }
 ],
 "metadata": {
  "kernelspec": {
   "display_name": "Python 3",
   "language": "python",
   "name": "python3"
  },
  "language_info": {
   "codemirror_mode": {
    "name": "ipython",
    "version": 3
   },
   "file_extension": ".py",
   "mimetype": "text/x-python",
   "name": "python",
   "nbconvert_exporter": "python",
   "pygments_lexer": "ipython3",
   "version": "3.6.6"
  }
 },
 "nbformat": 4,
 "nbformat_minor": 4
}
