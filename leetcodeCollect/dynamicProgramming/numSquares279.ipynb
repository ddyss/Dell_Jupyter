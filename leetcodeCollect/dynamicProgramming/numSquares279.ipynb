{
 "cells": [
  {
   "cell_type": "code",
   "execution_count": 3,
   "metadata": {},
   "outputs": [
    {
     "name": "stdout",
     "output_type": "stream",
     "text": [
      "3\n"
     ]
    }
   ],
   "source": [
    "# LeetCode 279 完全平方数   拆开的平方和的个数最少\n",
    "# https://leetcode-cn.com/problems/perfect-squares/solution/hua-jie-suan-fa-279-wan-quan-ping-fang-shu-by-guan/\n",
    "# https://leetcode-cn.com/problems/perfect-squares/solution/dong-tai-gui-hua-bfs-zhu-xing-jie-shi-python3-by-2/\n",
    "def numSquares(n):\n",
    "    # 长度为n+1n+1，最多次数就是全由1构成\n",
    "    dp=[i for i in range(n+1)]\n",
    "\n",
    "    for i in range(3,n+1):\n",
    "\n",
    "        for j in range(1,int(i**(0.5))+1):\n",
    "\n",
    "            dp[i]=min(dp[i],dp[i-j*j]+1)\n",
    "\n",
    "    return dp[n]\n",
    "print(numSquares(12))"
   ]
  },
  {
   "cell_type": "code",
   "execution_count": null,
   "metadata": {},
   "outputs": [],
   "source": []
  }
 ],
 "metadata": {
  "kernelspec": {
   "display_name": "Python 3",
   "language": "python",
   "name": "python3"
  },
  "language_info": {
   "codemirror_mode": {
    "name": "ipython",
    "version": 3
   },
   "file_extension": ".py",
   "mimetype": "text/x-python",
   "name": "python",
   "nbconvert_exporter": "python",
   "pygments_lexer": "ipython3",
   "version": "3.6.6"
  }
 },
 "nbformat": 4,
 "nbformat_minor": 4
}
