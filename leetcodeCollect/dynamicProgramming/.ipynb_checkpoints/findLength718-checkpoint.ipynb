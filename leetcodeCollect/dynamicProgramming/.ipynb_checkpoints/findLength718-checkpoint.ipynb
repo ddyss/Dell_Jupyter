{
 "cells": [
  {
   "cell_type": "code",
   "execution_count": 1,
   "metadata": {},
   "outputs": [],
   "source": [
    "# 718\\1035\\1143\n",
    "class Solution:\n",
    "    def findLength(self,A,B):\n",
    "        n,m = len(A),len(B)\n",
    "        # 创建一个n+1 * m+1 的全0矩阵，并赋初值全0，考虑到其中一个为空的情况\n",
    "        dp = [[0]*(m+1) for _ in range(n+1)]\n",
    "        ans = 0\n",
    "        for i in range(1,n+1):\n",
    "            for j in range(1,m+1):            \n",
    "                if text1[i-1] == text2[j-1]:\n",
    "                    dp[i][j] = dp[i-1][j-1] + 1\n",
    "                    # 该问题中是子数组，元素要求是连续的，重复的去掉，要和ans=0取最大值\n",
    "                    ans = max(ans,dp[i][j])\n",
    "\n",
    "        return ans\n",
    "        "
   ]
  },
  {
   "cell_type": "code",
   "execution_count": null,
   "metadata": {},
   "outputs": [],
   "source": []
  }
 ],
 "metadata": {
  "kernelspec": {
   "display_name": "Python 3",
   "language": "python",
   "name": "python3"
  },
  "language_info": {
   "codemirror_mode": {
    "name": "ipython",
    "version": 3
   },
   "file_extension": ".py",
   "mimetype": "text/x-python",
   "name": "python",
   "nbconvert_exporter": "python",
   "pygments_lexer": "ipython3",
   "version": "3.6.6"
  }
 },
 "nbformat": 4,
 "nbformat_minor": 4
}
