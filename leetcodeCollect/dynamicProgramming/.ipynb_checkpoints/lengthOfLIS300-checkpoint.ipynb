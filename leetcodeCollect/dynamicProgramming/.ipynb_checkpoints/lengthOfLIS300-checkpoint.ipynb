{
 "cells": [
  {
   "cell_type": "code",
   "execution_count": 11,
   "metadata": {},
   "outputs": [
    {
     "name": "stdout",
     "output_type": "stream",
     "text": [
      "4\n"
     ]
    }
   ],
   "source": [
    "class Solution: #300 https://leetcode-cn.com/problems/longest-increasing\n",
    "    # -subsequence/solution/liang-chong-jie-jue-fang-shi-dong-tai-gui-hua-er-f/\n",
    "    def lengthOfLIS(self, nums):\n",
    "        n = len(nums)\n",
    "        #初始化，至少为1，初始值dp[i]全为1\n",
    "        dp = [1 for _ in range(n)] \n",
    "\n",
    "        # 相当于直接暴力求解，i=1时，遍历j；然后i=2，遍历j；一直到i=n，遍历j\n",
    "        for i in range(1,n):\n",
    "            for j in range(i):\n",
    "                #当nums[j] < nums[i]时，dp[j] + 1，在dp[j]前面的基础上进行加1，\n",
    "                #如在已有2个数列的基础上加1，数列长度就变成3\n",
    "                # dp[j]可能之前没有组成序列，(如加1就是2)，所以要和dp[i]已有最大(3)取一个max\n",
    "                if nums[j] < nums[i]:                    \n",
    "                    dp[i] = max(dp[i], dp[j] + 1) \n",
    "        #返回列表的最大值，即为最长长度\n",
    "        return max(dp) \n",
    "t = Solution()\n",
    "nums = [10,9,2,5,3,7,101,18]\n",
    "print(t.lengthOfLIS(nums))"
   ]
  },
  {
   "cell_type": "code",
   "execution_count": null,
   "metadata": {},
   "outputs": [],
   "source": []
  }
 ],
 "metadata": {
  "kernelspec": {
   "display_name": "Python 3",
   "language": "python",
   "name": "python3"
  },
  "language_info": {
   "codemirror_mode": {
    "name": "ipython",
    "version": 3
   },
   "file_extension": ".py",
   "mimetype": "text/x-python",
   "name": "python",
   "nbconvert_exporter": "python",
   "pygments_lexer": "ipython3",
   "version": "3.6.6"
  }
 },
 "nbformat": 4,
 "nbformat_minor": 4
}
