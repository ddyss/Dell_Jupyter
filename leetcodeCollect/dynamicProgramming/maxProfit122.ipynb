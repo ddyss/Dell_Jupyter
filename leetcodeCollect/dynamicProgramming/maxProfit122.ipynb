{
 "cells": [
  {
   "cell_type": "code",
   "execution_count": 1,
   "metadata": {},
   "outputs": [
    {
     "name": "stdout",
     "output_type": "stream",
     "text": [
      "7\n"
     ]
    }
   ],
   "source": [
    "class Solution: #动态规划 122       为什么卖出+ prices[i]？ 第i天的值？\n",
    "    def maxProfit(self, prices):\n",
    "        # 排除特殊情况\n",
    "        if not prices:\n",
    "            return 0\n",
    "        n = len(prices)\n",
    "        \n",
    "        # 创建一个全0的 n*2 的列表\n",
    "        dp = [[0]*2 for _ in range(n)]\n",
    "        \n",
    "        # dp[i][0]表示第i天不持有股票, dp[i][1]表示第i天持有股票\n",
    "        # 初始值\n",
    "        dp[0][0], dp[0][1] = 0, - prices[0]\n",
    "        \n",
    "        for i in range(1, n):\n",
    "            # 第i天不持有，收益在   前一天不持有；前一天持有要卖出+prices[i]   两者之间取最大值\n",
    "            # 这个 + prices[i] 就可以理解为是贪婪算法的情况?，当天就卖出了，赚了prices[i]\n",
    "            dp[i][0] = max(dp[i-1][0], dp[i-1][1] + prices[i])\n",
    "            # 第i天持有，收益在   前一天也持有；前一天不持有要买入-prices[i]   两者之间取最大值\n",
    "            dp[i][1] = max(dp[i-1][1], dp[i-1][0] - prices[i])\n",
    "        \n",
    "        # 取最后一天不持有状态即可\n",
    "        return dp[n-1][0]\n",
    "prices = [7,1,5,3,6,4]\n",
    "print(Solution().maxProfit(prices))"
   ]
  },
  {
   "cell_type": "code",
   "execution_count": 9,
   "metadata": {},
   "outputs": [
    {
     "name": "stdout",
     "output_type": "stream",
     "text": [
      "7\n"
     ]
    }
   ],
   "source": [
    "class Solution: #贪心算法 122  时间复杂度O(n)\n",
    "    def maxProfit(self, prices):\n",
    "        # 初值0\n",
    "        res = 0\n",
    "        \n",
    "        for i in range(1,len(prices)):\n",
    "            # 只要今天价格小于明天价格就在今天买入然后明天卖出\n",
    "            if prices[i-1] < prices[i]:\n",
    "                res += prices[i] - prices[i-1]\n",
    "        \n",
    "        return res\n",
    "    \n",
    "prices = [7,1,5,3,6,4]\n",
    "print(Solution().maxProfit(prices))    "
   ]
  },
  {
   "cell_type": "code",
   "execution_count": null,
   "metadata": {},
   "outputs": [],
   "source": []
  }
 ],
 "metadata": {
  "kernelspec": {
   "display_name": "Python 3",
   "language": "python",
   "name": "python3"
  },
  "language_info": {
   "codemirror_mode": {
    "name": "ipython",
    "version": 3
   },
   "file_extension": ".py",
   "mimetype": "text/x-python",
   "name": "python",
   "nbconvert_exporter": "python",
   "pygments_lexer": "ipython3",
   "version": "3.6.6"
  }
 },
 "nbformat": 4,
 "nbformat_minor": 4
}
