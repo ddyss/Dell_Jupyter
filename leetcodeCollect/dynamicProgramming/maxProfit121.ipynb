{
 "cells": [
  {
   "cell_type": "code",
   "execution_count": 1,
   "metadata": {},
   "outputs": [
    {
     "name": "stdout",
     "output_type": "stream",
     "text": [
      "5\n"
     ]
    }
   ],
   "source": [
    "class Solution: #买卖股票121\n",
    "    def maxProfit(self, prices):\n",
    "        # 排除特殊情况\n",
    "        if not prices:\n",
    "            return 0\n",
    "        n = len(prices)\n",
    "        \n",
    "        minprice = float('inf')\n",
    "        max_ = 0\n",
    "        for price in prices:\n",
    "            # 不断更新前面遍历后的最小值，避免无谓计算\n",
    "            minprice = min(minprice,price)\n",
    "            # 判断一下，避免无谓计算\n",
    "            if price > minprice:\n",
    "                # 最大利润   当前价格-前面的最小\n",
    "                max_ = max(max_,price - minprice)\n",
    "        return max_\n",
    "            \n",
    "prices = [7,1,5,3,6,4]     \n",
    "print(Solution().maxProfit(prices))"
   ]
  },
  {
   "cell_type": "code",
   "execution_count": 3,
   "metadata": {},
   "outputs": [
    {
     "name": "stdout",
     "output_type": "stream",
     "text": [
      "5\n"
     ]
    }
   ],
   "source": [
    "# 122的去掉一小部分就是121的代码\n",
    "class Solution: \n",
    "    def maxProfit(self, prices):\n",
    "        # 排除特殊情况\n",
    "        if not prices:\n",
    "            return 0\n",
    "        n = len(prices)\n",
    "        \n",
    "        # 创建一个全0的 n*2 的列表   和[0][0]不一样\n",
    "        dp = [[0]*2 for _ in range(n)]\n",
    "        \n",
    "        # dp[i][0]表示第i天不持有股票, dp[i][1]表示第i天持有股票\n",
    "        # 初始值\n",
    "        dp[0][0], dp[0][1] = 0, - prices[0]\n",
    "        \n",
    "        for i in range(1, n):\n",
    "            # 第i天不持有，收益在   前一天不持有；前一天持有要卖出+prices[i]   两者之间取最大值\n",
    "            # 这个 + prices[i] 就可以理解为是贪婪算法的情况?，当天就卖出了，赚了prices[i]\n",
    "            dp[i][0] = max(dp[i-1][0], dp[i-1][1] + prices[i])\n",
    "            # 第i天持有，收益在   前一天也持有；前一天不持有要买入-prices[i]   两者之间取最大值\n",
    "            dp[i][1] = max(dp[i-1][1],  - prices[i])\n",
    "        \n",
    "        # 取最后一天不持有状态即可\n",
    "        return dp[n-1][0]\n",
    "prices = [7,1,5,3,6,4]\n",
    "print(Solution().maxProfit(prices))"
   ]
  },
  {
   "cell_type": "code",
   "execution_count": null,
   "metadata": {},
   "outputs": [],
   "source": []
  }
 ],
 "metadata": {
  "kernelspec": {
   "display_name": "Python 3",
   "language": "python",
   "name": "python3"
  },
  "language_info": {
   "codemirror_mode": {
    "name": "ipython",
    "version": 3
   },
   "file_extension": ".py",
   "mimetype": "text/x-python",
   "name": "python",
   "nbconvert_exporter": "python",
   "pygments_lexer": "ipython3",
   "version": "3.6.6"
  }
 },
 "nbformat": 4,
 "nbformat_minor": 4
}
