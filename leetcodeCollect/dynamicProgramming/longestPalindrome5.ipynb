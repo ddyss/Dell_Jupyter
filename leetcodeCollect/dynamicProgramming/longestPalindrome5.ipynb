{
 "cells": [
  {
   "cell_type": "code",
   "execution_count": null,
   "metadata": {},
   "outputs": [],
   "source": [
    "# LeetCode 5 最长回文子串\n",
    "# https://leetcode-cn.com/problems/longest-palindromic-substring/solution/zhong-xin-kuo-san-dong-tai-gui-hua-by-liweiwei1419/"
   ]
  },
  {
   "cell_type": "code",
   "execution_count": null,
   "metadata": {},
   "outputs": [],
   "source": [
    "# 状态转移方程：只有都为真，dp[i][j]才可以是回文\n",
    "# dp[i][j] = (s[i] == s[j]) and dp[i + 1][j - 1]\n",
    "# 所以先if判断一下s[i] == s[j]，只要不等，就为False；再判断dp[i + 1][j - 1]，表达式 [i + 1, j - 1] 不构成区间，即长度严格小于 2"
   ]
  },
  {
   "cell_type": "code",
   "execution_count": 4,
   "metadata": {},
   "outputs": [
    {
     "name": "stdout",
     "output_type": "stream",
     "text": [
      "ll\n"
     ]
    }
   ],
   "source": [
    "# 动态规划法  时间复杂度：O(N 2)   空间复杂度：O(N 2)      8828 ms   23.2 MB\n",
    "def longestPalindrome(s):\n",
    "    size = len(s)\n",
    "    if size < 2:\n",
    "        return s\n",
    "\n",
    "    # 创建全False的二维数组，初始值   dp[i][j]代表从i到j的字符串是否是回文\n",
    "    dp = [[False for _ in range(size)] for _ in range(size)]\n",
    "\n",
    "    # 初始化，长度至少为1\n",
    "    max_len = 1\n",
    "    start = 0\n",
    "\n",
    "    # 对角线上都只有一个字符串，肯定是回文，所有全为True\n",
    "    for i in range(size):\n",
    "        dp[i][i] = True\n",
    "\n",
    "    # 双指针从头开始遍历，填入二维数组中\n",
    "    for j in range(1, size):  # 后面的指针j\n",
    "        for i in range(0, j):  # 前面的指针i         等同于  for i in range(j - 1, -1, -1):\n",
    "            if s[i] == s[j]:\n",
    "                # 边界条件：表达式 [i + 1, j - 1] 不构成区间，即长度严格小于 2，即 j - 1 - (i + 1) + 1 < 2 ，整理得 j - i < 3。\n",
    "                if j - i < 3:\n",
    "                    dp[i][j] = True  #这个判断不能少  #因为会每次循环， 先判断里面只有1个或者没有字符串时，直接赋值为true\n",
    "                else:\n",
    "                    dp[i][j] = dp[i + 1][j - 1] #上述判断不了，再参考左下角的值；大概率维持初始值False\n",
    "            else:\n",
    "                dp[i][j] = False\n",
    "\n",
    "            if dp[i][j]: # 只更新True，是回文的时候的值\n",
    "                cur_len = j - i + 1\n",
    "                if cur_len > max_len:\n",
    "                    max_len = cur_len\n",
    "                    start = i\n",
    "    return s[start:start + max_len]\n",
    "print(longestPalindrome('hello world'))"
   ]
  },
  {
   "cell_type": "code",
   "execution_count": 3,
   "metadata": {},
   "outputs": [
    {
     "name": "stdout",
     "output_type": "stream",
     "text": [
      "ll\n"
     ]
    }
   ],
   "source": [
    "# 中心扩散法    时间复杂度：O(N 2)   空间复杂度：O(N 2)     1124 ms     15.1 MB\n",
    "# https://leetcode-cn.com/problems/longest-palindromic-substring/solution/hui-wen-wen-ti-dong-tai-gui-hua-jspython5-zui-chan/\n",
    "def longestPalindrome(s):\n",
    "    n = len(s)\n",
    "    if n == 0:\n",
    "        return \"\"\n",
    "\n",
    "    res = s[0]\n",
    "    def extend(i, j, s):\n",
    "        while(i >= 0 and j < len(s) and s[i] == s[j]):\n",
    "            i -= 1 # 向前扩展移动\n",
    "            j += 1 # 向后扩展移动\n",
    "        return s[i + 1:j]\n",
    "\n",
    "    for i in range(n - 1): # 暴力解法，i在每个点时，都奇偶数的，分别向两边扩展一次\n",
    "        e1 = extend(i, i, s)\n",
    "        e2 = extend(i, i + 1, s) \n",
    "        if max(len(e1), len(e2)) > len(res):\n",
    "            res = e1 if len(e1) > len(e2) else e2\n",
    "    return res\n",
    "\n",
    "print(longestPalindrome('hello world'))"
   ]
  },
  {
   "cell_type": "code",
   "execution_count": null,
   "metadata": {},
   "outputs": [],
   "source": []
  }
 ],
 "metadata": {
  "kernelspec": {
   "display_name": "Python 3",
   "language": "python",
   "name": "python3"
  },
  "language_info": {
   "codemirror_mode": {
    "name": "ipython",
    "version": 3
   },
   "file_extension": ".py",
   "mimetype": "text/x-python",
   "name": "python",
   "nbconvert_exporter": "python",
   "pygments_lexer": "ipython3",
   "version": "3.6.6"
  }
 },
 "nbformat": 4,
 "nbformat_minor": 4
}
