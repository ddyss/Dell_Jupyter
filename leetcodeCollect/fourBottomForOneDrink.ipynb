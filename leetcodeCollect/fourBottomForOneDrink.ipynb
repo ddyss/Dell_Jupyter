{
 "cells": [
  {
   "cell_type": "code",
   "execution_count": 168,
   "metadata": {},
   "outputs": [],
   "source": [
    "res = [65, 18, 11, 52, 12, 1, 37, 51, 31, 88, 40, 88, 49, 100, 20, 40, 14, 4, 69, 96, 27]"
   ]
  },
  {
   "cell_type": "code",
   "execution_count": 169,
   "metadata": {},
   "outputs": [],
   "source": [
    "def insert_sort(nums):\n",
    "    n = len(nums)\n",
    "    \n",
    "    for j in range(1,n):\n",
    "        while j > 0 and nums[j-1] > nums[j]:\n",
    "            nums[j-1],nums[j] = nums[j],nums[j-1]\n",
    "            j -= 1\n",
    "    return nums"
   ]
  },
  {
   "cell_type": "code",
   "execution_count": 42,
   "metadata": {},
   "outputs": [
    {
     "name": "stdout",
     "output_type": "stream",
     "text": [
      "1\n",
      "0\n"
     ]
    }
   ],
   "source": [
    "n = 13\n",
    "tmp = []\n",
    "while n:\n",
    "    t = n & 2\n",
    "    tmp.append(t)\n",
    "    n = n >> 1\n",
    "i = 0 \n",
    "j = len(tmp) - 1\n",
    "while (i<j):\n",
    "    if tmp[i] == tmp[j]:\n",
    "        print('1')\n",
    "        break\n",
    "    else:\n",
    "        i += 1\n",
    "        j -= 1\n",
    "print('0')\n"
   ]
  },
  {
   "cell_type": "code",
   "execution_count": 1,
   "metadata": {},
   "outputs": [
    {
     "name": "stdin",
     "output_type": "stream",
     "text": [
      "金额： 10\n"
     ]
    },
    {
     "name": "stdout",
     "output_type": "stream",
     "text": [
      "15\n"
     ]
    }
   ],
   "source": [
    "def get_sum(cap, body):\n",
    "    ret = cap // 4 + body // 2  # 瓶盖和瓶身兑换的可乐数\n",
    "    empty_cap = ret + cap % 4  # 兑换的可乐和剩下的瓶盖的个数之和\n",
    "    empty_body = ret + body % 2  # 兑换的可乐和剩下的空瓶的个数之和\n",
    "    if (empty_cap > 3) or (empty_body > 1):\n",
    "        return ret + get_sum(empty_cap, empty_body)\n",
    "    else:\n",
    "        return ret\n",
    " \n",
    "sum = 0\n",
    "money = 0\n",
    "money += int(input(\"金额：\"))\n",
    "sum += money / 2  # 两块钱一瓶可乐\n",
    "bottle = int(sum + get_sum(sum, sum))   # 最终喝到的可乐总数\n",
    "print(bottle)"
   ]
  },
  {
   "cell_type": "code",
   "execution_count": 5,
   "metadata": {},
   "outputs": [
    {
     "name": "stdin",
     "output_type": "stream",
     "text": [
      "金额： 20\n"
     ]
    },
    {
     "name": "stdout",
     "output_type": "stream",
     "text": [
      "39\n"
     ]
    }
   ],
   "source": [
    "def get_sum(body):\n",
    "    ret = body // 2  # 瓶身兑换的可乐数\n",
    "    empty_body = ret + body % 2  # 兑换的可乐和剩下的空瓶的个数之和\n",
    "    if empty_body > 1:\n",
    "        return ret + get_sum(empty_body)\n",
    "    else:\n",
    "        return ret\n",
    " \n",
    "sum = 0\n",
    "money = 0\n",
    "money += int(input(\"金额：\"))\n",
    "sum += money  # 两块钱一瓶可乐\n",
    "bottle = int(sum + get_sum(sum))   # 最终喝到的可乐总数\n",
    "print(bottle)"
   ]
  },
  {
   "cell_type": "code",
   "execution_count": 6,
   "metadata": {},
   "outputs": [],
   "source": [
    "res = [65, 18, 11, 52, 12, 1, 37, 51, 31, 88, 40, 88, 49, 100, 20, 40, 14, 4, 69, 96, 27]"
   ]
  },
  {
   "cell_type": "code",
   "execution_count": 7,
   "metadata": {},
   "outputs": [],
   "source": [
    "out = []\n",
    "for i in range(len(res)):\n",
    "    if i % 2 == 0:\n",
    "        out.append(res[i])"
   ]
  },
  {
   "cell_type": "code",
   "execution_count": 13,
   "metadata": {},
   "outputs": [
    {
     "data": {
      "text/plain": [
       "[18, 52, 1, 51, 88, 88, 100, 40, 4, 96]"
      ]
     },
     "execution_count": 13,
     "metadata": {},
     "output_type": "execute_result"
    }
   ],
   "source": [
    "res[1::2]"
   ]
  },
  {
   "cell_type": "code",
   "execution_count": 176,
   "metadata": {},
   "outputs": [
    {
     "data": {
      "text/plain": [
       "1543728192"
      ]
     },
     "execution_count": 176,
     "metadata": {},
     "output_type": "execute_result"
    }
   ],
   "source": [
    "id(x)"
   ]
  },
  {
   "cell_type": "code",
   "execution_count": 37,
   "metadata": {},
   "outputs": [],
   "source": [
    "sen = 'this is a string,include char and num,like abc,123,345,bc,5'"
   ]
  },
  {
   "cell_type": "code",
   "execution_count": 39,
   "metadata": {},
   "outputs": [
    {
     "name": "stdout",
     "output_type": "stream",
     "text": [
      "['123', '345', '5']\n"
     ]
    }
   ],
   "source": [
    "n = len(sen)\n",
    "res = []\n",
    "i = 0\n",
    "while i <= n-1:\n",
    "    while i <= n-1 and '0' <= sen[i] <= '9':\n",
    "        tmp = sen[i]\n",
    "        i+=1\n",
    "        while i <= n-1 and '0' <= sen[i] <= '9':\n",
    "            tmp += sen[i]\n",
    "            i += 1\n",
    "        res.append(tmp)\n",
    "    i += 1\n",
    "print(res)"
   ]
  },
  {
   "cell_type": "code",
   "execution_count": 47,
   "metadata": {},
   "outputs": [],
   "source": [
    "res = list(map(int,res))"
   ]
  },
  {
   "cell_type": "code",
   "execution_count": 49,
   "metadata": {},
   "outputs": [
    {
     "data": {
      "text/plain": [
       "473"
      ]
     },
     "execution_count": 49,
     "metadata": {},
     "output_type": "execute_result"
    }
   ],
   "source": [
    "sum(res)"
   ]
  },
  {
   "cell_type": "code",
   "execution_count": null,
   "metadata": {},
   "outputs": [],
   "source": []
  }
 ],
 "metadata": {
  "kernelspec": {
   "display_name": "Python 3",
   "language": "python",
   "name": "python3"
  },
  "language_info": {
   "codemirror_mode": {
    "name": "ipython",
    "version": 3
   },
   "file_extension": ".py",
   "mimetype": "text/x-python",
   "name": "python",
   "nbconvert_exporter": "python",
   "pygments_lexer": "ipython3",
   "version": "3.6.6"
  }
 },
 "nbformat": 4,
 "nbformat_minor": 4
}
