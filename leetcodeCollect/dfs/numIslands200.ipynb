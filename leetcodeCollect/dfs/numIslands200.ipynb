{
 "cells": [
  {
   "cell_type": "code",
   "execution_count": 2,
   "metadata": {},
   "outputs": [],
   "source": [
    "# LeetCode 200. 岛屿数量\n",
    "# https://leetcode-cn.com/problems/number-of-islands/solution/number-of-islands-shen-du-you-xian-bian-li-dfs-or-/\n",
    "from typing import List\n",
    "class Solution:\n",
    "    def numIslands(self, grid: List[List[str]]) -> int:\n",
    "        m,n = len(grid),len(grid[0])\n",
    "        \n",
    "        def dfs(grid,i,j):\n",
    "            # 终止条件\n",
    "            if i < 0 or i >= m or j < 0 or j >= n or grid[i][j] == '0':\n",
    "                return\n",
    "            # 走过的置0，防止重复计算\n",
    "            grid[i][j] = '0'\n",
    "            \n",
    "            dfs(grid,i,j-1)\n",
    "            dfs(grid,i,j+1)\n",
    "            dfs(grid,i-1,j)\n",
    "            dfs(grid,i+1,j)\n",
    "            \n",
    "        count = 0\n",
    "        for i in range(m):\n",
    "            for j in range(n):\n",
    "                # 等于1则执行一次，执行dfs把相连的都置0\n",
    "                if grid[i][j] == '1':\n",
    "                    dfs(grid,i,j)\n",
    "                    count += 1\n",
    "        return count"
   ]
  },
  {
   "cell_type": "code",
   "execution_count": null,
   "metadata": {},
   "outputs": [],
   "source": []
  }
 ],
 "metadata": {
  "kernelspec": {
   "display_name": "Python 3",
   "language": "python",
   "name": "python3"
  },
  "language_info": {
   "codemirror_mode": {
    "name": "ipython",
    "version": 3
   },
   "file_extension": ".py",
   "mimetype": "text/x-python",
   "name": "python",
   "nbconvert_exporter": "python",
   "pygments_lexer": "ipython3",
   "version": "3.6.6"
  }
 },
 "nbformat": 4,
 "nbformat_minor": 4
}
