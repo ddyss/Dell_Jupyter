{
 "cells": [
  {
   "cell_type": "code",
   "execution_count": null,
   "metadata": {},
   "outputs": [],
   "source": [
    "# LeetCode 695. 岛屿的最大面积\n",
    "class Solution:\n",
    "    def maxAreaOfIsland(self, grid: List[List[int]]) -> int:\n",
    "        m,n = len(grid),len(grid[0])\n",
    "        \n",
    "        def dfs(grid,i,j):\n",
    "            # 在范围里，不越界，并且grid[i][j]存在。则执行\n",
    "            if 0 <= i < m and 0 <= j < n and grid[i][j]:\n",
    "                # grid[i][j]取0，防止后面重复计算\n",
    "                grid[i][j] = 0\n",
    "                \n",
    "                return 1 + dfs(grid,i,j-1) + dfs(grid,i,j+1) + dfs(grid,i-1,j) + dfs(grid,i+1,j)\n",
    "            \n",
    "            # 否则返回0\n",
    "            return 0\n",
    "        \n",
    "        res = 0\n",
    "        for i in range(m):\n",
    "            for j in range(n):\n",
    "                res = max(res, dfs(grid,i,j))\n",
    "        return res"
   ]
  },
  {
   "cell_type": "code",
   "execution_count": null,
   "metadata": {},
   "outputs": [],
   "source": [
    "# https://leetcode-cn.com/problems/max-area-of-island/solution/695-dao-yu-de-zui-da-mian-ji-dfspython3-by-fe-luci/\n",
    "class Solution:\n",
    "    def maxAreaOfIsland(self, grid: List[List[int]]) -> int:\n",
    "        m = len(grid)\n",
    "        if m == 0: return 0\n",
    "        n = len(grid[0])\n",
    "        ans = 0\n",
    "        \n",
    "        def dfs(i, j):\n",
    "            # 越界，=m 或者 =n 都是越界状态\n",
    "            if i < 0 or i >= m or j < 0 or j >= n: return 0\n",
    "            # grid[i][j]不存在-----也就是等于0\n",
    "            if grid[i][j] == 0: return 0\n",
    "            \n",
    "            # 置0，防止后面重复计算了\n",
    "            grid[i][j] = 0\n",
    "            \n",
    "            top = dfs(i + 1, j)\n",
    "            bottom = dfs(i - 1, j)\n",
    "            left = dfs(i, j - 1)\n",
    "            right = dfs(i, j + 1)\n",
    "            return 1 + sum([top, bottom, left, right])\n",
    "        \n",
    "        for i in range(m):\n",
    "            for j in range(n):\n",
    "                ans = max(ans, dfs(i, j))\n",
    "        return ans\n",
    "\n",
    "\n"
   ]
  },
  {
   "cell_type": "code",
   "execution_count": null,
   "metadata": {},
   "outputs": [],
   "source": [
    "class Solution:\n",
    "    def maxAreaOfIsland(self, grid: List[List[int]]) -> int:\n",
    "        m,n = len(grid),len(grid[0])\n",
    "        \n",
    "        def dfs(grid,i,j):\n",
    "            if 0 <= i < m and 0 <= j < n and grid[i][j]:\n",
    "                grid[i][j] = 0\n",
    "                return 1 + dfs(grid,i,j-1) + dfs(grid,i,j+1) + dfs(grid,i-1,j) + dfs(grid,i+1,j)\n",
    "            return 0\n",
    "        \n",
    "        res = 0\n",
    "        for i in range(m):\n",
    "            for j in range(n):\n",
    "                res = max(res,dfs(grid,i,j))\n",
    "        return res"
   ]
  }
 ],
 "metadata": {
  "kernelspec": {
   "display_name": "Python 3",
   "language": "python",
   "name": "python3"
  },
  "language_info": {
   "codemirror_mode": {
    "name": "ipython",
    "version": 3
   },
   "file_extension": ".py",
   "mimetype": "text/x-python",
   "name": "python",
   "nbconvert_exporter": "python",
   "pygments_lexer": "ipython3",
   "version": "3.6.6"
  }
 },
 "nbformat": 4,
 "nbformat_minor": 4
}
