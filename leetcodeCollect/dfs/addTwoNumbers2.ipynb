{
 "cells": [
  {
   "cell_type": "code",
   "execution_count": null,
   "metadata": {},
   "outputs": [],
   "source": [
    "# LeetCode 2 两数相加   链表中的相加，加数、结果 都是逆序的，超10进位\n",
    "# https://leetcode-cn.com/problems/add-two-numbers/solution/di-gui-si-lu-jian-dan-dai-ma-duan-by-dnanki/\n",
    "class Solution:\n",
    "    def addTwoNumbers(self, l1: ListNode, l2: ListNode) -> ListNode:\n",
    "        def dfs(l,r,i):\n",
    "            if not l and not r and not i:\n",
    "                return None\n",
    "            \n",
    "            s = (l.val if l else 0) + (r.val if r else 0) + i\n",
    "            \n",
    "            node = ListNode(s % 10)\n",
    "            \n",
    "            node.next = dfs((l.next if l else None),(r.next if r else None),s//10)\n",
    "            \n",
    "            return node\n",
    "        return dfs(l1,l2,0)\n",
    "    "
   ]
  }
 ],
 "metadata": {
  "kernelspec": {
   "display_name": "Python 3",
   "language": "python",
   "name": "python3"
  },
  "language_info": {
   "codemirror_mode": {
    "name": "ipython",
    "version": 3
   },
   "file_extension": ".py",
   "mimetype": "text/x-python",
   "name": "python",
   "nbconvert_exporter": "python",
   "pygments_lexer": "ipython3",
   "version": "3.6.6"
  }
 },
 "nbformat": 4,
 "nbformat_minor": 4
}
