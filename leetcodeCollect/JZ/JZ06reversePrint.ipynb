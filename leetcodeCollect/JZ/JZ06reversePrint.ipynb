{
 "cells": [
  {
   "cell_type": "code",
   "execution_count": null,
   "metadata": {},
   "outputs": [],
   "source": [
    "# JZ 06 倒序打印链表        https://leetcode-cn.com/problems/cong-wei-dao-tou-da-yin-lian-biao-lcof/"
   ]
  },
  {
   "cell_type": "code",
   "execution_count": null,
   "metadata": {},
   "outputs": [],
   "source": [
    "class Solution:\n",
    "    def reversePrint(self, head: ListNode) -> List[int]:\n",
    "        # 创建一个空栈  后进先出\n",
    "        res = []\n",
    "\n",
    "        cur = head\n",
    "        while cur:\n",
    "            res.append(cur.val)\n",
    "            cur = cur.next\n",
    "        \n",
    "        # 最后数组反转\n",
    "        return res[::-1]\n",
    "\n",
    "\n",
    "\n",
    "        # 方法二\n",
    "        # 递归，像数组那样递归翻转。 如果head存在的话， reversePrint(head.next) + head.val\n",
    "        return reversePrint(head.next) + head.val if head else []"
   ]
  }
 ],
 "metadata": {
  "kernelspec": {
   "display_name": "Python 3",
   "language": "python",
   "name": "python3"
  },
  "language_info": {
   "codemirror_mode": {
    "name": "ipython",
    "version": 3
   },
   "file_extension": ".py",
   "mimetype": "text/x-python",
   "name": "python",
   "nbconvert_exporter": "python",
   "pygments_lexer": "ipython3",
   "version": "3.6.6"
  }
 },
 "nbformat": 4,
 "nbformat_minor": 4
}
