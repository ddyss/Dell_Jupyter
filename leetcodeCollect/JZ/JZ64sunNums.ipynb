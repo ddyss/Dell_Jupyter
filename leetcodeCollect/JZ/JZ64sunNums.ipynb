{
 "cells": [
  {
   "cell_type": "code",
   "execution_count": 8,
   "metadata": {},
   "outputs": [
    {
     "name": "stdout",
     "output_type": "stream",
     "text": [
      "15\n"
     ]
    }
   ],
   "source": [
    "class Solution: # 剑指offer 面试题64，不用乘除、循环、判断，计算等差数列的和\n",
    "    def __init__(self):\n",
    "        # 因为下面的函数会递归，res=0初值不好放，所以放在初始化函数里\n",
    "        self.res = 0\n",
    "    def sunNums(self,n):\n",
    "        # 当 n = 1 时 n > 1 不成立 ，此时 “短路” ，终止后续递归\n",
    "        n > 1 and self.sunNums(n-1)\n",
    "        self.res += n\n",
    "        return self.res\n",
    "t = Solution()\n",
    "print(t.sunNums(5))"
   ]
  },
  {
   "cell_type": "code",
   "execution_count": null,
   "metadata": {},
   "outputs": [],
   "source": []
  }
 ],
 "metadata": {
  "kernelspec": {
   "display_name": "Python 3",
   "language": "python",
   "name": "python3"
  },
  "language_info": {
   "codemirror_mode": {
    "name": "ipython",
    "version": 3
   },
   "file_extension": ".py",
   "mimetype": "text/x-python",
   "name": "python",
   "nbconvert_exporter": "python",
   "pygments_lexer": "ipython3",
   "version": "3.6.6"
  }
 },
 "nbformat": 4,
 "nbformat_minor": 4
}
