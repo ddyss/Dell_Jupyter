{
 "cells": [
  {
   "cell_type": "code",
   "execution_count": 6,
   "metadata": {},
   "outputs": [],
   "source": [
    "def findTwoDim(target,inList):\n",
    "    target = int(target)\n",
    "    row,col = len(inList),len(inList[0])\n",
    "    if row == 0 or col == 0:return False\n",
    "    for inListPart in inList:\n",
    "        l = 0\n",
    "        r = len(inListPart) - 1\n",
    "\n",
    "        while l <= r:\n",
    "            mid = (l + r)//2\n",
    "            if inListPart[mid] == target:\n",
    "                return True\n",
    "            elif inListPart[mid] < target:\n",
    "                l = mid + 1\n",
    "            else:\n",
    "                r = mid - 1\n",
    "    return False"
   ]
  },
  {
   "cell_type": "code",
   "execution_count": 4,
   "metadata": {},
   "outputs": [
    {
     "data": {
      "text/plain": [
       "'7'"
      ]
     },
     "execution_count": 4,
     "metadata": {},
     "output_type": "execute_result"
    }
   ],
   "source": [
    "target"
   ]
  },
  {
   "cell_type": "code",
   "execution_count": 10,
   "metadata": {},
   "outputs": [],
   "source": [
    "res = [[1, 2, 8, 9], [2, 4, 9, 11], [5, 8, 8, 9],[1, 2, 8, 9], [2, 4, 9, 11], [5, 6, 8, 9]]"
   ]
  },
  {
   "cell_type": "code",
   "execution_count": 11,
   "metadata": {},
   "outputs": [
    {
     "data": {
      "text/plain": [
       "False"
      ]
     },
     "execution_count": 11,
     "metadata": {},
     "output_type": "execute_result"
    }
   ],
   "source": [
    "findTwoDim(target,res)"
   ]
  },
  {
   "cell_type": "code",
   "execution_count": 1,
   "metadata": {},
   "outputs": [
    {
     "name": "stdin",
     "output_type": "stream",
     "text": [
      " 7\n",
      " 1 2 8 9\n",
      " 2 4 9 11\n",
      " 5 7 8 9\n",
      " \n"
     ]
    }
   ],
   "source": [
    "target = input()\n",
    "res = []\n",
    "while True:\n",
    "    s = input()\n",
    "    if s != \"\":\n",
    "        res.append(list(map(int,s.split())))\n",
    "    else:\n",
    "        break\n"
   ]
  },
  {
   "cell_type": "code",
   "execution_count": null,
   "metadata": {},
   "outputs": [],
   "source": []
  }
 ],
 "metadata": {
  "kernelspec": {
   "display_name": "Python 3",
   "language": "python",
   "name": "python3"
  },
  "language_info": {
   "codemirror_mode": {
    "name": "ipython",
    "version": 3
   },
   "file_extension": ".py",
   "mimetype": "text/x-python",
   "name": "python",
   "nbconvert_exporter": "python",
   "pygments_lexer": "ipython3",
   "version": "3.6.6"
  }
 },
 "nbformat": 4,
 "nbformat_minor": 4
}
