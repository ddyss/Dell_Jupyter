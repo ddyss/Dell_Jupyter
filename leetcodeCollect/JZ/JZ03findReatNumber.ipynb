{
 "cells": [
  {
   "cell_type": "code",
   "execution_count": 11,
   "metadata": {},
   "outputs": [
    {
     "name": "stdout",
     "output_type": "stream",
     "text": [
      "1\n"
     ]
    }
   ],
   "source": [
    "class Solution():\n",
    "    def findReatNumber(self,nums):\n",
    "        n = len(nums)\n",
    "        dic = {}\n",
    "        for i,num in enumerate(nums):\n",
    "            if num in dic:\n",
    "                return num\n",
    "            else:\n",
    "                dic[num] = i\n",
    "nums = [2, 3, 1, 0, 12, 5, 13, 1]\n",
    "print(Solution().findReatNumber(nums))"
   ]
  },
  {
   "cell_type": "code",
   "execution_count": 8,
   "metadata": {},
   "outputs": [
    {
     "name": "stdout",
     "output_type": "stream",
     "text": [
      "6\n"
     ]
    }
   ],
   "source": [
    "class Solution():\n",
    "    def findReatNumber(self,nums):\n",
    "        nums = sorted(nums)\n",
    "        for i in range(len(nums)):\n",
    "            if nums[i-1] == nums[i]:\n",
    "                return nums[i-1]\n",
    "        \n",
    "nums = [12, 3, 1, 0, 2, 5, 13, 6, 6]\n",
    "print(Solution().findReatNumber(nums))"
   ]
  },
  {
   "cell_type": "code",
   "execution_count": null,
   "metadata": {},
   "outputs": [],
   "source": []
  }
 ],
 "metadata": {
  "kernelspec": {
   "display_name": "Python 3",
   "language": "python",
   "name": "python3"
  },
  "language_info": {
   "codemirror_mode": {
    "name": "ipython",
    "version": 3
   },
   "file_extension": ".py",
   "mimetype": "text/x-python",
   "name": "python",
   "nbconvert_exporter": "python",
   "pygments_lexer": "ipython3",
   "version": "3.6.6"
  }
 },
 "nbformat": 4,
 "nbformat_minor": 4
}
