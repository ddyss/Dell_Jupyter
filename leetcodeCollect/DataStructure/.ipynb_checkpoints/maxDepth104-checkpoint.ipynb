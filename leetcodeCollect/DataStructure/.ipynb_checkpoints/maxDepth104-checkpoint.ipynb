{
 "cells": [
  {
   "cell_type": "code",
   "execution_count": null,
   "metadata": {},
   "outputs": [],
   "source": [
    "# https://blog.csdn.net/qq_33427431/article/details/100927886\n",
    "# 求二叉树的高度，递归法\n",
    "\n",
    "# -*- coding:utf-8 -*-\n",
    "class TreeNode:\n",
    "     def __init__(self, x):\n",
    "        self.val = x\n",
    "        self.left = None\n",
    "        self.right = None\n",
    "class Solution:\n",
    "    def TreeDepth(self, pRoot):\n",
    "        # write code here\n",
    "        ans = 0\n",
    "        if pRoot == None:\n",
    "            return ans\n",
    "        left = self.TreeDepth(pRoot.left);\n",
    "        right = self.TreeDepth(pRoot.right);\n",
    "        return max(left, right) + 1"
   ]
  },
  {
   "cell_type": "code",
   "execution_count": null,
   "metadata": {},
   "outputs": [],
   "source": [
    "# -*- coding:utf-8 -*-\n",
    "class TreeNode:\n",
    "     def __init__(self, x):\n",
    "        self.val = x\n",
    "        self.left = None\n",
    "        self.right = None\n",
    " \n",
    "class Solution:\n",
    "    def TreeDepth(self, pRoot):\n",
    "        res = [] # 存储最后层次遍历的结果\n",
    "        ans = 0 # 层数\n",
    "        if pRoot == None:\n",
    "            return ans\n",
    "        q = []# 模拟一个队列储存节点\n",
    "        q.append(pRoot)# 首先将根节点入队\n",
    "        while len(q) != 0: # 列表为空时，循环终止\n",
    "            tmp = [] # 使用列表存储同层节点\n",
    "            length = len(q)# 记录同层节点的个数\n",
    "            for i in range(length):# 将同层节点依次出队\n",
    "                r = q.pop(0)\n",
    "                if r.left is not None:\n",
    "                    q.append(r.left)# 非空左孩子入队\n",
    "                if r.right is not None:\n",
    "                    q.append(r.right)# 非空右孩子入队\n",
    "                tmp.append(r.val)\n",
    "            if tmp:\n",
    "                ans += 1  # 统计层数\n",
    "            res.append(tmp)\n",
    "        return ans"
   ]
  }
 ],
 "metadata": {
  "kernelspec": {
   "display_name": "Python 3",
   "language": "python",
   "name": "python3"
  },
  "language_info": {
   "codemirror_mode": {
    "name": "ipython",
    "version": 3
   },
   "file_extension": ".py",
   "mimetype": "text/x-python",
   "name": "python",
   "nbconvert_exporter": "python",
   "pygments_lexer": "ipython3",
   "version": "3.6.6"
  }
 },
 "nbformat": 4,
 "nbformat_minor": 4
}
