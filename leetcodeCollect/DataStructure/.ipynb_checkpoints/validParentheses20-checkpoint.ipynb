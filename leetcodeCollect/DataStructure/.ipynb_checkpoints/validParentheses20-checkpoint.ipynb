{
 "cells": [
  {
   "cell_type": "code",
   "execution_count": 13,
   "metadata": {},
   "outputs": [
    {
     "name": "stdout",
     "output_type": "stream",
     "text": [
      "True\n"
     ]
    }
   ],
   "source": [
    "from typing import List,Dict,Tuple\n",
    "class Solution:\n",
    "    def isValid(self, s:str) -> bool:\n",
    "        if len(s) == 0:\n",
    "            return True\n",
    "        if len(s)%2 == 1:\n",
    "            return False\n",
    "        \n",
    "        # 加一组键值对a，a，防止发生pop时为空的情况\n",
    "        dic = {'(':')','[':']','{':'}','a':'a'}\n",
    "        res = ['a']\n",
    "        \n",
    "        for si in s:\n",
    "            # 在key里，则pop进去\n",
    "            if si in dic:\n",
    "                res.append(si)\n",
    "            \n",
    "            # 不在，判断pop出来的结果，所对应的键值，和其是否相等\n",
    "            elif dic[res.pop()] != si:\n",
    "                return False\n",
    "        \n",
    "        # 最后判断长度是否仍为1\n",
    "        return len(res) == 1\n",
    "s = '[]'\n",
    "print(Solution().isValid(s))"
   ]
  },
  {
   "cell_type": "code",
   "execution_count": 8,
   "metadata": {},
   "outputs": [],
   "source": [
    "s = '[({})]'"
   ]
  },
  {
   "cell_type": "code",
   "execution_count": 9,
   "metadata": {},
   "outputs": [
    {
     "data": {
      "text/plain": [
       "'{'"
      ]
     },
     "execution_count": 9,
     "metadata": {},
     "output_type": "execute_result"
    }
   ],
   "source": [
    "s[2]"
   ]
  },
  {
   "cell_type": "code",
   "execution_count": null,
   "metadata": {},
   "outputs": [],
   "source": []
  }
 ],
 "metadata": {
  "kernelspec": {
   "display_name": "Python 3",
   "language": "python",
   "name": "python3"
  },
  "language_info": {
   "codemirror_mode": {
    "name": "ipython",
    "version": 3
   },
   "file_extension": ".py",
   "mimetype": "text/x-python",
   "name": "python",
   "nbconvert_exporter": "python",
   "pygments_lexer": "ipython3",
   "version": "3.6.6"
  }
 },
 "nbformat": 4,
 "nbformat_minor": 4
}
