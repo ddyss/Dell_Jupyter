{
 "cells": [
  {
   "cell_type": "code",
   "execution_count": null,
   "metadata": {},
   "outputs": [],
   "source": [
    "判断1存在\n",
    "交换1、2"
   ]
  },
  {
   "cell_type": "code",
   "execution_count": null,
   "metadata": {},
   "outputs": [],
   "source": [
    "class MyStack: # 时间复杂度：入栈操作 O(n)，其余操作都是 O(1)。\n",
    "    def __init__(self):\n",
    "        \"\"\"\n",
    "        Initialize your data structure here.\n",
    "        \"\"\"\n",
    "        self.queue1 = collections.deque() #主队列\n",
    "        self.queue2 = collections.deque() #辅助队列\n",
    "\n",
    "\n",
    "    def push(self, x: int) -> None:\n",
    "        \"\"\"\n",
    "        Push element x onto stack.\n",
    "        \"\"\"\n",
    "        self.queue2.append(x) # append 元素入队\n",
    "        \n",
    "        # queue1 如果有元素的话，把它加到queue2里\n",
    "        while self.queue1:\n",
    "            self.queue2.append(self.queue1.popleft()) # popleft 队首元素出栈\n",
    "            \n",
    "        # 最后每次都 queue1 和queue2 互换\n",
    "        self.queue1,self.queue2 = self.queue2,self.queue1\n",
    "\n",
    "\n",
    "    def pop(self) -> int:\n",
    "        \"\"\"\n",
    "        Removes the element on top of the stack and returns that element.\n",
    "        \"\"\"\n",
    "        # queue1 的队首出队 popleft 即可\n",
    "        return self.queue1.popleft()\n",
    "\n",
    "\n",
    "    def top(self) -> int:\n",
    "        \"\"\"\n",
    "        Get the top element.\n",
    "        \"\"\"\n",
    "        # 返回queue1[0] 即可，不用popleft\n",
    "        return self.queue1[0]\n",
    "\n",
    "\n",
    "    def empty(self) -> bool:\n",
    "        \"\"\"\n",
    "        Returns whether the stack is empty.\n",
    "        \"\"\"\n",
    "        return not self.queue1\n"
   ]
  }
 ],
 "metadata": {
  "kernelspec": {
   "display_name": "Python 3",
   "language": "python",
   "name": "python3"
  },
  "language_info": {
   "codemirror_mode": {
    "name": "ipython",
    "version": 3
   },
   "file_extension": ".py",
   "mimetype": "text/x-python",
   "name": "python",
   "nbconvert_exporter": "python",
   "pygments_lexer": "ipython3",
   "version": "3.6.6"
  }
 },
 "nbformat": 4,
 "nbformat_minor": 4
}
