{
 "cells": [
  {
   "cell_type": "code",
   "execution_count": null,
   "metadata": {},
   "outputs": [],
   "source": [
    "判断1长度>1\n",
    "显示或者弹出 元素\n",
    "判断2长度>0\n",
    "都是一直pop操作"
   ]
  },
  {
   "cell_type": "code",
   "execution_count": null,
   "metadata": {},
   "outputs": [],
   "source": [
    "class MyQueue:\n",
    "\n",
    "    def __init__(self):\n",
    "        \"\"\"\n",
    "        Initialize your data structure here.\n",
    "        \"\"\"\n",
    "        self.stack1 = []     # 主栈\n",
    "        self.stack2 = []     # 辅助栈\n",
    "\n",
    "\n",
    "    def push(self, x: int) -> None:\n",
    "        \"\"\"\n",
    "        Push element x to the back of queue.\n",
    "        \"\"\"\n",
    "        self.stack1.append(x)\n",
    "\n",
    "\n",
    "    def pop(self) -> int:\n",
    "        \"\"\"\n",
    "        Removes the element from in front of queue and returns that element.\n",
    "        \"\"\"\n",
    "        # 当stack1元素多于1，一直pop，全pop到stack2里\n",
    "        while len(self.stack1) > 1:\n",
    "            self.stack2.append(self.stack1.pop())\n",
    "            \n",
    "        # stack1最后留下的一个元素，作为返回结果\n",
    "        element = self.stack1.pop()\n",
    "        \n",
    "        # 当stack2元素多于0，一直pop，全pop到stack1里，也就是清空stack2\n",
    "        while len(self.stack2) > 0:\n",
    "            self.stack1.append(self.stack2.pop())\n",
    "        return element\n",
    "\n",
    "\n",
    "    def peek(self) -> int:\n",
    "        \"\"\"\n",
    "        Get the front element.\n",
    "        \"\"\"\n",
    "        # 当stack1元素多于1，一直pop，全pop到stack2里\n",
    "        while len(self.stack1) > 1:\n",
    "            self.stack2.append(self.stack1.pop())\n",
    "            \n",
    "        # stack1最后留下的一个元素，作为返回结果\n",
    "        element = self.stack1.pop()\n",
    "        \n",
    "        # 把最后这个元素，还是一样要放到stack2里；因为这只是peek操作，显示一下顶部的元素而已，不是pop移除\n",
    "        self.stack2.append(element)\n",
    "        \n",
    "        # 当stack2元素多于0，一直pop，全pop到stack1里，也就是清空stack2\n",
    "        while len(self.stack2) > 0:\n",
    "            self.stack1.append(self.stack2.pop())\n",
    "        return element\n",
    "\n",
    "\n",
    "    def empty(self) -> bool:\n",
    "        \"\"\"\n",
    "        Returns whether the queue is empty.\n",
    "        \"\"\"\n",
    "        return len(self.stack1) == 0\n"
   ]
  }
 ],
 "metadata": {
  "kernelspec": {
   "display_name": "Python 3",
   "language": "python",
   "name": "python3"
  },
  "language_info": {
   "codemirror_mode": {
    "name": "ipython",
    "version": 3
   },
   "file_extension": ".py",
   "mimetype": "text/x-python",
   "name": "python",
   "nbconvert_exporter": "python",
   "pygments_lexer": "ipython3",
   "version": "3.6.6"
  }
 },
 "nbformat": 4,
 "nbformat_minor": 4
}
