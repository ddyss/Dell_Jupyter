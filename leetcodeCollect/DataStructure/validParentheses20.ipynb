{
 "cells": [
  {
   "cell_type": "code",
   "execution_count": null,
   "metadata": {},
   "outputs": [],
   "source": [
    "# 重要记住下面两行代码\n",
    "# if si in dic:\n",
    "\n",
    "# elif dic[res.pop()] != si:"
   ]
  },
  {
   "cell_type": "code",
   "execution_count": 13,
   "metadata": {},
   "outputs": [
    {
     "name": "stdout",
     "output_type": "stream",
     "text": [
      "True\n"
     ]
    }
   ],
   "source": [
    "# 思路：遍历字符串，遇到'(','{','['就压入栈，遇到')','}',']'则弹出栈顶字符，最后检查栈是否为空，为空则是合法括号序列。\n",
    "        \n",
    "# LeetCode 20  利用堆栈思想\n",
    "from typing import List,Dict,Tuple\n",
    "class Solution:\n",
    "    def isValid(self, s:str) -> bool:\n",
    "        if len(s) == 0:\n",
    "            return True\n",
    "        if len(s)%2 == 1:\n",
    "            return False\n",
    "        \n",
    "        # 解决边界问题：栈 stack 为空： 此时 stack.pop() 操作会报错；因此，我们加一对键值对   'a': 'a'\n",
    "        dic = {'(':')','[':']','{':'}','a':'a'}\n",
    "        res = ['a']\n",
    "        \n",
    "        for si in s:\n",
    "            # 在key里，则把si添加append进去\n",
    "            if si in dic:\n",
    "                res.append(si)\n",
    "            \n",
    "            # 不在，判断pop出来的结果，所对应的键值，是否等于si\n",
    "            elif dic[res.pop()] != si:\n",
    "                return False\n",
    "        \n",
    "        # 最后判断长度是否仍为1\n",
    "        return len(res) == 1\n",
    "s = '[]'\n",
    "print(Solution().isValid(s))"
   ]
  },
  {
   "cell_type": "code",
   "execution_count": null,
   "metadata": {},
   "outputs": [],
   "source": [
    "dic = {'(':')','{':'}','[':']','a':'a','0':'0'}\n",
    "stack = ['0']\n",
    "if dic[stack.pop()] == '0':\n",
    "    print(stack) #[]  说明pop操作，已经执行了，因此：elif dic[stack.pop()] != s:\n",
    "else:\n",
    "    print('f')"
   ]
  }
 ],
 "metadata": {
  "kernelspec": {
   "display_name": "Python 3",
   "language": "python",
   "name": "python3"
  },
  "language_info": {
   "codemirror_mode": {
    "name": "ipython",
    "version": 3
   },
   "file_extension": ".py",
   "mimetype": "text/x-python",
   "name": "python",
   "nbconvert_exporter": "python",
   "pygments_lexer": "ipython3",
   "version": "3.6.6"
  }
 },
 "nbformat": 4,
 "nbformat_minor": 4
}
