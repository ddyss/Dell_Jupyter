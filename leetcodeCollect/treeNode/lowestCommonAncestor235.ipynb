{
 "cells": [
  {
   "cell_type": "code",
   "execution_count": null,
   "metadata": {},
   "outputs": [],
   "source": [
    "# LeetCode 235 二叉搜索树的最近公共祖先\n",
    "# 先分别遍历，经过的节点都保存起来；然后进行对比，当最后一次相等时，即为最近的祖先\n",
    "# https://leetcode-cn.com/problems/lowest-common-ancestor-of-a-binary-search-tree/solution/er-cha-sou-suo-shu-de-zui-jin-gong-gong-zu-xian-26/\n",
    "class Solution:\n",
    "    def lowestCommonAncestor(self, root: 'TreeNode', p: 'TreeNode', q: 'TreeNode') -> 'TreeNode':\n",
    "        def getpath(root,target):\n",
    "            res = []\n",
    "            while target != root:\n",
    "                res.append(root)\n",
    "                if root.val < target.val:\n",
    "                    root = root.right\n",
    "                else:\n",
    "                    root = root.left\n",
    "            res.append(root) # 注意最后还要再加一下\n",
    "            return res\n",
    "        \n",
    "        path_p = getpath(root,p)\n",
    "        path_q = getpath(root,q)\n",
    "        \n",
    "        for i,j in zip(path_p,path_q):\n",
    "            if i == j:\n",
    "                anc = i\n",
    "            else:\n",
    "                break\n",
    "        return anc"
   ]
  }
 ],
 "metadata": {
  "kernelspec": {
   "display_name": "Python 3",
   "language": "python",
   "name": "python3"
  },
  "language_info": {
   "codemirror_mode": {
    "name": "ipython",
    "version": 3
   },
   "file_extension": ".py",
   "mimetype": "text/x-python",
   "name": "python",
   "nbconvert_exporter": "python",
   "pygments_lexer": "ipython3",
   "version": "3.6.6"
  }
 },
 "nbformat": 4,
 "nbformat_minor": 4
}
