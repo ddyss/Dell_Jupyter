{
 "cells": [
  {
   "cell_type": "code",
   "execution_count": null,
   "metadata": {},
   "outputs": [],
   "source": [
    "# LeetCode 236   找最近的祖先，但是此时不是查找树，里面的节点都是无序的          这个中等难度题的代码，放到235题，依然能正确提交\n",
    "# 时间复杂度 O(N)       空间复杂度 O(N)\n",
    "# https://leetcode-cn.com/problems/lowest-common-ancestor-of-a-binary-tree/solution/236-er-cha-shu-de-zui-jin-gong-gong-zu-xian-hou-xu/\n",
    "class Solution:\n",
    "    def lowestCommonAncestor(self, root: 'TreeNode', p: 'TreeNode', q: 'TreeNode') -> 'TreeNode':\n",
    "        if not root or root == p or root == q: \n",
    "            return root\n",
    "        left = self.lowestCommonAncestor(root.left, p, q)     # 递归\n",
    "        right = self.lowestCommonAncestor(root.right, p, q)\n",
    "        # if not left and not right: return # 1.   可以合并到3、4中\n",
    "        if not left: return right # 3.\n",
    "        if not right: return left # 4.\n",
    "        return root # 2. if left and right:\n"
   ]
  },
  {
   "cell_type": "code",
   "execution_count": 1,
   "metadata": {},
   "outputs": [
    {
     "name": "stdout",
     "output_type": "stream",
     "text": [
      "hello: 1\n",
      "hello: 2\n",
      "hello: 3\n",
      "hello: 4\n",
      "world: 4\n",
      "world: 3\n",
      "world: 2\n",
      "world: 1\n"
     ]
    }
   ],
   "source": [
    "# https://www.cnblogs.com/yfz1552800131/p/5349678.html\n",
    "def func(n):\n",
    "    print('hello:',n)\n",
    "    if n < 4:\n",
    "        func(n+1)\n",
    "    print('world:',n)\n",
    "func(1)"
   ]
  },
  {
   "cell_type": "code",
   "execution_count": null,
   "metadata": {},
   "outputs": [],
   "source": []
  }
 ],
 "metadata": {
  "kernelspec": {
   "display_name": "Python 3",
   "language": "python",
   "name": "python3"
  },
  "language_info": {
   "codemirror_mode": {
    "name": "ipython",
    "version": 3
   },
   "file_extension": ".py",
   "mimetype": "text/x-python",
   "name": "python",
   "nbconvert_exporter": "python",
   "pygments_lexer": "ipython3",
   "version": "3.6.6"
  }
 },
 "nbformat": 4,
 "nbformat_minor": 4
}
