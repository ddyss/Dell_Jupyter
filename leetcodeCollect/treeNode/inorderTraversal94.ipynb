{
 "cells": [
  {
   "cell_type": "code",
   "execution_count": null,
   "metadata": {},
   "outputs": [],
   "source": [
    "# Definition for a binary tree node.\n",
    "# class TreeNode:\n",
    "#     def __init__(self, val=0, left=None, right=None):\n",
    "#         self.val = val\n",
    "#         self.left = left\n",
    "#         self.right = right\n",
    "\n",
    "# LeetCode 94 ，给一个跟节点，返回其中序遍历\n",
    "class Solution:\n",
    "    def preorderTraversal(self, root: TreeNode) -> List[int]:\n",
    "        res = []\n",
    "        \n",
    "        def dfs(root):\n",
    "            if not root:\n",
    "                return\n",
    "            # 递归的方法，安照LDR顺序  表示中序遍历\n",
    "            dfs(root.left)\n",
    "            res.append(root.val)            \n",
    "            dfs(root.right)\n",
    "            \n",
    "        dfs(root)\n",
    "        return res\n"
   ]
  },
  {
   "cell_type": "code",
   "execution_count": null,
   "metadata": {},
   "outputs": [],
   "source": [
    "# 非递归的方法\n",
    "class Solution:\n",
    "    def inorderTraversal(self, root: TreeNode) -> List[int]:\n",
    "        stack = [root]\n",
    "        res = []\n",
    "        \n",
    "        while stack:\n",
    "            tmp = stack.pop()\n",
    "            # TreeNode 数据类型\n",
    "            if isinstance(tmp,TreeNode):\n",
    "                # 入栈的方法，按照 RDL 的顺序压入栈中，和递归是反的   extend 是合并操作\n",
    "                stack.extend([tmp.right,tmp.val,tmp.left])\n",
    "                \n",
    "            # int 数据类型\n",
    "            elif isinstance(tmp,int):\n",
    "                res.append(tmp)\n",
    "        return res"
   ]
  }
 ],
 "metadata": {
  "kernelspec": {
   "display_name": "Python 3",
   "language": "python",
   "name": "python3"
  },
  "language_info": {
   "codemirror_mode": {
    "name": "ipython",
    "version": 3
   },
   "file_extension": ".py",
   "mimetype": "text/x-python",
   "name": "python",
   "nbconvert_exporter": "python",
   "pygments_lexer": "ipython3",
   "version": "3.6.6"
  }
 },
 "nbformat": 4,
 "nbformat_minor": 4
}
