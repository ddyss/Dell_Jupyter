{
 "cells": [
  {
   "cell_type": "code",
   "execution_count": 24,
   "metadata": {},
   "outputs": [
    {
     "name": "stdout",
     "output_type": "stream",
     "text": [
      "ZY\n"
     ]
    }
   ],
   "source": [
    "# LeetCode 168  26进制转换      divmod 函数可以保留整数和余数部分\n",
    "\n",
    "class Solution:\n",
    "    def convertToTitle(self, n: int) -> str:\n",
    "        if n <= 0:\n",
    "            return\n",
    "        str1 = ''\n",
    "        while n:\n",
    "            res = n%26\n",
    "            if res == 0:\n",
    "                res = 'Z'\n",
    "                n -= 1 # <=26 以内的数都可以通过，>26的就超时报错\n",
    "            else:\n",
    "                res = chr(res+64)# 因为65是A\n",
    "            \n",
    "            n = n//26   # 因为次数只保留整数部分，根本不会影响结果\n",
    "            str1 += res\n",
    "        return \"\".join(reversed(str1))\n",
    "\n",
    "print(Solution().convertToTitle(701))"
   ]
  },
  {
   "cell_type": "code",
   "execution_count": 1,
   "metadata": {},
   "outputs": [
    {
     "name": "stdout",
     "output_type": "stream",
     "text": [
      "Z\n"
     ]
    }
   ],
   "source": [
    "def func(num):\n",
    "    if num < 0:\n",
    "        return\n",
    "    str1 = ''\n",
    "    while num:\n",
    "        res = num%26\n",
    "        if res == 0:\n",
    "            res = 'Z'\n",
    "            num -= 1\n",
    "        else:\n",
    "            res = chr(res + 64)  #48--0   65--A   97--a\n",
    "        num = num // 26\n",
    "        str1 += res\n",
    "    return ''.join(reversed(str1))\n",
    "print(func(26))"
   ]
  },
  {
   "cell_type": "code",
   "execution_count": null,
   "metadata": {},
   "outputs": [],
   "source": [
    "ord（）函数就是用来返回单个字符的ascii值（0-255）：\n",
    ">>> ord('d')\n",
    "100\n",
    ">>> ord('5')\n",
    "53\n",
    "\n",
    "相反地，chr（）函数是输入一个整数【0，255】返回其对应的ascii符号：\n",
    ">>> chr(100)\n",
    "'d'\n",
    ">>> chr(53)\n",
    "'5'"
   ]
  }
 ],
 "metadata": {
  "kernelspec": {
   "display_name": "Python 3",
   "language": "python",
   "name": "python3"
  },
  "language_info": {
   "codemirror_mode": {
    "name": "ipython",
    "version": 3
   },
   "file_extension": ".py",
   "mimetype": "text/x-python",
   "name": "python",
   "nbconvert_exporter": "python",
   "pygments_lexer": "ipython3",
   "version": "3.6.6"
  }
 },
 "nbformat": 4,
 "nbformat_minor": 4
}
