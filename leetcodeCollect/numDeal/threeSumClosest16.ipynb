{
 "cells": [
  {
   "cell_type": "code",
   "execution_count": 6,
   "metadata": {},
   "outputs": [
    {
     "name": "stdout",
     "output_type": "stream",
     "text": [
      "2\n"
     ]
    }
   ],
   "source": [
    "# LeetCode 16 最接近的三数之和，   类似15题   排序+双指针\n",
    "def threeSumClosest(nums, target):\n",
    "    nums.sort()\n",
    "    n = len(nums)\n",
    "\n",
    "    if n < 3:\n",
    "        return\n",
    "\n",
    "    # 在for循环外，分别定义一个正负无穷的初值\n",
    "    tmpright = float('inf')\n",
    "    tmpleft = float('-inf')\n",
    "\n",
    "    for i in range(n):\n",
    "        # 防止出现重复，节省时间\n",
    "        if i > 0 and nums[i] == nums[i-1]:\n",
    "            continue\n",
    "\n",
    "        left = i+1\n",
    "        right = n-1\n",
    "\n",
    "        while left < right:\n",
    "            tmp = nums[i] + nums[left] + nums[right]\n",
    "\n",
    "            if tmp == target:\n",
    "                return target\n",
    "            elif tmp > target:\n",
    "                right -= 1\n",
    "                # 防止出现重复，节省时间\n",
    "                while left < right and nums[right] == nums[right+1]:\n",
    "                    right -= 1\n",
    "                tmpright = min(tmpright,tmp)\n",
    "            else:\n",
    "                left += 1\n",
    "                # 防止出现重复，节省时间\n",
    "                while left < right and nums[left] == nums[left-1]:\n",
    "                    left += 1\n",
    "                tmpleft = max(tmpleft,tmp)\n",
    "    # 对比大于和小于target两端哪个离得近\n",
    "    if abs(tmpright - target) < abs(tmpleft - target):\n",
    "        return tmpright\n",
    "    else:\n",
    "        return tmpleft\n",
    "nums = [-1,2,1,-4]#[-4,-1,1,2]\n",
    "target = 1\n",
    "# nums = [1,1,1,0]\n",
    "# target = -100\n",
    "print(threeSumClosest(nums,target))"
   ]
  },
  {
   "cell_type": "code",
   "execution_count": null,
   "metadata": {},
   "outputs": [],
   "source": []
  }
 ],
 "metadata": {
  "kernelspec": {
   "display_name": "Python 3",
   "language": "python",
   "name": "python3"
  },
  "language_info": {
   "codemirror_mode": {
    "name": "ipython",
    "version": 3
   },
   "file_extension": ".py",
   "mimetype": "text/x-python",
   "name": "python",
   "nbconvert_exporter": "python",
   "pygments_lexer": "ipython3",
   "version": "3.6.6"
  }
 },
 "nbformat": 4,
 "nbformat_minor": 4
}
