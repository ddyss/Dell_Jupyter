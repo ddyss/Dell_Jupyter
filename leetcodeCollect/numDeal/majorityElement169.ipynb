{
 "cells": [
  {
   "cell_type": "code",
   "execution_count": 10,
   "metadata": {},
   "outputs": [
    {
     "name": "stdout",
     "output_type": "stream",
     "text": [
      "3\n"
     ]
    }
   ],
   "source": [
    "# LeetCode 169 出现次数超过一半的数; 摩尔投票法，也被称作「多数投票法」--------只适用于某个值大于一半时\n",
    "# 测试用例：\n",
    "# n = 2 ，两个相等或不等\n",
    "# n = 3，655 或者 556\n",
    "\n",
    "from typing import List\n",
    "class Solution:\n",
    "    def majorityElement(self, nums: List[int]) -> int:\n",
    "        if not nums:\n",
    "            return\n",
    "        n = len(nums)\n",
    "        if n == 1:\n",
    "            return nums[0]\n",
    "        \n",
    "        # 出现次数大于一半，只可能有一个这样的元素\n",
    "        major = 0\n",
    "        count = 0\n",
    "        for num in nums:\n",
    "            # 如果count为0，则把num赋值给major\n",
    "            if count == 0:\n",
    "                major = num\n",
    "            if major == num:\n",
    "                count += 1\n",
    "            else:\n",
    "                count -= 1\n",
    "        return major\n",
    "\n",
    "# nums = [2,2,1,1,1,2,2]\n",
    "nums = [3,2,3]\n",
    "print(Solution().majorityElement(nums))#分节以RST响应"
   ]
  },
  {
   "cell_type": "code",
   "execution_count": 15,
   "metadata": {},
   "outputs": [
    {
     "name": "stdout",
     "output_type": "stream",
     "text": [
      "3\n"
     ]
    }
   ],
   "source": [
    "import collections\n",
    "from typing import List\n",
    "class Solution:\n",
    "    def majorityElement(self, nums: List[int]) -> int:\n",
    "        counts = collections.Counter(nums)\n",
    "        return max(counts.keys(),key = counts.get)\n",
    "# nums = [2,2,1,1,1,2,2]\n",
    "nums = [3,2,3]\n",
    "print(Solution().majorityElement(nums))"
   ]
  },
  {
   "cell_type": "code",
   "execution_count": 12,
   "metadata": {},
   "outputs": [
    {
     "name": "stdout",
     "output_type": "stream",
     "text": [
      "2\n"
     ]
    }
   ],
   "source": [
    "from typing import List\n",
    "class Solution:\n",
    "    def majorityElement(self, nums: List[int]) -> int:\n",
    "        if not nums:\n",
    "            return\n",
    "        n = len(nums)\n",
    "        if n == 1:\n",
    "            return nums[0]\n",
    "        \n",
    "        # 出现次数大于一半，只可能有一个这样的元素      \n",
    "        count = 0\n",
    "        min_ = min(nums)\n",
    "        max_ = max(nums)\n",
    "        \n",
    "        # 这种做法，当最大和最小相差很大，而中间几乎没有数时，占用很大的内存\n",
    "        # 主要此处长度要+1\n",
    "        res = [0]*(max_ - min_ + 1)\n",
    "        \n",
    "        for num in nums:\n",
    "            res[num-min_] += 1\n",
    "\n",
    "        index_ = res.index(max(res))\n",
    "\n",
    "        # 最大值对应的索引 + min_  就是众数\n",
    "        return index_ + min_\n",
    "    \n",
    "nums = [2,2,1,1,1,2,2]\n",
    "# nums = [3,2,3]\n",
    "print(Solution().majorityElement(nums))"
   ]
  },
  {
   "cell_type": "code",
   "execution_count": 7,
   "metadata": {},
   "outputs": [
    {
     "name": "stdout",
     "output_type": "stream",
     "text": [
      "3\n"
     ]
    }
   ],
   "source": [
    "# 最简单，排序，取中间的那个------也只适用于，最多的那个数超过一半\n",
    "from typing import List\n",
    "class Solution:\n",
    "    def majorityElement(self, nums: List[int]) -> int:\n",
    "        n = len(nums)\n",
    "        nums = sorted(nums)\n",
    "        return nums[n//2]\n",
    "        \n",
    "# nums = [2,2,1,1,1,2,2]\n",
    "nums = [3,2,3]\n",
    "print(Solution().majorityElement(nums))        "
   ]
  },
  {
   "cell_type": "code",
   "execution_count": null,
   "metadata": {},
   "outputs": [],
   "source": []
  }
 ],
 "metadata": {
  "kernelspec": {
   "display_name": "Python 3",
   "language": "python",
   "name": "python3"
  },
  "language_info": {
   "codemirror_mode": {
    "name": "ipython",
    "version": 3
   },
   "file_extension": ".py",
   "mimetype": "text/x-python",
   "name": "python",
   "nbconvert_exporter": "python",
   "pygments_lexer": "ipython3",
   "version": "3.6.6"
  }
 },
 "nbformat": 4,
 "nbformat_minor": 4
}
