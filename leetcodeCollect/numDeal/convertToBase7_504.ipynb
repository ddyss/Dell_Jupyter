{
 "cells": [
  {
   "cell_type": "code",
   "execution_count": null,
   "metadata": {},
   "outputs": [],
   "source": [
    "# 转换为7进制数    504\n",
    "# 进制转换  504、405、168  7进制、16进制、26进制\n",
    "class Solution:\n",
    "    def convertToBase7(self, num: int) -> str:\n",
    "        if num < 0:\n",
    "            num = -num\n",
    "            flag = True\n",
    "        else:  # 不能少了这个else，因为当数大于0时，后面的flag就相当于未定义\n",
    "            flag = False\n",
    "\n",
    "        base = 7\n",
    "        \n",
    "        res = []\n",
    "        while num >= base:\n",
    "            fig = num % base\n",
    "            # 要保留字符串到列表中\n",
    "            res.append(str(fig))\n",
    "\n",
    "            # 每次除完，更新num为整数部分\n",
    "            num = num // 7\n",
    "\n",
    "        # 退出循环后，把最后的整数部分，变成字符串，保留到列表中\n",
    "        res.append(str(num))\n",
    "\n",
    "        if flag:\n",
    "            outstr = '-' + \"\".join(res[::-1])\n",
    "        else:\n",
    "            outstr = \"\".join(res[::-1])\n",
    "        return outstr"
   ]
  }
 ],
 "metadata": {
  "kernelspec": {
   "display_name": "Python 3",
   "language": "python",
   "name": "python3"
  },
  "language_info": {
   "codemirror_mode": {
    "name": "ipython",
    "version": 3
   },
   "file_extension": ".py",
   "mimetype": "text/x-python",
   "name": "python",
   "nbconvert_exporter": "python",
   "pygments_lexer": "ipython3",
   "version": "3.6.6"
  }
 },
 "nbformat": 4,
 "nbformat_minor": 4
}
