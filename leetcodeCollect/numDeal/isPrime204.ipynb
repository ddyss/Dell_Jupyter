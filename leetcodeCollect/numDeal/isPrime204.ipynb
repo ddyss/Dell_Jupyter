{
 "cells": [
  {
   "cell_type": "code",
   "execution_count": null,
   "metadata": {},
   "outputs": [],
   "source": [
    "# 埃氏筛 不会超时\n",
    "class Solution:\n",
    "    def countPrimes(self, n: int) -> int:\n",
    "        # 埃氏筛的原理：从 2 开始，将每个质数的倍数都标记为合数。同样的，标记到 sqrt{n}  停止。\n",
    "\n",
    "        #给每个位置立一个flag，初始化为1\n",
    "        isPrimes = [1] * n  \n",
    "\n",
    "        res = 0\n",
    "\n",
    "        #循环，从最小质数i开始到n循环\n",
    "        for i in range(2, n):\n",
    "            #如果这个位置的flag为1，说明数字 i  没有被比 i 小的数整除过，说明它是质数，计数器+1\n",
    "            if isPrimes[i] == 1: \n",
    "                res += 1\n",
    "\n",
    "            #设置倍数 j ，初始化与 i 相等。 因为i也是一点点加上来的，比如 i=5的时候，i 的4倍一定在 i=4 时已经设置为0过。\n",
    "            j = i\n",
    "            #当 i 的 j 倍大于n的时候跳出循环\n",
    "            while i * j < n:\n",
    "                # 整数倍都不是，设为0\n",
    "                isPrimes[i * j] = 0 \n",
    "                # 自增，下一个找 j+1 倍\n",
    "                j += 1\n",
    "                \n",
    "        #返回结果\n",
    "        return res"
   ]
  },
  {
   "cell_type": "code",
   "execution_count": 8,
   "metadata": {},
   "outputs": [
    {
     "name": "stdout",
     "output_type": "stream",
     "text": [
      "114155\n"
     ]
    }
   ],
   "source": [
    "# 判断是否为质数（素数），不使用模块的两种方法   但这两种方法在LeetCode上均超时了\n",
    "# 1和0既非素数也非合数。\n",
    "# 试除法，将该数N用小于等于根号N的所有素数去试除，若均无法整除，N则为素数\n",
    "\n",
    "from typing import List\n",
    "class Solution:\n",
    "    def countPrimes(self, n: int) -> int:\n",
    "        count = 0\n",
    "        for i in range(n):\n",
    "            if self.isPrime(i):\n",
    "                count += 1\n",
    "        return count\n",
    "    \n",
    "    def isPrime(self,n):    \n",
    "        if n <= 1:    \n",
    "            return False   \n",
    "        i = 2   \n",
    "        while i*i <= n:    \n",
    "            if n % i == 0:    \n",
    "                return False   \n",
    "            i += 1   \n",
    "        return True\n",
    "    \n",
    "print(Solution().countPrimes(1500000))"
   ]
  },
  {
   "cell_type": "code",
   "execution_count": 6,
   "metadata": {},
   "outputs": [
    {
     "name": "stdout",
     "output_type": "stream",
     "text": [
      "0\n"
     ]
    }
   ],
   "source": [
    "from typing import List\n",
    "class Solution:\n",
    "    def countPrimes(self, n: int) -> int:\n",
    "        count = 0\n",
    "        for i in range(n):\n",
    "            if self.isPrime(i):\n",
    "                count += 1\n",
    "        return count\n",
    "    \n",
    "    def isPrime(self,n):    \n",
    "        if n <= 1:    \n",
    "            return False   \n",
    "        if n == 2:    \n",
    "            return True   \n",
    "        if n % 2 == 0:    \n",
    "            return False   \n",
    "        i = 3   \n",
    "        while i * i <= n:    \n",
    "            if n % i == 0:    \n",
    "                return False   \n",
    "            i += 2   \n",
    "        return True\n",
    "    \n",
    "print(Solution().countPrimes(0))"
   ]
  },
  {
   "cell_type": "code",
   "execution_count": 12,
   "metadata": {},
   "outputs": [
    {
     "data": {
      "text/plain": [
       "114155"
      ]
     },
     "execution_count": 12,
     "metadata": {},
     "output_type": "execute_result"
    }
   ],
   "source": [
    "def countPrime(n):\n",
    "    isPrime = [1]*n\n",
    "    \n",
    "    count = 0\n",
    "    for i in range(2,n):\n",
    "        if isPrime[i] == 1:\n",
    "            count += 1\n",
    "            \n",
    "        j = i\n",
    "        while j*i < n:\n",
    "            isPrime[j*i] = 0\n",
    "            j += 1\n",
    "    return count\n",
    "countPrime(1500000)"
   ]
  },
  {
   "cell_type": "code",
   "execution_count": null,
   "metadata": {},
   "outputs": [],
   "source": []
  }
 ],
 "metadata": {
  "kernelspec": {
   "display_name": "Python 3",
   "language": "python",
   "name": "python3"
  },
  "language_info": {
   "codemirror_mode": {
    "name": "ipython",
    "version": 3
   },
   "file_extension": ".py",
   "mimetype": "text/x-python",
   "name": "python",
   "nbconvert_exporter": "python",
   "pygments_lexer": "ipython3",
   "version": "3.6.6"
  }
 },
 "nbformat": 4,
 "nbformat_minor": 4
}
