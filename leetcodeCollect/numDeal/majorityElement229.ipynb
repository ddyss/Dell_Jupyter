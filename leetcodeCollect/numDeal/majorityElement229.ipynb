{
 "cells": [
  {
   "cell_type": "code",
   "execution_count": null,
   "metadata": {},
   "outputs": [],
   "source": [
    "# LeetCode 229   求众数||    摩尔投票进阶问题\n",
    "# https://leetcode-cn.com/problems/majority-element-ii/solution/cong-zhu-xing-tu-jiao-chao-ji-su-li-jie-wei-shi-ya/\n",
    "# https://leetcode-cn.com/problems/majority-element-ii/solution/mo-er-tou-piao-fa-by-yi-wen-statistics-2/\n",
    "class Solution:\n",
    "    def majorityElement(self, nums: List[int]) -> List[int]:\n",
    "        # import collections\n",
    "        count = collections.Counter(nums)\n",
    "        dic = dict(count)\n",
    "        n = len(nums)\n",
    "        res = []\n",
    "        for k,v in dic.items():\n",
    "            if v > n//3:\n",
    "                res.append(k)\n",
    "        return res"
   ]
  },
  {
   "cell_type": "code",
   "execution_count": null,
   "metadata": {},
   "outputs": [],
   "source": []
  }
 ],
 "metadata": {
  "kernelspec": {
   "display_name": "Python 3",
   "language": "python",
   "name": "python3"
  },
  "language_info": {
   "codemirror_mode": {
    "name": "ipython",
    "version": 3
   },
   "file_extension": ".py",
   "mimetype": "text/x-python",
   "name": "python",
   "nbconvert_exporter": "python",
   "pygments_lexer": "ipython3",
   "version": "3.6.6"
  }
 },
 "nbformat": 4,
 "nbformat_minor": 4
}
