{
 "cells": [
  {
   "cell_type": "code",
   "execution_count": null,
   "metadata": {},
   "outputs": [],
   "source": [
    "# 15. 三数之和\n",
    "# 排序 + 双指针\n",
    "# 时间复杂度：O(n 2)。数组排序O(NlogN)，for循环遍历数组 O(n)，双指针遍历 O(n)，总体 O(NlogN)+O(n)∗O(n)，即O(n 2)\n",
    "# 空间复杂度：O(1)\n",
    "\n",
    "class Solution:\n",
    "    def threeSum(self, nums: List[int]) -> List[List[int]]:\n",
    "        # 先进行排序\n",
    "        nums.sort()\n",
    "        n = len(nums)                        \n",
    "        res = []\n",
    "        \n",
    "        for k in range(n-2):\n",
    "            # nums[k] > 0时 直接跳出\n",
    "            if nums[k] > 0:\n",
    "                break #不能是return，要留到最后，返回最终的res；不然中途出现大于0，你不还返回null。\n",
    "                \n",
    "            # k > 0 是因为存在k-1，所以k不能为0\n",
    "            if k > 0 and nums[k] == nums[k-1]:\n",
    "                continue\n",
    "                \n",
    "            i = k+1\n",
    "            j = len(nums)-1\n",
    "            while i < j:\n",
    "                s = nums[i] + nums[j] + nums[k]\n",
    "                \n",
    "                if s < 0:\n",
    "                    i += 1\n",
    "                    while i < j and nums[i] == nums[i-1]:  # 左边 i == i-1      i += 1 相反\n",
    "                        i += 1\n",
    "                        \n",
    "                elif s > 0:\n",
    "                    j -= 1\n",
    "                    while i < j and nums[j] == nums[j+1]:  # 右边 j == j+1\n",
    "                        j -= 1\n",
    "                        \n",
    "                else:\n",
    "                    res.append([nums[i],nums[j],nums[k]])\n",
    "                    i += 1\n",
    "                    j -= 1\n",
    "                    while i < j and nums[j] == nums[j+1]:\n",
    "                        j -= 1\n",
    "                    while i < j and nums[i] == nums[i-1]:\n",
    "                        i += 1                        \n",
    "                    \n",
    "        return res"
   ]
  }
 ],
 "metadata": {
  "kernelspec": {
   "display_name": "Python 3",
   "language": "python",
   "name": "python3"
  },
  "language_info": {
   "codemirror_mode": {
    "name": "ipython",
    "version": 3
   },
   "file_extension": ".py",
   "mimetype": "text/x-python",
   "name": "python",
   "nbconvert_exporter": "python",
   "pygments_lexer": "ipython3",
   "version": "3.6.6"
  }
 },
 "nbformat": 4,
 "nbformat_minor": 4
}
