{
 "cells": [
  {
   "cell_type": "code",
   "execution_count": null,
   "metadata": {},
   "outputs": [],
   "source": [
    "# 山脉数组 941\n",
    "class Solution:\n",
    "    def validMountainArray(self, arr: List[int]) -> bool:\n",
    "        if not arr:\n",
    "            return\n",
    "        if len(arr) <= 2:\n",
    "            return False\n",
    "\n",
    "        n = len(arr)\n",
    "        left = 0\n",
    "        right = n - 1\n",
    "        \n",
    "        # 左右分别找最大的点，看是否是同一个点\n",
    "        while left < right and arr[left] < arr[left + 1]:\n",
    "            left += 1\n",
    "\n",
    "        while left < right and arr[right - 1] > arr[right]:\n",
    "            right -= 1\n",
    "\n",
    "        # 排除特殊情况，递增或递减，左或右指针一步都没动\n",
    "        if left == 0 or right == n-1:\n",
    "            return False\n",
    "        \n",
    "        # 判断指针停留的位置，索引是否相等，不等则False\n",
    "        if left != right:\n",
    "            return False\n",
    "        return True"
   ]
  }
 ],
 "metadata": {
  "kernelspec": {
   "display_name": "Python 3",
   "language": "python",
   "name": "python3"
  },
  "language_info": {
   "codemirror_mode": {
    "name": "ipython",
    "version": 3
   },
   "file_extension": ".py",
   "mimetype": "text/x-python",
   "name": "python",
   "nbconvert_exporter": "python",
   "pygments_lexer": "ipython3",
   "version": "3.6.6"
  }
 },
 "nbformat": 4,
 "nbformat_minor": 4
}
