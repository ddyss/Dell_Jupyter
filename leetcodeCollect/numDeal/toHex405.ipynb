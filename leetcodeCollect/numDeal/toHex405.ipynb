{
 "cells": [
  {
   "cell_type": "code",
   "execution_count": 5,
   "metadata": {},
   "outputs": [
    {
     "name": "stdout",
     "output_type": "stream",
     "text": [
      "ffffffff\n"
     ]
    }
   ],
   "source": [
    "# 405 转为16进制\n",
    "# 进制转换  504、405、168  7进制、16进制、26进制\n",
    "# https://leetcode-cn.com/problems/convert-a-number-to-hexadecimal/solution/fen-hao-luo-ji-dui-fu-shu-0-zheng-shu-fen-bie-chu-/\n",
    "\n",
    "def toHex(num):\n",
    "    tmp = ''\n",
    "    dic = ['a','b','c','d','e','f']\n",
    "\n",
    "    # 首先num < 0的时候，先转换一下\n",
    "    if num < 0:\n",
    "        # num = (abs(num) ^ ((2 ** 32) - 1)) + 1  #在python中，  ^ 是异或符号\n",
    "        num = 2 ** 32 + num\n",
    "\n",
    "    # 单独讨论num=0的时候，返回0\n",
    "    elif num == 0:\n",
    "        return '0'\n",
    "\n",
    "    # 最后判断num > 0的时候\n",
    "    while num >= 16:\n",
    "        res = num % 16\n",
    "        if res > 9:\n",
    "            res = dic[res-10]\n",
    "        num = num // 16        \n",
    "        tmp += str(res)\n",
    "\n",
    "    if num > 9:\n",
    "        num = dic[num-10]\n",
    "\n",
    "    tmp = str(num) + tmp[::-1]\n",
    "\n",
    "    return tmp\n",
    "    # return ''.join(reversed(str1)) #reversed 函数返回一个反转的迭代器。\n",
    "print(toHex(-1))"
   ]
  },
  {
   "cell_type": "code",
   "execution_count": 4,
   "metadata": {},
   "outputs": [
    {
     "data": {
      "text/plain": [
       "'64'"
      ]
     },
     "execution_count": 4,
     "metadata": {},
     "output_type": "execute_result"
    }
   ],
   "source": [
    "'%02x' % 100"
   ]
  },
  {
   "cell_type": "code",
   "execution_count": 5,
   "metadata": {},
   "outputs": [
    {
     "data": {
      "text/plain": [
       "'0x64'"
      ]
     },
     "execution_count": 5,
     "metadata": {},
     "output_type": "execute_result"
    }
   ],
   "source": [
    "hex(100)"
   ]
  },
  {
   "cell_type": "code",
   "execution_count": 11,
   "metadata": {},
   "outputs": [
    {
     "data": {
      "text/plain": [
       "4294967196"
      ]
     },
     "execution_count": 11,
     "metadata": {},
     "output_type": "execute_result"
    }
   ],
   "source": [
    "2 ** 32 + (-100)"
   ]
  },
  {
   "cell_type": "code",
   "execution_count": 12,
   "metadata": {},
   "outputs": [
    {
     "data": {
      "text/plain": [
       "4294967196"
      ]
     },
     "execution_count": 12,
     "metadata": {},
     "output_type": "execute_result"
    }
   ],
   "source": [
    "(abs(-100) ^ ((2 ** 32) - 1)) + 1"
   ]
  },
  {
   "cell_type": "code",
   "execution_count": null,
   "metadata": {},
   "outputs": [],
   "source": []
  }
 ],
 "metadata": {
  "kernelspec": {
   "display_name": "Python 3",
   "language": "python",
   "name": "python3"
  },
  "language_info": {
   "codemirror_mode": {
    "name": "ipython",
    "version": 3
   },
   "file_extension": ".py",
   "mimetype": "text/x-python",
   "name": "python",
   "nbconvert_exporter": "python",
   "pygments_lexer": "ipython3",
   "version": "3.6.6"
  }
 },
 "nbformat": 4,
 "nbformat_minor": 4
}
