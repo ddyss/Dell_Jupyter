{
 "cells": [
  {
   "cell_type": "code",
   "execution_count": null,
   "metadata": {},
   "outputs": [],
   "source": [
    "class Solution:\n",
    "    def validIPAddress(self,IP):\n",
    "        if '.' in IP:\n",
    "            IPlist = IP.split('.')\n",
    "            # IPv4 段地址数只能为4\n",
    "            if len(IPlist) != 4:   #这样提前否定的判断，能更早的退出\n",
    "                return \"Neither\"\n",
    "\n",
    "            for IPli in IPlist:\n",
    "                try:\n",
    "                    # 以0开头的，每段长度只能为1\n",
    "                    if IPli.startswith('0') and len(IPli) != 1:\n",
    "                        return \"Neither\"\n",
    "                    # 其他的只能在0-255之间\n",
    "                    elif int(IPli) < 0 or int(IPli) > 255:\n",
    "                        return \"Neither\"\n",
    "                except:\n",
    "                    return \"Neither\"\n",
    "            return \"IPv4\"\n",
    "        \n",
    "        elif ':' in IP:\n",
    "            IPlist = IP.split(':')\n",
    "            # IPv6 段地址数只能为8\n",
    "            if len(IPlist) != 8:\n",
    "                return \"Neither\"\n",
    "\n",
    "            for IPli in IPlist:\n",
    "                # 每段地址只允许长度为[1,4]区间；\n",
    "                if len(IPli) < 1 or len(IPli) > 4:\n",
    "                    return \"Neither\"\n",
    "                # 段地址每个字符必须是合法的16进制字符，在\"0123456789abcdefABCDEF\"里\n",
    "                # 这里IPli还是一个字符串，可以 for IPl in IPli 这样判断\n",
    "                for IPl in IPli:\n",
    "                    if IPl not in \"0123456789abcdefABCDEF\":\n",
    "                        return \"Neither\"\n",
    "            return \"IPv6\"\n",
    "        return \"Neither\"\n",
    "# 对类进行实例化，否则会报错，缺少一个输入参数\n",
    "t = Solution()\n",
    "# inpu = \"1.1.1.1\"\n",
    "inpu = \"1e1.1.1.1\"\n",
    "print(t.validIPAddress(inpu))"
   ]
  }
 ],
 "metadata": {
  "kernelspec": {
   "display_name": "Python 3",
   "language": "python",
   "name": "python3"
  },
  "language_info": {
   "codemirror_mode": {
    "name": "ipython",
    "version": 3
   },
   "file_extension": ".py",
   "mimetype": "text/x-python",
   "name": "python",
   "nbconvert_exporter": "python",
   "pygments_lexer": "ipython3",
   "version": "3.6.6"
  }
 },
 "nbformat": 4,
 "nbformat_minor": 4
}
