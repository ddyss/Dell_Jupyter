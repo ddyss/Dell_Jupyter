{
 "cells": [
  {
   "cell_type": "code",
   "execution_count": 2,
   "metadata": {},
   "outputs": [
    {
     "name": "stdout",
     "output_type": "stream",
     "text": [
      "[1, 5, 12, 16, 21, 22, 23, 32, 38, 41, 43, 50, 64, 68, 73, 90, 93, 94, 99]\n"
     ]
    }
   ],
   "source": [
    "# 面试题 17.14. 最小K个数，  超时了  插入排序 平均时间复杂度 O（n2）\n",
    "res = [38, 21, 64, 41, 93, 90, 50, 99, 94, 22, 68, 1, 16, 32, 12, 43, 5, 73, 23]\n",
    "\n",
    "def insert_sort(nums):\n",
    "    n = len(nums)\n",
    "    for i in range(1, n):\n",
    "        # 当i > 0 ;跳出循环的条件当i<=0，  # 同时前面大于后面的，则互换，再i-1\n",
    "        while i > 0 and nums[i - 1] > nums[i]:\n",
    "            nums[i - 1], nums[i] = nums[i], nums[i - 1]\n",
    "            # i一直减小，直到<=0 退出循环\n",
    "            i -= 1\n",
    "    return nums\n",
    "\n",
    "print(insert_sort(res))\n"
   ]
  },
  {
   "cell_type": "code",
   "execution_count": null,
   "metadata": {},
   "outputs": [],
   "source": []
  }
 ],
 "metadata": {
  "kernelspec": {
   "display_name": "Python 3",
   "language": "python",
   "name": "python3"
  },
  "language_info": {
   "codemirror_mode": {
    "name": "ipython",
    "version": 3
   },
   "file_extension": ".py",
   "mimetype": "text/x-python",
   "name": "python",
   "nbconvert_exporter": "python",
   "pygments_lexer": "ipython3",
   "version": "3.6.6"
  }
 },
 "nbformat": 4,
 "nbformat_minor": 4
}
