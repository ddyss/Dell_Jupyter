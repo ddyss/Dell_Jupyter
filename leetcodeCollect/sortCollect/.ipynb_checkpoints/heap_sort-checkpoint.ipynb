{
 "cells": [
  {
   "cell_type": "code",
   "execution_count": 1,
   "metadata": {},
   "outputs": [
    {
     "data": {
      "text/plain": [
       "[16, 18, 11, 3, 2, 4, 0, 11, 4, 6]"
      ]
     },
     "execution_count": 1,
     "metadata": {},
     "output_type": "execute_result"
    }
   ],
   "source": [
    "import numpy as np\n",
    "arr = np.random.randint(20,size=10)\n",
    "list(arr)"
   ]
  },
  {
   "cell_type": "code",
   "execution_count": 2,
   "metadata": {},
   "outputs": [
    {
     "data": {
      "text/plain": [
       "array([ 0,  2, 11,  6,  4,  3,  4, 11, 16, 18])"
      ]
     },
     "execution_count": 2,
     "metadata": {},
     "output_type": "execute_result"
    }
   ],
   "source": [
    "# 堆排序，可是这个运行结果有问题啊\n",
    "def heap_sort(nums):\n",
    "    # 调整堆\n",
    "    # 迭代写法\n",
    "    def adjust_heap(nums, startpos, endpos):\n",
    "        newitem = nums[startpos]\n",
    "        pos = startpos\n",
    "        childpos = pos * 2 + 1\n",
    "        while childpos < endpos:\n",
    "            rightpos = childpos + 1\n",
    "            if rightpos < endpos and nums[rightpos] >= nums[childpos]:\n",
    "                childpos = rightpos\n",
    "            if newitem < nums[childpos]:\n",
    "                nums[pos] = nums[childpos]\n",
    "                pos = childpos\n",
    "                childpos = pos * 2 + 1\n",
    "            else:\n",
    "                break\n",
    "        nums[pos] = newitem\n",
    "    \n",
    "    # 递归写法\n",
    "    def adjust_heap(nums, startpos, endpos):\n",
    "        pos = startpos\n",
    "        chilidpos = pos * 2 + 1\n",
    "        if chilidpos < endpos:\n",
    "            rightpos = chilidpos + 1\n",
    "            if rightpos < endpos and nums[rightpos] > nums[chilidpos]:\n",
    "                chilidpos = rightpos\n",
    "            if nums[chilidpos] > nums[pos]:\n",
    "                nums[pos], nums[chilidpos] = nums[chilidpos], nums[pos]\n",
    "                adjust_heap(nums, pos, endpos)\n",
    "\n",
    "    n = len(nums)\n",
    "    # 建堆\n",
    "    for i in reversed(range(n // 2)):\n",
    "        adjust_heap(nums, i, n)\n",
    "    # 调整堆\n",
    "    for i in range(n - 1, -1, -1):\n",
    "        nums[0], nums[i] = nums[i], nums[0]\n",
    "        adjust_heap(nums, 0, i)\n",
    "    return nums\n",
    "heap_sort(arr)"
   ]
  },
  {
   "cell_type": "code",
   "execution_count": null,
   "metadata": {},
   "outputs": [],
   "source": []
  }
 ],
 "metadata": {
  "kernelspec": {
   "display_name": "Python 3",
   "language": "python",
   "name": "python3"
  },
  "language_info": {
   "codemirror_mode": {
    "name": "ipython",
    "version": 3
   },
   "file_extension": ".py",
   "mimetype": "text/x-python",
   "name": "python",
   "nbconvert_exporter": "python",
   "pygments_lexer": "ipython3",
   "version": "3.6.6"
  }
 },
 "nbformat": 4,
 "nbformat_minor": 4
}
