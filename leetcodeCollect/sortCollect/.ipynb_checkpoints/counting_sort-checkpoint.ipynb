{
 "cells": [
  {
   "cell_type": "code",
   "execution_count": 19,
   "metadata": {},
   "outputs": [
    {
     "data": {
      "text/plain": [
       "array([ 6,  7, 16,  8, 12,  9, 10, 16, 14,  7])"
      ]
     },
     "execution_count": 19,
     "metadata": {},
     "output_type": "execute_result"
    }
   ],
   "source": [
    "import numpy as np\n",
    "arr = np.random.randint(20,size=10)\n",
    "arr"
   ]
  },
  {
   "cell_type": "code",
   "execution_count": 23,
   "metadata": {},
   "outputs": [
    {
     "data": {
      "text/plain": [
       "array([ 6,  7,  7,  8,  9, 10, 12, 14, 16, 16])"
      ]
     },
     "execution_count": 23,
     "metadata": {},
     "output_type": "execute_result"
    }
   ],
   "source": [
    "# 计数排序       稳定  外排序\n",
    "def counting_sort(arr):\n",
    "#     if not arr: return []#报错 element is ambiguous. Use a.any() or a.all()\n",
    "    if len(arr) < 2:\n",
    "        return arr\n",
    "    n = len(arr)\n",
    "    # 找出最大最小值\n",
    "    arrmin = min(arr)\n",
    "    arrmax = max(arr)\n",
    "    # 建立 最大-最小+1 长度的全0列表\n",
    "    tmp = [0]*(arrmax-arrmin + 1)\n",
    "    # 将所有数据和最小 -arrmin 相减，为0则表示就是最小，则tmp[0]第1个位置值加1，类推，进行计数\n",
    "    for ar in arr:\n",
    "        tmp[ar-arrmin] += 1\n",
    "    j = 0\n",
    "    # 这里的i代表执行次数，后面一次放进arr[i]位置\n",
    "    for i in range(n):\n",
    "        # tmp[j] 不为0 一直取，直到为0，取完，j+1右移，继续取下一列的\n",
    "        while tmp[j] == 0:#tmp[j] == 0表示取完了\n",
    "            j+=1\n",
    "        # 取出来的数也得加上arrmin，才是真实值，因为j只代表第几列而已；并依次放进arr[i]位置\n",
    "        arr[i] = j + arrmin\n",
    "        # 取出来一个，对应计数值就减1\n",
    "        tmp[j] -= 1\n",
    "    return arr\n",
    "counting_sort(arr)"
   ]
  },
  {
   "cell_type": "code",
   "execution_count": null,
   "metadata": {},
   "outputs": [],
   "source": []
  }
 ],
 "metadata": {
  "kernelspec": {
   "display_name": "Python 3",
   "language": "python",
   "name": "python3"
  },
  "language_info": {
   "codemirror_mode": {
    "name": "ipython",
    "version": 3
   },
   "file_extension": ".py",
   "mimetype": "text/x-python",
   "name": "python",
   "nbconvert_exporter": "python",
   "pygments_lexer": "ipython3",
   "version": "3.6.6"
  }
 },
 "nbformat": 4,
 "nbformat_minor": 4
}
