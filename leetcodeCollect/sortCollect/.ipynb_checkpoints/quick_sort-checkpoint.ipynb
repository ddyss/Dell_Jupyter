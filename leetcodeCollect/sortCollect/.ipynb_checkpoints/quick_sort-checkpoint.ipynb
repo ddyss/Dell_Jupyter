{
 "cells": [
  {
   "cell_type": "code",
   "execution_count": 99,
   "metadata": {},
   "outputs": [
    {
     "data": {
      "text/plain": [
       "array([12,  9, 19,  5, 14,  4, 17,  9, 12,  0])"
      ]
     },
     "execution_count": 99,
     "metadata": {},
     "output_type": "execute_result"
    }
   ],
   "source": [
    "import random,numpy as np\n",
    "res = np.random.randint(0,20,size = 10)\n",
    "res"
   ]
  },
  {
   "cell_type": "code",
   "execution_count": 5,
   "metadata": {},
   "outputs": [
    {
     "data": {
      "text/plain": [
       "[1, 5, 12, 16, 21, 22, 23, 32, 38, 41, 43, 50, 64, 68, 73, 90, 93, 94, 99]"
      ]
     },
     "execution_count": 5,
     "metadata": {},
     "output_type": "execute_result"
    }
   ],
   "source": [
    "# 快排（这种更佳）  https://leetcode-cn.com/problems/sort-an-array/solution/python-shi-xian-de-shi-da-jing-dian-pai-xu-suan-fa/\n",
    "#  意思还是一致的，要么两个互换（a,b = b,a），要么都分开换(a = b, b =a)\n",
    "# 因为有互换的存在，造成了不稳定       平均、最好时间nlogn  最坏n2        空间logn\n",
    "def quick_sort(nums):\n",
    "    n = len(nums)\n",
    "\n",
    "    def quick(left, right):\n",
    "        if left >= right:\n",
    "            return nums\n",
    "        pivot = left  #这种情况下必须只是索引，不能是值，否则报错\n",
    "        i = left\n",
    "        j = right\n",
    "        while i < j:\n",
    "            while i < j and nums[j] > nums[pivot]: # 这里是大于，没有等于；不过取等应该也可\n",
    "                j -= 1\n",
    "            while i < j and nums[i] <= nums[pivot]:\n",
    "                i += 1\n",
    "            nums[i], nums[j] = nums[j], nums[i] #可以相互交换，这样可读性更好\n",
    "        \n",
    "        # while不断循环，最后i=j退出，此时最后把pivot放在 i/j 所在的位置\n",
    "        nums[pivot], nums[j] = nums[j], nums[pivot] #另一行也是互换\n",
    "        quick(left, j - 1)\n",
    "        quick(j + 1, right)\n",
    "#         print(i,j,left,right)\n",
    "        return nums\n",
    "\n",
    "    return quick(0, n - 1)\n",
    "quick_sort(arr)"
   ]
  },
  {
   "cell_type": "code",
   "execution_count": 64,
   "metadata": {},
   "outputs": [
    {
     "data": {
      "text/plain": [
       "[1, 2, 4, 4]"
      ]
     },
     "execution_count": 64,
     "metadata": {},
     "output_type": "execute_result"
    }
   ],
   "source": [
    "# 这个没有体现快排的思想\n",
    "def quick_sort(arr):\n",
    "    if len(arr) <= 1:\n",
    "        return arr\n",
    "    pivot = arr[0] # int\n",
    "    smaller = [_ for _ in arr[1:] if _ <= pivot]\n",
    "    bigger = [_ for _ in arr[1:] if _ >= pivot]\n",
    "    return quick_sort(smaller) + [pivot] + quick_sort(bigger)\n",
    "arr = [1,2,54,87,332,4,5,4]"
   ]
  },
  {
   "cell_type": "code",
   "execution_count": null,
   "metadata": {},
   "outputs": [],
   "source": []
  }
 ],
 "metadata": {
  "kernelspec": {
   "display_name": "Python 3",
   "language": "python",
   "name": "python3"
  },
  "language_info": {
   "codemirror_mode": {
    "name": "ipython",
    "version": 3
   },
   "file_extension": ".py",
   "mimetype": "text/x-python",
   "name": "python",
   "nbconvert_exporter": "python",
   "pygments_lexer": "ipython3",
   "version": "3.6.6"
  }
 },
 "nbformat": 4,
 "nbformat_minor": 4
}
