{
 "cells": [
  {
   "cell_type": "code",
   "execution_count": 1,
   "metadata": {},
   "outputs": [
    {
     "data": {
      "text/plain": [
       "array([ 3,  7,  8, 15,  4,  4, 10, 10, 16, 14])"
      ]
     },
     "execution_count": 1,
     "metadata": {},
     "output_type": "execute_result"
    }
   ],
   "source": [
    "import numpy as np\n",
    "arr = np.random.randint(0,20,size = 10) #0-20 内的数随机，一共有10个\n",
    "arr\n",
    "\n",
    "# from random import shuffle\n",
    "# shuffle(nums) # 打乱操作，没有返回，在原函数上操作"
   ]
  },
  {
   "cell_type": "code",
   "execution_count": 2,
   "metadata": {},
   "outputs": [
    {
     "data": {
      "text/plain": [
       "array([ 3,  4,  4,  7,  8, 10, 10, 14, 15, 16])"
      ]
     },
     "execution_count": 2,
     "metadata": {},
     "output_type": "execute_result"
    }
   ],
   "source": [
    "# 快排（这种更佳）  https://leetcode-cn.com/problems/sort-an-array/solution/python-shi-xian-de-shi-da-jing-dian-pai-xu-suan-fa/\n",
    "#  意思还是一致的，要么两个互换（a,b = b,a），要么都分开换(a = b, b =a)\n",
    "# 因为有互换的存在，造成了不稳定       平均、最好时间nlogn  最坏n2        空间logn\n",
    "def quick_sort(nums):\n",
    "    n = len(nums)\n",
    "\n",
    "    def quick(left, right):\n",
    "        # 添加退出条件\n",
    "        if left >= right: # 这里等不等都可以，但是要添加这个终止条件\n",
    "            return nums\n",
    "        \n",
    "        # 随机pivot，防止超时\n",
    "        import random\n",
    "        t = random.randint(left, right)\n",
    "        nums[t],nums[right] = nums[right],nums[t]\n",
    "        \n",
    "        pivot = left  #这种情况下必须只是索引，不能是值，否则报错-----超时的话更换pivot\n",
    "        i = left\n",
    "        j = right\n",
    "        \n",
    "        # i=j 时退出循环\n",
    "        while i < j:\n",
    "            # 找到j<pivot的时候，退出，所以while里是 >=\n",
    "            while i < j and nums[j] >= nums[pivot]: # 有且只有 j >= ，否则结果不对\n",
    "                j -= 1\n",
    "            # 找到i>pivot的时候，退出，所以while里是 <\n",
    "            while i < j and nums[i] < nums[pivot]:\n",
    "                i += 1\n",
    "            nums[i], nums[j] = nums[j], nums[i] #可以相互交换，这样可读性更好\n",
    "        \n",
    "        # while不断循环，最后i=j退出，此时最后把pivot放在 i/j 所在的位置\n",
    "        nums[pivot], nums[j] = nums[j], nums[pivot] #另一行也是互换\n",
    "        quick(left, j - 1)\n",
    "        quick(j + 1, right)\n",
    "        # print(i,j,left,right)\n",
    "        return nums\n",
    "\n",
    "    return quick(0, n - 1)\n",
    "quick_sort(arr)"
   ]
  },
  {
   "cell_type": "code",
   "execution_count": null,
   "metadata": {},
   "outputs": [],
   "source": [
    "# 快排优化版加随机数 https://blog.csdn.net/LisonZhao/article/details/107326375 没有任何注解\n",
    "import random\n",
    "def quick_sort(arr, start, end):\n",
    "    if start < end:\n",
    "        p = partition(arr, start, end)\n",
    "        quick_sort(arr, start, p-1)\n",
    "        quick_sort(arr, p+1, end)\n",
    "\n",
    "def partition(arr, start, end):\n",
    "    t = random.randint(start, end) \n",
    "    arr[t], arr[end] = arr[end], arr[t]\n",
    "    i = start - 1\n",
    "    pivot = arr[end]\n",
    "    for j in range(start, end):\n",
    "        if arr[j]< pivot:\n",
    "            i +=1\n",
    "            arr[i],arr[j] = arr[j],arr[i]\n",
    "    arr[end] = arr[i+1]\n",
    "    arr[i+1] = pivot\n",
    "    return i+1\n",
    "\n",
    "# 另一种写法的快排，以及对应的优化\n",
    "# https://zhuanlan.zhihu.com/p/142391758"
   ]
  },
  {
   "cell_type": "code",
   "execution_count": 64,
   "metadata": {},
   "outputs": [
    {
     "data": {
      "text/plain": [
       "[1, 2, 4, 4]"
      ]
     },
     "execution_count": 64,
     "metadata": {},
     "output_type": "execute_result"
    }
   ],
   "source": [
    "# 这个没有体现快排的思想\n",
    "def quick_sort(arr):\n",
    "    if len(arr) <= 1:\n",
    "        return arr\n",
    "    pivot = arr[0] # int\n",
    "    smaller = [_ for _ in arr[1:] if _ <= pivot]\n",
    "    bigger = [_ for _ in arr[1:] if _ >= pivot]\n",
    "    return quick_sort(smaller) + [pivot] + quick_sort(bigger)\n",
    "arr = [1,2,54,87,332,4,5,4]"
   ]
  },
  {
   "cell_type": "code",
   "execution_count": 9,
   "metadata": {},
   "outputs": [
    {
     "data": {
      "text/plain": [
       "[332, 87, 54, 5, 4, 4, 2, 1]"
      ]
     },
     "execution_count": 9,
     "metadata": {},
     "output_type": "execute_result"
    }
   ],
   "source": [
    "def quick_sort(nums):\n",
    "\tn = len(nums)\n",
    "\n",
    "\tdef quick(left,right):\n",
    "\t\tif left >= right: # 这里记得选上等号\n",
    "\t\t\treturn nums\n",
    "\n",
    "\t\tpivot = left\n",
    "\t\ti = left\n",
    "\t\tj = right\n",
    "\t\twhile i < j:\n",
    "\t\t\twhile i < j and nums[i] > nums[pivot]: # 反了好像，就是降序排列了，\n",
    "\t\t\t\ti += 1\n",
    "\t\t\twhile i < j and nums[j] <= nums[pivot]: # 但依然 有且仅且 必须是 后面的j <= \n",
    "\t\t\t\tj -= 1\n",
    "\t\t\tnums[i],nums[j] = nums[j],nums[i]\n",
    "\n",
    "\t\tnums[i],nums[pivot] = nums[pivot],nums[i]\n",
    "\t\t\n",
    "\t\tquick(left,i-1)\n",
    "\t\tquick(i+1,right)\n",
    "\n",
    "\t\treturn nums\n",
    "\n",
    "\treturn quick(0,n-1)\n",
    "arr = [1,2,54,87,332,4,5,4]\n",
    "quick_sort(arr)"
   ]
  },
  {
   "cell_type": "code",
   "execution_count": null,
   "metadata": {},
   "outputs": [],
   "source": []
  }
 ],
 "metadata": {
  "kernelspec": {
   "display_name": "Python 3",
   "language": "python",
   "name": "python3"
  },
  "language_info": {
   "codemirror_mode": {
    "name": "ipython",
    "version": 3
   },
   "file_extension": ".py",
   "mimetype": "text/x-python",
   "name": "python",
   "nbconvert_exporter": "python",
   "pygments_lexer": "ipython3",
   "version": "3.6.6"
  }
 },
 "nbformat": 4,
 "nbformat_minor": 4
}
