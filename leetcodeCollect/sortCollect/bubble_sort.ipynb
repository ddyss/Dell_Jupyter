{
 "cells": [
  {
   "cell_type": "code",
   "execution_count": 7,
   "metadata": {},
   "outputs": [],
   "source": [
    "import random,numpy as np\n",
    "res = np.random.randint(-20,20,size = 50)\n",
    "\n",
    "# from random import shuffle\n",
    "# shuffle(nums) # 没有返回，在原函数上操作\n",
    "# print(nums)\n",
    "\n",
    "# res = [38, 21, 64, 41, 93, 90, 50, 99, 94, 22, 68, 1, 16, 32, 12, 43, 5, 73, 23]"
   ]
  },
  {
   "cell_type": "code",
   "execution_count": 8,
   "metadata": {},
   "outputs": [],
   "source": [
    "# 看来 选择、冒泡、插入排序 都容易超时，它们的平均复杂度都是o（n2）"
   ]
  },
  {
   "cell_type": "code",
   "execution_count": 9,
   "metadata": {},
   "outputs": [
    {
     "name": "stdout",
     "output_type": "stream",
     "text": [
      "629\n",
      "[-20 -19 -19 -18 -18 -17 -16 -16 -15 -13 -13 -12 -11 -10 -10 -10 -10  -9\n",
      "  -8  -8  -8  -6  -6  -5  -5  -5  -5  -5  -4  -2  -2  -2   0   0   1   3\n",
      "   4   4   5   7   8   8   9  11  14  14  14  14  15  18]\n"
     ]
    }
   ],
   "source": [
    "# 冒泡排序   1,n-i   j 和 j-1 互换\n",
    "# 面试题 17.14. 最小K个数  同样超时了\n",
    "def bubble_sort(nums):\n",
    "    n = len(nums)\n",
    "    count = 0\n",
    "    for i in range(n):\n",
    "        for j in range(1,n-i): #冒泡，最大值放到最后面，第二大的值放在倒数第二个\n",
    "            if nums[j-1] > nums[j]:\n",
    "                nums[j-1],nums[j] = nums[j],nums[j-1]\n",
    "            else:\n",
    "                continue  #优化  171 减少到 101\n",
    "            count += 1\n",
    "    print(count)\n",
    "    return nums\n",
    "\n",
    "print(bubble_sort(res))\n"
   ]
  },
  {
   "cell_type": "code",
   "execution_count": 32,
   "metadata": {},
   "outputs": [
    {
     "data": {
      "text/plain": [
       "'bob'"
      ]
     },
     "execution_count": 32,
     "metadata": {},
     "output_type": "execute_result"
    }
   ],
   "source": [
    "# 选择排序    i 和 j 互换\n",
    "# 面试题 17.14. 最小K个数  同样超时了\n",
    "def selection_sort(nums):\n",
    "    n = len(nums)\n",
    "    count = 0\n",
    "    for i in range(n):\n",
    "        for j in range(i+1,n): #这属于反向冒泡排序，（选择排序selection sort）把最小值放到最前面，然后第二小的值放在第二个，类推\n",
    "            if nums[i] > nums[j]:\n",
    "                nums[i],nums[j] = nums[j],nums[i]\n",
    "            else:\n",
    "                continue     #优化  171 减少到 101\n",
    "\n",
    "            count += 1\n",
    "    print(count)\n",
    "    return nums\n",
    "print(selection_sort(res))\n"
   ]
  }
 ],
 "metadata": {
  "kernelspec": {
   "display_name": "Python 3",
   "language": "python",
   "name": "python3"
  },
  "language_info": {
   "codemirror_mode": {
    "name": "ipython",
    "version": 3
   },
   "file_extension": ".py",
   "mimetype": "text/x-python",
   "name": "python",
   "nbconvert_exporter": "python",
   "pygments_lexer": "ipython3",
   "version": "3.6.6"
  }
 },
 "nbformat": 4,
 "nbformat_minor": 4
}
