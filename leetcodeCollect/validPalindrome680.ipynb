{
 "cells": [
  {
   "cell_type": "code",
   "execution_count": null,
   "metadata": {},
   "outputs": [],
   "source": [
    "# LeetCode 680 验证回文字符串\n",
    "# 你最多删除一个字符，判断是否为回文字符串\n",
    "\n",
    "class Solution:\n",
    "    def validPalindrome(self, s: str) -> bool:\n",
    "        n = len(s)\n",
    "        left = 0\n",
    "        right = n-1\n",
    "        \n",
    "        while left < right:\n",
    "            if s[left] == s[right]:\n",
    "                left += 1\n",
    "                right -= 1\n",
    "            else:\n",
    "                # 当出现不等的时候，删除左边或者右边，看看结果是否返回True\n",
    "                return self.isPalindrome(s,left,right-1) or self.isPalindrome(s,left + 1,right)\n",
    "        return True\n",
    "    \n",
    "    # 定义一个判断函数，方便调用\n",
    "    def isPalindrome(self,s,left,right):\n",
    "        while left < right:\n",
    "            if s[left] == s[right]:\n",
    "                left += 1\n",
    "                right -= 1\n",
    "            else:\n",
    "                return False\n",
    "        return True"
   ]
  }
 ],
 "metadata": {
  "kernelspec": {
   "display_name": "Python 3",
   "language": "python",
   "name": "python3"
  },
  "language_info": {
   "codemirror_mode": {
    "name": "ipython",
    "version": 3
   },
   "file_extension": ".py",
   "mimetype": "text/x-python",
   "name": "python",
   "nbconvert_exporter": "python",
   "pygments_lexer": "ipython3",
   "version": "3.6.6"
  }
 },
 "nbformat": 4,
 "nbformat_minor": 4
}
