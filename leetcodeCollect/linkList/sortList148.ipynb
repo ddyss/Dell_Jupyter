{
 "cells": [
  {
   "cell_type": "code",
   "execution_count": null,
   "metadata": {},
   "outputs": [],
   "source": [
    "# Definition for singly-linked list.\n",
    "# class ListNode:\n",
    "#     def __init__(self, val=0, next=None):\n",
    "#         self.val = val\n",
    "#         self.next = next\n",
    "\n",
    "# https://leetcode-cn.com/problems/sort-list/solution/sort-list-gui-bing-pai-xu-lian-biao-by-jyd/\n",
    "# LeetCode 148 单链表排序\n",
    "class Solution:\n",
    "    def sortList(self, head: ListNode) -> ListNode:\n",
    "        if not head or not head.next:\n",
    "            return head\n",
    "        \n",
    "        # cut the LinkedList at the mid index. 创建快慢指针\n",
    "        slow, fast = head, head.next\n",
    "        \n",
    "        while fast and fast.next:\n",
    "            fast, slow = fast.next.next, slow.next\n",
    "           \n",
    "        # mid暂存右边表头\n",
    "        mid = slow.next\n",
    "        \n",
    "        # slow.next 设置为None，来实现裁剪\n",
    "        slow.next = None\n",
    "        \n",
    "        # mid, slow.next = slow.next, None # save and cut.\n",
    "        \n",
    "        # recursive for cutting. 分别指向两端链表的头部\n",
    "        left, right = self.sortList(head), self.sortList(mid)# 指向head 和 mid\n",
    "        \n",
    "        # merge `left` and `right` linked list and return it.创建一个0节点，开始往后面添加\n",
    "        h = res = ListNode(0)\n",
    "        \n",
    "        # 跳出循环条件 left 和 right 都不存在，没发比较两个val，用的and\n",
    "        while left and right:\n",
    "            # 两段链表的表头值对比，依次交叉接上去\n",
    "            # 每次加一个后，left right 都往后挪一下\n",
    "            if left.val < right.val: \n",
    "                h.next, left = left, left.next\n",
    "            else: \n",
    "                h.next, right = right, right.next\n",
    "            \n",
    "            # 每次加一个后，h往后挪一下\n",
    "            h = h.next\n",
    "        \n",
    "        # 最后，如果存在落单的，就把它加上去\n",
    "        h.next = left if left else right\n",
    "        \n",
    "        # 不能返回h.next，因为此时h.next已经移动到最后一个位置了，需要返回res.next才是整个链表\n",
    "        return res.next\n",
    "\n",
    "\n"
   ]
  }
 ],
 "metadata": {
  "kernelspec": {
   "display_name": "Python 3",
   "language": "python",
   "name": "python3"
  },
  "language_info": {
   "codemirror_mode": {
    "name": "ipython",
    "version": 3
   },
   "file_extension": ".py",
   "mimetype": "text/x-python",
   "name": "python",
   "nbconvert_exporter": "python",
   "pygments_lexer": "ipython3",
   "version": "3.6.6"
  }
 },
 "nbformat": 4,
 "nbformat_minor": 4
}
