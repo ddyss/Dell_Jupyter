{
 "cells": [
  {
   "cell_type": "code",
   "execution_count": null,
   "metadata": {},
   "outputs": [],
   "source": [
    "# LeetCode 142  找环链表的入口位置   双指针法    类似的： 寻找距离尾部第K个节点、寻找环入口、寻找公共尾部入口等。\n",
    "# https://leetcode-cn.com/problems/linked-list-cycle-ii/solution/linked-list-cycle-ii-kuai-man-zhi-zhen-shuang-zhi-/\n",
    "# 时间复杂度 O(N)    空间复杂度 O(1) ：双指针使用常数大小的额外空间。\n",
    "\n",
    "class Solution:\n",
    "    def detectCycle(self, head: ListNode) -> ListNode:\n",
    "        slow,fast = head,head\n",
    "\n",
    "        # 第一次相遇\n",
    "        while True:\n",
    "            if not fast or not fast.next:\n",
    "                return\n",
    "            slow = slow.next\n",
    "            fast = fast.next.next\n",
    "            if slow == fast:    \n",
    "                break    \n",
    "        \n",
    "        # 把快指针放到表头，第二次相遇时，即为环的入口\n",
    "        slow2 = slow\n",
    "        fast2 = head\n",
    "\n",
    "        while fast2 != slow2:  # 判断 fast2 != slow2 \n",
    "            slow2 = slow2.next\n",
    "            fast2 = fast2.next\n",
    "        return slow2 # 放在外面返回，因为可能第一次相遇就直接是环入口了，这样如果继续执行第二次循环，反而会出错。----------所以第二次while条件改为判断 指针 不等于时。\n"
   ]
  }
 ],
 "metadata": {
  "kernelspec": {
   "display_name": "Python 3",
   "language": "python",
   "name": "python3"
  },
  "language_info": {
   "codemirror_mode": {
    "name": "ipython",
    "version": 3
   },
   "file_extension": ".py",
   "mimetype": "text/x-python",
   "name": "python",
   "nbconvert_exporter": "python",
   "pygments_lexer": "ipython3",
   "version": "3.6.6"
  }
 },
 "nbformat": 4,
 "nbformat_minor": 4
}
