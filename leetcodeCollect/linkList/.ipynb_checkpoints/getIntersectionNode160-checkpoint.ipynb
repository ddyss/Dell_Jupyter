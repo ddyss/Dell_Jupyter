{
 "cells": [
  {
   "cell_type": "code",
   "execution_count": null,
   "metadata": {},
   "outputs": [],
   "source": [
    "# 定义节点 https://zhuanlan.zhihu.com/p/60057180\n",
    "class ListNode:\n",
    "    def __init__(self,x):\n",
    "        self.x = val\n",
    "        self.next = None"
   ]
  },
  {
   "cell_type": "code",
   "execution_count": null,
   "metadata": {},
   "outputs": [],
   "source": [
    "# 链表需要具有首地址指针head。\n",
    "\n",
    "class SingleLinkList(object):\n",
    "    \"\"\"定义单链表\"\"\"\n",
    "\n",
    "    def __init__(self):\n",
    "        self._head = None"
   ]
  },
  {
   "cell_type": "code",
   "execution_count": null,
   "metadata": {},
   "outputs": [],
   "source": [
    "# 160 相交链表\n",
    "# 双指针法：走完后，走对方的，如果相交，交点即为相交\n",
    "class Solution:\n",
    "    def getIntersectionNode(self,haedA,headB):\n",
    "        # 初始表头\n",
    "        ha, hb = headA, headB\n",
    "        \n",
    "        # 直到相交退出\n",
    "        while ha != hb:\n",
    "            # 遍历headA，遍历完了之后，遍历headB\n",
    "            ha = ha.next if ha else headB\n",
    "            # 遍历headB，遍历完了之后，遍历headA\n",
    "            hb = hb.next if hb else headA\n",
    "        return ha"
   ]
  }
 ],
 "metadata": {
  "kernelspec": {
   "display_name": "Python 3",
   "language": "python",
   "name": "python3"
  },
  "language_info": {
   "codemirror_mode": {
    "name": "ipython",
    "version": 3
   },
   "file_extension": ".py",
   "mimetype": "text/x-python",
   "name": "python",
   "nbconvert_exporter": "python",
   "pygments_lexer": "ipython3",
   "version": "3.6.6"
  }
 },
 "nbformat": 4,
 "nbformat_minor": 4
}
