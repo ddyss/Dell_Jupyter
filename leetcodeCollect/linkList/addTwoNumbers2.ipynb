{
 "cells": [
  {
   "cell_type": "code",
   "execution_count": null,
   "metadata": {},
   "outputs": [],
   "source": [
    "# LeetCode 2  两数相加，链表逆序相加，并且会进位 \n",
    "# 时间复杂度：O(max(m,n))   空间复杂度：O(max(m,n))             参照的字符串相加的解题思路 415\n",
    "\n",
    "class Solution:\n",
    "    def addTwoNumbers(self, l1: ListNode, l2: ListNode) -> ListNode:\n",
    "        def funclen(l):\n",
    "            cur = l\n",
    "            count = 0\n",
    "            while cur:\n",
    "                count += 1\n",
    "                cur = cur.next\n",
    "            return count\n",
    "\n",
    "        len1 = funclen(l1) - 1\n",
    "        len2 = funclen(l2) - 1\n",
    "\n",
    "        h = res = ListNode(0)\n",
    "\n",
    "        carry = 0\n",
    "        while len1 >= 0 or len2 >= 0:\n",
    "            left = l1 if len1 >= 0 else ListNode(0)\n",
    "            right = l2 if len2 >= 0 else ListNode(0)\n",
    "            l1 = l1.next if l1.next else ListNode(0)  #改为 if l1 else ListNode(0) 依然正确；与下面的只改其中一个也可以正确，但是下面解法.next就不能去掉\n",
    "            l2 = l2.next if l2.next else ListNode(0)  #改为 if l2 else ListNode(0) 依然正确\n",
    "            tmp = left.val + right.val + carry\n",
    "            carry = tmp//10\n",
    "            h.next = ListNode(tmp%10)\n",
    "            h = h.next\n",
    "            len1 -= 1\n",
    "            len2 -= 1\n",
    "        \n",
    "        if carry:\n",
    "            h.next = ListNode(carry)\n",
    "        return res.next"
   ]
  },
  {
   "cell_type": "code",
   "execution_count": null,
   "metadata": {},
   "outputs": [],
   "source": [
    "class Solution:\n",
    "    def addTwoNumbers(self, l1: ListNode, l2: ListNode) -> ListNode:\n",
    "        def dfs(l,r,i):\n",
    "            # l、r、i 同时都不存在的时候，退出\n",
    "            if not l and not r and not i:\n",
    "                return None\n",
    "            # 任何一个存在，都继续执行      #重点 l.val if l else 0\n",
    "            s = (l.val if l else 0) + (r.val if r else 0) + i\n",
    "            node = ListNode(s % 10)\n",
    "            node.next = dfs((l.next if l else None), (r.next if r else None), s//10)      #重点  l.next if l else None  但是这个.next就不能去掉\n",
    "            return node\n",
    "        # 赋上进位初始值，i=0\n",
    "        return dfs(l1,l2,0)"
   ]
  }
 ],
 "metadata": {
  "kernelspec": {
   "display_name": "Python 3",
   "language": "python",
   "name": "python3"
  },
  "language_info": {
   "codemirror_mode": {
    "name": "ipython",
    "version": 3
   },
   "file_extension": ".py",
   "mimetype": "text/x-python",
   "name": "python",
   "nbconvert_exporter": "python",
   "pygments_lexer": "ipython3",
   "version": "3.6.6"
  }
 },
 "nbformat": 4,
 "nbformat_minor": 4
}
