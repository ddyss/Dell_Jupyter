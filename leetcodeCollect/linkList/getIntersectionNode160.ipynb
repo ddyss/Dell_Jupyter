{
 "cells": [
  {
   "cell_type": "code",
   "execution_count": null,
   "metadata": {},
   "outputs": [],
   "source": [
    "# 160 相交链表\n",
    "# 双指针法：走完后，走对方的，如果相交，交点即为相交\n",
    "class Solution:\n",
    "    def getIntersectionNode(self,haedA,headB):\n",
    "        # 初始表头\n",
    "        ha, hb = headA, headB\n",
    "        \n",
    "        # 直到相交退出\n",
    "        while ha != hb:\n",
    "            # 遍历headA，遍历完了之后，遍历headB\n",
    "            ha = ha.next if ha else headB\n",
    "            # 遍历headB，遍历完了之后，遍历headA\n",
    "            hb = hb.next if hb else headA\n",
    "        return ha # return ha #不存在交点时，ha也就为none，返回的也是none"
   ]
  },
  {
   "cell_type": "code",
   "execution_count": null,
   "metadata": {},
   "outputs": [],
   "source": [
    "class Solution:\n",
    "    def getIntersectionNode(self, headA: ListNode, headB: ListNode) -> ListNode:\n",
    "        def length(L):\n",
    "            n = 0\n",
    "            while L:\n",
    "                n += 1;L = L.next\n",
    "            return n\n",
    "        len1 = length(headA)\n",
    "        len2 = length(headB)\n",
    "        \n",
    "        if len1 > len2:\n",
    "            headA,headB = headB,headA\n",
    "\n",
    "        # 让长的先走 ‘差值’ 步\n",
    "        for _ in range(abs(len1-len2)):\n",
    "            headB = headB.next\n",
    "            \n",
    "        # 当两者相等时，即为交点\n",
    "        while headA != headB:\n",
    "            headA,headB = headA.next,headB.next\n",
    "        return headA"
   ]
  }
 ],
 "metadata": {
  "kernelspec": {
   "display_name": "Python 3",
   "language": "python",
   "name": "python3"
  },
  "language_info": {
   "codemirror_mode": {
    "name": "ipython",
    "version": 3
   },
   "file_extension": ".py",
   "mimetype": "text/x-python",
   "name": "python",
   "nbconvert_exporter": "python",
   "pygments_lexer": "ipython3",
   "version": "3.6.6"
  }
 },
 "nbformat": 4,
 "nbformat_minor": 4
}
