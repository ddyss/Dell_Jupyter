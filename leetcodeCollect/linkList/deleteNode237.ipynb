{
 "cells": [
  {
   "cell_type": "code",
   "execution_count": null,
   "metadata": {},
   "outputs": [],
   "source": [
    "# LeetCode 237 删除指定节点    只有一个\n",
    "\n",
    "# https://leetcode-cn.com/problems/delete-node-in-a-linked-list/solution/tu-jie-shan-chu-lian-biao-zhong-de-jie-dian-python/\n",
    "class Solution:\n",
    "    def deleteNode(self, node):\n",
    "        # 把node下一个节点的值赋值给node\n",
    "        node.val = node.next.val\n",
    "        \n",
    "        # 再把下一个节点删掉，这样实现删除，原本真正的node并没有删掉\n",
    "        node.next = node.next.next"
   ]
  }
 ],
 "metadata": {
  "kernelspec": {
   "display_name": "Python 3",
   "language": "python",
   "name": "python3"
  },
  "language_info": {
   "codemirror_mode": {
    "name": "ipython",
    "version": 3
   },
   "file_extension": ".py",
   "mimetype": "text/x-python",
   "name": "python",
   "nbconvert_exporter": "python",
   "pygments_lexer": "ipython3",
   "version": "3.6.6"
  }
 },
 "nbformat": 4,
 "nbformat_minor": 4
}
