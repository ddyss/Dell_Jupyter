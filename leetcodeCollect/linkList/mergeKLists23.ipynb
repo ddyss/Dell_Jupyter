{
 "cells": [
  {
   "cell_type": "code",
   "execution_count": null,
   "metadata": {},
   "outputs": [],
   "source": [
    "# LeetCode 23，合并前k个链表\n",
    "class Solution:\n",
    "    def mergeKLists(self, lists: List[ListNode]) -> ListNode:\n",
    "        n = len(lists)   #  print(n) # 3\n",
    "        # print(lists[0]) #ListNode{val: 1, next: ListNode{val: 4, next: ListNode{val: 5, next: None}}}\n",
    "        \n",
    "        if not lists:\n",
    "            return\n",
    "        if n == 1:\n",
    "            return lists[0]\n",
    "\n",
    "        def merge2Lists(l1,l2):\n",
    "            if not l1:\n",
    "                return l2\n",
    "            if not l2:\n",
    "                return l1\n",
    "            h = res = ListNode(0)\n",
    "            while l1 and l2:\n",
    "                if l1.val < l2.val:\n",
    "                    res.next = l1\n",
    "                    l1 = l1.next\n",
    "                else:\n",
    "                    res.next = l2\n",
    "                    l2 = l2.next\n",
    "                res = res.next\n",
    "            res.next = l1 if l1 else l2\n",
    "            return h.next\n",
    "\n",
    "        # 两两合并，倒序替换，全都合并到lists[0]上，最后返回lists[0]即可\n",
    "        while n>=2:\n",
    "            lists[n-2] = merge2Lists(lists[n-1],lists[n-2])\n",
    "            n -= 1\n",
    "        return lists[0]"
   ]
  }
 ],
 "metadata": {
  "kernelspec": {
   "display_name": "Python 3",
   "language": "python",
   "name": "python3"
  },
  "language_info": {
   "codemirror_mode": {
    "name": "ipython",
    "version": 3
   },
   "file_extension": ".py",
   "mimetype": "text/x-python",
   "name": "python",
   "nbconvert_exporter": "python",
   "pygments_lexer": "ipython3",
   "version": "3.6.6"
  }
 },
 "nbformat": 4,
 "nbformat_minor": 4
}
