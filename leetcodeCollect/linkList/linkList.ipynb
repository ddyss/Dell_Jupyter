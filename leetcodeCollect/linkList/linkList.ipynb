{
 "cells": [
  {
   "cell_type": "code",
   "execution_count": null,
   "metadata": {},
   "outputs": [],
   "source": [
    "# https://zhuanlan.zhihu.com/p/60057180\n",
    "class ListNode:\n",
    "    def __init__(self,x):\n",
    "        self.val = x\n",
    "        self.next = None\n",
    "\n",
    "# 链表需要有首指针head        \n",
    "class SingleLinkList(object):\n",
    "    \"\"\"单链表\"\"\"\n",
    "\n",
    "    def __init__(self):\n",
    "        self._head = None\n",
    "        \n",
    "        \n",
    "if __name__ == '__main__':\n",
    "    # 创建链表\n",
    "    link_list = SingleLinkList()\n",
    "    # 创建节点\n",
    "    a = ListNode(1)\n",
    "    b = ListNode(3)\n",
    "    c = ListNode(11)\n",
    "    d = ListNode(10)\n",
    "    e = ListNode(6)\n",
    "\n",
    "    # 将节点添加到链表\n",
    "    link_list._head = a\n",
    "    \n",
    "    a.next = b\n",
    "    b.next = c\n",
    "    c.next = d\n",
    "    d.next = e\n",
    "    \n",
    "    print(link_list._head.val)\n",
    "    print(link_list._head.next.val)"
   ]
  }
 ],
 "metadata": {
  "kernelspec": {
   "display_name": "Python 3",
   "language": "python",
   "name": "python3"
  },
  "language_info": {
   "codemirror_mode": {
    "name": "ipython",
    "version": 3
   },
   "file_extension": ".py",
   "mimetype": "text/x-python",
   "name": "python",
   "nbconvert_exporter": "python",
   "pygments_lexer": "ipython3",
   "version": "3.6.6"
  }
 },
 "nbformat": 4,
 "nbformat_minor": 4
}
