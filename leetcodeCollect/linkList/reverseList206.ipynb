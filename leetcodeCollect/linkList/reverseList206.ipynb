{
 "cells": [
  {
   "cell_type": "code",
   "execution_count": 1,
   "metadata": {},
   "outputs": [],
   "source": [
    "# 迭代法 # https://leetcode-cn.com/problems/reverse-linked-list/solution/\n",
    "# dong-hua-yan-shi-206-fan-zhuan-lian-biao-by-user74/\n",
    "class Solution:\n",
    "    def reverseList(self,head):\n",
    "        if not head or not head.next:\n",
    "            return head\n",
    "        cur , pre = head, None\n",
    "        while cur:\n",
    "            \n",
    "            # 记录当前节点的下一个节点\n",
    "            tmp = cur.next\n",
    "            # 每次迭代到cur，都将cur.next指向pre；然后将pre和cur都后移一位***************************\n",
    "            cur.next = pre\n",
    "            # pre和cur节点都前进一位\n",
    "            pre = cur\n",
    "            cur = tmp\n",
    "            \n",
    "            # cur.next,pre,cur = pre,cur,cur.next\n",
    "        \n",
    "        # 最后返回pre\n",
    "        return pre"
   ]
  },
  {
   "cell_type": "code",
   "execution_count": null,
   "metadata": {},
   "outputs": [],
   "source": [
    "# 递归法 使用递归找到最后一个节点，然后出栈过程中调整节点的指向。\n",
    "# 这和剑指06  倒序打印链表是不一样的\n",
    "class Solution:\n",
    "    def reverseList(self, head: ListNode) -> ListNode:\n",
    "        if not head or head.next == None: \n",
    "            return head\n",
    "        \n",
    "        res = self.reverseList(head.next)\n",
    "        head.next.next = head\n",
    "        # 指针必须截断，防止链表成环，所以指向None\n",
    "        head.next = None\n",
    "        \n",
    "        # 最后返回res\n",
    "        return res\n",
    "\n",
    "# https://leetcode-cn.com/problems/reverse-linked-list/solution/pythonliang-chong-jie-fa-die-dai-di-gui-by-calvin-/\n",
    "\n",
    "# https://leetcode-cn.com/problems/reverse-linked-list/solution/fan-zhuan-lian-biao-by-leetcode/\n",
    "# 解析：假设链表是[1, 2, 3, 4, 5]从最底层最后一个reverseList(5)来看\n",
    "# 返回了5这个节点\n",
    "# reverseList(4)中\n",
    "# p为5\n",
    "# head.next.next = head 相当于 5 -> 4\n",
    "# 现在节点情况为 4 -> 5 -> 4\n",
    "# head.next = null,切断4 -> 5 这一条，现在只有 5 -> 4\n",
    "# 返回（return）p为5，5 -> 4\n",
    "# 返回上一层reverseList(3)\n",
    "# 处理完后返回的是4 -> 3\n",
    "# 依次向上"
   ]
  }
 ],
 "metadata": {
  "kernelspec": {
   "display_name": "Python 3",
   "language": "python",
   "name": "python3"
  },
  "language_info": {
   "codemirror_mode": {
    "name": "ipython",
    "version": 3
   },
   "file_extension": ".py",
   "mimetype": "text/x-python",
   "name": "python",
   "nbconvert_exporter": "python",
   "pygments_lexer": "ipython3",
   "version": "3.6.6"
  }
 },
 "nbformat": 4,
 "nbformat_minor": 4
}
