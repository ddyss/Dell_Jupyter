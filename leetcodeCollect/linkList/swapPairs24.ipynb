{
 "cells": [
  {
   "cell_type": "code",
   "execution_count": null,
   "metadata": {},
   "outputs": [],
   "source": [
    "# LeetCode 24   链表节点 两两交换\n",
    "# https://leetcode-cn.com/problems/swap-nodes-in-pairs/solution/liang-liang-jiao-huan-lian-biao-zhong-de-jie-di-91/\n",
    "# 时间复杂度：O(n)   空间复杂度：O(n)\n",
    "class Solution:\n",
    "    def swapPairs(self, head: ListNode) -> ListNode:\n",
    "        if not head or not head.next:\n",
    "            return head\n",
    "        \n",
    "        # 新的链表的头节点 = 原始链表的第二个节点\n",
    "        newHead = head.next     #---------------------------------------产生新链表的头节点\n",
    "        \n",
    "        # 链表中的其余节点 = 递归实现 两两交换\n",
    "        head.next = self.swapPairs(newHead.next)     #---------------------------------------中间的，新链表的后续只能放在self（里）\n",
    "        \n",
    "        # 新的链表的第二个节点 = 原始链表的头节点\n",
    "        newHead.next = head     #---------------------------------------产生新链表的第2节点\n",
    "        \n",
    "        return newHead\n"
   ]
  }
 ],
 "metadata": {
  "kernelspec": {
   "display_name": "Python 3",
   "language": "python",
   "name": "python3"
  },
  "language_info": {
   "codemirror_mode": {
    "name": "ipython",
    "version": 3
   },
   "file_extension": ".py",
   "mimetype": "text/x-python",
   "name": "python",
   "nbconvert_exporter": "python",
   "pygments_lexer": "ipython3",
   "version": "3.6.6"
  }
 },
 "nbformat": 4,
 "nbformat_minor": 4
}
