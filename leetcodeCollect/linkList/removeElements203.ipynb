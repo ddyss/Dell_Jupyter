{
 "cells": [
  {
   "cell_type": "code",
   "execution_count": null,
   "metadata": {},
   "outputs": [],
   "source": [
    "# LeetCode 203 移除等于target的节点   可能有多个    如果头节点值等于val，不好删除，所以添加一个头节点0，和19题类似\n",
    "\n",
    "class Solution:\n",
    "    def removeElements(self, head: ListNode, val: int) -> ListNode:\n",
    "        # 在链表前面加一个0节点，并把0节点指向head，组成一个新链表\n",
    "        dummy = ListNode(0)\n",
    "        dummy.next = head\n",
    "        res = dummy # 双指针\n",
    "        while head:\n",
    "            if head.val == val:\n",
    "                res.next = head.next\n",
    "                head = head.next\n",
    "            else:\n",
    "                res = res.next\n",
    "                head = head.next\n",
    "        return dummy.next"
   ]
  }
 ],
 "metadata": {
  "kernelspec": {
   "display_name": "Python 3",
   "language": "python",
   "name": "python3"
  },
  "language_info": {
   "codemirror_mode": {
    "name": "ipython",
    "version": 3
   },
   "file_extension": ".py",
   "mimetype": "text/x-python",
   "name": "python",
   "nbconvert_exporter": "python",
   "pygments_lexer": "ipython3",
   "version": "3.6.6"
  }
 },
 "nbformat": 4,
 "nbformat_minor": 4
}
