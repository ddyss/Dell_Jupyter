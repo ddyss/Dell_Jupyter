{
 "cells": [
  {
   "cell_type": "code",
   "execution_count": null,
   "metadata": {},
   "outputs": [],
   "source": [
    "# LeetCode 61 旋转链表\n",
    "# \n",
    "class Solution:\n",
    "    def rotateRight(self, head: ListNode, k: int) -> ListNode:\n",
    "        if not head or not head.next:\n",
    "            return head\n",
    "        h = cur = head\n",
    "        count = 0\n",
    "        while cur:\n",
    "            count += 1\n",
    "            if not cur.next:\n",
    "                tail = cur\n",
    "            cur = cur.next\n",
    "        # print(tail) # ListNode(5)   ListNode{val: 5, next: None}\n",
    "        # print(count) # 5\n",
    "        # print(cur) # None\n",
    "\n",
    "        def func(h,k):\n",
    "            ori_h = h\n",
    "            if k == 0:\n",
    "                return h\n",
    "            for i in range(count - k - 1):\n",
    "                h = h.next\n",
    "            tmp = h.next\n",
    "            h.next = None # 裁断\n",
    "            tail.next = ori_h # 尾部接上头部\n",
    "            return tmp\n",
    "\n",
    "        if k == count:\n",
    "            return head\n",
    "        elif k < count:\n",
    "            return func(h,k)\n",
    "        else:\n",
    "            return func(h,k%count)"
   ]
  }
 ],
 "metadata": {
  "kernelspec": {
   "display_name": "Python 3",
   "language": "python",
   "name": "python3"
  },
  "language_info": {
   "codemirror_mode": {
    "name": "ipython",
    "version": 3
   },
   "file_extension": ".py",
   "mimetype": "text/x-python",
   "name": "python",
   "nbconvert_exporter": "python",
   "pygments_lexer": "ipython3",
   "version": "3.6.6"
  }
 },
 "nbformat": 4,
 "nbformat_minor": 4
}
