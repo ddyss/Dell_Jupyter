{
 "cells": [
  {
   "cell_type": "code",
   "execution_count": 23,
   "metadata": {},
   "outputs": [
    {
     "name": "stdout",
     "output_type": "stream",
     "text": [
      "13\n"
     ]
    }
   ],
   "source": [
    "class Solution:\n",
    "    def singleNonDuplicate(self, nums):\n",
    "        if not nums or len(nums)%2 == 0:\n",
    "            return False\n",
    "        if len(nums) == 1 or nums[0] != nums[1]:\n",
    "            return nums[0]\n",
    "        # 再加一个特例，当最后一个是目标时，这样也可以通过------\n",
    "        # ----对应left <= right取等，最后就不用返回\n",
    "        if nums[-1] != nums[-2]:\n",
    "            return nums[-1]\n",
    "        \n",
    "        left = 0\n",
    "        right = len(nums) - 1\n",
    "        # 这里没有取等left < right，最后返回nums[right]\n",
    "        while left <= right:\n",
    "            mid = left + (right - left)//2\n",
    "            # 防止mid取到了最后一个，mid+1不存在，这个时候直接返回最后一个nums[right]即可\n",
    "            if nums[mid] != nums[mid-1] and nums[mid] != nums[mid+1]:\n",
    "                return nums[mid]\n",
    "            # 等于左边的\n",
    "            elif nums[mid] == nums[mid-1]:\n",
    "                # 如果mid为偶数，则在左边\n",
    "                if mid%2 == 0:\n",
    "                    right = mid - 1 #实际上 - 2 更快些\n",
    "                # 如果mid为奇数，则在右边\n",
    "                else:\n",
    "                    left = mid + 1\n",
    "            # 等于右边的\n",
    "            elif nums[mid] == nums[mid+1]:\n",
    "                if mid%2 == 0:\n",
    "                    left = mid + 1 #实际上 + 2 更快些\n",
    "                else:                    \n",
    "                    right = mid - 1\n",
    "        # return nums[right]\n",
    "# nums = [1,1,2]#中位数3\n",
    "nums = [3,3,7,7,8,8,10,10,11,11,13,14,14,15,15]#中位数7\n",
    "# 实例化类\n",
    "print(Solution().singleNonDuplicate(nums))                "
   ]
  },
  {
   "cell_type": "code",
   "execution_count": 25,
   "metadata": {
    "collapsed": true,
    "jupyter": {
     "outputs_hidden": true
    }
   },
   "outputs": [
    {
     "ename": "IndexError",
     "evalue": "list index out of range",
     "output_type": "error",
     "traceback": [
      "\u001b[1;31m---------------------------------------------------------------------------\u001b[0m",
      "\u001b[1;31mIndexError\u001b[0m                                Traceback (most recent call last)",
      "\u001b[1;32m<ipython-input-25-cbb7f4c70387>\u001b[0m in \u001b[0;36m<module>\u001b[1;34m\u001b[0m\n\u001b[0;32m     21\u001b[0m \u001b[1;31m# nums = [3,3,7,7,8,8,10,10,11,11,13,14,14,15,15]#中位数7\u001b[0m\u001b[1;33m\u001b[0m\u001b[1;33m\u001b[0m\u001b[0m\n\u001b[0;32m     22\u001b[0m \u001b[1;31m# 实例化类\u001b[0m\u001b[1;33m\u001b[0m\u001b[1;33m\u001b[0m\u001b[0m\n\u001b[1;32m---> 23\u001b[1;33m \u001b[0mprint\u001b[0m\u001b[1;33m(\u001b[0m\u001b[0mSolution\u001b[0m\u001b[1;33m(\u001b[0m\u001b[1;33m)\u001b[0m\u001b[1;33m.\u001b[0m\u001b[0msingleNonDuplicate\u001b[0m\u001b[1;33m(\u001b[0m\u001b[0mnums\u001b[0m\u001b[1;33m)\u001b[0m\u001b[1;33m)\u001b[0m\u001b[1;33m\u001b[0m\u001b[0m\n\u001b[0m",
      "\u001b[1;32m<ipython-input-25-cbb7f4c70387>\u001b[0m in \u001b[0;36msingleNonDuplicate\u001b[1;34m(self, nums)\u001b[0m\n\u001b[0;32m     13\u001b[0m \u001b[1;31m#         print(numIndexOdd)\u001b[0m\u001b[1;33m\u001b[0m\u001b[1;33m\u001b[0m\u001b[0m\n\u001b[0;32m     14\u001b[0m         \u001b[1;32mfor\u001b[0m \u001b[0mnum\u001b[0m \u001b[1;32min\u001b[0m \u001b[0mnumIndexOdd\u001b[0m\u001b[1;33m[\u001b[0m\u001b[1;36m1\u001b[0m\u001b[1;33m:\u001b[0m\u001b[1;33m]\u001b[0m\u001b[1;33m:\u001b[0m  \u001b[1;31m#行不通，存在 num+1 超出索引长度的错误\u001b[0m\u001b[1;33m\u001b[0m\u001b[0m\n\u001b[1;32m---> 15\u001b[1;33m             \u001b[1;32mif\u001b[0m \u001b[0mnums\u001b[0m\u001b[1;33m[\u001b[0m\u001b[0mnum\u001b[0m\u001b[1;33m]\u001b[0m \u001b[1;33m==\u001b[0m \u001b[0mnums\u001b[0m\u001b[1;33m[\u001b[0m\u001b[0mnum\u001b[0m\u001b[1;33m-\u001b[0m\u001b[1;36m1\u001b[0m\u001b[1;33m]\u001b[0m \u001b[1;32mor\u001b[0m \u001b[0mnums\u001b[0m\u001b[1;33m[\u001b[0m\u001b[0mnum\u001b[0m\u001b[1;33m]\u001b[0m \u001b[1;33m==\u001b[0m \u001b[0mnums\u001b[0m\u001b[1;33m[\u001b[0m\u001b[0mnum\u001b[0m\u001b[1;33m+\u001b[0m\u001b[1;36m1\u001b[0m\u001b[1;33m]\u001b[0m\u001b[1;33m:\u001b[0m\u001b[1;33m\u001b[0m\u001b[0m\n\u001b[0m\u001b[0;32m     16\u001b[0m                 \u001b[1;32mcontinue\u001b[0m\u001b[1;33m\u001b[0m\u001b[0m\n\u001b[0;32m     17\u001b[0m             \u001b[1;32melse\u001b[0m\u001b[1;33m:\u001b[0m\u001b[1;33m\u001b[0m\u001b[0m\n",
      "\u001b[1;31mIndexError\u001b[0m: list index out of range"
     ]
    }
   ],
   "source": [
    "class Solution:\n",
    "    def singleNonDuplicate(self, nums):\n",
    "        if not nums or len(nums)%2 == 0:\n",
    "            return False\n",
    "        if len(nums) == 1:\n",
    "            return nums[0]\n",
    "        if nums[0] != nums[1]:\n",
    "            return nums[0]\n",
    "        \n",
    "        n = len(nums)\n",
    "        numIndex = [_ for _ in range(n)]\n",
    "        numIndexOdd = numIndex[::2]\n",
    "#         print(numIndexOdd)\n",
    "        for num in numIndexOdd[1:]:  #行不通，存在 num+1 超出索引长度的错误\n",
    "            if nums[num] == nums[num-1] or nums[num] == nums[num+1]:\n",
    "                continue\n",
    "            else:\n",
    "                return nums[num]\n",
    "        return nums[-1]\n",
    "nums = [1,1,2]#中位数3\n",
    "# nums = [3,3,7,7,8,8,10,10,11,11,13,14,14,15,15]#中位数7\n",
    "# 实例化类\n",
    "print(Solution().singleNonDuplicate(nums))  "
   ]
  },
  {
   "cell_type": "code",
   "execution_count": null,
   "metadata": {},
   "outputs": [],
   "source": []
  }
 ],
 "metadata": {
  "kernelspec": {
   "display_name": "Python 3",
   "language": "python",
   "name": "python3"
  },
  "language_info": {
   "codemirror_mode": {
    "name": "ipython",
    "version": 3
   },
   "file_extension": ".py",
   "mimetype": "text/x-python",
   "name": "python",
   "nbconvert_exporter": "python",
   "pygments_lexer": "ipython3",
   "version": "3.6.6"
  }
 },
 "nbformat": 4,
 "nbformat_minor": 4
}
