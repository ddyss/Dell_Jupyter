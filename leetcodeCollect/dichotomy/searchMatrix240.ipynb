{
 "cells": [
  {
   "cell_type": "code",
   "execution_count": 5,
   "metadata": {},
   "outputs": [],
   "source": [
    "class Solution:\n",
    "    def searchMatrix(self, matrix, target):\n",
    "        \"\"\"\n",
    "        :type matrix: List[List[int]]\n",
    "        :type target: int\n",
    "        :rtype: bool\n",
    "        \"\"\"\n",
    "        # 首先的判断特殊情况，为空的时候；返回False\n",
    "        if not matrix:\n",
    "            return False\n",
    "        m,n = len(matrix),len(matrix[0])\n",
    "        \n",
    "        for i in range(m):  \n",
    "            # 每一行查找，放到nums里\n",
    "            nums = matrix[i][:]\n",
    "            # 二分查找\n",
    "            left = 0\n",
    "            right = n-1\n",
    "            while left <= right:\n",
    "                mid = (right+left)//2\n",
    "                if target == nums[mid]:\n",
    "                    return True\n",
    "                elif target < nums[mid]:                        \n",
    "                    right = mid - 1\n",
    "                elif target > nums[mid]:\n",
    "                    left = mid + 1\n",
    "        # 最后函数找不到，返回False\n",
    "        return False\n"
   ]
  },
  {
   "cell_type": "code",
   "execution_count": 11,
   "metadata": {},
   "outputs": [],
   "source": [
    "test = [\n",
    "#   [1,   4,  7, 11, 15],\n",
    "#   [2,   5,  8, 12, 19],\n",
    "  [3,   6,  9, 16, 22],\n",
    "  [10, 13, 14, 17, 24],\n",
    "  [18, 21, 23, 26, 30]\n",
    "]\n"
   ]
  },
  {
   "cell_type": "code",
   "execution_count": 12,
   "metadata": {},
   "outputs": [
    {
     "name": "stdout",
     "output_type": "stream",
     "text": [
      "False\n"
     ]
    }
   ],
   "source": [
    "print(Solution().searchMatrix(test,5))"
   ]
  },
  {
   "cell_type": "code",
   "execution_count": 13,
   "metadata": {},
   "outputs": [
    {
     "name": "stdout",
     "output_type": "stream",
     "text": [
      "3\n"
     ]
    }
   ],
   "source": [
    "print(len(test))"
   ]
  },
  {
   "cell_type": "code",
   "execution_count": null,
   "metadata": {},
   "outputs": [],
   "source": []
  }
 ],
 "metadata": {
  "kernelspec": {
   "display_name": "Python 3",
   "language": "python",
   "name": "python3"
  },
  "language_info": {
   "codemirror_mode": {
    "name": "ipython",
    "version": 3
   },
   "file_extension": ".py",
   "mimetype": "text/x-python",
   "name": "python",
   "nbconvert_exporter": "python",
   "pygments_lexer": "ipython3",
   "version": "3.6.6"
  }
 },
 "nbformat": 4,
 "nbformat_minor": 4
}
