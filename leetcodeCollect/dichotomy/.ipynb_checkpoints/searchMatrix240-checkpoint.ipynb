{
 "cells": [
  {
   "cell_type": "code",
   "execution_count": null,
   "metadata": {},
   "outputs": [],
   "source": [
    "class Solution:\n",
    "    def searchMatrix(self, matrix, target):\n",
    "        \"\"\"\n",
    "        :type matrix: List[List[int]]\n",
    "        :type target: int\n",
    "        :rtype: bool\n",
    "        \"\"\"\n",
    "        m,n = len(matrix),len(matrix[0])\n",
    "        \n",
    "        for i in range(m):\n",
    "#             for j in range(n):/\n",
    "            left = 0\n",
    "            right = n-1\n",
    "            mid = (right+left)//2\n",
    "            for _ in matrix[i][:]:\n",
    "                while left < right:\n",
    "                    while nums[left] < target < nums[mid]:                        \n",
    "                        right = mid\n",
    "                        mid = (left + right)//2\n",
    "                    while nums[mid] < target < nums[right]:\n",
    "                        left = mid\n",
    "                        mid = (left + right)//2"
   ]
  }
 ],
 "metadata": {
  "kernelspec": {
   "display_name": "Python 3",
   "language": "python",
   "name": "python3"
  },
  "language_info": {
   "codemirror_mode": {
    "name": "ipython",
    "version": 3
   },
   "file_extension": ".py",
   "mimetype": "text/x-python",
   "name": "python",
   "nbconvert_exporter": "python",
   "pygments_lexer": "ipython3",
   "version": "3.6.6"
  }
 },
 "nbformat": 4,
 "nbformat_minor": 4
}
