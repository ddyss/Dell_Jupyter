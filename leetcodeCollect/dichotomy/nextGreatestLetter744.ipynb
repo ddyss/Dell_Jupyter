{
 "cells": [
  {
   "cell_type": "code",
   "execution_count": 34,
   "metadata": {},
   "outputs": [
    {
     "name": "stdout",
     "output_type": "stream",
     "text": [
      "f\n"
     ]
    }
   ],
   "source": [
    "class Solution:\n",
    "    def nextGreatestLetter(self, letters, target):\n",
    "        # 挨个扫描即可\n",
    "        for letter in letters:\n",
    "            if letter > target:\n",
    "                return letter\n",
    "        return letters[0]\n",
    "        \n",
    "#         # 二分查找\n",
    "#         # 该模块插入数值后，不会影响原来列表的排序\n",
    "#         import bisect\n",
    "#         # 前提是letters以及排序好了\n",
    "#         index = bisect.bisect(letters, target)\n",
    "#         return letters[index % len(letters)]\n",
    "\n",
    "letters = [\"c\",\"f\",\"j\"]\n",
    "target = \"c\"\n",
    "print(Solution().nextGreatestLetter(letters,target))                "
   ]
  },
  {
   "cell_type": "code",
   "execution_count": 15,
   "metadata": {},
   "outputs": [
    {
     "name": "stdout",
     "output_type": "stream",
     "text": [
      "n\n"
     ]
    }
   ],
   "source": [
    "class Solution:# 二分查找\n",
    "    def nextGreatestLetter(self, letters, target):\n",
    "        # 排除特殊情况\n",
    "        if target < letters[0]:\n",
    "            return letters[0]\n",
    "        if target >= letters[-1]:\n",
    "            return letters[0]\n",
    "        \n",
    "        left = 0\n",
    "        right = len(letters) - 1\n",
    "        while left <= right:\n",
    "            mid = left + (right - left) // 2\n",
    "            if letters[mid] <= target:\n",
    "                left = mid + 1\n",
    "            elif letters[mid] > target:\n",
    "                right = mid - 1\n",
    "        # 因为若target大于letters里面的所有元素，那么退出循环时候left就会\n",
    "        # 指向索引为len(letters)的位置，所以我们通过取余操作达到循环的效果。\n",
    "        # return letters[left % len(letters)]\n",
    "        return letters[left]\n",
    "\n",
    "letters = [\"e\",\"e\",\"e\",\"n\",\"n\",\"n\",\"n\"]\n",
    "target = \"e\"\n",
    "print(Solution().nextGreatestLetter(letters,target)) "
   ]
  },
  {
   "cell_type": "code",
   "execution_count": 10,
   "metadata": {},
   "outputs": [
    {
     "name": "stdout",
     "output_type": "stream",
     "text": [
      "f\n"
     ]
    }
   ],
   "source": [
    "class Solution: # 二分查找 -- 自己敲的\n",
    "    def nextGreatestLetter(self, letters, target):\n",
    "        # 排除特殊情况\n",
    "        if target < letters[0]:\n",
    "            return letters[0]\n",
    "#         if target == letters[0]:#反例 [\"e\",\"e\",\"e\",\"n\",\"n\",\"n\",\"n\"] \"e\"\n",
    "#             return letters[1]\n",
    "        if target >= letters[-1]:\n",
    "            return letters[0]\n",
    "        \n",
    "        left = 0\n",
    "        right = len(letters) - 1\n",
    "        while left <= right:\n",
    "            mid = (left+right)//2\n",
    "            # 分类讨论，target在letters里   #反例 [\"e\",\"e\",\"e\",\"n\",\"n\",\"n\",\"n\"] \"e\"\n",
    "            if target in letters:\n",
    "                tmp = letters.index(target)\n",
    "                count = letters.count(target)\n",
    "                return letters[tmp+count]\n",
    "            \n",
    "            # target不在letters里\n",
    "            elif letters[mid] < target < letters[mid+1]:\n",
    "                return letters[mid+1]\n",
    "            elif letters[mid] < target:\n",
    "                left = mid + 1\n",
    "            elif letters[mid] > target:\n",
    "                right = mid - 1\n",
    "                \n",
    "letters = [\"c\",\"f\",\"j\"]\n",
    "target = \"c\"\n",
    "print(Solution().nextGreatestLetter(letters,target)) "
   ]
  },
  {
   "cell_type": "code",
   "execution_count": null,
   "metadata": {},
   "outputs": [],
   "source": []
  }
 ],
 "metadata": {
  "kernelspec": {
   "display_name": "Python 3",
   "language": "python",
   "name": "python3"
  },
  "language_info": {
   "codemirror_mode": {
    "name": "ipython",
    "version": 3
   },
   "file_extension": ".py",
   "mimetype": "text/x-python",
   "name": "python",
   "nbconvert_exporter": "python",
   "pygments_lexer": "ipython3",
   "version": "3.6.6"
  }
 },
 "nbformat": 4,
 "nbformat_minor": 4
}
