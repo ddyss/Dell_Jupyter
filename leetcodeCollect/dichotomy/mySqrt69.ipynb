{
 "cells": [
  {
   "cell_type": "code",
   "execution_count": 43,
   "metadata": {},
   "outputs": [
    {
     "name": "stdout",
     "output_type": "stream",
     "text": [
      "5\n"
     ]
    }
   ],
   "source": [
    "# 二分法中，为防止算术溢出，一般采用 L+(R-L)/2 代替。\n",
    "# 防止L+R两个正整数相加产生的结果为一个负数\n",
    "class Solution: #69\n",
    "    def mySqrt(self, x):\n",
    "        if x <= 1:\n",
    "            return x\n",
    "        left = 1\n",
    "        right = x//2\n",
    "        \n",
    "        # 是否取等，也可能导致死循环\n",
    "        while left < right:\n",
    "            # 一般平方根都大于中位数，可以从大往小的猜，取右中位数，所以加一个1\n",
    "            # 如果取左中位数，可能会陷入死循环\n",
    "            mid = (left+right+1) >> 1 #右移一位就是除2 或mid = (left + right + 1) // 2\n",
    "            if mid*mid > x:\n",
    "                right = mid -1\n",
    "            else:\n",
    "                left = mid\n",
    "        # 因为一定存在，因此无需后处理，返回left即可\n",
    "        return left\n",
    "print(Solution().mySqrt(25))"
   ]
  },
  {
   "cell_type": "code",
   "execution_count": 48,
   "metadata": {},
   "outputs": [
    {
     "name": "stdout",
     "output_type": "stream",
     "text": [
      "5\n"
     ]
    }
   ],
   "source": [
    "# 标准的二分法\n",
    "class Solution:\n",
    "    def mySqrt(self, x):\n",
    "        l = 0\n",
    "        r = x\n",
    "        while l <= r:\n",
    "            mid = (l+r)//2\n",
    "            temp = mid**2\n",
    "            if  temp < x:\n",
    "                l = mid + 1\n",
    "            elif temp > x:\n",
    "                r = mid - 1\n",
    "            elif temp == x:\n",
    "                return mid\n",
    "        # r一定会停在mid**2 <= x的最大那个mid的位置，因为mid**2=x的mid如果存在的话在上面\n",
    "        # 就已经返回了，所以这里只需要返回r就好了\n",
    "        return r \n",
    "print(Solution().mySqrt(25))"
   ]
  }
 ],
 "metadata": {
  "kernelspec": {
   "display_name": "Python 3",
   "language": "python",
   "name": "python3"
  },
  "language_info": {
   "codemirror_mode": {
    "name": "ipython",
    "version": 3
   },
   "file_extension": ".py",
   "mimetype": "text/x-python",
   "name": "python",
   "nbconvert_exporter": "python",
   "pygments_lexer": "ipython3",
   "version": "3.6.6"
  }
 },
 "nbformat": 4,
 "nbformat_minor": 4
}
