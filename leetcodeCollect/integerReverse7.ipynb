{
 "cells": [
  {
   "cell_type": "code",
   "execution_count": 27,
   "metadata": {},
   "outputs": [
    {
     "name": "stdout",
     "output_type": "stream",
     "text": [
      "-32551\n"
     ]
    }
   ],
   "source": [
    "# leetcode 7 整数反转\n",
    "from typing import List\n",
    "class Solution:\n",
    "    def reverse(self, x: int) -> int:\n",
    "        if x < 0:\n",
    "            x = -x\n",
    "            out = '-' + self.reverseTrue(x)\n",
    "            return int(out)\n",
    "        else:\n",
    "            return int(self.reverseTrue(x))\n",
    "        \n",
    "\n",
    "    def reverseTrue(self,x):\n",
    "        x = str(x)\n",
    "        if len(x) == 0:\n",
    "            return x\n",
    "        else:\n",
    "            return self.reverseTrue(x[1:]) + x[0]\n",
    "\n",
    "print(Solution().reverse(-15523))"
   ]
  },
  {
   "cell_type": "code",
   "execution_count": null,
   "metadata": {},
   "outputs": [],
   "source": []
  }
 ],
 "metadata": {
  "kernelspec": {
   "display_name": "Python 3",
   "language": "python",
   "name": "python3"
  },
  "language_info": {
   "codemirror_mode": {
    "name": "ipython",
    "version": 3
   },
   "file_extension": ".py",
   "mimetype": "text/x-python",
   "name": "python",
   "nbconvert_exporter": "python",
   "pygments_lexer": "ipython3",
   "version": "3.6.6"
  }
 },
 "nbformat": 4,
 "nbformat_minor": 4
}
