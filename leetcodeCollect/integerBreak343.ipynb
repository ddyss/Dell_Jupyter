{
 "cells": [
  {
   "cell_type": "code",
   "execution_count": null,
   "metadata": {},
   "outputs": [],
   "source": [
    "# LeetCode 343 整数拆分       给定一个正整数 n，将其拆分为至少两个正整数的和，并使这些整数的乘积最大化"
   ]
  },
  {
   "cell_type": "code",
   "execution_count": 11,
   "metadata": {},
   "outputs": [
    {
     "name": "stdout",
     "output_type": "stream",
     "text": [
      "243\n"
     ]
    }
   ],
   "source": [
    "class Solution: # 动态规划\n",
    "    def integerBreak(self,n):\n",
    "        dp = [None, None, 1, 2, 4, 6, 9]\n",
    "        if n < 7:\n",
    "            return dp[n]\n",
    "\n",
    "        for i in range(7,n+1):\n",
    "            dp.append(dp[i-3]*3)\n",
    "        return dp[n]\n",
    "t = Solution()\n",
    "print(t.integerBreak(15))"
   ]
  },
  {
   "cell_type": "code",
   "execution_count": 6,
   "metadata": {},
   "outputs": [],
   "source": [
    "class Solution:\n",
    "    def integerBreak(self,n):\n",
    "        # 当 n≤3 时，按照规则应不拆分，但由于题目要求必须拆分，因此必须拆出一个因子 1，即返回 n - 1。\n",
    "        if n <= 3:\n",
    "            return n-1\n",
    "\n",
    "        # 当 n>3 时，求 n 除以 3 的 整数部分 a 和 余数部分 b （即 n =3a+b ），并分为以下三种情况：\n",
    "        a = int(n//3)\n",
    "        b = n%3\n",
    "\n",
    "        # 当 b = 0 时，直接返回 3^a\n",
    "        if b == 0:\n",
    "            return 3**a\n",
    "        # 当 b = 1 时，要将一个 1 + 3转换为 2+2，因此返回 3^(a-1) *4 \n",
    "        elif b == 1:\n",
    "            return 3**(a-1)*4\n",
    "        # 当 b = 2 时，返回 3^a * 2\n",
    "        else:    \n",
    "            return 3**a*2"
   ]
  },
  {
   "cell_type": "code",
   "execution_count": 8,
   "metadata": {},
   "outputs": [
    {
     "name": "stdout",
     "output_type": "stream",
     "text": [
      "243\n"
     ]
    }
   ],
   "source": [
    "t = Solution()\n",
    "print(t.integerBreak(15))"
   ]
  },
  {
   "cell_type": "code",
   "execution_count": null,
   "metadata": {},
   "outputs": [],
   "source": []
  }
 ],
 "metadata": {
  "kernelspec": {
   "display_name": "Python 3",
   "language": "python",
   "name": "python3"
  },
  "language_info": {
   "codemirror_mode": {
    "name": "ipython",
    "version": 3
   },
   "file_extension": ".py",
   "mimetype": "text/x-python",
   "name": "python",
   "nbconvert_exporter": "python",
   "pygments_lexer": "ipython3",
   "version": "3.6.6"
  }
 },
 "nbformat": 4,
 "nbformat_minor": 4
}
