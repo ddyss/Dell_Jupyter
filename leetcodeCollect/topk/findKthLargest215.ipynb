{
 "cells": [
  {
   "cell_type": "code",
   "execution_count": null,
   "metadata": {},
   "outputs": [],
   "source": [
    "#  海量数据TopK问题。一般这种问题都是用哈希表分治+堆排序"
   ]
  },
  {
   "cell_type": "code",
   "execution_count": 21,
   "metadata": {},
   "outputs": [
    {
     "name": "stdout",
     "output_type": "stream",
     "text": [
      "78\n"
     ]
    }
   ],
   "source": [
    "class Solution(object): #215  直接快排不够好，超时\n",
    "    def findKthLargest(self, nums, k):\n",
    "        n = len(nums)\n",
    "        \n",
    "        def quick(left,right):\n",
    "            if left >= right:\n",
    "                return nums\n",
    "            pivot = left # 如果超时，更换pivot取值\n",
    "            i = left\n",
    "            j = right\n",
    "            while i < j:\n",
    "                while i < j and nums[i] < nums[pivot]:\n",
    "                    i += 1\n",
    "                while i < j and nums[j] >= nums[pivot]:\n",
    "                    j -= 1\n",
    "                nums[i],nums[j] = nums[j],nums[i]\n",
    "            nums[pivot],nums[j] = nums[j],nums[pivot]\n",
    "\n",
    "            quick(left,j-1)\n",
    "            quick(j+1,right)\n",
    "            return nums\n",
    "        \n",
    "        return quick(0,n-1)[-k]\n",
    "nums = [3,2,1,5,6,4,5,6,78,97,66,9]\n",
    "k = 2    \n",
    "print(Solution().findKthLargest(nums,k))"
   ]
  },
  {
   "cell_type": "code",
   "execution_count": 6,
   "metadata": {},
   "outputs": [
    {
     "name": "stdout",
     "output_type": "stream",
     "text": [
      "66\n"
     ]
    }
   ],
   "source": [
    "# 时间复杂度：O(N)，这里 N 是数组的长度，理由可以参考本题解下用户 @ZLW 的评论，需要使用主定理进行分析。\n",
    "# 空间复杂度：O(1)，原地排序，没有借助额外的辅助空间。\n",
    "# https://leetcode-cn.com/problems/kth-largest-element-in-an-array/solution/partitionfen-er-zhi-zhi-you-xian-dui-lie-java-dai-/\n",
    "\n",
    "\n",
    "\n",
    "# from typing import List\n",
    "class Solution(object): #优化一下 https://leetcode-cn.com/problems/kth-largest-element-\n",
    "    # in-an-array/solution/partitionfen-er-zhi-zhi-you-xian-dui-lie-java-dai-/\n",
    "    \n",
    "    def findKthLargest(self, nums, k):\n",
    "        # 第k个最大值，target = k-1\n",
    "        left, right, target = 0, len(nums) - 1, k - 1\n",
    "        \n",
    "        # 一直到pos=target 跳出循环\n",
    "        while True:\n",
    "            pos = self.partition(nums, left, right)\n",
    "            if pos == target:\n",
    "                return nums[pos]\n",
    "            #要往左找 # 下一轮在[left,pos-1]里找\n",
    "            elif pos > k: \n",
    "                right = pos - 1\n",
    "            #要往右找 # 下一轮在[pos+1,right]里找\n",
    "            elif pos < k: \n",
    "                left = pos + 1\n",
    "         \n",
    "        \n",
    "    def partition(self, nums, left, right):  # 切分操作，可以不借助额外的数组空间，仅通过交换数组元素实现。\n",
    "        \n",
    "        # 随机初始pivot，防止极端用例（顺序、倒序数组），使得递归树加深\n",
    "        import random\n",
    "        k = random.randint(left, right)\n",
    "        pivot = nums[k]\n",
    "        \n",
    "        # left 和 k 对应的值互换；索引没有换\n",
    "        nums[left], nums[k] = nums[k], nums[left]\n",
    "        index = left\n",
    "        \n",
    "        for i in range(left + 1, right + 1):\n",
    "            # 比pivot大，就放到index前面去；反之不动\n",
    "            if nums[i] > pivot:\n",
    "                \n",
    "                # index 为什么要先自+1，再互换，那不是没区别原地互换？\n",
    "                index += 1\n",
    "                # 并互换，放到前面去          i始终>index\n",
    "                nums[i], nums[index] = nums[index], nums[i]\n",
    "                \n",
    "        \n",
    "        # 最后 left 和 index 互换一下\n",
    "        nums[left], nums[index] = nums[index], nums[left]\n",
    "        return index #此时所有index左侧的值都比nums[index]大， 所有右侧的值都比nums[index]小\n",
    "\n",
    "nums = [3,2,1,5,6,4,5,6,78,97,66,9]\n",
    "k = 2    \n",
    "print(Solution().findKthLargest(nums,k))"
   ]
  },
  {
   "cell_type": "code",
   "execution_count": null,
   "metadata": {},
   "outputs": [],
   "source": []
  }
 ],
 "metadata": {
  "kernelspec": {
   "display_name": "Python 3",
   "language": "python",
   "name": "python3"
  },
  "language_info": {
   "codemirror_mode": {
    "name": "ipython",
    "version": 3
   },
   "file_extension": ".py",
   "mimetype": "text/x-python",
   "name": "python",
   "nbconvert_exporter": "python",
   "pygments_lexer": "ipython3",
   "version": "3.6.6"
  }
 },
 "nbformat": 4,
 "nbformat_minor": 4
}
