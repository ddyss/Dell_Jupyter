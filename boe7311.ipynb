{
 "cells": [
  {
   "cell_type": "code",
   "execution_count": null,
   "metadata": {},
   "outputs": [],
   "source": [
    "# Deep learning approach to improve tangential resolution in photoacoustic tomography"
   ]
  },
  {
   "cell_type": "code",
   "execution_count": null,
   "metadata": {},
   "outputs": [],
   "source": [
    "# aperture 光圈"
   ]
  },
  {
   "cell_type": "code",
   "execution_count": null,
   "metadata": {},
   "outputs": [],
   "source": [
    "# 在最底层8x8大小的时候，加了9个res-block\n",
    "# 在解码端，每一层加了一个dense-block\n",
    "# 输入和输出直接相加得到最终的输出；输入输出都是128*128\n",
    "# toolbox仿真工具箱。输入是DAS重建的结果，输出真值，提高切向分辨率\n",
    "# 3000组  90:5:5"
   ]
  },
  {
   "cell_type": "code",
   "execution_count": null,
   "metadata": {},
   "outputs": [],
   "source": [
    "# TARES 比 FDUnet 的优越性\n",
    "# 对比偏离中心的距离；那不还是提高图像的重建质量吗，去噪一个意思。"
   ]
  }
 ],
 "metadata": {
  "kernelspec": {
   "display_name": "Python 3",
   "language": "python",
   "name": "python3"
  },
  "language_info": {
   "codemirror_mode": {
    "name": "ipython",
    "version": 3
   },
   "file_extension": ".py",
   "mimetype": "text/x-python",
   "name": "python",
   "nbconvert_exporter": "python",
   "pygments_lexer": "ipython3",
   "version": "3.6.6"
  }
 },
 "nbformat": 4,
 "nbformat_minor": 4
}
