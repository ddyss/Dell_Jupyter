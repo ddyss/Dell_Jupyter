{
 "cells": [
  {
   "cell_type": "code",
   "execution_count": null,
   "metadata": {},
   "outputs": [],
   "source": [
    "下载，idm提示无权限\n",
    "保存为idm文件依然不行\n",
    "点击下载助手，跳出来的链接可以\n"
   ]
  },
  {
   "cell_type": "code",
   "execution_count": null,
   "metadata": {},
   "outputs": [],
   "source": [
    "软件使用：\n",
    "鼠标点击的地方，添加代码内容\n",
    "如果选择一段的话，则会被替代"
   ]
  },
  {
   "cell_type": "code",
   "execution_count": null,
   "metadata": {},
   "outputs": [],
   "source": [
    "我们以新浪的股票接口为例，它的API 服务 url是 http://hq.sinajs.cn/list=sh601006\n",
    "    \n",
    "# 由于服务端返回的json格式数据是gbk编码\n",
    "# 所以改为gbk    "
   ]
  },
  {
   "cell_type": "code",
   "execution_count": null,
   "metadata": {},
   "outputs": [],
   "source": [
    "视频中显示：\n",
    "点击exe中的问号，启动内置测试web服务\n",
    "即可不用更改地址为新浪股票，原来的也可以跑通\n",
    "启动后，任务管理器会有相应的白月黑羽 logo\n",
    "弹出的dos窗可以视为worker\n",
    "\n",
    "但我这不成功，提示服务器拒绝连接，而且后台也没看见logo\n",
    "\n",
    "按照评论里的，什么代理问题，一样行不通，还是不行。"
   ]
  }
 ],
 "metadata": {
  "kernelspec": {
   "display_name": "Python 3",
   "language": "python",
   "name": "python3"
  },
  "language_info": {
   "codemirror_mode": {
    "name": "ipython",
    "version": 3
   },
   "file_extension": ".py",
   "mimetype": "text/x-python",
   "name": "python",
   "nbconvert_exporter": "python",
   "pygments_lexer": "ipython3",
   "version": "3.6.6"
  }
 },
 "nbformat": 4,
 "nbformat_minor": 4
}
