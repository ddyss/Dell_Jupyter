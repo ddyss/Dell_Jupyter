{
 "cells": [
  {
   "cell_type": "code",
   "execution_count": 1,
   "metadata": {},
   "outputs": [],
   "source": [
    "# 首页\n",
    "class IndexPage():\n",
    "    def __init__(self,driver):\n",
    "        self.driver = driver\n",
    "        # 访问小米页面--确保操作的时候处于首页\n",
    "        self.driver.get('http://www.mi.com/')\n",
    "        \n",
    "    # 进入登录页\n",
    "    def to_login(self):\n",
    "        # 找到登录按钮，并点击进行后续登录   #J_siteUserInfo  --- id前加 # 号？\n",
    "        self.driver.find_element_by_css_selector('#J_siteUserInfo>a:nth-child(1)').click() #\n",
    "\n",
    "        # element加个s，存到elements中，后续判断是否为空\n",
    "        btns = self.driver.find_elements_by_class_name('btn-primary')\n",
    "        # 如果弹出 用户协议按钮 窗口， 点击同意\n",
    "        if btns:\n",
    "            btns[0].click()\n",
    "        \n",
    "        # 返回登录页对象\n",
    "        return LoginPage(self.driver)\n",
    "        \n",
    "    def search_item(self,item = '小米充电宝'):\n",
    "        # 搜索商品\n",
    "        self.driver.find_element_by_id('search').send_keys(item + '\\n')\n",
    "        \n",
    "        # 返回商品页面\n",
    "        return GoodItemsPage(self.driver)"
   ]
  },
  {
   "cell_type": "code",
   "execution_count": 2,
   "metadata": {},
   "outputs": [],
   "source": [
    "# 登录页面\n",
    "class LoginPage():\n",
    "    def __init__(self,driver):\n",
    "        self.driver = driver\n",
    "        \n",
    "    # 账号密码登录\n",
    "    def login(self,username,psw):\n",
    "        #输入账号密码\n",
    "        self.driver.find_element_by_id('username').send_keys(username)\n",
    "        self.driver.find_element_by_id('pwd').send_keys(psw)\n",
    "        # 点击登录\n",
    "        self.driver.find_element_by_id('login-button').click()\n",
    "        \n",
    "        # 返回登录页对象\n",
    "        return IndexPage(self.driver)"
   ]
  },
  {
   "cell_type": "code",
   "execution_count": 3,
   "metadata": {},
   "outputs": [],
   "source": [
    "# 商品页面\n",
    "class GoodItemsPage():\n",
    "    def __init__(self,driver):\n",
    "        self.driver = driver\n",
    "        \n",
    "    # 选择商品\n",
    "    def pick_item(self):\n",
    "        # 选择第一个结果 \n",
    "        # driver.find_element_by_css_selector('.goods-list clearfix > div.goods-item > div.figure figure-img > h2.title a').click()\n",
    "        self.driver.find_element_by_xpath('//*[@id=\"app\"]/div[2]/div/div/div[2]/div[3]/div/div[2]/div/div[1]/h2/a').click()\n",
    "\n",
    "        # 因为打开了新窗口，切换到商品详情页窗口\n",
    "        for handle in self.driver.window_handles:\n",
    "            self.driver.switch_to.window(handle)\n",
    "            # 判断切换到目标窗口--判断当前窗口标题是否为：小米充电宝 口袋版 10000mAh立即购买-小米商城\n",
    "            if '小米充电宝 口袋版 10000mAh立即购买-小米商城' == self.driver.title:\n",
    "                print('切换到目标窗口')\n",
    "                \n",
    "                # 进入商品详情页\n",
    "                return ItemPage(self.driver)"
   ]
  },
  {
   "cell_type": "code",
   "execution_count": 4,
   "metadata": {},
   "outputs": [],
   "source": [
    "# 商品详情页\n",
    "class ItemPage():\n",
    "    def __init__(self,driver):\n",
    "        self.driver = driver\n",
    "        \n",
    "    def add_to_cart(self):\n",
    "        # 点击加入购物车         .sale-btn  --- class前加 . ？\n",
    "        self.driver.find_element_by_css_selector('.sale-btn>a').click()\n",
    "        \n",
    "        # 返回购物车页面\n",
    "        return ShopCartPage(self.driver)"
   ]
  },
  {
   "cell_type": "code",
   "execution_count": 5,
   "metadata": {},
   "outputs": [],
   "source": [
    "# 购物车页面\n",
    "class ShopCartPage():\n",
    "    def __init__(self,driver):\n",
    "        self.driver = driver\n",
    "        \n",
    "    def check_item(self):\n",
    "        # 检查是否添加购物车成功\n",
    "        res = self.driver.find_element_by_class_name('goods-info').text\n",
    "        assert '小米充电宝 口袋版 10000mAh 白色' in res\n",
    "        # 如果操作设计页面跳转-需要返回对应的页面对象，如果没有则不需要返回"
   ]
  },
  {
   "cell_type": "code",
   "execution_count": 9,
   "metadata": {},
   "outputs": [
    {
     "name": "stdout",
     "output_type": "stream",
     "text": [
      "切换到目标窗口\n"
     ]
    }
   ],
   "source": [
    "if __name__ == '__main__':\n",
    "    # 首页-进入登录-登录-首页-搜索商品-选择商品-进入商品详情页-添加购物车-购物车页面-检查是否添加成功\n",
    "    # 返回的对象，每个首字母都变小写了\n",
    "    from selenium import webdriver\n",
    "    driver = webdriver.Chrome()\n",
    "    driver.implicitly_wait(10)\n",
    "    \n",
    "    indexage = IndexPage(driver)\n",
    "    \n",
    "    loginpage = indexpage.to_login()\n",
    "    \n",
    "    indexpage = loginpage.login('2789683793@qq.com','wdhmmm123,')\n",
    "    \n",
    "    goodItemsPage = indexpage.search_item()\n",
    "    \n",
    "    itemPage = goodItemsPage.pick_item()\n",
    "    \n",
    "    shopCartPage = itemPage.add_to_cart()\n",
    "    \n",
    "    shopCartPage.check_item()"
   ]
  },
  {
   "cell_type": "code",
   "execution_count": null,
   "metadata": {},
   "outputs": [],
   "source": []
  }
 ],
 "metadata": {
  "kernelspec": {
   "display_name": "Python 3",
   "language": "python",
   "name": "python3"
  },
  "language_info": {
   "codemirror_mode": {
    "name": "ipython",
    "version": 3
   },
   "file_extension": ".py",
   "mimetype": "text/x-python",
   "name": "python",
   "nbconvert_exporter": "python",
   "pygments_lexer": "ipython3",
   "version": "3.6.6"
  }
 },
 "nbformat": 4,
 "nbformat_minor": 4
}
