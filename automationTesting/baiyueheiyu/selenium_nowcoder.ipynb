{
 "cells": [
  {
   "cell_type": "code",
   "execution_count": 15,
   "metadata": {},
   "outputs": [
    {
     "name": "stdout",
     "output_type": "stream",
     "text": [
      "['CDwindow-6F76AB6A1332905A1C0AC3CA66A1954D']\n"
     ]
    },
    {
     "ename": "IndexError",
     "evalue": "list index out of range",
     "output_type": "error",
     "traceback": [
      "\u001b[1;31m---------------------------------------------------------------------------\u001b[0m",
      "\u001b[1;31mIndexError\u001b[0m                                Traceback (most recent call last)",
      "\u001b[1;32m<ipython-input-15-2d1336991633>\u001b[0m in \u001b[0;36m<module>\u001b[1;34m\u001b[0m\n\u001b[0;32m     18\u001b[0m \u001b[1;33m\u001b[0m\u001b[0m\n\u001b[0;32m     19\u001b[0m \u001b[1;31m# switch后，打印的是后来的界面URL\u001b[0m\u001b[1;33m\u001b[0m\u001b[1;33m\u001b[0m\u001b[0m\n\u001b[1;32m---> 20\u001b[1;33m \u001b[0mdriver\u001b[0m\u001b[1;33m.\u001b[0m\u001b[0mswitch_to\u001b[0m\u001b[1;33m.\u001b[0m\u001b[0mwindow\u001b[0m\u001b[1;33m(\u001b[0m\u001b[0mhand\u001b[0m\u001b[1;33m[\u001b[0m\u001b[1;36m1\u001b[0m\u001b[1;33m]\u001b[0m\u001b[1;33m)\u001b[0m\u001b[1;33m\u001b[0m\u001b[0m\n\u001b[0m\u001b[0;32m     21\u001b[0m \u001b[0mprint\u001b[0m\u001b[1;33m(\u001b[0m\u001b[0mdriver\u001b[0m\u001b[1;33m.\u001b[0m\u001b[0mcurrent_url\u001b[0m\u001b[1;33m)\u001b[0m\u001b[1;31m#https://www.nowcoder.com/discuss/555810\u001b[0m\u001b[1;33m\u001b[0m\u001b[0m\n\u001b[0;32m     22\u001b[0m \u001b[1;33m\u001b[0m\u001b[0m\n",
      "\u001b[1;31mIndexError\u001b[0m: list index out of range"
     ]
    }
   ],
   "source": [
    "from selenium import webdriver\n",
    "\n",
    "driver = webdriver.Chrome()\n",
    "\n",
    "# 打开首页\n",
    "driver.get('https://www.nowcoder.com')\n",
    "\n",
    "# 点击求职，好像并没有跳转另一个新窗口，hand仍只有一个，只是URL变了\n",
    "driver.find_element_by_xpath('/html/body/div[1]/div[1]/div/ul[1]/li[5]/a').click()\n",
    "\n",
    "# 点击 每日更新 校招补招信息\n",
    "# driver.find_element_by_xpath('/html/body/div[1]/div[5]/div[1]/div[2]/div/div/a[7]/div[2]').click()\n",
    "# 打印的还是当前的界面URL\n",
    "# print(driver.current_url)#https://www.nowcoder.com/recommend/campus\n",
    "\n",
    "hand = driver.window_handles#['CDwindow-EA4D587BCE58A92E9EEAED93D1AA7F80', 'CDwindow-1BF33339155245BFC8B0DEC3E0D41C04']\n",
    "print(hand)\n",
    "\n",
    "# switch后，打印的是后来的界面URL\n",
    "driver.switch_to.window(hand[1])\n",
    "print(driver.current_url)#https://www.nowcoder.com/discuss/555810\n",
    "\n",
    "\n",
    "input('press any key to quit')\n",
    "driver.quit()"
   ]
  },
  {
   "cell_type": "code",
   "execution_count": 14,
   "metadata": {},
   "outputs": [
    {
     "name": "stdout",
     "output_type": "stream",
     "text": [
      "https://www.nowcoder.com/recommend/campus\n",
      "['CDwindow-EA4D587BCE58A92E9EEAED93D1AA7F80', 'CDwindow-1BF33339155245BFC8B0DEC3E0D41C04']\n"
     ]
    },
    {
     "name": "stderr",
     "output_type": "stream",
     "text": [
      "e:\\python\\lib\\site-packages\\ipykernel_launcher.py:17: DeprecationWarning: use driver.switch_to.window instead\n"
     ]
    },
    {
     "name": "stdout",
     "output_type": "stream",
     "text": [
      "https://www.nowcoder.com/discuss/555810\n"
     ]
    },
    {
     "name": "stdin",
     "output_type": "stream",
     "text": [
      "press any key to quit \n"
     ]
    }
   ],
   "source": [
    "from selenium import webdriver\n",
    "\n",
    "driver = webdriver.Chrome()\n",
    "\n",
    "# 打开求职界面\n",
    "driver.get('https://www.nowcoder.com/recommend/campus')\n",
    "\n",
    "\n",
    "# 点击 每日更新 校招补招信息\n",
    "driver.find_element_by_xpath('/html/body/div[1]/div[5]/div[1]/div[2]/div/div/a[7]/div[2]').click()\n",
    "# 打印的还是当前的界面URL\n",
    "print(driver.current_url)#https://www.nowcoder.com/recommend/campus\n",
    "\n",
    "hand = driver.window_handles#['CDwindow-EA4D587BCE58A92E9EEAED93D1AA7F80', 'CDwindow-1BF33339155245BFC8B0DEC3E0D41C04']\n",
    "print(hand)\n",
    "\n",
    "# switch后，打印的是后来的界面URL\n",
    "driver.switch_to.window(hand[1])\n",
    "print(driver.current_url)#https://www.nowcoder.com/discuss/555810\n",
    "\n",
    "\n",
    "input('press any key to quit')\n",
    "driver.quit()"
   ]
  },
  {
   "cell_type": "code",
   "execution_count": null,
   "metadata": {},
   "outputs": [],
   "source": []
  }
 ],
 "metadata": {
  "kernelspec": {
   "display_name": "Python 3",
   "language": "python",
   "name": "python3"
  },
  "language_info": {
   "codemirror_mode": {
    "name": "ipython",
    "version": 3
   },
   "file_extension": ".py",
   "mimetype": "text/x-python",
   "name": "python",
   "nbconvert_exporter": "python",
   "pygments_lexer": "ipython3",
   "version": "3.6.6"
  }
 },
 "nbformat": 4,
 "nbformat_minor": 4
}
