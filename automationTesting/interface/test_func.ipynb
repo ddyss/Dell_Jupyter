{
 "cells": [
  {
   "cell_type": "code",
   "execution_count": 33,
   "metadata": {},
   "outputs": [],
   "source": [
    "# https://github.com/chmp/ipytest/blob/master/Example.ipynb\n",
    "import ipytest\n",
    "# 要使用ipytest，请导入它并配置notebook。在大多数情况下，运行ipytest.autoconfig（）将产生合理的默认值：\n",
    "ipytest.autoconfig()"
   ]
  },
  {
   "cell_type": "code",
   "execution_count": 34,
   "metadata": {},
   "outputs": [
    {
     "name": "stdout",
     "output_type": "stream",
     "text": [
      ".                                                                                                                [100%]\n",
      "1 passed in 0.00s\n"
     ]
    },
    {
     "name": "stderr",
     "output_type": "stream",
     "text": [
      "e:\\python\\lib\\site-packages\\ipytest\\_pytest_support.py:111: UserWarning: The configured filename could not be found\n",
      "Consider\n",
      "\n",
      "* removing the explicit filename and using tempfile_fallback=True, or\n",
      "* correcting the filename\n",
      "  \"The configured filename could not be found\\n\"\n"
     ]
    }
   ],
   "source": [
    "%%run_pytest[clean]\n",
    "# 要执行测试，只需使用%%run_pytest [clean] 装饰包含测试的单元格：   要放在开头，前面没有注释\n",
    "\n",
    "# def the test\n",
    "\n",
    "def test_myfunc():\n",
    "    assert my_func(0) == 0\n",
    "    assert my_func(1) == 0\n",
    "    assert my_func(2) == 2\n",
    "    assert my_func(3) == 2\n",
    "    \n",
    "def my_func(x):\n",
    "    return x // 2 * 2\n",
    "    \n",
    "# if __name__ == '__main__':\n",
    "    # 如果未提供notebook名称，将使用使用临时文件的解决方法\n",
    "    # pytest.main(['test_func.py']) # pytest在pycharm中的格式\n"
   ]
  },
  {
   "cell_type": "code",
   "execution_count": 18,
   "metadata": {},
   "outputs": [
    {
     "name": "stdout",
     "output_type": "stream",
     "text": [
      ".....                                                                                                            [100%]\n",
      "5 passed in 0.02s\n"
     ]
    }
   ],
   "source": [
    "%%run_pytest[clean]\n",
    "# 为了使测试发现更容易理解，%%run_pytest[clean]\n",
    "# 会在运行单元之前删除名称与模式[Tt] est *匹配的任何对象。如果不需要此行为，请使用%%run_pytest\n",
    "\n",
    "import pytest\n",
    "\n",
    "# pytest的常用功能，例如parametrize\n",
    "@pytest.mark.parametrize('input,expected', [\n",
    "    (0, 0),\n",
    "    (1, 0),\n",
    "    (2, 2),\n",
    "    (3, 2),\n",
    "])\n",
    "def test_parametrized(input, expected):\n",
    "    assert my_func(input) == expected\n",
    "    \n",
    "# 和fixture：    fixture是pytest特有的功能，它用pytest.fixture标识，定义在函数前面。在你编写\n",
    "# 测试函数的时候，你可以将此函数名称做为传入参数，pytest将会以依赖注入方式，将该函数的返回值作为测试函数的传入参数。\n",
    "@pytest.fixture\n",
    "def my_fixture():\n",
    "    return 42\n",
    "    \n",
    "    \n",
    "def test_fixture(my_fixture):\n",
    "    assert my_fixture == 42"
   ]
  },
  {
   "cell_type": "code",
   "execution_count": null,
   "metadata": {},
   "outputs": [],
   "source": []
  },
  {
   "cell_type": "code",
   "execution_count": 36,
   "metadata": {},
   "outputs": [],
   "source": [
    "# https://zhuanlan.zhihu.com/p/44658359\n",
    "import ipytest\n",
    "# import ipytest.magics\n",
    "import pytest\n"
   ]
  },
  {
   "cell_type": "code",
   "execution_count": 37,
   "metadata": {},
   "outputs": [
    {
     "name": "stdout",
     "output_type": "stream",
     "text": [
      "F                                                                                                                [100%]\n",
      "====================================================== FAILURES =======================================================\n",
      "______________________________________________ test_sum_of_three_numbers ______________________________________________\n",
      "\n",
      "    def test_sum_of_three_numbers():\n",
      "        # 1. Setup the variables used in the test 设置测试变量\n",
      "        num1 = 2\n",
      "        num2 = 3\n",
      "        num3 = 5\n",
      "    \n",
      "        # 2. Call the functionality you want to test 你的实现\n",
      ">       result = sum_of_three_numbers(num1, num2, num3)\n",
      "E       NameError: name 'sum_of_three_numbers' is not defined\n",
      "\n",
      "<ipython-input-37-1289c5d7ea1c>:9: NameError\n",
      "=============================================== short test summary info ===============================================\n",
      "FAILED tmp6d__xq6u.py::test_sum_of_three_numbers - NameError: name 'sum_of_three_numbers' is not defined\n",
      "1 failed in 0.01s\n"
     ]
    },
    {
     "name": "stderr",
     "output_type": "stream",
     "text": [
      "e:\\python\\lib\\site-packages\\ipytest\\_pytest_support.py:111: UserWarning: The configured filename could not be found\n",
      "Consider\n",
      "\n",
      "* removing the explicit filename and using tempfile_fallback=True, or\n",
      "* correcting the filename\n",
      "  \"The configured filename could not be found\\n\"\n"
     ]
    }
   ],
   "source": [
    "%%run_pytest[clean]\n",
    "\n",
    "# This would be in your test_implementation.py\n",
    "def test_sum_of_three_numbers():\n",
    "    # 1. Setup the variables used in the test 设置测试变量\n",
    "    num1 = 2\n",
    "    num2 = 3\n",
    "    num3 = 5\n",
    "    \n",
    "    # 2. Call the functionality you want to test 你的实现\n",
    "    result = sum_of_three_numbers(num1, num2, num3)\n",
    "    \n",
    "    # 3. Verify that the outcome is expected  使用断言判断\n",
    "    assert result == 10"
   ]
  },
  {
   "cell_type": "code",
   "execution_count": null,
   "metadata": {},
   "outputs": [],
   "source": []
  },
  {
   "cell_type": "code",
   "execution_count": 3,
   "metadata": {},
   "outputs": [
    {
     "data": {
      "text/plain": [
       "65536"
      ]
     },
     "execution_count": 3,
     "metadata": {},
     "output_type": "execute_result"
    }
   ],
   "source": [
    "2**16"
   ]
  },
  {
   "cell_type": "code",
   "execution_count": 5,
   "metadata": {},
   "outputs": [
    {
     "name": "stdout",
     "output_type": "stream",
     "text": [
      "2 1\n"
     ]
    }
   ],
   "source": [
    "def func(x=1,y=2):\n",
    "    print(x,y)\n",
    "func(x=2,y=1)"
   ]
  },
  {
   "cell_type": "code",
   "execution_count": 3,
   "metadata": {},
   "outputs": [
    {
     "name": "stdout",
     "output_type": "stream",
     "text": [
      "0\n",
      "1\n",
      "3\n",
      "4\n",
      "5\n"
     ]
    }
   ],
   "source": [
    "for i in range(6):\n",
    "    if i == 2:\n",
    "        continue\n",
    "    else:\n",
    "        print(i)"
   ]
  },
  {
   "cell_type": "code",
   "execution_count": null,
   "metadata": {},
   "outputs": [],
   "source": []
  }
 ],
 "metadata": {
  "kernelspec": {
   "display_name": "Python 3",
   "language": "python",
   "name": "python3"
  },
  "language_info": {
   "codemirror_mode": {
    "name": "ipython",
    "version": 3
   },
   "file_extension": ".py",
   "mimetype": "text/x-python",
   "name": "python",
   "nbconvert_exporter": "python",
   "pygments_lexer": "ipython3",
   "version": "3.6.6"
  }
 },
 "nbformat": 4,
 "nbformat_minor": 4
}
