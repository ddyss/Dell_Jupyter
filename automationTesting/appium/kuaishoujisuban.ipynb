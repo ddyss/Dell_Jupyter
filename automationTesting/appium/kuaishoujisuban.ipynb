{
 "cells": [
  {
   "cell_type": "code",
   "execution_count": 3,
   "metadata": {},
   "outputs": [
    {
     "ename": "KeyboardInterrupt",
     "evalue": "",
     "output_type": "error",
     "traceback": [
      "\u001b[1;31m---------------------------------------------------------------------------\u001b[0m",
      "\u001b[1;31mKeyboardInterrupt\u001b[0m                         Traceback (most recent call last)",
      "\u001b[1;32m<ipython-input-3-4b4bee54c5cd>\u001b[0m in \u001b[0;36m<module>\u001b[1;34m\u001b[0m\n\u001b[0;32m     47\u001b[0m \u001b[1;33m\u001b[0m\u001b[0m\n\u001b[0;32m     48\u001b[0m     \u001b[1;31m# 滑动看视频\u001b[0m\u001b[1;33m\u001b[0m\u001b[1;33m\u001b[0m\u001b[0m\n\u001b[1;32m---> 49\u001b[1;33m     \u001b[0msleep\u001b[0m\u001b[1;33m(\u001b[0m\u001b[1;36m10\u001b[0m\u001b[1;33m)\u001b[0m\u001b[1;33m\u001b[0m\u001b[0m\n\u001b[0m\u001b[0;32m     50\u001b[0m     \u001b[0mswipeDown\u001b[0m\u001b[1;33m(\u001b[0m\u001b[0mdriver\u001b[0m\u001b[1;33m)\u001b[0m \u001b[1;31m#Original error: Could not proxy command to the remote server. Original error: socket hang up\u001b[0m\u001b[1;33m\u001b[0m\u001b[0m\n\u001b[0;32m     51\u001b[0m \u001b[1;33m\u001b[0m\u001b[0m\n",
      "\u001b[1;31mKeyboardInterrupt\u001b[0m: "
     ]
    }
   ],
   "source": [
    "from appium import webdriver\n",
    "from appium.webdriver.extensions.android.nativekey import AndroidKey\n",
    "from appium.webdriver.common.touch_action import TouchAction\n",
    "from time import sleep\n",
    "\n",
    "desired_caps = {\n",
    "  'platformName': 'Android', # 被测手机是安卓\n",
    "  'platformVersion': '10', # 手机安卓版本\n",
    "  'deviceName': 'xiaomi 10', # 设备名，安卓手机可以随意填写\n",
    "  'appPackage': 'com.kuaishou.nebula', # 启动APP Package名称\n",
    "  'appActivity': 'com.yxcorp.gifshow.HomeActivity', # 启动Activity名称\n",
    "#   'unicodeKeyboard': True, # 使用自带输入法，输入中文时填True\n",
    "  'resetKeyboard': True, # 执行完程序恢复原来输入法\n",
    "  'noReset': True,       # 不要重置App\n",
    "  'newCommandTimeout': 6000,  #设置命令超时时间, 两条 appium 命令间的最长时间间隔，若超过这个时间，appium 会自动结束并退出app\n",
    "#   'automationName' : 'UiAutomator2' #不设置会默认为UiAutomator1；这是安卓框架    iOS对应框架：XCUITest 框架\n",
    "  # 'app': r'd:\\apk\\bili.apk',\n",
    "}\n",
    "\n",
    "# 启动APP；连接Appium Server，初始化自动化环境；默认的4723\n",
    "driver = webdriver.Remote('http://localhost:4723/wd/hub', desired_caps)\n",
    "\n",
    "# 设置隐式等待时间，开屏广告？\n",
    "# driver.implicitly_wait(5)\n",
    "\n",
    "sleep(5)\n",
    "\n",
    "\n",
    "window_width = driver.get_window_size()['width']\n",
    "window_height = driver.get_window_size()['height']\n",
    "        \n",
    "def swipeDown(driver, t=500):\n",
    "    '''向上滑动屏幕'''\n",
    "    x1 = window_width * 0.5  # x坐标\n",
    "    y1 = window_height * 0.7  # 起始y坐标\n",
    "    y2 = window_height * 0.3  # 终点y坐标\n",
    "    driver.swipe(x1, y1, x1, y2, t)\n",
    "    \n",
    "# def swipeContentDown(driver, t=500):\n",
    "#     '''向上滑动屏幕'''\n",
    "#     x1 = window_width * 0.5  # x坐标\n",
    "#     y1 = window_height * 0.25  # 起始y坐标\n",
    "#     y2 = window_height * 0.2  # 终点y坐标\n",
    "#     driver.swipe(x1, y1, x1, y2, t)\n",
    "\n",
    "for i in range(3000):\n",
    "\n",
    "    # 滑动看视频\n",
    "    sleep(6)\n",
    "    swipeDown(driver) #Original error: Could not proxy command to the remote server. Original error: socket hang up\n",
    "\n",
    "\n",
    "# 这一句好像影响执行了，明明没有在for循环了啊，却只执行一次就退出来了，关闭后居然可以了。。。\n",
    "# input('**** Press to quit..')#只有执行了这一句，才会执行下一句，关闭driver\n",
    "# driver.quit()"
   ]
  },
  {
   "cell_type": "code",
   "execution_count": null,
   "metadata": {},
   "outputs": [],
   "source": []
  }
 ],
 "metadata": {
  "kernelspec": {
   "display_name": "Python 3",
   "language": "python",
   "name": "python3"
  },
  "language_info": {
   "codemirror_mode": {
    "name": "ipython",
    "version": 3
   },
   "file_extension": ".py",
   "mimetype": "text/x-python",
   "name": "python",
   "nbconvert_exporter": "python",
   "pygments_lexer": "ipython3",
   "version": "3.6.6"
  }
 },
 "nbformat": 4,
 "nbformat_minor": 4
}
