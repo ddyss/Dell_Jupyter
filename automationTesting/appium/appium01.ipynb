{
 "cells": [
  {
   "cell_type": "code",
   "execution_count": null,
   "metadata": {},
   "outputs": [],
   "source": [
    "# 由于目标计算机积极拒绝，无法连接。\n",
    "# 1、端口被占用\n",
    "# 2、appium未开启      运行代码前，要先 运行 Appium Desktop\n",
    "\n",
    "# WebDriverException: Message: The URL '/wb/hub/session' did not map to a valid resource\n",
    "# 1、多了一个'/' ？\n",
    "# 2、selenium版本太高\n",
    "\n",
    "# Could not proxy command to the remote server. Original error: socket hang up\n",
    "# 1、删除appium seting，卸载重装软件安装包，清楚所有缓存，所有数据等\n",
    "# 2、去掉uiautomator2后，可执行成功 desired_caps['automationName'] = 'uiautomator2'\n",
    "# 经分析后，是因为uiautomator2版本不对\n",
    "# 解决办法：\n",
    "# 在终端执行以下命令：\n",
    "# adb  uninstall io.appium.uiautomator2.server\n",
    "# adb  uninstall io.appium.uiautomator2.server.test\n",
    "# 然后重新安装Appium Settings即可解决以上问题"
   ]
  },
  {
   "cell_type": "code",
   "execution_count": null,
   "metadata": {},
   "outputs": [],
   "source": [
    "# 版本Appium-windows-1.15.1.exe\n",
    "# 更多设置-语言输入法-Unicode IME\n",
    "# 开关控制-关闭-手机上就不会弹窗了"
   ]
  },
  {
   "cell_type": "code",
   "execution_count": 5,
   "metadata": {},
   "outputs": [
    {
     "name": "stdout",
     "output_type": "stream",
     "text": [
      "[]\n",
      "零基础入门移动自动化测试——Appium框架视频（黑马程序员）\n",
      "华为大佬7天带你入门python自动化测试—selenium自动化，appium自动化，app自动化，接口自动化，jmeter性能测试\n",
      "B站最燃软件测试 自动化测试全讲解 — Appium（年底珍藏版）\n"
     ]
    },
    {
     "name": "stdin",
     "output_type": "stream",
     "text": [
      "**** Press to quit.. \n"
     ]
    }
   ],
   "source": [
    "from appium import webdriver\n",
    "from appium.webdriver.extensions.android.nativekey import AndroidKey\n",
    "\n",
    "# 'adb' 不是内部或外部命令，也不是可运行的程序或批处理文件。\n",
    "# 1、androidsdk安装位置：例如C:\\Program File\\android-sdk-windows\\tools加入到 系统变量Path中\n",
    "# 2、android2.2和android 2.3是不一样的 ，android2.3 adb.exe是放在android-sdk-windows\\platform-tools目录下面的，\n",
    "# 而2.2是放在tools目录下面的，所以把path的路径指到platform-tools下面\n",
    "# 3、adb.exe、AdbWinApi.dll、AdbWinUsbApi.dll 三个文件将其复制到C:\\Users\\27896>目录下-----------亲测成功20201120\n",
    "    \n",
    "# 进入 手机设置 -> 我的设备--全部参数---不断点击 版本号 菜单（7次以上），---开发者模式---USB调试模式打开\n",
    "# 有的手机，开发者选项里 需要打开 允许通过USB安装应用 等。\n",
    "\n",
    "# 查看是否有设备连接上\n",
    "# adb devices -l\n",
    "\n",
    "# 最近打开的APP的appPackage和appActivity会出现在第一行\n",
    "# adb shell dumpsys activity recents | find \"intent={\"\n",
    "\n",
    "# 首选id、（class）、content-desc进行定位；其次根据语法xpath进行定位（可采用text属性）\n",
    "\n",
    "# https://developer.android.com/reference/android/view/KeyEvent\n",
    "# https://developer.android.google.cn/training/testing/ui-automator  >API>UiSelector\n",
    "\n",
    "desired_caps = {\n",
    "  'platformName': 'Android', # 被测手机是安卓\n",
    "  'platformVersion': '10', # 手机安卓版本\n",
    "  'deviceName': 'xiaomi 10', # 设备名，安卓手机可以随意填写\n",
    "  'appPackage': 'tv.danmaku.bili', # 启动APP Package名称\n",
    "  'appActivity': '.ui.splash.SplashActivity', # 启动Activity名称\n",
    "#   'unicodeKeyboard': True, # 使用自带输入法，输入中文时填True；但是注释掉，输入中文时也可以正常运行啊\n",
    "  'resetKeyboard': True, # 执行完程序恢复原来输入法\n",
    "  'noReset': True,       # 不要重置App\n",
    "  'newCommandTimeout': 6000,  #设置命令超时时间, 两条 appium 命令间的最长时间间隔，若超过这个时间，appium 会自动结束并退出app\n",
    "#   'automationName' : 'UiAutomator2' #不设置会默认为UiAutomator1；这是安卓框架    iOS对应框架：XCUITest 框架\n",
    "  # 'app': r'd:\\apk\\bili.apk',\n",
    "}\n",
    "\n",
    "# 连接Appium Server，初始化自动化环境；默认的4723\n",
    "driver = webdriver.Remote('http://localhost:4723/wd/hub', desired_caps)\n",
    "\n",
    "# 设置缺省等待时间\n",
    "driver.implicitly_wait(10)\n",
    "\n",
    "# 如果有`青少年保护`界面，点击`我知道了`\n",
    "iknow = driver.find_elements_by_id(\"text3\")\n",
    "print(iknow) # []\n",
    "if iknow:\n",
    "    iknow.click()\n",
    "\n",
    "# 根据id定位搜索位置框，点击\n",
    "driver.find_element_by_id(\"expand_search\").click()\n",
    "\n",
    "# 根据id定位搜索输入框，点击\n",
    "sbox = driver.find_element_by_id('search_src_text')\n",
    "sbox.send_keys('测试appium')\n",
    "# 输入回车键，确定搜索----这个可以搜Android keycode得到表\n",
    "driver.press_keycode(AndroidKey.ENTER)\n",
    "\n",
    "# 选择（定位）所有视频标题----可以切片只取前3个\n",
    "eles = driver.find_elements_by_id(\"title\")[:3]\n",
    "\n",
    "for ele in eles:\n",
    "    # 打印标题\n",
    "    print(ele.text) # 三条标题\n",
    "\n",
    "input('**** Press to quit..')#只有执行了这一句，才会执行下一句，关闭driver（退出APP界面）\n",
    "driver.quit()"
   ]
  },
  {
   "cell_type": "code",
   "execution_count": null,
   "metadata": {},
   "outputs": [],
   "source": []
  },
  {
   "cell_type": "code",
   "execution_count": null,
   "metadata": {},
   "outputs": [],
   "source": []
  }
 ],
 "metadata": {
  "kernelspec": {
   "display_name": "Python 3",
   "language": "python",
   "name": "python3"
  },
  "language_info": {
   "codemirror_mode": {
    "name": "ipython",
    "version": 3
   },
   "file_extension": ".py",
   "mimetype": "text/x-python",
   "name": "python",
   "nbconvert_exporter": "python",
   "pygments_lexer": "ipython3",
   "version": "3.6.6"
  }
 },
 "nbformat": 4,
 "nbformat_minor": 4
}
