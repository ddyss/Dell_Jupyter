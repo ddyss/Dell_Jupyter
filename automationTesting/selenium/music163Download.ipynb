{
 "cells": [
  {
   "cell_type": "code",
   "execution_count": 3,
   "metadata": {},
   "outputs": [
    {
     "name": "stdin",
     "output_type": "stream",
     "text": [
      "请输入歌手或歌名： yellow\n"
     ]
    },
    {
     "name": "stderr",
     "output_type": "stream",
     "text": [
      "e:\\python\\lib\\site-packages\\ipykernel_launcher.py:37: DeprecationWarning: use driver.switch_to.frame instead\n"
     ]
    },
    {
     "name": "stdout",
     "output_type": "stream",
     "text": [
      "已下载 歌曲：Yellow-Yellow.mp3\n",
      "已下载 歌曲：Yellow-Yellow（翻自 有機酸） .mp3\n",
      "已下载 歌曲：yellow-YELLOW.mp3\n",
      "已下载 歌曲：YELLOW-Yellow.mp3\n",
      "已下载 歌曲：Yellow-YELLOW（翻自 神山羊）.mp3\n",
      "已下载 歌曲：Yellow-yellow.mp3\n"
     ]
    },
    {
     "ename": "FileNotFoundError",
     "evalue": "[Errno 2] No such file or directory: 'YELLOW-有機酸-YELLOW（多人合唱×混响）（翻自 神山羊）（Reigo_叉叉 / 困先生 / 阿两 / 俺酱 remix） .mp3'",
     "output_type": "error",
     "traceback": [
      "\u001b[1;31m---------------------------------------------------------------------------\u001b[0m",
      "\u001b[1;31mFileNotFoundError\u001b[0m                         Traceback (most recent call last)",
      "\u001b[1;32m<ipython-input-3-2aad7dffa5f9>\u001b[0m in \u001b[0;36m<module>\u001b[1;34m\u001b[0m\n\u001b[0;32m     73\u001b[0m     \u001b[0mspider\u001b[0m \u001b[1;33m=\u001b[0m \u001b[0mDownloadMusic\u001b[0m\u001b[1;33m(\u001b[0m\u001b[1;33m)\u001b[0m\u001b[1;33m\u001b[0m\u001b[0m\n\u001b[0;32m     74\u001b[0m     \u001b[0mparam\u001b[0m \u001b[1;33m=\u001b[0m \u001b[0minput\u001b[0m\u001b[1;33m(\u001b[0m\u001b[1;34m\"请输入歌手或歌名：\"\u001b[0m\u001b[1;33m)\u001b[0m\u001b[1;33m\u001b[0m\u001b[0m\n\u001b[1;32m---> 75\u001b[1;33m     \u001b[0mspider\u001b[0m\u001b[1;33m.\u001b[0m\u001b[0mmain\u001b[0m\u001b[1;33m(\u001b[0m\u001b[0mparam\u001b[0m\u001b[1;33m)\u001b[0m\u001b[1;33m\u001b[0m\u001b[0m\n\u001b[0m",
      "\u001b[1;32m<ipython-input-3-2aad7dffa5f9>\u001b[0m in \u001b[0;36mmain\u001b[1;34m(self, param)\u001b[0m\n\u001b[0;32m     67\u001b[0m \u001b[1;33m\u001b[0m\u001b[0m\n\u001b[0;32m     68\u001b[0m     \u001b[1;32mdef\u001b[0m \u001b[0mmain\u001b[0m\u001b[1;33m(\u001b[0m\u001b[0mself\u001b[0m\u001b[1;33m,\u001b[0m \u001b[0mparam\u001b[0m\u001b[1;33m)\u001b[0m\u001b[1;33m:\u001b[0m\u001b[1;33m\u001b[0m\u001b[0m\n\u001b[1;32m---> 69\u001b[1;33m         \u001b[0mself\u001b[0m\u001b[1;33m.\u001b[0m\u001b[0msearch_music\u001b[0m\u001b[1;33m(\u001b[0m\u001b[0mparam\u001b[0m\u001b[1;33m)\u001b[0m\u001b[1;33m\u001b[0m\u001b[0m\n\u001b[0m\u001b[0;32m     70\u001b[0m \u001b[1;33m\u001b[0m\u001b[0m\n\u001b[0;32m     71\u001b[0m \u001b[1;33m\u001b[0m\u001b[0m\n",
      "\u001b[1;32m<ipython-input-3-2aad7dffa5f9>\u001b[0m in \u001b[0;36msearch_music\u001b[1;34m(self, param)\u001b[0m\n\u001b[0;32m     37\u001b[0m         \u001b[0mself\u001b[0m\u001b[1;33m.\u001b[0m\u001b[0mbrowser\u001b[0m\u001b[1;33m.\u001b[0m\u001b[0mswitch_to_frame\u001b[0m\u001b[1;33m(\u001b[0m\u001b[1;34m\"g_iframe\"\u001b[0m\u001b[1;33m)\u001b[0m\u001b[1;33m\u001b[0m\u001b[0m\n\u001b[0;32m     38\u001b[0m         \u001b[0mhtml\u001b[0m \u001b[1;33m=\u001b[0m \u001b[0mself\u001b[0m\u001b[1;33m.\u001b[0m\u001b[0mbrowser\u001b[0m\u001b[1;33m.\u001b[0m\u001b[0mpage_source\u001b[0m\u001b[1;33m\u001b[0m\u001b[0m\n\u001b[1;32m---> 39\u001b[1;33m         \u001b[0mself\u001b[0m\u001b[1;33m.\u001b[0m\u001b[0mparse_html\u001b[0m\u001b[1;33m(\u001b[0m\u001b[0mhtml\u001b[0m\u001b[1;33m)\u001b[0m\u001b[1;33m\u001b[0m\u001b[0m\n\u001b[0m\u001b[0;32m     40\u001b[0m \u001b[1;33m\u001b[0m\u001b[0m\n\u001b[0;32m     41\u001b[0m     \u001b[1;32mdef\u001b[0m \u001b[0mparse_html\u001b[0m\u001b[1;33m(\u001b[0m\u001b[0mself\u001b[0m\u001b[1;33m,\u001b[0m \u001b[0mhtml\u001b[0m\u001b[1;33m)\u001b[0m\u001b[1;33m:\u001b[0m\u001b[1;33m\u001b[0m\u001b[0m\n",
      "\u001b[1;32m<ipython-input-3-2aad7dffa5f9>\u001b[0m in \u001b[0;36mparse_html\u001b[1;34m(self, html)\u001b[0m\n\u001b[0;32m     48\u001b[0m         \u001b[0msong_name\u001b[0m \u001b[1;33m=\u001b[0m \u001b[0mre\u001b[0m\u001b[1;33m.\u001b[0m\u001b[0mfindall\u001b[0m\u001b[1;33m(\u001b[0m\u001b[1;33m(\u001b[0m\u001b[1;34m'<b title=\"(.*?)\"'\u001b[0m\u001b[1;33m)\u001b[0m\u001b[1;33m,\u001b[0m \u001b[0mhtml\u001b[0m\u001b[1;33m)\u001b[0m\u001b[1;33m\u001b[0m\u001b[0m\n\u001b[0;32m     49\u001b[0m         \u001b[0msinger\u001b[0m \u001b[1;33m=\u001b[0m \u001b[0mre\u001b[0m\u001b[1;33m.\u001b[0m\u001b[0mfindall\u001b[0m\u001b[1;33m(\u001b[0m\u001b[1;34m'span class=\"s-fc7\">(.*?)</span>'\u001b[0m\u001b[1;33m,\u001b[0m \u001b[0mhtml\u001b[0m\u001b[1;33m)\u001b[0m\u001b[1;33m\u001b[0m\u001b[0m\n\u001b[1;32m---> 50\u001b[1;33m         \u001b[0mself\u001b[0m\u001b[1;33m.\u001b[0m\u001b[0mdownload_music\u001b[0m\u001b[1;33m(\u001b[0m\u001b[0msong_id\u001b[0m\u001b[1;33m,\u001b[0m \u001b[0msong_name\u001b[0m\u001b[1;33m,\u001b[0m \u001b[0msinger\u001b[0m\u001b[1;33m)\u001b[0m\u001b[1;33m\u001b[0m\u001b[0m\n\u001b[0m\u001b[0;32m     51\u001b[0m \u001b[1;33m\u001b[0m\u001b[0m\n\u001b[0;32m     52\u001b[0m     \u001b[1;32mdef\u001b[0m \u001b[0mdownload_music\u001b[0m\u001b[1;33m(\u001b[0m\u001b[0mself\u001b[0m\u001b[1;33m,\u001b[0m \u001b[0msong_id\u001b[0m\u001b[1;33m,\u001b[0m \u001b[0msong_name\u001b[0m\u001b[1;33m,\u001b[0m \u001b[0msinger\u001b[0m\u001b[1;33m)\u001b[0m\u001b[1;33m:\u001b[0m\u001b[1;33m\u001b[0m\u001b[0m\n",
      "\u001b[1;32m<ipython-input-3-2aad7dffa5f9>\u001b[0m in \u001b[0;36mdownload_music\u001b[1;34m(self, song_id, song_name, singer)\u001b[0m\n\u001b[0;32m     61\u001b[0m             \u001b[0msong_url\u001b[0m \u001b[1;33m=\u001b[0m \u001b[0mself\u001b[0m\u001b[1;33m.\u001b[0m\u001b[0mmusic_api\u001b[0m\u001b[1;33m.\u001b[0m\u001b[0mformat\u001b[0m\u001b[1;33m(\u001b[0m\u001b[0mid\u001b[0m\u001b[1;33m)\u001b[0m\u001b[1;33m\u001b[0m\u001b[0m\n\u001b[0;32m     62\u001b[0m             \u001b[0mresp\u001b[0m \u001b[1;33m=\u001b[0m \u001b[0mrequests\u001b[0m\u001b[1;33m.\u001b[0m\u001b[0mget\u001b[0m\u001b[1;33m(\u001b[0m\u001b[0msong_url\u001b[0m\u001b[1;33m)\u001b[0m\u001b[1;33m\u001b[0m\u001b[0m\n\u001b[1;32m---> 63\u001b[1;33m             \u001b[1;32mwith\u001b[0m \u001b[0mopen\u001b[0m\u001b[1;33m(\u001b[0m\u001b[1;34m'%s-%s.mp3'\u001b[0m \u001b[1;33m%\u001b[0m \u001b[1;33m(\u001b[0m\u001b[0msinger\u001b[0m\u001b[1;33m,\u001b[0m \u001b[0mname\u001b[0m\u001b[1;33m)\u001b[0m\u001b[1;33m,\u001b[0m \u001b[1;34m'wb'\u001b[0m\u001b[1;33m)\u001b[0m \u001b[1;32mas\u001b[0m \u001b[0mf\u001b[0m\u001b[1;33m:\u001b[0m\u001b[1;33m\u001b[0m\u001b[0m\n\u001b[0m\u001b[0;32m     64\u001b[0m                 \u001b[0mf\u001b[0m\u001b[1;33m.\u001b[0m\u001b[0mwrite\u001b[0m\u001b[1;33m(\u001b[0m\u001b[0mresp\u001b[0m\u001b[1;33m.\u001b[0m\u001b[0mcontent\u001b[0m\u001b[1;33m)\u001b[0m\u001b[1;33m\u001b[0m\u001b[0m\n\u001b[0;32m     65\u001b[0m                 \u001b[0mprint\u001b[0m\u001b[1;33m(\u001b[0m\u001b[1;34m'已下载 歌曲：%s-%s.mp3'\u001b[0m \u001b[1;33m%\u001b[0m \u001b[1;33m(\u001b[0m\u001b[0msinger\u001b[0m\u001b[1;33m,\u001b[0m \u001b[0mname\u001b[0m\u001b[1;33m)\u001b[0m\u001b[1;33m)\u001b[0m\u001b[1;33m\u001b[0m\u001b[0m\n",
      "\u001b[1;31mFileNotFoundError\u001b[0m: [Errno 2] No such file or directory: 'YELLOW-有機酸-YELLOW（多人合唱×混响）（翻自 神山羊）（Reigo_叉叉 / 困先生 / 阿两 / 俺酱 remix） .mp3'"
     ]
    }
   ],
   "source": [
    "# \"\"\"网易云音乐下载程序\"\"\"\n",
    "\n",
    "\n",
    "import re\n",
    "import requests\n",
    "from selenium import webdriver\n",
    "\n",
    "\n",
    "class DownloadMusic(object):\n",
    "    def __init__(self):\n",
    "        self.music_api = 'http://music.163.com/song/media/outer/url?id={}.mp3'\n",
    "        self.music_search = 'https://music.163.com/#/search/m/?s={}'\n",
    "        # Mozilla是一家非盈利公司\n",
    "        self.headers = {\n",
    "            'User-Agent': 'Mozilla/5.0'\n",
    "        }\n",
    "        chrome_options = webdriver.ChromeOptions()\n",
    "        chrome_options.add_argument('--headless')\n",
    "        self.browser = webdriver.Chrome(options=chrome_options)\n",
    "\n",
    "    def __del__(self):\n",
    "        \"\"\"\n",
    "        运行结束自动关闭webdriver\n",
    "        :return:\n",
    "        \"\"\"\n",
    "        self.browser.close()\n",
    "\n",
    "    def search_music(self, param):\n",
    "        \"\"\"\n",
    "        传入搜索关键字，并请求网页\n",
    "        :param param: 搜索关键字\n",
    "        :return:\n",
    "        \"\"\"\n",
    "        url = self.music_search.format(param)\n",
    "        self.browser.get(url)\n",
    "        # 值得注意的是这里需要跳转iframe，不懂请自行百度\n",
    "        self.browser.switch_to_frame(\"g_iframe\") #use driver.switch_to.frame instead\n",
    "        html = self.browser.page_source\n",
    "        self.parse_html(html)\n",
    "\n",
    "    def parse_html(self, html):\n",
    "        \"\"\"\n",
    "        传入html，解析网页\n",
    "        :param html: \n",
    "        :return:\n",
    "        \"\"\"\n",
    "        song_id = re.findall('a href=\"/song\\?id=(.*?)\"', html)\n",
    "        song_name = re.findall(('<b title=\"(.*?)\"'), html)\n",
    "        singer = re.findall('span class=\"s-fc7\">(.*?)</span>', html)\n",
    "        self.download_music(song_id, song_name, singer)\n",
    "\n",
    "    def download_music(self, song_id, song_name, singer):\n",
    "        \"\"\"\n",
    "        传入歌曲id，歌曲名，歌手并下载歌曲\n",
    "        :param song_id: \n",
    "        :param song_name: \n",
    "        :param singer: \n",
    "        :return:\n",
    "        \"\"\"\n",
    "        for id, name, singer in zip(song_id, song_name, singer):\n",
    "            song_url = self.music_api.format(id)\n",
    "            resp = requests.get(song_url)\n",
    "            with open('%s-%s.mp3' % (singer, name), 'wb') as f:\n",
    "                f.write(resp.content)\n",
    "                print('已下载 歌曲：%s-%s.mp3' % (singer, name))\n",
    "                f.close()\n",
    "\n",
    "    def main(self, param):\n",
    "        self.search_music(param)\n",
    "\n",
    "\n",
    "if __name__ == '__main__':\n",
    "    spider = DownloadMusic()\n",
    "    param = input(\"请输入歌手或歌名：\")\n",
    "    spider.main(param)"
   ]
  },
  {
   "cell_type": "code",
   "execution_count": null,
   "metadata": {},
   "outputs": [],
   "source": []
  }
 ],
 "metadata": {
  "kernelspec": {
   "display_name": "Python 3",
   "language": "python",
   "name": "python3"
  },
  "language_info": {
   "codemirror_mode": {
    "name": "ipython",
    "version": 3
   },
   "file_extension": ".py",
   "mimetype": "text/x-python",
   "name": "python",
   "nbconvert_exporter": "python",
   "pygments_lexer": "ipython3",
   "version": "3.6.6"
  }
 },
 "nbformat": 4,
 "nbformat_minor": 4
}
