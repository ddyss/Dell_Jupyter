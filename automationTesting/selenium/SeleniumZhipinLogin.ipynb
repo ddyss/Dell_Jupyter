{
 "cells": [
  {
   "cell_type": "code",
   "execution_count": 5,
   "metadata": {},
   "outputs": [],
   "source": [
    "from selenium import webdriver\n",
    "from selenium.webdriver import ChromeOptions\n",
    "\n",
    "# 屏蔽webdriver特征\n",
    "option = ChromeOptions()\n",
    "option.add_experimental_option('excludeSwitches', ['enable-automation'])\n",
    "browser = webdriver.Chrome(options=option)\n",
    "\n",
    "# 关闭自动化扩展信息\n",
    "# option.add_experimental_option('useAutomationExtension',False)\n",
    "\n",
    "# browser.execute_cdp_cmd('Page.addScriptToEvaluateOnNewDocument',{'source':'Object.defineProperty(navigator,\"webdriver\",{get:()=>undefined})'})\n",
    "\n",
    "url = 'https://www.zhipin.com/'\n",
    "browser.get(url)\n",
    "browser.implicitly_wait(10)\n",
    "\n",
    "# 输入职位 会发生变化，上一次还是div[4]，现在就变成div[3]了\n",
    "# 也加回车send_keys('Python\\n')，代替下一步的click\n",
    "browser.find_element_by_xpath('//*[@id=\"wrap\"]/div[3]/div/div/div[1]/form/div[2]/p/input').send_keys('Python') \n",
    "# 点击搜索 会发生变化，上一次还是div[4]，现在就变成div[3]了\n",
    "browser.find_element_by_xpath('//*[@id=\"wrap\"]/div[3]/div/div/div[1]/form/button').click()\n"
   ]
  },
  {
   "cell_type": "code",
   "execution_count": null,
   "metadata": {},
   "outputs": [],
   "source": []
  }
 ],
 "metadata": {
  "kernelspec": {
   "display_name": "Python 3",
   "language": "python",
   "name": "python3"
  },
  "language_info": {
   "codemirror_mode": {
    "name": "ipython",
    "version": 3
   },
   "file_extension": ".py",
   "mimetype": "text/x-python",
   "name": "python",
   "nbconvert_exporter": "python",
   "pygments_lexer": "ipython3",
   "version": "3.6.6"
  }
 },
 "nbformat": 4,
 "nbformat_minor": 4
}
