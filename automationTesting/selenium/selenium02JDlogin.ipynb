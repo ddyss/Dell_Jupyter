{
 "cells": [
  {
   "cell_type": "code",
   "execution_count": 1,
   "metadata": {},
   "outputs": [],
   "source": [
    "from selenium import webdriver"
   ]
  },
  {
   "cell_type": "code",
   "execution_count": 11,
   "metadata": {},
   "outputs": [],
   "source": [
    "browser = webdriver.Chrome()\n",
    "browser.maximize_window()\n",
    "# 获取登录界面\n",
    "browser.get('https://passport.jd.com/uc/login?ReturnUrl=http%3A%2F%2Fvip.jd.com%2Fhome.html')\n",
    "# 点击“账号密码登录”------------或者采取切换frame操作\n",
    "browser.find_element_by_xpath('//*[@id=\"content\"]/div[2]/div[1]/div/div[3]/a').click()\n",
    "# 再输入账号密码\n",
    "browser.find_element_by_xpath('//*[@id=\"loginname\"]').send_keys('15210303959')\n",
    "browser.find_element_by_xpath('//*[@id=\"nloginpwd\"]').send_keys('wdjdmm123*')\n",
    "browser.find_element_by_xpath('//*[@id=\"loginsubmit\"]').click()"
   ]
  },
  {
   "cell_type": "code",
   "execution_count": 12,
   "metadata": {},
   "outputs": [],
   "source": [
    "browser.quit()"
   ]
  },
  {
   "cell_type": "code",
   "execution_count": null,
   "metadata": {},
   "outputs": [],
   "source": []
  }
 ],
 "metadata": {
  "kernelspec": {
   "display_name": "Python 3",
   "language": "python",
   "name": "python3"
  },
  "language_info": {
   "codemirror_mode": {
    "name": "ipython",
    "version": 3
   },
   "file_extension": ".py",
   "mimetype": "text/x-python",
   "name": "python",
   "nbconvert_exporter": "python",
   "pygments_lexer": "ipython3",
   "version": "3.6.6"
  }
 },
 "nbformat": 4,
 "nbformat_minor": 4
}
