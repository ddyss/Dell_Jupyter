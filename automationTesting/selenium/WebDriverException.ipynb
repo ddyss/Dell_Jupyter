{
 "cells": [
  {
   "cell_type": "code",
   "execution_count": 3,
   "metadata": {},
   "outputs": [],
   "source": [
    "# https://zhuanlan.zhihu.com/p/128521404\n",
    "from selenium import webdriver\n",
    "from time import sleep\n",
    "import os\n",
    "from selenium.webdriver.common.keys import Keys\n",
    "\n",
    "wd = webdriver.Chrome()\n",
    "wd.get('https://www.jd.com/')\n",
    "wd.find_element_by_xpath('//*[@id=\"key\"]').send_keys('Google测试之道')\n",
    "\n",
    "# Keys.ENTER，在上面的基础上点击即可\n",
    "wd.find_element_by_xpath('//*[@id=\"key\"]').send_keys(Keys.ENTER)\n",
    "wd.implicitly_wait(10)\n",
    "# wd.find_element_by_xpath('//*[@id=\"J_goodsList\"]/ul/li[3]/div/div[1]/a/img').click()\n",
    "\n",
    "# wd.find_element_by_xpath('//li[@data-sku=11967003]/div/div/a').click()    #Google软件测试之道 英文版\n",
    "\n",
    "# 下面一行报错 WebDriverException: Message: unknown error: Element <a target=\"_blank\" title\n",
    "# wd.find_element_by_xpath('//li[@data-sku=11967003]//a').click()     #Google软件测试之道 英文版\n",
    "\n",
    "# 改成这两行即可正常运行\n",
    "# https://stackoverflow.com/questions/57741875/selenium-common-exceptions-elementclickinterceptedexception-message-element-cl\n",
    "button = wd.find_element_by_xpath(\"//li[@data-sku=11967003]//a\")\n",
    "wd.execute_script(\"arguments[0].click();\", button)\n",
    "\n",
    "wd.implicitly_wait(10)\n",
    "wd.quit()"
   ]
  },
  {
   "cell_type": "code",
   "execution_count": null,
   "metadata": {},
   "outputs": [],
   "source": []
  }
 ],
 "metadata": {
  "kernelspec": {
   "display_name": "Python 3",
   "language": "python",
   "name": "python3"
  },
  "language_info": {
   "codemirror_mode": {
    "name": "ipython",
    "version": 3
   },
   "file_extension": ".py",
   "mimetype": "text/x-python",
   "name": "python",
   "nbconvert_exporter": "python",
   "pygments_lexer": "ipython3",
   "version": "3.6.6"
  }
 },
 "nbformat": 4,
 "nbformat_minor": 4
}
