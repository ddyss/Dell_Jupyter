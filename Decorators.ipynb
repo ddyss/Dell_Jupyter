{
 "cells": [
  {
   "cell_type": "code",
   "execution_count": 31,
   "metadata": {},
   "outputs": [
    {
     "name": "stdout",
     "output_type": "stream",
     "text": [
      "staring\n",
      "3\n",
      "ending\n",
      "staring\n",
      "1\n",
      "ending\n"
     ]
    }
   ],
   "source": [
    "def add_log(func):\n",
    "    def wrapper(*arg,**kargs):\n",
    "        print('staring')\n",
    "        f = func(*arg,**kargs)\n",
    "        print('ending')\n",
    "        return f\n",
    "    return wrapper\n",
    "\n",
    "@add_log\n",
    "def add(a,b):\n",
    "    print(a+b)\n",
    "    \n",
    "@add_log    \n",
    "def sub(a,b):\n",
    "    print(a-b)\n",
    "    \n",
    "add(a=2,b=1)\n",
    "sub(a=2,b=1)"
   ]
  },
  {
   "cell_type": "code",
   "execution_count": 9,
   "metadata": {},
   "outputs": [
    {
     "name": "stdout",
     "output_type": "stream",
     "text": [
      "step1……\n",
      "step1 used 0.0009989738464355469\n",
      "step2……\n",
      "step2 used 0.0\n",
      "step3……\n",
      "step3 used 0.0\n"
     ]
    }
   ],
   "source": [
    "# python装饰器  Decorators      以及迭代器和生成器\n",
    "import time\n",
    "\n",
    "def time_calc(func):\n",
    "    def wrapper(*args, **kargs):         #wrapper 包装纸、封皮\n",
    "        start_time = time.time()        \n",
    "        func(*args,**kargs)        # 一个* 代表传入数组tuple；两个代表传入字典dic\n",
    "        exec_time = time.time() - start_time       \n",
    "        print( f'{func.__name__} used {exec_time}' )  \n",
    "    return wrapper   \n",
    "    \n",
    "# 使用装饰器-----------前面加一个@修饰一下\n",
    "@time_calc    \n",
    "def step1():\n",
    "    print('step1……')\n",
    "    \n",
    "@time_calc    \n",
    "def step2():\n",
    "    print('step2……')\n",
    "\n",
    "@time_calc    \n",
    "def step3():\n",
    "    print('step3……')\n",
    "    \n",
    "step1()\n",
    "step2()\n",
    "step3()"
   ]
  },
  {
   "cell_type": "code",
   "execution_count": 6,
   "metadata": {},
   "outputs": [
    {
     "data": {
      "text/plain": [
       "['9', '5', '', '1']"
      ]
     },
     "execution_count": 6,
     "metadata": {},
     "output_type": "execute_result"
    }
   ],
   "source": [
    "res = ['1','','5','9']\n",
    "outstr = res[::-1]\n",
    "outstr"
   ]
  },
  {
   "cell_type": "code",
   "execution_count": 4,
   "metadata": {},
   "outputs": [
    {
     "data": {
      "text/plain": [
       "'[1, 2, 3, 5, 4]'"
      ]
     },
     "execution_count": 4,
     "metadata": {},
     "output_type": "execute_result"
    }
   ],
   "source": [
    "str(res)"
   ]
  },
  {
   "cell_type": "code",
   "execution_count": 25,
   "metadata": {},
   "outputs": [
    {
     "name": "stdout",
     "output_type": "stream",
     "text": [
      "name ab\n",
      "age 18\n",
      "gender male\n"
     ]
    }
   ],
   "source": [
    "mydic = {'name':'ab','age':18,'gender':'male'}\n",
    "it = mydic.__iter__()\n",
    "while True:\n",
    "    try:\n",
    "        res = it.__next__()\n",
    "    except:\n",
    "        break\n",
    "    else:\n",
    "        print(res,mydic[res])\n"
   ]
  },
  {
   "cell_type": "code",
   "execution_count": 23,
   "metadata": {},
   "outputs": [
    {
     "name": "stdout",
     "output_type": "stream",
     "text": [
      "name\n",
      "ab\n",
      "age\n",
      "18\n",
      "gender\n",
      "male\n"
     ]
    }
   ],
   "source": [
    "mydic = ['name','ab','age',18,'gender','male']\n",
    "it = mydic.__iter__()\n",
    "while True:\n",
    "    try:\n",
    "        res = it.__next__()\n",
    "    except:\n",
    "        break\n",
    "    else:\n",
    "        print(res)"
   ]
  },
  {
   "cell_type": "code",
   "execution_count": 27,
   "metadata": {},
   "outputs": [
    {
     "name": "stdout",
     "output_type": "stream",
     "text": [
      "3\n",
      "6\n",
      "9\n",
      "12\n",
      "15\n",
      "18\n",
      "21\n",
      "24\n",
      "27\n",
      "30\n",
      "33\n",
      "36\n",
      "39\n",
      "42\n",
      "45\n",
      "48\n",
      "51\n",
      "54\n",
      "57\n",
      "60\n",
      "63\n",
      "66\n",
      "69\n",
      "72\n",
      "75\n",
      "78\n",
      "81\n",
      "84\n",
      "87\n",
      "90\n",
      "93\n",
      "96\n",
      "99\n"
     ]
    }
   ],
   "source": [
    "def func1():\n",
    "    # 返回1-100之间能被3整除的数，不是打印哦\n",
    "    for i in range(1,101):\n",
    "        if i % 3 == 0:\n",
    "            yield i\n",
    "\n",
    "generator = func1()\n",
    "for item in generator:\n",
    "    print(item)"
   ]
  },
  {
   "cell_type": "code",
   "execution_count": 29,
   "metadata": {},
   "outputs": [
    {
     "data": {
      "text/plain": [
       "1"
      ]
     },
     "execution_count": 29,
     "metadata": {},
     "output_type": "execute_result"
    }
   ],
   "source": [
    "邓见广 = 1\n",
    "邓见广"
   ]
  },
  {
   "cell_type": "code",
   "execution_count": null,
   "metadata": {},
   "outputs": [],
   "source": []
  }
 ],
 "metadata": {
  "kernelspec": {
   "display_name": "Python 3",
   "language": "python",
   "name": "python3"
  },
  "language_info": {
   "codemirror_mode": {
    "name": "ipython",
    "version": 3
   },
   "file_extension": ".py",
   "mimetype": "text/x-python",
   "name": "python",
   "nbconvert_exporter": "python",
   "pygments_lexer": "ipython3",
   "version": "3.6.6"
  }
 },
 "nbformat": 4,
 "nbformat_minor": 4
}
