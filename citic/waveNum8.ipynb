{
 "cells": [
  {
   "cell_type": "code",
   "execution_count": null,
   "metadata": {},
   "outputs": [],
   "source": [
    "'''\n",
    "给一数组，计算最少经过多少次转换可以转换为波动数组，波动数组定义：某个数比两边都小或都大，转换指对调\n",
    "如：1,2,3,4,5,6,7   需要2次转换\n",
    "第一次：1,7,3,4,5,6,2\n",
    "第二次：1,7,3,5,4,6,2\n",
    "\n",
    "问题一：给数组，输出任一转换后的波动数组；\n",
    "问题二：给数组，输出最少转换次数及转换后的波动数组。\n",
    "'''"
   ]
  },
  {
   "cell_type": "code",
   "execution_count": 35,
   "metadata": {},
   "outputs": [
    {
     "name": "stdout",
     "output_type": "stream",
     "text": [
      "[1, 7, 2, 8, 3, 9, 4, 10, 5, 11, 6, 46]\n"
     ]
    }
   ],
   "source": [
    "# 问题1\n",
    "from itertools import chain\n",
    "inputNum = [1,2,3,4,5,6,7,8,9,10,11,46]\n",
    "# 排序后，将后面的一半交错插入到前面一半\n",
    "inputNum.sort()\n",
    "# 长度为奇数\n",
    "if len(inputNum) %2 == 1:  \n",
    "    left = inputNum[:(len(inputNum)//2 + 1)]\n",
    "    right = inputNum[(len(inputNum)//2 + 1):]\n",
    "    waveNum = []\n",
    "    # 长度里取一个最大值，表示要循环的次数，才能将所有数据pop完；也可直接取left长度，已知left长一点\n",
    "    for i in range(max(len(left), len(right))):\n",
    "        # 左边pop出来放一个\n",
    "        if left:\n",
    "            waveNum.append(left.pop())\n",
    "        # 紧接着右边pop出来放一个\n",
    "        if right:\n",
    "            waveNum.append(right.pop())\n",
    "            \n",
    "# 长度为偶数  这样就已经排除了没有长度的情况\n",
    "elif len(inputNum) %2 == 0:\n",
    "    left = inputNum[:(len(inputNum)//2)]\n",
    "    right = inputNum[(len(inputNum)//2):]\n",
    "    waveNum = list(chain.from_iterable(zip(left,right)))\n",
    "\n",
    "print(waveNum)"
   ]
  },
  {
   "cell_type": "code",
   "execution_count": null,
   "metadata": {},
   "outputs": [],
   "source": []
  }
 ],
 "metadata": {
  "kernelspec": {
   "display_name": "Python 3",
   "language": "python",
   "name": "python3"
  },
  "language_info": {
   "codemirror_mode": {
    "name": "ipython",
    "version": 3
   },
   "file_extension": ".py",
   "mimetype": "text/x-python",
   "name": "python",
   "nbconvert_exporter": "python",
   "pygments_lexer": "ipython3",
   "version": "3.6.6"
  }
 },
 "nbformat": 4,
 "nbformat_minor": 4
}
