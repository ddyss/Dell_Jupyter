{
 "cells": [
  {
   "cell_type": "code",
   "execution_count": 1,
   "metadata": {},
   "outputs": [],
   "source": [
    "# 输入一个正整数n，1-n之间5的个数\n",
    "# 如：56---13"
   ]
  },
  {
   "cell_type": "code",
   "execution_count": 18,
   "metadata": {},
   "outputs": [
    {
     "name": "stdout",
     "output_type": "stream",
     "text": [
      "435432\n"
     ]
    }
   ],
   "source": [
    "# https://leetcode-cn.com/problems/number-of-digit-one/solution/\n",
    "# python3shu-xue-zhao-gui-lu-fa-chao-ji-hao-li-jie-b/\n",
    "class Solution:\n",
    "    def countDigitNum(self, n: int) -> int:\n",
    "        # k 代表要统计出现的数\n",
    "        k = 5\n",
    "        base = 1\n",
    "        count = 0\n",
    "        if n<=0:\n",
    "            return 0\n",
    "        while n//base !=0:\n",
    "            # 分别统计个位数(base=1)、十位数(base=10)、百位数(base=100)、千位数(base=1000)...中出现的情况。\n",
    "            # 分为三个部分high cur low\n",
    "            \n",
    "            # cur，对base取整后，再对10求余\n",
    "            cur = (n//base)%10\n",
    "            \n",
    "            # high就等于去掉cur前的部分，对base*10后，再取整\n",
    "            high = n//(base*10)\n",
    "            \n",
    "            # low就等于后面的部分，n - （取整后 *base） 即可\n",
    "            low = n - n//base*base\n",
    "            \n",
    "            # 当前cur大于统计的数\n",
    "            if cur > k:\n",
    "                count += (high+1)*base\n",
    "                \n",
    "            # 当前cur等于统计的数\n",
    "            if cur == k:\n",
    "                count += high*base+low+1\n",
    "                \n",
    "            # 当前cur小于统计的数\n",
    "            if cur < k:\n",
    "                count += high*base\n",
    "                \n",
    "            # 改变base，*10倍，移动位置\n",
    "            base*=10\n",
    "            \n",
    "        return count\n",
    "\n",
    "print(Solution().countDigitOne(664655))"
   ]
  },
  {
   "cell_type": "code",
   "execution_count": null,
   "metadata": {},
   "outputs": [],
   "source": []
  }
 ],
 "metadata": {
  "kernelspec": {
   "display_name": "Python 3",
   "language": "python",
   "name": "python3"
  },
  "language_info": {
   "codemirror_mode": {
    "name": "ipython",
    "version": 3
   },
   "file_extension": ".py",
   "mimetype": "text/x-python",
   "name": "python",
   "nbconvert_exporter": "python",
   "pygments_lexer": "ipython3",
   "version": "3.6.6"
  }
 },
 "nbformat": 4,
 "nbformat_minor": 4
}
