{
 "cells": [
  {
   "cell_type": "code",
   "execution_count": 1,
   "metadata": {},
   "outputs": [],
   "source": [
    "# 输入一个正整数n，1-n之间5的个数\n",
    "# 如：56---13"
   ]
  },
  {
   "cell_type": "code",
   "execution_count": null,
   "metadata": {},
   "outputs": [],
   "source": [
    "# 以2593为例，拆分为high，cur，low三个部分：\n",
    "# 个位数出现5：\n",
    "# cur = 3,high=259,low=0, \n",
    "# 前缀high只能取0,1,2,3...258,取不到259,因为2595超过了2593；\n",
    "# 后缀不可能出现5；一共258个\n",
    "\n",
    "# 十位数出现5：\n",
    "# cur = 9,high = 25,low=3,\n",
    "# 前缀可以0,1,2,3....25,共26个\n",
    "# 后缀[1-93]中可以出现5x,50-59，共10次\n",
    "# 所以5在10位出现了26x10=260次.\n",
    "\n",
    "# 百位数出现5：\n",
    "# cur = 5,high = 2,low=93,\n",
    "# 前缀可以0,1,2,\n",
    "# 后缀[1-593]中可以出现5xx,500-599，共100次\n",
    "# 但是前缀为2时,5xx<=593,只能是500-593, 共94次\n",
    "# 5在百位出现了2x100+94 = 294次\n",
    "\n",
    "# 千位数出现5：\n",
    "# cur = 2,high = 0,low=593,\n",
    "# 后缀[1-2593]中不能出现5xxx,因此5在千位0次"
   ]
  },
  {
   "cell_type": "code",
   "execution_count": 18,
   "metadata": {},
   "outputs": [
    {
     "name": "stdout",
     "output_type": "stream",
     "text": [
      "435432\n"
     ]
    }
   ],
   "source": [
    "class Solution:\n",
    "    def countDigitNum(self, n: int) -> int:\n",
    "        # k 代表要统计出现的数\n",
    "        k = 5\n",
    "        # 初始位置，个位数位置\n",
    "        base = 1\n",
    "        \n",
    "        count = 0\n",
    "        if n<=0:\n",
    "            return 0\n",
    "        while n//base !=0:\n",
    "            # 分别统计个位数(base=1)、十位数(base=10)、百位数(base=100)、千位数(base=1000)...中出现的情况。\n",
    "            # 分为三个部分high cur low\n",
    "            \n",
    "            # cur，对base取整后，再对10求余\n",
    "            cur = (n//base)%10\n",
    "            \n",
    "            # high就等于去掉cur前的部分，对base*10后，再取整\n",
    "            high = n//(base*10)\n",
    "            \n",
    "            # low就等于后面的部分，n - （取整后 *base） 即可\n",
    "            low = n - n//base*base\n",
    "            \n",
    "            # 当前cur大于统计的数\n",
    "            if cur > k:\n",
    "                count += (high+1)*base\n",
    "                \n",
    "            # 当前cur等于统计的数\n",
    "            if cur == k:\n",
    "                count += high*base+low+1\n",
    "                \n",
    "            # 当前cur小于统计的数\n",
    "            if cur < k:\n",
    "                count += high*base\n",
    "                \n",
    "            # 改变base，*10倍，移动位置\n",
    "            base*=10\n",
    "            \n",
    "        return count\n",
    "\n",
    "print(Solution().countDigitOne(664655))"
   ]
  },
  {
   "cell_type": "code",
   "execution_count": null,
   "metadata": {},
   "outputs": [],
   "source": []
  }
 ],
 "metadata": {
  "kernelspec": {
   "display_name": "Python 3",
   "language": "python",
   "name": "python3"
  },
  "language_info": {
   "codemirror_mode": {
    "name": "ipython",
    "version": 3
   },
   "file_extension": ".py",
   "mimetype": "text/x-python",
   "name": "python",
   "nbconvert_exporter": "python",
   "pygments_lexer": "ipython3",
   "version": "3.6.6"
  }
 },
 "nbformat": 4,
 "nbformat_minor": 4
}
