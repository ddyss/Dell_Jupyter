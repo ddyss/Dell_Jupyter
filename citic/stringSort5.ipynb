{
 "cells": [
  {
   "cell_type": "code",
   "execution_count": null,
   "metadata": {},
   "outputs": [],
   "source": [
    "'''\n",
    "只包含小写字母的字符串A和B，不存在重复的字母。根据字符串A中字母出现的顺序对B字符串进行排序\n",
    "如：\n",
    "A = 'pasd'\n",
    "B = 'qsapdf'\n",
    "输出：'pasdqf'\n",
    "'''"
   ]
  },
  {
   "cell_type": "code",
   "execution_count": 89,
   "metadata": {},
   "outputs": [],
   "source": [
    "A = 'pasd'\n",
    "B = 'qylmpndf'"
   ]
  },
  {
   "cell_type": "code",
   "execution_count": 90,
   "metadata": {},
   "outputs": [
    {
     "data": {
      "text/plain": [
       "'pdqylmnf'"
      ]
     },
     "execution_count": 90,
     "metadata": {},
     "output_type": "execute_result"
    }
   ],
   "source": [
    "def stringSort(A,B):\n",
    "    # 找出相同字符串索引\n",
    "    tmpIndex = []\n",
    "    Bori = B\n",
    "    for i in range(len(A)):\n",
    "        if B.find(A[i]) != -1:        \n",
    "            tmpIndex.append(B.find(A[i]))\n",
    "\n",
    "    # 先把相同的提出来放到前面，\n",
    "    newStr = ''\n",
    "    for i in range(len(tmpIndex)):\n",
    "        newStr += Bori[tmpIndex[i]]\n",
    "\n",
    "    # 再删除索引对应的字符\n",
    "    # 从高到低排序，从大到小删除，才不会错\n",
    "    tmpIndex = sorted(tmpIndex,reverse = True)\n",
    "    for i in tmpIndex:\n",
    "        B = B.replace(B[i],\"\")\n",
    "\n",
    "    # 最后两者相加\n",
    "    out = newStr + B\n",
    "    return out\n",
    "stringSort(A,B)"
   ]
  },
  {
   "cell_type": "code",
   "execution_count": null,
   "metadata": {},
   "outputs": [],
   "source": []
  }
 ],
 "metadata": {
  "kernelspec": {
   "display_name": "Python 3",
   "language": "python",
   "name": "python3"
  },
  "language_info": {
   "codemirror_mode": {
    "name": "ipython",
    "version": 3
   },
   "file_extension": ".py",
   "mimetype": "text/x-python",
   "name": "python",
   "nbconvert_exporter": "python",
   "pygments_lexer": "ipython3",
   "version": "3.6.6"
  }
 },
 "nbformat": 4,
 "nbformat_minor": 4
}
