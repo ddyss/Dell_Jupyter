{
 "cells": [
  {
   "cell_type": "code",
   "execution_count": null,
   "metadata": {},
   "outputs": [],
   "source": [
    "'''【文件操作】\n",
    "在文件夹C:/project 下有大量文件，文件名的格式为：类名_产品名_日期（例如 \n",
    "A_ACCOUNT_20190412.dat,  A_ACCOUNT_20190413.dat   B_CUST_20190412.dat），\n",
    "在D盘建立二层目录（\\A\\ACCOUNT）将文件放到目录中存放，可方便进行目录查看。\n",
    "'''"
   ]
  },
  {
   "cell_type": "code",
   "execution_count": 11,
   "metadata": {
    "jupyter": {
     "source_hidden": true
    }
   },
   "outputs": [],
   "source": [
    "import os\n",
    "# 直接打开，如果不存在，则创建一个new.txt文件\n",
    "file = open('' + 'new' + '.txt','w')\n",
    "\n",
    "file_path = \"F:/jupyter/citic/test/A_ACCOUNT_20190412.dat\"\n",
    "# 按路径 和 文件进行拆分\n",
    "(filepath,tempfilename) = os.path.split(file_path)\n",
    "# 按名字、后缀进行拆分\n",
    "(filename,extension) = os.path.splitext(tempfilename)\n",
    "# 获取文件夹的绝对路径\n",
    "os.path.abspath('test') #'F:\\\\jupyter\\\\citic\\\\test'"
   ]
  },
  {
   "cell_type": "code",
   "execution_count": 86,
   "metadata": {},
   "outputs": [],
   "source": [
    "import os,shutil\n",
    "\n",
    "\n",
    "def mkdir(path): \n",
    "    folder = os.path.exists(path) \n",
    "    #判断是否存在文件夹，如果不存在则创建为文件夹\n",
    "    if not folder:                 \n",
    "        # makedirs 创建文件时如果路径不存在会创建这个路径\n",
    "        os.makedirs(path)   \n",
    "    \n",
    "# os.listdir() 返回一个Python列表，其中包含path参数所指目录的文件和子目录的名称。\n",
    "# 读取已存在的文件夹test中所有的文件\n",
    "entries = os.listdir('test')\n",
    "            \n",
    "#文件路径\n",
    "pathTest = os.path.abspath('test')\n",
    "\n",
    "for i in range(len(entries)):\n",
    "    # 提取文件名，[0]代表前面的文件名\n",
    "    filename = os.path.splitext(entries[i])[0]\n",
    "    # 以下划线分开\n",
    "    res = filename.split('_') #['A', 'ACCOUNT', '20190412']\n",
    "\n",
    "    # 创建文件夹，res[0]类名\n",
    "    mkdir(res[0])\n",
    "    \n",
    "    # 再创建子文件夹，res[1]产品名\n",
    "    pathTarget = str(res[0]) + '\\\\' + str(res[1])\n",
    "    mkdir(pathTarget)\n",
    "    \n",
    "    # 复制文件\n",
    "    shutil.copy(pathTest + '\\\\' + entries[i], pathTarget + '\\\\' + entries[i])\n",
    "    "
   ]
  },
  {
   "cell_type": "code",
   "execution_count": null,
   "metadata": {},
   "outputs": [],
   "source": []
  }
 ],
 "metadata": {
  "kernelspec": {
   "display_name": "Python 3",
   "language": "python",
   "name": "python3"
  },
  "language_info": {
   "codemirror_mode": {
    "name": "ipython",
    "version": 3
   },
   "file_extension": ".py",
   "mimetype": "text/x-python",
   "name": "python",
   "nbconvert_exporter": "python",
   "pygments_lexer": "ipython3",
   "version": "3.6.6"
  }
 },
 "nbformat": 4,
 "nbformat_minor": 4
}
