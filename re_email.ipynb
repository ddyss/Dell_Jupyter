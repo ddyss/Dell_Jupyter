{
 "cells": [
  {
   "cell_type": "code",
   "execution_count": 93,
   "metadata": {},
   "outputs": [
    {
     "name": "stdout",
     "output_type": "stream",
     "text": [
      "('ssa@ss.net', '', '.net')\n",
      "('asdb@163.com.cn', '', '.cn')\n",
      "('ss-a@ss.net', '', '.net')\n",
      "('asdd.cba@163.com', '.cba', '.com')\n"
     ]
    }
   ],
   "source": [
    "# -*- coding:utf-8 -*-\n",
    "# 邮箱格式-正则表达式匹配\n",
    " \n",
    "import re\n",
    " \n",
    "# 一次匹配多个邮箱\n",
    "str1 = 'aaf ssa@ss.net asdf  asdb@163.com.cn asdf ss-a@ss.net asdf asdd.cba@163.com afdsaf'\n",
    " \n",
    "reg_str1 = r'([\\w-]+(\\.[\\w-]+)*@[\\w-]+(\\.[\\w-]+)+)'\n",
    " \n",
    "mod = re.compile(reg_str1)\n",
    " \n",
    "items = mod.findall(str1)\n",
    " \n",
    "for item in items:\n",
    "    print(item)\n"
   ]
  },
  {
   "cell_type": "code",
   "execution_count": 95,
   "metadata": {},
   "outputs": [
    {
     "data": {
      "text/plain": [
       "<_sre.SRE_Match object; span=(0, 18), match='lzjun567@gmail.com'>"
      ]
     },
     "execution_count": 95,
     "metadata": {},
     "output_type": "execute_result"
    }
   ],
   "source": [
    "# 判断字符串是不是email电子邮件格式，可使用如下正则表达式表示：\n",
    "# r\"(^[a-zA-Z0-9_.+-]+@[a-zA-Z0-9-]+\\.[a-zA-Z0-9-.]+$)\"\n",
    "# 能覆盖99%的场景\n",
    "\n",
    "import re\n",
    "rex = r\"(^[a-zA-Z0-9_.+-]+@[a-zA-Z0-9-]+\\.[a-zA-Z0-9-.]+$)\"\n",
    "email = \"lzjun567@gmail.com\"\n",
    "re.match(rex, email)  # 匹配 # <re.Match object; span=(0, 18), match='lzjun567@gmail.com'>\n",
    "\n",
    "# re.match(rex, \"xxxx\") # 不匹配"
   ]
  },
  {
   "cell_type": "code",
   "execution_count": null,
   "metadata": {},
   "outputs": [],
   "source": []
  }
 ],
 "metadata": {
  "kernelspec": {
   "display_name": "Python 3",
   "language": "python",
   "name": "python3"
  },
  "language_info": {
   "codemirror_mode": {
    "name": "ipython",
    "version": 3
   },
   "file_extension": ".py",
   "mimetype": "text/x-python",
   "name": "python",
   "nbconvert_exporter": "python",
   "pygments_lexer": "ipython3",
   "version": "3.6.6"
  }
 },
 "nbformat": 4,
 "nbformat_minor": 4
}
