{
 "cells": [
  {
   "cell_type": "code",
   "execution_count": 3,
   "metadata": {},
   "outputs": [
    {
     "name": "stdout",
     "output_type": "stream",
     "text": [
      "I was listening to love story! Sun Dec 20 10:59:10 2020\n",
      "I was listening to love story! Sun Dec 20 10:59:11 2020\n",
      "I was at the 阿凡达! Sun Dec 20 10:59:12 2020\n",
      "I was at the 阿凡达! Sun Dec 20 10:59:17 2020\n",
      "all over! Sun Dec 20 10:59:22 2020\n"
     ]
    }
   ],
   "source": [
    "# https://www.cnblogs.com/fnng/p/3670789.html\n",
    "# 单线程\n",
    "from time import ctime,sleep\n",
    "\n",
    "def music(musicName):\n",
    "    for i in range(2):\n",
    "        print (\"I was listening to %s! %s\" %(musicName,ctime()))\n",
    "        sleep(1)\n",
    "\n",
    "def movie(moveName):\n",
    "    for i in range(2):\n",
    "        print (\"I was at the %s! %s\" %(moveName,ctime()))\n",
    "        sleep(5)\n",
    "\n",
    "if __name__ == '__main__':\n",
    "    music('love story')\n",
    "    movie('阿凡达')\n",
    "    print (\"all over! %s\" %ctime())"
   ]
  },
  {
   "cell_type": "code",
   "execution_count": 15,
   "metadata": {},
   "outputs": [
    {
     "name": "stdout",
     "output_type": "stream",
     "text": [
      "I was listening to love story! Sun Dec 20 11:30:02 2020\n",
      "I was at the 阿凡达! Sun Dec 20 11:30:02 2020\n",
      "I was listening to love story! Sun Dec 20 11:30:03 2020\n",
      "I was at the 阿凡达! Sun Dec 20 11:30:07 2020\n",
      "all over! Sun Dec 20 11:30:12 2020\n"
     ]
    }
   ],
   "source": [
    "# 多线程\n",
    "# python提供了两个模块来实现多线程thread 和threading ，thread 有一些缺点，在threading 得到了弥补\n",
    "# coding = utf-8\n",
    "from time import ctime,sleep\n",
    "import threading\n",
    "\n",
    "def music(musicName):\n",
    "    for i in range(2):\n",
    "        print('I was listening to %s! %s' %(musicName,ctime()))\n",
    "        sleep(1)\n",
    "        \n",
    "def movie(movieName):\n",
    "    for i in range(2):\n",
    "        print('I was at the %s! %s' % (movieName,ctime()))\n",
    "        sleep(5)\n",
    "        \n",
    "threads = []        \n",
    "t1 = threading.Thread(target = music,args=('love story',))\n",
    "threads.append(t1)\n",
    "t2 = threading.Thread(target = movie,args=('阿凡达',))\n",
    "threads.append(t2)\n",
    "\n",
    "if __name__ == '__main__':\n",
    "    for t in threads:\n",
    "        # setDaemon(True)将线程声明为守护线程，必须在start() 方法调用之前设置，如果不设置为守护线程，程序会被无限挂起。\n",
    "        t.setDaemon(True)\n",
    "        t.start()\n",
    "        \n",
    "    # join（）的作用是，在子线程完成运行之前，这个子线程的父线程将一直被阻塞。\n",
    "    t.join() # 加了这一行总时长由5秒变到10秒\n",
    "    \n",
    "    print('all over! %s' % ctime())"
   ]
  },
  {
   "cell_type": "code",
   "execution_count": 19,
   "metadata": {},
   "outputs": [
    {
     "data": {
      "text/plain": [
       "336"
      ]
     },
     "execution_count": 19,
     "metadata": {},
     "output_type": "execute_result"
    }
   ],
   "source": [
    "24*14\n"
   ]
  },
  {
   "cell_type": "code",
   "execution_count": null,
   "metadata": {},
   "outputs": [],
   "source": []
  }
 ],
 "metadata": {
  "kernelspec": {
   "display_name": "Python 3",
   "language": "python",
   "name": "python3"
  },
  "language_info": {
   "codemirror_mode": {
    "name": "ipython",
    "version": 3
   },
   "file_extension": ".py",
   "mimetype": "text/x-python",
   "name": "python",
   "nbconvert_exporter": "python",
   "pygments_lexer": "ipython3",
   "version": "3.6.6"
  }
 },
 "nbformat": 4,
 "nbformat_minor": 4
}
