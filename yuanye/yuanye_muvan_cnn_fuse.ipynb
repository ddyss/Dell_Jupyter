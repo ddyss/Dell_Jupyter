{
 "cells": [
  {
   "cell_type": "code",
   "execution_count": 1,
   "metadata": {},
   "outputs": [],
   "source": [
    "import torch\n",
    "import torch.nn as nn\n",
    "import scipy.io\n",
    "import torch.nn.functional as F"
   ]
  },
  {
   "cell_type": "code",
   "execution_count": 2,
   "metadata": {},
   "outputs": [],
   "source": [
    "dd1=torch.randn(10,2,5,2*128) \n"
   ]
  },
  {
   "cell_type": "code",
   "execution_count": 3,
   "metadata": {},
   "outputs": [],
   "source": [
    "class CNN_fuse(nn.Module):\n",
    "    def __init__(self, num_channel, hidden_size):\n",
    "        super(CNN_fuse, self).__init__()\n",
    "        self.num_channel = num_channel\n",
    "        self.hidden_size = hidden_size\n",
    "        self.relu = nn.ReLU()\n",
    "        \n",
    "        self.conv1_1 = nn.Conv2d(2, 16, kernel_size=3, stride=1, padding=1) \n",
    "        self.conv1_2 = nn.Conv2d(2, 16, kernel_size=5, stride=1, padding=2) \n",
    "        \n",
    "        self.norm1 = nn.BatchNorm2d(32)\n",
    "        self.pool1 = nn.MaxPool2d((1,3), stride=(1,2), padding=(0,1)) # 5 x 64\n",
    "\n",
    "\n",
    "        self.conv2_1 = nn.Conv2d(32, 16, kernel_size=3, stride=1, padding=1) \n",
    "        self.conv2_2 = nn.Conv2d(32, 16, kernel_size=5, stride=1, padding=2)         \n",
    "        \n",
    "        self.norm2 = nn.BatchNorm2d(32)\n",
    "        self.pool2 = nn.MaxPool2d((5,3), stride=(5,2), padding=(0,1)) # 1 x 32       \n",
    "        \n",
    "        self.fc = nn.Linear(64*32, hidden_size) #32*32\n",
    "        \n",
    "    def forward(self, x):\n",
    "        # shape: batch x channel_2 x channel x hidden_size \n",
    "        \n",
    "        encoded = torch.cat([self.conv1_1(x),self.conv1_2(x)],1)\n",
    "        encoded = self.relu(self.norm1(encoded))\n",
    "        encoded = self.pool1(encoded)\n",
    "        \n",
    "        encoded = torch.cat([self.conv2_1(encoded),self.conv2_2(encoded)],1)\n",
    "        encoded = self.relu(self.norm2(encoded))\n",
    "        encoded = self.pool2(encoded)\n",
    "                \n",
    "        encoded = self.relu(self.fc(encoded.view(encoded.size(0),-1))) # batch x hidden_size\n",
    "\n",
    "        return encoded\n",
    "djgnet=CNN_fuse(num_channel=5,hidden_size=128)"
   ]
  },
  {
   "cell_type": "code",
   "execution_count": 4,
   "metadata": {},
   "outputs": [
    {
     "name": "stdout",
     "output_type": "stream",
     "text": [
      "<class 'torch.Tensor'>\n",
      "10\n",
      "torch.Size([10, 128])\n"
     ]
    }
   ],
   "source": [
    "yy=djgnet(dd1)\n",
    "print(type(yy))\n",
    "print(len(yy))\n",
    "print(yy.shape)"
   ]
  },
  {
   "cell_type": "code",
   "execution_count": null,
   "metadata": {},
   "outputs": [],
   "source": []
  }
 ],
 "metadata": {
  "kernelspec": {
   "display_name": "Python 3",
   "language": "python",
   "name": "python3"
  },
  "language_info": {
   "codemirror_mode": {
    "name": "ipython",
    "version": 3
   },
   "file_extension": ".py",
   "mimetype": "text/x-python",
   "name": "python",
   "nbconvert_exporter": "python",
   "pygments_lexer": "ipython3",
   "version": "3.6.6"
  }
 },
 "nbformat": 4,
 "nbformat_minor": 2
}
