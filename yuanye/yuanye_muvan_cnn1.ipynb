{
 "cells": [
  {
   "cell_type": "code",
   "execution_count": 1,
   "metadata": {},
   "outputs": [],
   "source": [
    "import torch\n",
    "import torch.nn as nn\n",
    "import scipy.io\n",
    "import torch.nn.functional as F"
   ]
  },
  {
   "cell_type": "code",
   "execution_count": 2,
   "metadata": {},
   "outputs": [],
   "source": [
    "dd=torch.randn(10,1,3840) "
   ]
  },
  {
   "cell_type": "code",
   "execution_count": 5,
   "metadata": {},
   "outputs": [],
   "source": [
    "class CNN_1(nn.Module):\n",
    "    def __init__(self, hidden_size, dropout_rate=0.5):\n",
    "        super(CNN_1, self).__init__()\n",
    "        self.hidden_size = hidden_size\n",
    "        self.dropout = nn.Dropout(dropout_rate)\n",
    "        self.relu = nn.ReLU()\n",
    "\n",
    "        self.conv1_1 = nn.Conv1d(1, 8, kernel_size=8, stride=2, padding=3)#输入3840，输出1920\n",
    "        self.conv1_2 = nn.Conv1d(1, 8, kernel_size=16, stride=2, padding=7)#输入3840，输出1920\n",
    "        self.conv1_3 = nn.Conv1d(1, 8, kernel_size=32, stride=2, padding=15)#输入3840，输出1920\n",
    "        self.conv1_4 = nn.Conv1d(1, 8, kernel_size=64, stride=2, padding=31)#输入3840，输出1920\n",
    "\n",
    "        self.norm1 = nn.BatchNorm1d(32) # 1920   所以4*8=32个通道\n",
    "        self.pool1 = nn.MaxPool1d(6, stride=4, padding=1, return_indices=True) # 480  所以1920/4=480\n",
    "\n",
    "        self.conv2_1 = nn.Conv1d(32, 16, kernel_size=3, stride=1, padding=1) #尺寸不变\n",
    "        self.conv2_2 = nn.Conv1d(32, 16, kernel_size=5, stride=1, padding=2) #尺寸不变\n",
    "\n",
    "        self.norm2 = nn.BatchNorm1d(32)   #所以又16*2=32通道\n",
    "        self.pool2 = nn.MaxPool1d(3, stride=2, padding=1, return_indices=True) # 240\n",
    "\n",
    "\n",
    "        self.conv3_1 = nn.Conv1d(32, 16, kernel_size=3, stride=1, padding=1)\n",
    "        self.conv3_2 = nn.Conv1d(32, 16, kernel_size=5, stride=1, padding=2)\n",
    "\n",
    "        self.norm3 = nn.BatchNorm1d(32)\n",
    "        self.pool3 = nn.MaxPool1d(3, stride=2, padding=1, return_indices=True) # 120 x 32  大小120，通道32\n",
    "\n",
    "        self.fc = nn.Linear(120*32, hidden_size)\n",
    "\n",
    "    def forward(self, x):\n",
    "        # batch x 1 x raw_feature\n",
    "\n",
    "        encoded = torch.cat([self.conv1_1(x),self.conv1_2(x),self.conv1_3(x),self.conv1_4(x)],1)\n",
    "        encoded = self.relu(self.norm1(encoded))\n",
    "        encoded, indices1 = self.pool1(encoded)\n",
    "\n",
    "        encoded = torch.cat([self.conv2_1(encoded),self.conv2_2(encoded)],1)\n",
    "        encoded = self.relu(self.norm2(encoded))\n",
    "        encoded, indices2 = self.pool2(encoded)\n",
    "\n",
    "        encoded = torch.cat([self.conv3_1(encoded),self.conv3_2(encoded)],1)\n",
    "        encoded = self.relu(self.norm3(encoded))\n",
    "        encoded, indices3 = self.pool3(encoded)\n",
    "\n",
    "#         encoded = self.relu(self.fc(encoded.view(encoded.size(0),-1))) # batch x hidden_size\n",
    "        return encoded\n",
    "djgnet=CNN_1(hidden_size=128)"
   ]
  },
  {
   "cell_type": "code",
   "execution_count": 6,
   "metadata": {},
   "outputs": [
    {
     "name": "stdout",
     "output_type": "stream",
     "text": [
      "<class 'torch.Tensor'>\n",
      "10\n",
      "torch.Size([10, 32, 120])\n"
     ]
    }
   ],
   "source": [
    "yy=djgnet(dd)\n",
    "print(type(yy))\n",
    "print(len(yy))\n",
    "print(yy.shape)"
   ]
  },
  {
   "cell_type": "code",
   "execution_count": null,
   "metadata": {},
   "outputs": [],
   "source": []
  }
 ],
 "metadata": {
  "kernelspec": {
   "display_name": "Python 3",
   "language": "python",
   "name": "python3"
  },
  "language_info": {
   "codemirror_mode": {
    "name": "ipython",
    "version": 3
   },
   "file_extension": ".py",
   "mimetype": "text/x-python",
   "name": "python",
   "nbconvert_exporter": "python",
   "pygments_lexer": "ipython3",
   "version": "3.6.6"
  }
 },
 "nbformat": 4,
 "nbformat_minor": 2
}
