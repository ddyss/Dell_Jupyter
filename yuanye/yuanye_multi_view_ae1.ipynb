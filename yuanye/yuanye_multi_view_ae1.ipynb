{
 "cells": [
  {
   "cell_type": "code",
   "execution_count": 1,
   "metadata": {},
   "outputs": [],
   "source": [
    "import torch\n",
    "import torch.nn as nn\n",
    "import scipy.io\n",
    "import torch.nn.functional as F"
   ]
  },
  {
   "cell_type": "code",
   "execution_count": 2,
   "metadata": {},
   "outputs": [],
   "source": [
    "dd=torch.randn(10,1,129) "
   ]
  },
  {
   "cell_type": "code",
   "execution_count": 3,
   "metadata": {},
   "outputs": [],
   "source": [
    "class AE_1(nn.Module):\n",
    "    def __init__(self, input_size, hidden_size):\n",
    "        super(AE_1, self).__init__()\n",
    "        self.input_size = input_size\n",
    "        self.hidden_size = hidden_size\n",
    "        self.relu = nn.ReLU()\n",
    "        self.sigmoid = nn.Sigmoid()\n",
    "\n",
    "        self.conv1 = nn.Conv1d(1, 16, kernel_size=3, stride=2, padding=2)  \n",
    "        self.pool1 = nn.MaxPool1d(2, stride=2, return_indices=True)  \n",
    "        self.conv2 =  nn.Conv1d(16, 8, kernel_size=3, stride=2, padding=2) \n",
    "        self.pool2 = nn.MaxPool1d(2, stride=1, return_indices=True) \n",
    "        self.fc1 = nn.Linear(8*17, self.hidden_size)\n",
    "        \n",
    "        self.fc2 = nn.Linear(self.hidden_size, 8*17)\n",
    "        self.unpool2 = nn.MaxUnpool1d(2, stride=1) \n",
    "        self.deconv2 = nn.ConvTranspose1d(8, 16, kernel_size=3, stride=2, padding=2) \n",
    "        self.unpool1 = nn.MaxUnpool1d(2, stride=2) \n",
    "        self.deconv1 = nn.ConvTranspose1d(16, 1, kernel_size=3, stride=2, padding=2)     \n",
    "    \n",
    "    def forward(self, x):\n",
    "        # shape: batch x 1 x raw_featuture768\n",
    "        encoded = self.relu(self.conv1(x))\n",
    "        encoded_size1 = encoded.size()\n",
    "        encoded, indices1 = self.pool1(encoded)\n",
    "        encoded = self.relu(self.conv2(encoded))\n",
    "        encoded_size2 = encoded.size()\n",
    "        encoded, indices2 = self.pool2(encoded) \n",
    "        encoded_size3 = encoded.size()\n",
    "        \n",
    "        encoded = self.relu(self.fc1(encoded.view(encoded.size(0),-1))) # batch x hidden_size\n",
    "        \n",
    "        decoded = self.relu(self.fc2(encoded))\n",
    "        decoded = decoded.view(encoded_size3)\n",
    "\n",
    "        decoded = self.unpool2(decoded, indices2) # new added due to some reasons\n",
    "#        decoded = self.unpool2(decoded, indices2, output_size=encoded_size2)\n",
    "        decoded = self.relu(self.deconv2(decoded)) \n",
    "        decoded = self.unpool1(decoded, indices1) # new added due to some reasons\n",
    "#        decoded = self.unpool1(decoded, indices1, output_size=encoded_size1)\n",
    "        decoded = self.sigmoid(self.deconv1(decoded))\n",
    "        decoded = decoded.view(decoded.size(0),-1) # new added due to some reasons\n",
    "\n",
    "        return encoded, decoded"
   ]
  },
  {
   "cell_type": "code",
   "execution_count": 4,
   "metadata": {},
   "outputs": [],
   "source": [
    "djgnet=AE_1(input_size=129, hidden_size=128)\n",
    "# djgnet=djgnet.to('cuda')"
   ]
  },
  {
   "cell_type": "code",
   "execution_count": 5,
   "metadata": {},
   "outputs": [
    {
     "name": "stdout",
     "output_type": "stream",
     "text": [
      "<class 'tuple'>\n",
      "2\n",
      "torch.Size([10, 128])\n",
      "torch.Size([10, 129])\n"
     ]
    }
   ],
   "source": [
    "yy=djgnet(dd)\n",
    "print(type(yy))\n",
    "print(len(yy))\n",
    "print(yy[0].shape)\n",
    "print(yy[1].shape)"
   ]
  },
  {
   "cell_type": "code",
   "execution_count": null,
   "metadata": {},
   "outputs": [],
   "source": []
  }
 ],
 "metadata": {
  "kernelspec": {
   "display_name": "Python 3",
   "language": "python",
   "name": "python3"
  },
  "language_info": {
   "codemirror_mode": {
    "name": "ipython",
    "version": 3
   },
   "file_extension": ".py",
   "mimetype": "text/x-python",
   "name": "python",
   "nbconvert_exporter": "python",
   "pygments_lexer": "ipython3",
   "version": "3.6.6"
  }
 },
 "nbformat": 4,
 "nbformat_minor": 2
}
