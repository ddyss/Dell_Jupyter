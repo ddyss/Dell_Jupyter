{
 "cells": [
  {
   "cell_type": "code",
   "execution_count": 18,
   "metadata": {},
   "outputs": [],
   "source": [
    "import torch\n",
    "import torch.nn as nn\n",
    "import scipy.io\n",
    "import torch.nn.functional as F\n",
    "from torch.autograd import Variable"
   ]
  },
  {
   "cell_type": "code",
   "execution_count": 19,
   "metadata": {},
   "outputs": [],
   "source": [
    "def to_var(x):\n",
    "    if torch.cuda.is_available():\n",
    "        x = x.cuda()\n",
    "    return Variable(x)"
   ]
  },
  {
   "cell_type": "code",
   "execution_count": 20,
   "metadata": {},
   "outputs": [],
   "source": [
    "dd=torch.randn(10,25,32,155) \n",
    "dd=dd.cuda()"
   ]
  },
  {
   "cell_type": "code",
   "execution_count": 21,
   "metadata": {
    "jupyter": {
     "source_hidden": true
    }
   },
   "outputs": [],
   "source": [
    "class CNN_1(nn.Module):\n",
    "    def __init__(self, hidden_size, dropout_rate=0.5):\n",
    "        super(CNN_1, self).__init__()\n",
    "        self.hidden_size = hidden_size\n",
    "        self.dropout = nn.Dropout(dropout_rate)\n",
    "        self.relu = nn.ReLU()\n",
    "                \n",
    "        self.conv1_1 = nn.Conv1d(1, 8, kernel_size=8, stride=2, padding=3) \n",
    "        self.conv1_2 = nn.Conv1d(1, 8, kernel_size=16, stride=2, padding=7) \n",
    "        self.conv1_3 = nn.Conv1d(1, 8, kernel_size=32, stride=2, padding=15) \n",
    "        self.conv1_4 = nn.Conv1d(1, 8, kernel_size=64, stride=2, padding=31)\n",
    "        \n",
    "        self.norm1 = nn.BatchNorm1d(32) # \n",
    "        self.pool1 = nn.MaxPool1d(6, stride=4, padding=1, return_indices=True) # \n",
    "        \n",
    "        self.conv2_1 = nn.Conv1d(32, 16, kernel_size=3, stride=1, padding=1) \n",
    "        self.conv2_2 = nn.Conv1d(32, 16, kernel_size=5, stride=1, padding=2) \n",
    "        \n",
    "        self.norm2 = nn.BatchNorm1d(32)\n",
    "        self.pool2 = nn.MaxPool1d(3, stride=2, padding=1, return_indices=True) # \n",
    "\n",
    "\n",
    "        self.conv3_1 = nn.Conv1d(32, 32, kernel_size=3, stride=1, padding=1) \n",
    "        self.conv3_2 = nn.Conv1d(32, 32, kernel_size=5, stride=1, padding=2)         \n",
    "        \n",
    "        self.norm3 = nn.BatchNorm1d(64)\n",
    "        self.pool3 = nn.MaxPool1d(3, stride=2, padding=1, return_indices=True) # \n",
    "\n",
    "        self.fc = nn.Linear(5*64, hidden_size)\n",
    "\n",
    "    def forward(self, x):\n",
    "        # batch x 1 x raw_feature\n",
    "                \n",
    "        encoded = torch.cat([self.conv1_1(x),self.conv1_2(x),self.conv1_3(x),self.conv1_4(x)],1)\n",
    "        encoded = self.relu(self.norm1(encoded))\n",
    "        encoded, indices1 = self.pool1(encoded)\n",
    "        \n",
    "        encoded = torch.cat([self.conv2_1(encoded),self.conv2_2(encoded)],1)\n",
    "        encoded = self.relu(self.norm2(encoded))\n",
    "        encoded, indices2 = self.pool2(encoded)\n",
    "        \n",
    "        encoded = torch.cat([self.conv3_1(encoded),self.conv3_2(encoded)],1)\n",
    "        encoded = self.relu(self.norm3(encoded))\n",
    "        encoded, indices3 = self.pool3(encoded)\n",
    "                \n",
    "        encoded = self.relu(self.fc(encoded.view(encoded.size(0),-1))) # batch x hidden_size\n",
    "        return encoded"
   ]
  },
  {
   "cell_type": "code",
   "execution_count": 22,
   "metadata": {
    "jupyter": {
     "source_hidden": true
    }
   },
   "outputs": [],
   "source": [
    "class CNN_0(nn.Module):\n",
    "    def __init__(self, hidden_size, dropout_rate=0.5):\n",
    "        super(CNN_0, self).__init__()\n",
    "        self.hidden_size = hidden_size\n",
    "        self.layer1 = nn.Sequential(\n",
    "            nn.Conv1d(1, 16, kernel_size=5, padding=2),\n",
    "#            nn.init.xavier_uniform(self.conv1.weight),\n",
    "            nn.BatchNorm1d(16),\n",
    "            nn.ReLU(),\n",
    "            nn.MaxPool1d(2))\n",
    "        self.layer2 = nn.Sequential(\n",
    "            nn.Conv1d(16, 32, kernel_size=5, padding=2),\n",
    "            nn.BatchNorm1d(32),\n",
    "            nn.ReLU(),\n",
    "            nn.MaxPool1d(2))\n",
    "        self.dropout = nn.Dropout(dropout_rate)\n",
    "        \n",
    "        self.relu = nn.ReLU()\n",
    "        \n",
    "        \n",
    "        self.conv1_1 = nn.Conv2d(1, 8, kernel_size=(1,8), stride=(1,2), padding=(0,3)) \n",
    "        self.conv1_2 = nn.Conv2d(1, 8, kernel_size=(1,16), stride=(1,2), padding=(0,7))\n",
    "        self.conv1_3 = nn.Conv2d(1, 8, kernel_size=(1,32), stride=(1,2), padding=(0,15)) \n",
    "        self.conv1_4 = nn.Conv2d(1, 8, kernel_size=(1,64), stride=(1,2), padding=(0,31))\n",
    "        \n",
    "        self.norm1 = nn.BatchNorm2d(32) # \n",
    "        self.pool1 = nn.AvgPool2d((1,6), stride=(1,4), padding=(0,1)) # \n",
    "        \n",
    "        self.conv2_1 = nn.Conv2d(32, 16, kernel_size=3, stride=1, padding=1) \n",
    "        self.conv2_2 = nn.Conv2d(32, 16, kernel_size=5, stride=1, padding=2) \n",
    "        \n",
    "        self.norm2 = nn.BatchNorm2d(32)\n",
    "        self.pool2 = nn.AvgPool2d((1,3), stride=(1,2), padding=(0,1)) # \n",
    "\n",
    "\n",
    "        self.conv3_1 = nn.Conv2d(32, 32, kernel_size=3, stride=1, padding=1) \n",
    "        self.conv3_2 = nn.Conv2d(32, 32, kernel_size=5, stride=1, padding=2)         \n",
    "        \n",
    "        self.norm3 = nn.BatchNorm2d(64)\n",
    "        self.pool3 = nn.AvgPool2d((23,3), stride=(23,2), padding=(0,1)) #      \n",
    "        \n",
    "        self.fc = nn.Linear(5*64, hidden_size) #\n",
    "        \n",
    "\n",
    "    def forward(self, x):\n",
    "        # shape: batch x 1 x channel5 x raw_feature1950\n",
    "        \n",
    "        encoded = torch.cat([self.conv1_1(x),self.conv1_2(x),self.conv1_3(x),self.conv1_4(x)],1)\n",
    "        encoded = self.relu(self.norm1(encoded))\n",
    "        encoded = self.pool1(encoded)\n",
    "        \n",
    "        encoded = torch.cat([self.conv2_1(encoded),self.conv2_2(encoded)],1)\n",
    "        encoded = self.relu(self.norm2(encoded))\n",
    "        encoded = self.pool2(encoded)\n",
    "        \n",
    "        encoded = torch.cat([self.conv3_1(encoded),self.conv3_2(encoded)],1)\n",
    "        encoded = self.relu(self.norm3(encoded))\n",
    "        encoded = self.pool3(encoded)\n",
    "        \n",
    "        encoded = self.relu(self.fc(encoded.view(encoded.size(0),-1))) # batch x hidden_size\n",
    "        return encoded  "
   ]
  },
  {
   "cell_type": "code",
   "execution_count": 38,
   "metadata": {
    "jupyter": {
     "source_hidden": true
    }
   },
   "outputs": [],
   "source": [
    "class Net(nn.Module):\n",
    "    def __init__(self, input_size, hidden1_size, hidden2_size, num_layers, num_classes, num_channel, dropout_rate=0.5):\n",
    "        super(Net, self).__init__()\n",
    "        self.input_size = input_size\n",
    "        self.num_channel = num_channel\n",
    "        self.num_classes = num_classes\n",
    "        \n",
    "        self.hidden1_size = hidden1_size \n",
    "        self.hidden2_size = hidden2_size \n",
    "        \n",
    "        self.net0 = CNN_0(hidden1_size)\n",
    "        self.net1 = CNN_1(hidden1_size)\n",
    "       \n",
    "        self.rg = nn.Linear(hidden1_size,1)\n",
    "        self.rc = nn.Linear(hidden1_size,1)\n",
    "        self.attention_layer = nn.Linear(self.hidden1_size,1)\n",
    "        \n",
    "        self.fc1 = nn.Linear(hidden1_size*2, hidden2_size)\n",
    "        self.fc2 = nn.Linear(hidden2_size, num_classes)\n",
    "        self.dropout = nn.Dropout(dropout_rate)\n",
    "        \n",
    "        self.sigmoid = nn.Sigmoid()\n",
    "        self.tanh = nn.Tanh()\n",
    "        self.relu = nn.ReLU()\n",
    "        \n",
    "    def forward(self, x):\n",
    "        # shape: batch x seq x channel x raw_feature\n",
    "        x = x.view(x.size(0)*x.size(1),x.size(2),x.size(3)) # (batch*seq) x channel x raw_feature\n",
    "        \n",
    "        out1=to_var(torch.zeros((x.size(0), self.num_channel, self.hidden1_size)))\n",
    "        scores = to_var(torch.zeros((x.size(0), self.num_channel)))\n",
    "        \n",
    "        out0 = self.net0(x.view(x.size(0),-1,x.size(1),x.size(2)))# [batch_size*seq, hidden1_size]\n",
    "        \n",
    "        for i in range(self.num_channel):\n",
    "            x_temp = x[:,i,:].contiguous()\n",
    "            x_temp = x_temp.view(x_temp.size(0),1,x_temp.size(1))\n",
    "            x_temp = self.net1(x_temp)\n",
    "            out1[:,i,:] = x_temp.view(x_temp.size(0), -1) # [batch_size*seq x num_channel x hidden1_size]\n",
    "        \n",
    "        for i in range(self.num_channel):\n",
    "            scores[:,i] = self.energy(out0,out1[:,i,:])\n",
    "        \n",
    "        scores = F.softmax(scores) # [batch_size*seq, num_channel]\n",
    "        scores = scores.view(scores.size(0),scores.size(1),-1)\n",
    "        scores = scores.expand(scores.size(0),scores.size(1),self.hidden1_size) # [batch_size*seq, num_channel, hidden1_size]\n",
    "        \n",
    "\n",
    "        out2 = out1 * scores\n",
    "        out2 = out2.sum(1) # [batch_size*seq, hidden1_size]\n",
    "        \n",
    "        out = torch.cat([out0,out2],1) # [batch_size*seq, hidden1_size*2]\n",
    "        out = self.dropout(out)  # [batch_size*seq, hidden1_size*2]\n",
    "        out = self.fc1(out) # [batch_size*seq, hidden2_size]\n",
    "        out = self.relu(out)\n",
    "        out = self.fc2(out)\n",
    "        return out\n",
    "        \n",
    "    def energy(self, hidden_i, pre_hidden_i): # batch x hidden_size\n",
    "                \n",
    "        rate = self.sigmoid(self.rg(hidden_i) + self.rc(pre_hidden_i))\n",
    "            \n",
    "        rate = rate.view(rate.size(0),-1)\n",
    "        rate = rate.expand(rate.size(0),self.hidden1_size)\n",
    "        out_temp = (1-rate) * hidden_i + rate * pre_hidden_i \n",
    "            \n",
    "        energies = self.attention_layer(out_temp)\n",
    "        energies= energies.view(energies.size(0)) # new added due to some reasons\n",
    "        \n",
    "        return energies"
   ]
  },
  {
   "cell_type": "code",
   "execution_count": 39,
   "metadata": {},
   "outputs": [],
   "source": [
    "djgnet=Net(input_size=155, hidden1_size=128, hidden2_size=128, num_layers=2, num_classes=2, num_channel=23)"
   ]
  },
  {
   "cell_type": "code",
   "execution_count": 40,
   "metadata": {
    "collapsed": true,
    "jupyter": {
     "outputs_hidden": true
    }
   },
   "outputs": [
    {
     "name": "stderr",
     "output_type": "stream",
     "text": [
      "c:\\users\\djg\\appdata\\local\\programs\\python\\python36\\lib\\site-packages\\ipykernel_launcher.py:44: UserWarning: Implicit dimension choice for softmax has been deprecated. Change the call to include dim=X as an argument.\n"
     ]
    },
    {
     "ename": "RuntimeError",
     "evalue": "CUDA out of memory. Tried to allocate 1024.00 KiB (GPU 0; 4.00 GiB total capacity; 2.67 GiB already allocated; 947.20 KiB free; 267.35 MiB cached)",
     "output_type": "error",
     "traceback": [
      "\u001b[1;31m---------------------------------------------------------------------------\u001b[0m",
      "\u001b[1;31mRuntimeError\u001b[0m                              Traceback (most recent call last)",
      "\u001b[1;32m<ipython-input-40-c1b58490a5d3>\u001b[0m in \u001b[0;36m<module>\u001b[1;34m\u001b[0m\n\u001b[0;32m      1\u001b[0m \u001b[0mdjgnet\u001b[0m\u001b[1;33m=\u001b[0m\u001b[0mdjgnet\u001b[0m\u001b[1;33m.\u001b[0m\u001b[0mto\u001b[0m\u001b[1;33m(\u001b[0m\u001b[1;34m'cuda'\u001b[0m\u001b[1;33m)\u001b[0m\u001b[1;33m\u001b[0m\u001b[0m\n\u001b[1;32m----> 2\u001b[1;33m \u001b[0myy\u001b[0m\u001b[1;33m=\u001b[0m\u001b[0mdjgnet\u001b[0m\u001b[1;33m(\u001b[0m\u001b[0mdd\u001b[0m\u001b[1;33m)\u001b[0m\u001b[1;33m\u001b[0m\u001b[0m\n\u001b[0m\u001b[0;32m      3\u001b[0m \u001b[0mprint\u001b[0m\u001b[1;33m(\u001b[0m\u001b[0mtype\u001b[0m\u001b[1;33m(\u001b[0m\u001b[0myy\u001b[0m\u001b[1;33m)\u001b[0m\u001b[1;33m)\u001b[0m\u001b[1;33m\u001b[0m\u001b[0m\n\u001b[0;32m      4\u001b[0m \u001b[0mprint\u001b[0m\u001b[1;33m(\u001b[0m\u001b[0mlen\u001b[0m\u001b[1;33m(\u001b[0m\u001b[0myy\u001b[0m\u001b[1;33m)\u001b[0m\u001b[1;33m)\u001b[0m\u001b[1;33m\u001b[0m\u001b[0m\n\u001b[0;32m      5\u001b[0m \u001b[0mprint\u001b[0m\u001b[1;33m(\u001b[0m\u001b[0myy\u001b[0m\u001b[1;33m.\u001b[0m\u001b[0mshape\u001b[0m\u001b[1;33m)\u001b[0m\u001b[1;33m\u001b[0m\u001b[0m\n",
      "\u001b[1;32mc:\\users\\djg\\appdata\\local\\programs\\python\\python36\\lib\\site-packages\\torch\\nn\\modules\\module.py\u001b[0m in \u001b[0;36m__call__\u001b[1;34m(self, *input, **kwargs)\u001b[0m\n\u001b[0;32m    487\u001b[0m             \u001b[0mresult\u001b[0m \u001b[1;33m=\u001b[0m \u001b[0mself\u001b[0m\u001b[1;33m.\u001b[0m\u001b[0m_slow_forward\u001b[0m\u001b[1;33m(\u001b[0m\u001b[1;33m*\u001b[0m\u001b[0minput\u001b[0m\u001b[1;33m,\u001b[0m \u001b[1;33m**\u001b[0m\u001b[0mkwargs\u001b[0m\u001b[1;33m)\u001b[0m\u001b[1;33m\u001b[0m\u001b[0m\n\u001b[0;32m    488\u001b[0m         \u001b[1;32melse\u001b[0m\u001b[1;33m:\u001b[0m\u001b[1;33m\u001b[0m\u001b[0m\n\u001b[1;32m--> 489\u001b[1;33m             \u001b[0mresult\u001b[0m \u001b[1;33m=\u001b[0m \u001b[0mself\u001b[0m\u001b[1;33m.\u001b[0m\u001b[0mforward\u001b[0m\u001b[1;33m(\u001b[0m\u001b[1;33m*\u001b[0m\u001b[0minput\u001b[0m\u001b[1;33m,\u001b[0m \u001b[1;33m**\u001b[0m\u001b[0mkwargs\u001b[0m\u001b[1;33m)\u001b[0m\u001b[1;33m\u001b[0m\u001b[0m\n\u001b[0m\u001b[0;32m    490\u001b[0m         \u001b[1;32mfor\u001b[0m \u001b[0mhook\u001b[0m \u001b[1;32min\u001b[0m \u001b[0mself\u001b[0m\u001b[1;33m.\u001b[0m\u001b[0m_forward_hooks\u001b[0m\u001b[1;33m.\u001b[0m\u001b[0mvalues\u001b[0m\u001b[1;33m(\u001b[0m\u001b[1;33m)\u001b[0m\u001b[1;33m:\u001b[0m\u001b[1;33m\u001b[0m\u001b[0m\n\u001b[0;32m    491\u001b[0m             \u001b[0mhook_result\u001b[0m \u001b[1;33m=\u001b[0m \u001b[0mhook\u001b[0m\u001b[1;33m(\u001b[0m\u001b[0mself\u001b[0m\u001b[1;33m,\u001b[0m \u001b[0minput\u001b[0m\u001b[1;33m,\u001b[0m \u001b[0mresult\u001b[0m\u001b[1;33m)\u001b[0m\u001b[1;33m\u001b[0m\u001b[0m\n",
      "\u001b[1;32m<ipython-input-38-d10211cb0394>\u001b[0m in \u001b[0;36mforward\u001b[1;34m(self, x)\u001b[0m\n\u001b[0;32m     51\u001b[0m \u001b[1;33m\u001b[0m\u001b[0m\n\u001b[0;32m     52\u001b[0m         \u001b[0mout\u001b[0m \u001b[1;33m=\u001b[0m \u001b[0mtorch\u001b[0m\u001b[1;33m.\u001b[0m\u001b[0mcat\u001b[0m\u001b[1;33m(\u001b[0m\u001b[1;33m[\u001b[0m\u001b[0mout0\u001b[0m\u001b[1;33m,\u001b[0m\u001b[0mout2\u001b[0m\u001b[1;33m]\u001b[0m\u001b[1;33m,\u001b[0m\u001b[1;36m1\u001b[0m\u001b[1;33m)\u001b[0m \u001b[1;31m# [batch_size*seq, hidden1_size*2]\u001b[0m\u001b[1;33m\u001b[0m\u001b[0m\n\u001b[1;32m---> 53\u001b[1;33m         \u001b[0mout\u001b[0m \u001b[1;33m=\u001b[0m \u001b[0mself\u001b[0m\u001b[1;33m.\u001b[0m\u001b[0mdropout\u001b[0m\u001b[1;33m(\u001b[0m\u001b[0mout\u001b[0m\u001b[1;33m)\u001b[0m  \u001b[1;31m# [batch_size*seq, hidden1_size*2]\u001b[0m\u001b[1;33m\u001b[0m\u001b[0m\n\u001b[0m\u001b[0;32m     54\u001b[0m         \u001b[0mout\u001b[0m \u001b[1;33m=\u001b[0m \u001b[0mself\u001b[0m\u001b[1;33m.\u001b[0m\u001b[0mfc1\u001b[0m\u001b[1;33m(\u001b[0m\u001b[0mout\u001b[0m\u001b[1;33m)\u001b[0m \u001b[1;31m# [batch_size*seq, hidden2_size]\u001b[0m\u001b[1;33m\u001b[0m\u001b[0m\n\u001b[0;32m     55\u001b[0m         \u001b[0mout\u001b[0m \u001b[1;33m=\u001b[0m \u001b[0mself\u001b[0m\u001b[1;33m.\u001b[0m\u001b[0mrelu\u001b[0m\u001b[1;33m(\u001b[0m\u001b[0mout\u001b[0m\u001b[1;33m)\u001b[0m\u001b[1;33m\u001b[0m\u001b[0m\n",
      "\u001b[1;32mc:\\users\\djg\\appdata\\local\\programs\\python\\python36\\lib\\site-packages\\torch\\nn\\modules\\module.py\u001b[0m in \u001b[0;36m__call__\u001b[1;34m(self, *input, **kwargs)\u001b[0m\n\u001b[0;32m    487\u001b[0m             \u001b[0mresult\u001b[0m \u001b[1;33m=\u001b[0m \u001b[0mself\u001b[0m\u001b[1;33m.\u001b[0m\u001b[0m_slow_forward\u001b[0m\u001b[1;33m(\u001b[0m\u001b[1;33m*\u001b[0m\u001b[0minput\u001b[0m\u001b[1;33m,\u001b[0m \u001b[1;33m**\u001b[0m\u001b[0mkwargs\u001b[0m\u001b[1;33m)\u001b[0m\u001b[1;33m\u001b[0m\u001b[0m\n\u001b[0;32m    488\u001b[0m         \u001b[1;32melse\u001b[0m\u001b[1;33m:\u001b[0m\u001b[1;33m\u001b[0m\u001b[0m\n\u001b[1;32m--> 489\u001b[1;33m             \u001b[0mresult\u001b[0m \u001b[1;33m=\u001b[0m \u001b[0mself\u001b[0m\u001b[1;33m.\u001b[0m\u001b[0mforward\u001b[0m\u001b[1;33m(\u001b[0m\u001b[1;33m*\u001b[0m\u001b[0minput\u001b[0m\u001b[1;33m,\u001b[0m \u001b[1;33m**\u001b[0m\u001b[0mkwargs\u001b[0m\u001b[1;33m)\u001b[0m\u001b[1;33m\u001b[0m\u001b[0m\n\u001b[0m\u001b[0;32m    490\u001b[0m         \u001b[1;32mfor\u001b[0m \u001b[0mhook\u001b[0m \u001b[1;32min\u001b[0m \u001b[0mself\u001b[0m\u001b[1;33m.\u001b[0m\u001b[0m_forward_hooks\u001b[0m\u001b[1;33m.\u001b[0m\u001b[0mvalues\u001b[0m\u001b[1;33m(\u001b[0m\u001b[1;33m)\u001b[0m\u001b[1;33m:\u001b[0m\u001b[1;33m\u001b[0m\u001b[0m\n\u001b[0;32m    491\u001b[0m             \u001b[0mhook_result\u001b[0m \u001b[1;33m=\u001b[0m \u001b[0mhook\u001b[0m\u001b[1;33m(\u001b[0m\u001b[0mself\u001b[0m\u001b[1;33m,\u001b[0m \u001b[0minput\u001b[0m\u001b[1;33m,\u001b[0m \u001b[0mresult\u001b[0m\u001b[1;33m)\u001b[0m\u001b[1;33m\u001b[0m\u001b[0m\n",
      "\u001b[1;32mc:\\users\\djg\\appdata\\local\\programs\\python\\python36\\lib\\site-packages\\torch\\nn\\modules\\dropout.py\u001b[0m in \u001b[0;36mforward\u001b[1;34m(self, input)\u001b[0m\n\u001b[0;32m     56\u001b[0m     \u001b[1;33m@\u001b[0m\u001b[0mweak_script_method\u001b[0m\u001b[1;33m\u001b[0m\u001b[0m\n\u001b[0;32m     57\u001b[0m     \u001b[1;32mdef\u001b[0m \u001b[0mforward\u001b[0m\u001b[1;33m(\u001b[0m\u001b[0mself\u001b[0m\u001b[1;33m,\u001b[0m \u001b[0minput\u001b[0m\u001b[1;33m)\u001b[0m\u001b[1;33m:\u001b[0m\u001b[1;33m\u001b[0m\u001b[0m\n\u001b[1;32m---> 58\u001b[1;33m         \u001b[1;32mreturn\u001b[0m \u001b[0mF\u001b[0m\u001b[1;33m.\u001b[0m\u001b[0mdropout\u001b[0m\u001b[1;33m(\u001b[0m\u001b[0minput\u001b[0m\u001b[1;33m,\u001b[0m \u001b[0mself\u001b[0m\u001b[1;33m.\u001b[0m\u001b[0mp\u001b[0m\u001b[1;33m,\u001b[0m \u001b[0mself\u001b[0m\u001b[1;33m.\u001b[0m\u001b[0mtraining\u001b[0m\u001b[1;33m,\u001b[0m \u001b[0mself\u001b[0m\u001b[1;33m.\u001b[0m\u001b[0minplace\u001b[0m\u001b[1;33m)\u001b[0m\u001b[1;33m\u001b[0m\u001b[0m\n\u001b[0m\u001b[0;32m     59\u001b[0m \u001b[1;33m\u001b[0m\u001b[0m\n\u001b[0;32m     60\u001b[0m \u001b[1;33m\u001b[0m\u001b[0m\n",
      "\u001b[1;32mc:\\users\\djg\\appdata\\local\\programs\\python\\python36\\lib\\site-packages\\torch\\nn\\functional.py\u001b[0m in \u001b[0;36mdropout\u001b[1;34m(input, p, training, inplace)\u001b[0m\n\u001b[0;32m    747\u001b[0m     return (_VF.dropout_(input, p, training)\n\u001b[0;32m    748\u001b[0m             \u001b[1;32mif\u001b[0m \u001b[0minplace\u001b[0m\u001b[1;33m\u001b[0m\u001b[0m\n\u001b[1;32m--> 749\u001b[1;33m             else _VF.dropout(input, p, training))\n\u001b[0m\u001b[0;32m    750\u001b[0m \u001b[1;33m\u001b[0m\u001b[0m\n\u001b[0;32m    751\u001b[0m \u001b[1;33m\u001b[0m\u001b[0m\n",
      "\u001b[1;31mRuntimeError\u001b[0m: CUDA out of memory. Tried to allocate 1024.00 KiB (GPU 0; 4.00 GiB total capacity; 2.67 GiB already allocated; 947.20 KiB free; 267.35 MiB cached)"
     ]
    }
   ],
   "source": [
    "djgnet=djgnet.to('cuda')\n",
    "yy=djgnet(dd)\n",
    "print(type(yy))\n",
    "print(len(yy))\n",
    "print(yy.shape)\n",
    "# print(yy[1].shape)"
   ]
  },
  {
   "cell_type": "code",
   "execution_count": null,
   "metadata": {},
   "outputs": [],
   "source": []
  },
  {
   "cell_type": "code",
   "execution_count": null,
   "metadata": {},
   "outputs": [],
   "source": []
  }
 ],
 "metadata": {
  "kernelspec": {
   "display_name": "Python 3",
   "language": "python",
   "name": "python3"
  },
  "language_info": {
   "codemirror_mode": {
    "name": "ipython",
    "version": 3
   },
   "file_extension": ".py",
   "mimetype": "text/x-python",
   "name": "python",
   "nbconvert_exporter": "python",
   "pygments_lexer": "ipython3",
   "version": "3.6.6"
  }
 },
 "nbformat": 4,
 "nbformat_minor": 4
}
