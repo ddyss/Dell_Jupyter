{
 "cells": [
  {
   "cell_type": "code",
   "execution_count": null,
   "metadata": {},
   "outputs": [],
   "source": []
  },
  {
   "cell_type": "code",
   "execution_count": 2,
   "metadata": {},
   "outputs": [],
   "source": [
    "def getModel():\n",
    "    input_img = Input(shape=(48, 48, 1))\n",
    "    x = Convolution2D(16, 3, 3, activation='relu', border_mode='same', dim_ordering='tf')(input_img)\n",
    "    x = MaxPooling2D((2, 2), border_mode='same', dim_ordering='tf')(x)\n",
    "    x = Convolution2D(32, 3, 3, activation='relu', border_mode='same', dim_ordering='tf')(input_img)\n",
    "    x = MaxPooling2D((2, 2), border_mode='same', dim_ordering='tf')(x)\n",
    "    x = Convolution2D(64, 3, 3, activation='relu', border_mode='same', dim_ordering='tf')(x)\n",
    "    encoded = MaxPooling2D((2, 2), border_mode='same', dim_ordering='tf')(x)\n",
    "    #6x6x32 -- bottleneck\n",
    "    x = UpSampling2D((2, 2), dim_ordering='tf')(encoded)\n",
    "    x = Convolution2D(32, 3, 3, activation='relu', border_mode='same', dim_ordering='tf')(x)\n",
    "    x = UpSampling2D((2, 2), dim_ordering='tf')(x)\n",
    "    x = Convolution2D(16, 3, 3, activation='relu', border_mode='same', dim_ordering='tf')(x)\n",
    "    decoded = Convolution2D(3, 3, 3, activation='relu', border_mode='same', dim_ordering='tf')(x)\n",
    "\n",
    "    #Create model\n",
    "    autoencoder = Model(input_img, decoded)\n",
    "    return autoencoder\n",
    "\n",
    "# Trains the model for 10 epochs\n",
    "def trainModel():\n",
    "    # Load dataset\n",
    "    print(\"Loading dataset...\")\n",
    "    x_train_gray, x_train, x_test_gray, x_test = getDataset()\n",
    "\n",
    "    # Create model description\n",
    "    print(\"Creating model...\")\n",
    "    model = getModel()\n",
    "    model.compile(optimizer='rmsprop', loss='binary_crossentropy',metrics=['accuracy'])\n",
    "\n",
    "    # Train model\n",
    "    print(\"Training model...\")\n",
    "    model.fit(x_train_gray, x_train, nb_epoch=10, batch_size=148, shuffle=True, validation_data=(x_test_gray, x_test), callbacks=[TensorBoard(log_dir='/tmp/tb', histogram_freq=0, write_graph=False)])\n",
    "\n",
    "    # Evaluate loaded model on test data\n",
    "    print(\"Evaluating model...\")\n",
    "    score = model.evaluate(x_train_gray, x_train, verbose=0)\n",
    "#     print \"%s: %.2f%%\" % (model.metrics_names[1], score[1]*100)\n",
    "\n",
    "    # Serialize model to JSON\n",
    "    print(\"Saving model...\")\n",
    "    model_json = model.to_json()\n",
    "    with open(\"model.json\", \"w\") as json_file:\n",
    "        json_file.write(model_json)\n",
    "\n",
    "    # Serialize weights to HDF5\n",
    "    print(\"Saving weights...\")\n",
    "    model.save_weights(\"model.h5\")"
   ]
  }
 ],
 "metadata": {
  "kernelspec": {
   "display_name": "Python 3",
   "language": "python",
   "name": "python3"
  },
  "language_info": {
   "codemirror_mode": {
    "name": "ipython",
    "version": 3
   },
   "file_extension": ".py",
   "mimetype": "text/x-python",
   "name": "python",
   "nbconvert_exporter": "python",
   "pygments_lexer": "ipython3",
   "version": "3.6.6"
  }
 },
 "nbformat": 4,
 "nbformat_minor": 2
}
