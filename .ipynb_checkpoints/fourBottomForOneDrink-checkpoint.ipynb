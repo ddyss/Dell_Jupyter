{
 "cells": [
  {
   "cell_type": "code",
   "execution_count": 1,
   "metadata": {},
   "outputs": [],
   "source": [
    "from __future__ import division\n",
    "import scipy.io\n",
    "import torch\n",
    "import torch.nn as nn\n",
    "from torch.utils.data import Dataset\n",
    "from torchvision import transforms\n",
    "from torch.utils.data import DataLoader\n",
    "from torch import optim\n",
    "import torch.nn.functional as F\n",
    "import matplotlib.pyplot as plt\n",
    "import h5py\n",
    "import numpy as np\n",
    "import cv2"
   ]
  },
  {
   "cell_type": "code",
   "execution_count": 13,
   "metadata": {},
   "outputs": [],
   "source": [
    "\n",
    "# '''\n",
    "a=h5py.File('F:/train/end to end 4560noiseball/120_38_70.mat')  #/data1/MIP1/djg/e2e/ F:/train/end to end 4560noiseball/\n",
    "da = []\n",
    "db = []\n",
    "qwe = []  # 列表   元组用（）\n",
    "for i in range(120):\n",
    "    da = [a[element[i]][:] for element in a['djg']]\n",
    "    db.append(da)\n",
    "for i in range(38):\n",
    "    for j in range(120):\n",
    "        qwe.append(db[j][i])\n",
    "\n",
    "dys=[]\n",
    "nor1=[]\n",
    "for i in range(4560):\n",
    "    dys=np.array(qwe[i])    #确实能起到转置作用，但在这转置无所谓，只要下面res形状就行\n",
    "    res=cv2.resize(dys,(227,227),interpolation=cv2.INTER_CUBIC)  #立方插值\n",
    "    nor1.append(res)   #data和res横纵相反 为2560,128\n",
    "data=[]\n",
    "for i in range(4560):\n",
    "    aa =nor1[i]#\n",
    "    aamin, aamax = aa.min(), aa.max() # 求最大最小值\n",
    "    aa = (aa-aamin)/(aamax-aamin)  # (矩阵元素-最小值)/(最大值-最小值)\n",
    "    data.append(aa)\n",
    "\n"
   ]
  },
  {
   "cell_type": "code",
   "execution_count": 14,
   "metadata": {},
   "outputs": [],
   "source": [
    "scipy.io.savemat('nor11',{'nor11':nor1[1]})\n",
    "scipy.io.savemat('nor1100',{'nor1100':nor1[100]})\n",
    "scipy.io.savemat('nor11000',{'nor11000':nor1[1000]})"
   ]
  },
  {
   "cell_type": "code",
   "execution_count": 15,
   "metadata": {},
   "outputs": [],
   "source": [
    "scipy.io.savemat('data1',{'data1':data[1]})\n",
    "scipy.io.savemat('data100',{'data100':data[100]})\n",
    "scipy.io.savemat('data1000',{'data1000':data[1000]})"
   ]
  },
  {
   "cell_type": "code",
   "execution_count": 10,
   "metadata": {},
   "outputs": [],
   "source": [
    "b=scipy.io.loadmat('F:/train/end to end 4560noiseball/120_38_true.mat')['djg2']\n",
    "twe=[]\n",
    "for i in range(38):\n",
    "    for j in range(120):\n",
    "        twe.append(b[j][i])\n",
    "nor2=[]\n",
    "bys=[]\n",
    "for i in range(4560):\n",
    "    bys=np.array(twe[i].T)\n",
    "    bes=cv2.resize(bys,(256,256),interpolation=cv2.INTER_CUBIC)  #立方插值\n",
    "    bes = bes.copy()\n",
    "    bes[bes < 0] = 0\n",
    "    bes[bes > 0.4] = 3\n",
    "    nor2.append(bes)\n",
    "target=[]\n",
    "for i in range(4560):\n",
    "    bb =nor2[i]#\n",
    "    bbmin, bbmax = bb.min(), bb.max() # 求最大最小值\n",
    "    bb = (bb-bbmin)/(bbmax-bbmin)  # (矩阵元素-最小值)/(最大值-最小值)\n",
    "    target.append(bb)\n"
   ]
  },
  {
   "cell_type": "code",
   "execution_count": 9,
   "metadata": {},
   "outputs": [],
   "source": [
    "scipy.io.savemat('twe1',{'twe1':twe[1]})\n",
    "scipy.io.savemat('twe100',{'twe100':twe[100]})\n",
    "scipy.io.savemat('twe1000',{'twe1000':twe[1000]})"
   ]
  },
  {
   "cell_type": "code",
   "execution_count": 11,
   "metadata": {},
   "outputs": [],
   "source": [
    "scipy.io.savemat('nor21',{'nor21':nor2[1]})\n",
    "scipy.io.savemat('nor2100',{'nor2100':nor2[100]})\n",
    "scipy.io.savemat('nor21000',{'nor21000':nor2[1000]})"
   ]
  },
  {
   "cell_type": "code",
   "execution_count": 12,
   "metadata": {},
   "outputs": [],
   "source": [
    "scipy.io.savemat('target1',{'target1':target[1]})\n",
    "scipy.io.savemat('target100',{'target100':target[100]})\n",
    "scipy.io.savemat('target1000',{'target1000':target[1000]})"
   ]
  },
  {
   "cell_type": "code",
   "execution_count": null,
   "metadata": {},
   "outputs": [],
   "source": [
    "aaa=data[1]\n",
    "fig, (ax) = plt.subplots(nrows=1, figsize=(6,6))\n",
    "im = ax.imshow(aaa, extent=[0, 1, 0, 1])\n",
    "position=fig.add_axes([0.15, 0.05, 0.7, 0.03])#位置[左,下,右,上]\n",
    "cb=plt.colorbar(im,cax=position,orientation='horizontal')\n",
    "plt.show()"
   ]
  }
 ],
 "metadata": {
  "kernelspec": {
   "display_name": "Python 3",
   "language": "python",
   "name": "python3"
  },
  "language_info": {
   "codemirror_mode": {
    "name": "ipython",
    "version": 3
   },
   "file_extension": ".py",
   "mimetype": "text/x-python",
   "name": "python",
   "nbconvert_exporter": "python",
   "pygments_lexer": "ipython3",
   "version": "3.6.6"
  }
 },
 "nbformat": 4,
 "nbformat_minor": 2
}
