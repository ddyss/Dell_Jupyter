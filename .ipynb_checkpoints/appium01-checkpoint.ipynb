{
 "cells": [
  {
   "cell_type": "code",
   "execution_count": 20,
   "metadata": {},
   "outputs": [
    {
     "name": "stdout",
     "output_type": "stream",
     "text": [
      "零基础入门移动自动化测试——Appium框架视频（黑马程序员）\n",
      "软件测试之Appium自动化测试全网最全最细教程，学完立即上手\n",
      "Appium 手机 App 自动化 + Python - 华为大哥带你入门\n",
      "零基础入门移动自动化测试——Appium框架\n",
      "【完整】Appium移动手机自动化测试教程\n",
      "华为大佬7天带你入门python自动化测试—selenium自动化，appium自动化，app自动化，接口自动化，jmeter性能测试\n"
     ]
    },
    {
     "name": "stdin",
     "output_type": "stream",
     "text": [
      "**** Press to quit.. \n"
     ]
    }
   ],
   "source": [
    "from appium import webdriver\n",
    "from appium.webdriver.extensions.android.nativekey import AndroidKey\n",
    "\n",
    "# 查看是否有设备连接上\n",
    "# adb devices -l\n",
    "\n",
    "# 最近打开的APP的appPackage和appActivity会出现在第一行\n",
    "# adb shell dumpsys activity recents | find \"intent={\"\n",
    "\n",
    "# 首选id、（class）、content-desc进行定位；其次根据语法xpath进行定位（可采用text属性）\n",
    "\n",
    "# https://developer.android.com/reference/android/view/KeyEvent\n",
    "# https://developer.android.google.cn/training/testing/ui-automator  >API>UiSelector\n",
    "\n",
    "desired_caps = {\n",
    "  'platformName': 'Android', # 被测手机是安卓\n",
    "  'platformVersion': '10', # 手机安卓版本\n",
    "  'deviceName': 'xiaomi 10', # 设备名，安卓手机可以随意填写\n",
    "  'appPackage': 'tv.danmaku.bili', # 启动APP Package名称\n",
    "  'appActivity': '.ui.splash.SplashActivity', # 启动Activity名称\n",
    "  'unicodeKeyboard': True, # 使用自带输入法，输入中文时填True\n",
    "  'resetKeyboard': True, # 执行完程序恢复原来输入法\n",
    "  'noReset': True,       # 不要重置App\n",
    "  'newCommandTimeout': 6000,  #设置命令超时时间\n",
    "  'automationName' : 'UiAutomator2' #不设置会默认为UiAutomator1\n",
    "  # 'app': r'd:\\apk\\bili.apk',\n",
    "}\n",
    "\n",
    "# 连接Appium Server，初始化自动化环境\n",
    "driver = webdriver.Remote('http://localhost:4723/wd/hub', desired_caps)\n",
    "\n",
    "# 设置缺省等待时间\n",
    "driver.implicitly_wait(5)\n",
    "\n",
    "# 如果有`青少年保护`界面，点击`我知道了`\n",
    "iknow = driver.find_elements_by_id(\"text3\")\n",
    "if iknow:\n",
    "    iknow.click()\n",
    "\n",
    "# 根据id定位搜索位置框，点击\n",
    "driver.find_element_by_id(\"expand_search\").click()\n",
    "\n",
    "# 根据id定位搜索输入框，点击\n",
    "sbox = driver.find_element_by_id('search_src_text')\n",
    "sbox.send_keys('appium')\n",
    "# 输入回车键，确定搜索----这个可以搜Android keycode得到表\n",
    "driver.press_keycode(AndroidKey.ENTER)\n",
    "\n",
    "# 选择（定位）所有视频标题----可以切片只取前3个\n",
    "eles = driver.find_elements_by_id(\"title\")[:3]\n",
    "\n",
    "for ele in eles:\n",
    "    # 打印标题\n",
    "    print(ele.text)\n",
    "\n",
    "input('**** Press to quit..')#只要执行了这一句，才会执行下一句，关闭driver\n",
    "driver.quit()"
   ]
  },
  {
   "cell_type": "code",
   "execution_count": null,
   "metadata": {},
   "outputs": [],
   "source": []
  },
  {
   "cell_type": "code",
   "execution_count": null,
   "metadata": {},
   "outputs": [],
   "source": []
  },
  {
   "cell_type": "code",
   "execution_count": null,
   "metadata": {},
   "outputs": [],
   "source": []
  }
 ],
 "metadata": {
  "kernelspec": {
   "display_name": "Python 3",
   "language": "python",
   "name": "python3"
  },
  "language_info": {
   "codemirror_mode": {
    "name": "ipython",
    "version": 3
   },
   "file_extension": ".py",
   "mimetype": "text/x-python",
   "name": "python",
   "nbconvert_exporter": "python",
   "pygments_lexer": "ipython3",
   "version": "3.6.6"
  }
 },
 "nbformat": 4,
 "nbformat_minor": 4
}
