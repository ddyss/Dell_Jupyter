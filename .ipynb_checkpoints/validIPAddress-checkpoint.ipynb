{
 "cells": [
  {
   "cell_type": "code",
   "execution_count": 53,
   "metadata": {},
   "outputs": [
    {
     "data": {
      "text/plain": [
       "torch.Size([4, 1, 64, 64])"
      ]
     },
     "execution_count": 53,
     "metadata": {},
     "output_type": "execute_result"
    }
   ],
   "source": [
    "import torch\n",
    "import torch.nn as nn\n",
    "from torch import autograd\n",
    "dd=torch.randn(4,1,64,64) \n",
    "dd.size()"
   ]
  },
  {
   "cell_type": "code",
   "execution_count": 54,
   "metadata": {},
   "outputs": [],
   "source": [
    "#把常用的卷积操作简单封装下\n",
    "class CBRM(nn.Module):\n",
    "    def __init__(self, in_ch, out_ch):\n",
    "        super(CBRM, self).__init__()\n",
    "        self.conv = nn.Sequential(\n",
    "            nn.Conv2d(in_ch, out_ch, 3, 1, 1),\n",
    "            nn.BatchNorm2d(out_ch), #添加了BN层\n",
    "            nn.ReLU(inplace=True),\n",
    "            nn.MaxPool2d(2)            \n",
    "        )\n",
    "\n",
    "    def forward(self, input):\n",
    "        return self.conv(input)\n"
   ]
  },
  {
   "cell_type": "code",
   "execution_count": 55,
   "metadata": {},
   "outputs": [
    {
     "name": "stdout",
     "output_type": "stream",
     "text": [
      "torch.Size([4, 8, 32, 32])\n"
     ]
    }
   ],
   "source": [
    "djgnet1=CBRM(in_ch=1,out_ch=8)\n",
    "yy1=djgnet1(dd)\n",
    "print(yy1.shape)"
   ]
  },
  {
   "cell_type": "code",
   "execution_count": 56,
   "metadata": {},
   "outputs": [],
   "source": [
    "#把常用的卷积操作简单封装下\n",
    "class UCBR(nn.Module):\n",
    "    def __init__(self, in_ch, out_ch):\n",
    "        super(UCBR, self).__init__()\n",
    "        self.conv = nn.Sequential(\n",
    "            nn.ConvTranspose2d(in_ch, out_ch, 4, 2, 1),\n",
    "            nn.BatchNorm2d(out_ch), #添加了BN层\n",
    "            nn.ReLU(inplace=True)                       \n",
    "        )\n",
    "\n",
    "    def forward(self, input):\n",
    "        return self.conv(input)"
   ]
  },
  {
   "cell_type": "code",
   "execution_count": 65,
   "metadata": {},
   "outputs": [],
   "source": [
    "class DjgNet(nn.Module):\n",
    "    def __init__(self):\n",
    "        super(DjgNet,self).__init__()\n",
    "        self.conv1 = CBRM(in_ch=1,out_ch= 8)        \n",
    "        self.conv2 = CBRM(8, 2*8)     \n",
    "        self.relu = nn.ReLU(inplace=True)\n",
    "    def forward(self, x):\n",
    "        x = self.conv1(x)                \n",
    "        x = self.conv2(x)          \n",
    "        return x"
   ]
  },
  {
   "cell_type": "code",
   "execution_count": 66,
   "metadata": {},
   "outputs": [
    {
     "data": {
      "text/plain": [
       "torch.Size([4, 16, 16, 16])"
      ]
     },
     "execution_count": 66,
     "metadata": {},
     "output_type": "execute_result"
    }
   ],
   "source": [
    "djgnet=DjgNet()\n",
    "yy=djgnet(dd)\n",
    "yy.shape"
   ]
  },
  {
   "cell_type": "code",
   "execution_count": null,
   "metadata": {},
   "outputs": [],
   "source": []
  },
  {
   "cell_type": "code",
   "execution_count": null,
   "metadata": {},
   "outputs": [],
   "source": []
  }
 ],
 "metadata": {
  "kernelspec": {
   "display_name": "Python 3",
   "language": "python",
   "name": "python3"
  },
  "language_info": {
   "codemirror_mode": {
    "name": "ipython",
    "version": 3
   },
   "file_extension": ".py",
   "mimetype": "text/x-python",
   "name": "python",
   "nbconvert_exporter": "python",
   "pygments_lexer": "ipython3",
   "version": "3.6.6"
  }
 },
 "nbformat": 4,
 "nbformat_minor": 2
}
