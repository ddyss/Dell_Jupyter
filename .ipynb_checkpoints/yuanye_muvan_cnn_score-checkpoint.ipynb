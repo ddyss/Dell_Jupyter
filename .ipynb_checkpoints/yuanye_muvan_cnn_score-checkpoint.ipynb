{
 "cells": [
  {
   "cell_type": "code",
   "execution_count": 37,
   "metadata": {},
   "outputs": [],
   "source": [
    "import torch\n",
    "import torch.nn as nn\n",
    "import scipy.io\n",
    "import torch.nn.functional as F"
   ]
  },
  {
   "cell_type": "code",
   "execution_count": 38,
   "metadata": {},
   "outputs": [],
   "source": [
    "dd1=torch.randn(1,5,128) \n",
    "dd2=torch.randn(1,5,128) \n",
    "dd3=torch.randn(1,5) "
   ]
  },
  {
   "cell_type": "code",
   "execution_count": 39,
   "metadata": {},
   "outputs": [
    {
     "name": "stderr",
     "output_type": "stream",
     "text": [
      "c:\\users\\djg\\appdata\\local\\programs\\python\\python36\\lib\\site-packages\\ipykernel_launcher.py:9: UserWarning: nn.init.xavier_uniform is now deprecated in favor of nn.init.xavier_uniform_.\n",
      "  if __name__ == '__main__':\n",
      "c:\\users\\djg\\appdata\\local\\programs\\python\\python36\\lib\\site-packages\\ipykernel_launcher.py:12: UserWarning: nn.init.xavier_uniform is now deprecated in favor of nn.init.xavier_uniform_.\n",
      "  if sys.path[0] == '':\n",
      "c:\\users\\djg\\appdata\\local\\programs\\python\\python36\\lib\\site-packages\\ipykernel_launcher.py:15: UserWarning: nn.init.xavier_uniform is now deprecated in favor of nn.init.xavier_uniform_.\n",
      "  from ipykernel import kernelapp as app\n",
      "c:\\users\\djg\\appdata\\local\\programs\\python\\python36\\lib\\site-packages\\ipykernel_launcher.py:17: UserWarning: nn.init.xavier_uniform is now deprecated in favor of nn.init.xavier_uniform_.\n",
      "c:\\users\\djg\\appdata\\local\\programs\\python\\python36\\lib\\site-packages\\ipykernel_launcher.py:20: UserWarning: nn.init.xavier_uniform is now deprecated in favor of nn.init.xavier_uniform_.\n",
      "c:\\users\\djg\\appdata\\local\\programs\\python\\python36\\lib\\site-packages\\ipykernel_launcher.py:22: UserWarning: nn.init.xavier_uniform is now deprecated in favor of nn.init.xavier_uniform_.\n"
     ]
    }
   ],
   "source": [
    "class CNN_score(nn.Module):\n",
    "    def __init__(self, num_channel, hidden_size):\n",
    "        super(CNN_score, self).__init__()\n",
    "        self.num_channel = num_channel\n",
    "        self.hidden_size = hidden_size\n",
    "        # +: layer1->16\n",
    "        # ++: layer1, layer0->16\n",
    "        self.layer0 = nn.Conv1d(num_channel, 1, kernel_size=9, padding=4) #9 4\n",
    "        nn.init.xavier_uniform(self.layer0.weight, gain=nn.init.calculate_gain('tanh'))\n",
    "      \n",
    "        self.layer1 = nn.Conv2d(2, 1, kernel_size=(num_channel,9), padding=(0,4), stride=(num_channel,1)) #\n",
    "        nn.init.xavier_uniform(self.layer1.weight, gain=nn.init.calculate_gain('tanh'))\n",
    "\n",
    "        self.fc00 = nn.Linear(hidden_size, num_channel) # \n",
    "        nn.init.xavier_uniform(self.fc00.weight, gain=nn.init.calculate_gain('tanh'))\n",
    "        self.fc01 = nn.Linear(hidden_size, num_channel) #\n",
    "        nn.init.xavier_uniform(self.fc01.weight, gain=nn.init.calculate_gain('tanh'))\n",
    "        \n",
    "        self.fc1 = nn.Linear(hidden_size, num_channel) # \n",
    "        nn.init.xavier_uniform(self.fc1.weight, gain=nn.init.calculate_gain('tanh'))\n",
    "        self.fc2 = nn.Linear(num_channel, num_channel) # \n",
    "        nn.init.xavier_uniform(self.fc2.weight, gain=nn.init.calculate_gain('tanh'))\n",
    "\n",
    "        self.relu = nn.ReLU()\n",
    "        self.tanh = nn.Tanh()\n",
    "        \n",
    "    def forward(self, h_i, pre_h_i, pre_s):\n",
    "        # shape: batch x channel x hidden_size\n",
    "        # shape: batch x channel x hidden_size  added by myself\n",
    "        # shape: batch x channel\n",
    "        \n",
    "        out_h_i = self.layer0(h_i) # batch x 1 x hidden_size  把channel变成了1\n",
    "        out_h_i = self.fc00(out_h_i.view(out_h_i.size(0),-1)) # batch x channel\n",
    "        out_pre_h_i = self.layer0(pre_h_i) # batch x 1 x something124\n",
    "        out_pre_h_i = self.fc01(out_pre_h_i.view(out_pre_h_i.size(0),-1)) # batch x channel\n",
    "        \n",
    "        \n",
    "        h_i = h_i.view(h_i.size(0),-1,h_i.size(1),h_i.size(2)) # batch x 1 x channel x hidden_size\n",
    "        pre_h_i = pre_h_i.view(pre_h_i.size(0),-1,pre_h_i.size(1),pre_h_i.size(2)) # batch x 1 x channel x hidden_size\n",
    "        hh = torch.cat((h_i,pre_h_i), 1) # batch x 2 x channel x hidden_size\n",
    "        \n",
    "        out_hh = self.layer1(hh) # batch x 1 x hidden_size 又把channel变成了1\n",
    "        out_hh = self.fc1(out_hh.view(out_hh.size(0),-1)) # batch x channel\n",
    "        pre_s = self.fc2(pre_s)\n",
    "        \n",
    "        out = self.tanh(out_h_i + out_pre_h_i + out_hh + pre_s)\n",
    "        return out  #batch x channel\n",
    "djgnet=CNN_score(num_channel=5,hidden_size=128)"
   ]
  },
  {
   "cell_type": "code",
   "execution_count": 40,
   "metadata": {},
   "outputs": [
    {
     "name": "stdout",
     "output_type": "stream",
     "text": [
      "<class 'torch.Tensor'>\n",
      "1\n",
      "torch.Size([1, 5])\n"
     ]
    }
   ],
   "source": [
    "yy=djgnet(dd1,dd2,dd3)\n",
    "print(type(yy))\n",
    "print(len(yy))\n",
    "print(yy.shape)"
   ]
  },
  {
   "cell_type": "code",
   "execution_count": null,
   "metadata": {},
   "outputs": [],
   "source": []
  }
 ],
 "metadata": {
  "kernelspec": {
   "display_name": "Python 3",
   "language": "python",
   "name": "python3"
  },
  "language_info": {
   "codemirror_mode": {
    "name": "ipython",
    "version": 3
   },
   "file_extension": ".py",
   "mimetype": "text/x-python",
   "name": "python",
   "nbconvert_exporter": "python",
   "pygments_lexer": "ipython3",
   "version": "3.6.6"
  }
 },
 "nbformat": 4,
 "nbformat_minor": 2
}
