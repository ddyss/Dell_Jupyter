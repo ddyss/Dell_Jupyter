{
 "cells": [
  {
   "cell_type": "code",
   "execution_count": 5,
   "metadata": {},
   "outputs": [],
   "source": [
    "import scipy.io\n",
    "import h5py\n",
    "import numpy as np\n",
    "import cv2\n",
    "import matplotlib.pyplot as plt"
   ]
  },
  {
   "cell_type": "code",
   "execution_count": 2,
   "metadata": {},
   "outputs": [],
   "source": [
    "b=h5py.File('F:/train/train_dataset/s_rand_30_12_30/s_rand_30_360_true.mat')\n",
    "ta = []\n",
    "tb = []\n",
    "twe = []\n",
    "for i in range(30):\n",
    "    ta = [b[element[i]][:] for element in b['djg2']]\n",
    "    tb.append(ta)\n",
    "for i in range(360):\n",
    "    for j in range(30):\n",
    "        twe.append(tb[j][i])"
   ]
  },
  {
   "cell_type": "code",
   "execution_count": 13,
   "metadata": {},
   "outputs": [],
   "source": [
    "nor2=[]\n",
    "for i in range(10800):\n",
    "    bb =twe[i]#\n",
    "    mean_data = np.mean(bb)\n",
    "    std_data = bb.std()\n",
    "    bb -= mean_data\n",
    "    bb /= std_data\n",
    "    nor2.append(bb)"
   ]
  },
  {
   "cell_type": "code",
   "execution_count": 36,
   "metadata": {},
   "outputs": [
    {
     "name": "stdout",
     "output_type": "stream",
     "text": [
      "9.663381206337362e-17\n"
     ]
    }
   ],
   "source": [
    "mean_data = np.mean(twe[1])\n",
    "print(mean_data)"
   ]
  }
 ],
 "metadata": {
  "kernelspec": {
   "display_name": "Python 3",
   "language": "python",
   "name": "python3"
  },
  "language_info": {
   "codemirror_mode": {
    "name": "ipython",
    "version": 3
   },
   "file_extension": ".py",
   "mimetype": "text/x-python",
   "name": "python",
   "nbconvert_exporter": "python",
   "pygments_lexer": "ipython3",
   "version": "3.6.6"
  }
 },
 "nbformat": 4,
 "nbformat_minor": 2
}
