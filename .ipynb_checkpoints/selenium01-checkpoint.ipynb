{
 "cells": [
  {
   "cell_type": "code",
   "execution_count": 29,
   "metadata": {},
   "outputs": [
    {
     "data": {
      "text/plain": [
       "torch.Size([1, 1, 64, 64])"
      ]
     },
     "execution_count": 29,
     "metadata": {},
     "output_type": "execute_result"
    }
   ],
   "source": [
    "import torch\n",
    "import torch.nn as nn\n",
    "dd=torch.randn(1,1,64,64) \n",
    "dd.size()"
   ]
  },
  {
   "cell_type": "code",
   "execution_count": 62,
   "metadata": {},
   "outputs": [],
   "source": [
    "class DjgNet(nn.Module):\n",
    "    def __init__(self):\n",
    "        super(DjgNet,self).__init__()\n",
    "        self.conv1 = nn.Conv2d(1, 32, 3, 1, 1)        \n",
    "        self.conv2 = nn.Conv2d(32, 64, 3, 1, 1)      \n",
    "        self.conv3 = nn.Conv2d(64, 128, 3, 1, 1) \n",
    "        self.conv4 = nn.Conv2d(128, 256, 3, 1, 1) \n",
    "        \n",
    "        self.conv9 = nn.Conv2d(256, 256, 1, 1, 1)\n",
    "        \n",
    "        self.conv5 = nn.ConvTranspose2d(256, 128, 4, 2, 1)        \n",
    "        self.conv6 = nn.ConvTranspose2d(128, 64, 4, 2, 1)\n",
    "        self.conv7 = nn.ConvTranspose2d(64, 32, 4, 2, 1)\n",
    "        self.conv8 = nn.ConvTranspose2d(32, 1, 4, 2, 1)\n",
    "        \n",
    "        self.pool1 = nn.MaxPool2d(2)\n",
    "#         self.pool2 = nn.MaxPool2d(2,return_indices=True)\n",
    "#         self.pool4 = nn.MaxUnpool2d(2)    #加了unpool 报forward 缺少1个indices的错\n",
    "        layer4=nn.Sequential()\n",
    "        layer4.add_module('fc1',nn.Linear(4096,512))\n",
    "        layer4.add_module('fc_relu1',nn.ReLU(True))\n",
    "        layer4.add_module('fc2',nn.Linear(512,64))\n",
    "        layer4.add_module('fc_relu2',nn.ReLU(True))\n",
    "        layer4.add_module('fc3',nn.Linear(64,10))\n",
    "        self.layer4 = layer4\n",
    "\n",
    "        self.fc1 = nn.Linear(4096,512)\n",
    "        self.fc2 = nn.Linear(512,1024)\n",
    "        self.bn1 = nn.BatchNorm2d(1)\n",
    "        self.bn2 = nn.BatchNorm2d(32, eps=1e-05, momentum=0.1, affine=True)\n",
    "        self.bn3 = nn.BatchNorm2d(64, eps=1e-05, momentum=0.1, affine=True)\n",
    "        self.bn4 = nn.BatchNorm2d(128, eps=1e-05, momentum=0.1, affine=True)\n",
    "        self.bn5 = nn.BatchNorm2d(256, eps=1e-05, momentum=0.1, affine=True)\n",
    "        self.relu = nn.ReLU(inplace=True)\n",
    "    def forward(self,x):\n",
    "        x = self.conv1(x)\n",
    "        x = self.bn2(x)\n",
    "        x = self.relu(x)\n",
    "        x = self.pool1(x)\n",
    "        x = self.conv2(x)\n",
    "        x = self.bn3(x)\n",
    "        x = self.relu(x)\n",
    "        x = self.pool1(x) \n",
    "        x = self.conv3(x)\n",
    "        x = self.bn4(x)\n",
    "        x = self.relu(x)\n",
    "        x = self.pool1(x)\n",
    "        x = self.conv4(x)\n",
    "        x = self.bn5(x)\n",
    "        x = self.relu(x)\n",
    "        x = self.pool1(x)     #1,256,4,4\n",
    "        x = x.view(x.size(0), -1)  #拉长 后是一个一维的tensor  x.size(0)指batch_size的值\n",
    "        x = self.fc1(x)\n",
    "        x = self.fc2(x)\n",
    "#         x = torch.reshape(x,[64,16])\n",
    "        x = x.view(1,256,2,2)      #改变tensor的维度\n",
    "        x = self.conv9(x)  \n",
    "        x = self.conv5(x)\n",
    "        x = self.bn4(x)\n",
    "        x = self.relu(x)\n",
    "        x = self.conv6(x)\n",
    "        x = self.bn3(x)\n",
    "        x = self.relu(x)\n",
    "        x = self.conv7(x)\n",
    "        x = self.bn2(x)\n",
    "        x = self.relu(x)\n",
    "        x = self.conv8(x)\n",
    "        x = self.bn1(x)\n",
    "        x = self.relu(x)\n",
    "        return x\n",
    "\n",
    "djgnet=DjgNet()"
   ]
  },
  {
   "cell_type": "code",
   "execution_count": 63,
   "metadata": {},
   "outputs": [],
   "source": [
    "# print x.size()"
   ]
  },
  {
   "cell_type": "code",
   "execution_count": 64,
   "metadata": {},
   "outputs": [
    {
     "name": "stdout",
     "output_type": "stream",
     "text": [
      "<class 'torch.Tensor'>\n"
     ]
    },
    {
     "data": {
      "text/plain": [
       "1"
      ]
     },
     "execution_count": 64,
     "metadata": {},
     "output_type": "execute_result"
    }
   ],
   "source": [
    "\n",
    "yy=djgnet(dd)\n",
    "print(type(yy))\n",
    "len(yy)"
   ]
  },
  {
   "cell_type": "code",
   "execution_count": 65,
   "metadata": {},
   "outputs": [
    {
     "data": {
      "text/plain": [
       "torch.Size([1, 1, 64, 64])"
      ]
     },
     "execution_count": 65,
     "metadata": {},
     "output_type": "execute_result"
    }
   ],
   "source": [
    "yy.shape"
   ]
  },
  {
   "cell_type": "code",
   "execution_count": null,
   "metadata": {},
   "outputs": [],
   "source": []
  },
  {
   "cell_type": "code",
   "execution_count": null,
   "metadata": {},
   "outputs": [],
   "source": []
  },
  {
   "cell_type": "code",
   "execution_count": null,
   "metadata": {},
   "outputs": [],
   "source": []
  }
 ],
 "metadata": {
  "kernelspec": {
   "display_name": "Python 3",
   "language": "python",
   "name": "python3"
  },
  "language_info": {
   "codemirror_mode": {
    "name": "ipython",
    "version": 3
   },
   "file_extension": ".py",
   "mimetype": "text/x-python",
   "name": "python",
   "nbconvert_exporter": "python",
   "pygments_lexer": "ipython3",
   "version": "3.6.6"
  }
 },
 "nbformat": 4,
 "nbformat_minor": 2
}
