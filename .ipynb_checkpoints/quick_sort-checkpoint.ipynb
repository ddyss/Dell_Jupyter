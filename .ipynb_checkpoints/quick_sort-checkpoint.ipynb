{
 "cells": [
  {
   "cell_type": "code",
   "execution_count": 1,
   "metadata": {},
   "outputs": [
    {
     "data": {
      "text/plain": [
       "torch.Size([1, 1, 512, 512])"
      ]
     },
     "execution_count": 1,
     "metadata": {},
     "output_type": "execute_result"
    }
   ],
   "source": [
    "import torch\n",
    "import torch.nn as nn\n",
    "dd=torch.randn(1,1,512,512) \n",
    "dd.size()"
   ]
  },
  {
   "cell_type": "code",
   "execution_count": 14,
   "metadata": {},
   "outputs": [],
   "source": [
    "class DjgNet(nn.Module):\n",
    "    def __init__(self):\n",
    "        super(DjgNet,self).__init__()\n",
    "        self.conv1 = nn.Conv2d(1, 16, 3, 2, 1)        \n",
    "        self.conv2 = nn.Conv2d(16, 128, 3, 2, 1)        \n",
    "        self.conv3 = nn.ConvTranspose2d(128, 16, 4, 2, 1)        \n",
    "        self.conv4 = nn.ConvTranspose2d(16, 1, 4, 2, 1)\n",
    "        self.pool1 = nn.MaxPool2d(2,stride=2,return_indices=True)\n",
    "        self.pool2 = nn.MaxPool2d(2,return_indices=True)\n",
    "        self.pool3 = nn.MaxUnpool2d(2)\n",
    "        self.pool4 = nn.MaxUnpool2d(2)    #加了unpool 报forward 缺少1个indices的错\n",
    "#         self.fc1 = nn.Linear(4096,32)\n",
    "#         self.fc2 = nn.Linear(32,4096)\n",
    "        self.relu = nn.ReLU(inplace=True)\n",
    "    def forward(self,x):\n",
    "        x = self.conv1(x)\n",
    "        x = self.relu(x)\n",
    "        x = self.pool1(x)\n",
    "#         x = self.conv2(x)\n",
    "#         x = self.relu(x)\n",
    "#         x = self.pool2(x)\n",
    "#         x = self.fc1(x)\n",
    "#         x = self.fc2(x)\n",
    "#         x = self.pool3(x)\n",
    "#         x = self.conv3(x)\n",
    "#         x = self.relu(x)\n",
    "#         x = self.pool4(x)\n",
    "#         x = self.conv4(x)        \n",
    "        return x\n",
    "djgnet=DjgNet()"
   ]
  },
  {
   "cell_type": "code",
   "execution_count": 15,
   "metadata": {},
   "outputs": [
    {
     "data": {
      "text/plain": [
       "2"
      ]
     },
     "execution_count": 15,
     "metadata": {},
     "output_type": "execute_result"
    }
   ],
   "source": [
    "yy=djgnet(dd)\n",
    "len(yy)"
   ]
  },
  {
   "cell_type": "code",
   "execution_count": 16,
   "metadata": {},
   "outputs": [
    {
     "data": {
      "text/plain": [
       "torch.Size([1, 16, 128, 128])"
      ]
     },
     "execution_count": 16,
     "metadata": {},
     "output_type": "execute_result"
    }
   ],
   "source": [
    "yy[1].shape"
   ]
  },
  {
   "cell_type": "code",
   "execution_count": 17,
   "metadata": {},
   "outputs": [
    {
     "data": {
      "text/plain": [
       "torch.Size([1, 16, 128, 128])"
      ]
     },
     "execution_count": 17,
     "metadata": {},
     "output_type": "execute_result"
    }
   ],
   "source": [
    "yy[0].shape"
   ]
  },
  {
   "cell_type": "code",
   "execution_count": null,
   "metadata": {},
   "outputs": [],
   "source": []
  }
 ],
 "metadata": {
  "kernelspec": {
   "display_name": "Python 3",
   "language": "python",
   "name": "python3"
  },
  "language_info": {
   "codemirror_mode": {
    "name": "ipython",
    "version": 3
   },
   "file_extension": ".py",
   "mimetype": "text/x-python",
   "name": "python",
   "nbconvert_exporter": "python",
   "pygments_lexer": "ipython3",
   "version": "3.6.6"
  }
 },
 "nbformat": 4,
 "nbformat_minor": 2
}
