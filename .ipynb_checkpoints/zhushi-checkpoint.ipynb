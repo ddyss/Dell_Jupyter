{
 "cells": [
  {
   "cell_type": "code",
   "execution_count": null,
   "metadata": {},
   "outputs": [],
   "source": [
    "# https://blog.csdn.net/woainishifu/article/details/76105667\n",
    "\n",
    "# 单引号和双引号都可以用来表示一个字符串，没有任何区别；“” 双引号是为了防止字符串内出现‘’单引号\n",
    "# \"i'am your friend\"        #\"i'am your friend\"\n",
    "\n",
    "# 如果用单引号，需要用转义字符\n",
    "# 'i\\'am your friend'         #\"i'am your friend\"\n",
    "\n",
    "# 用单引号或者双引号定义一个字符串的时候只能把字符串连在一起写成一行，如果非要写成多行，就得在每一行后面加一个\\表示连字符，比如：\n",
    "\n",
    "\n",
    "# str1 = \"List of name:\\\n",
    "# Hua Li\\\n",
    "# Chao Deng\"\n",
    "# print(str1) #List of name:Hua LiChao Deng\n",
    "\n",
    "# 三个单引号或双引号，就可以解决这个问题，不用加\\，即可写成多行\n",
    "# str1 = '''List of name:\n",
    "# Hua Li\n",
    "# Chao Deng'''\n",
    "# print(str1)\n",
    "\n",
    "# 三个单引号或双引号，另一个功能就是加注释；三个“”双引号，同样是为了避免注释的内容里面出现了‘’单引号的情况"
   ]
  }
 ],
 "metadata": {
  "kernelspec": {
   "display_name": "Python 3",
   "language": "python",
   "name": "python3"
  },
  "language_info": {
   "codemirror_mode": {
    "name": "ipython",
    "version": 3
   },
   "file_extension": ".py",
   "mimetype": "text/x-python",
   "name": "python",
   "nbconvert_exporter": "python",
   "pygments_lexer": "ipython3",
   "version": "3.6.6"
  }
 },
 "nbformat": 4,
 "nbformat_minor": 4
}
