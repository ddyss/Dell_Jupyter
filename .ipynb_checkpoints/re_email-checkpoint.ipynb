{
 "cells": [
  {
   "cell_type": "code",
   "execution_count": 2,
   "metadata": {},
   "outputs": [
    {
     "data": {
      "text/plain": [
       "4560"
      ]
     },
     "execution_count": 2,
     "metadata": {},
     "output_type": "execute_result"
    }
   ],
   "source": [
    "import scipy.io\n",
    "import h5py\n",
    "import numpy as np\n",
    "import cv2\n",
    "a=h5py.File('F:/train/end to end 4560noiseball/120.38_70.mat')  #F:/colorbar/CNN/train/\n",
    "\n",
    "da = []\n",
    "db = []\n",
    "qwe = []  # 列表   元组用（）\n",
    "for i in range(120):\n",
    "    da = [a[element[i]][:] for element in a['djg']]\n",
    "    db.append(da)\n",
    "for i in range(38):\n",
    "    for j in range(120):\n",
    "        qwe.append(db[j][i])\n",
    "len(qwe)"
   ]
  },
  {
   "cell_type": "code",
   "execution_count": 9,
   "metadata": {},
   "outputs": [],
   "source": [
    "\n",
    "dys=[]\n",
    "data=[]\n",
    "for i in range(456):    \n",
    "    dys=np.array(qwe[i])\n",
    "    res=cv2.resize(dys,(512,128),interpolation=cv2.INTER_CUBIC)  #立方插值\n",
    "#     aa=np.resize(dys,[512,512])  #resize重组数据不够时，使用原数据依次填补，当resize成128*128时，会有好多重复并排出现，当512*512时，会有好多并列出现\n",
    "    data.append(res)"
   ]
  },
  {
   "cell_type": "code",
   "execution_count": 15,
   "metadata": {},
   "outputs": [
    {
     "data": {
      "text/plain": [
       "(512, 128)"
      ]
     },
     "execution_count": 15,
     "metadata": {},
     "output_type": "execute_result"
    }
   ],
   "source": [
    "qwe[4559].shape"
   ]
  },
  {
   "cell_type": "code",
   "execution_count": 16,
   "metadata": {},
   "outputs": [],
   "source": [
    "\n",
    "scipy.io.savemat('F:/mat/tran2.mat',{'tran': qwe[4559]})"
   ]
  },
  {
   "cell_type": "code",
   "execution_count": null,
   "metadata": {},
   "outputs": [],
   "source": [
    "b=scipy.io.loadmat('F:/train/end to end 4560noiseball/120.38_true.mat')['djg2']\n",
    "target=[]\n",
    "for i in range(38):\n",
    "    for j in range(120):       \n",
    "        target.append(b[j][i])"
   ]
  },
  {
   "cell_type": "code",
   "execution_count": null,
   "metadata": {},
   "outputs": [],
   "source": [
    "# scipy.io.savemat('F:/mat/tran.mat',{'tran': res})"
   ]
  },
  {
   "cell_type": "code",
   "execution_count": null,
   "metadata": {},
   "outputs": [],
   "source": [
    "# import numpy\n",
    "# import scipy.ndimage\n",
    "# a = numpy.array([[0.,-2.,0.], [-2.,11.,-2.], [0.,-2.,0.]])\n",
    "# out = numpy.round(scipy.ndimage.interpolation.zoom(a, 5./3), 1, order = 2)\n",
    "# print out"
   ]
  },
  {
   "cell_type": "code",
   "execution_count": 114,
   "metadata": {},
   "outputs": [],
   "source": []
  },
  {
   "cell_type": "code",
   "execution_count": null,
   "metadata": {},
   "outputs": [],
   "source": []
  }
 ],
 "metadata": {
  "kernelspec": {
   "display_name": "Python 3",
   "language": "python",
   "name": "python3"
  },
  "language_info": {
   "codemirror_mode": {
    "name": "ipython",
    "version": 3
   },
   "file_extension": ".py",
   "mimetype": "text/x-python",
   "name": "python",
   "nbconvert_exporter": "python",
   "pygments_lexer": "ipython3",
   "version": "3.6.6"
  }
 },
 "nbformat": 4,
 "nbformat_minor": 2
}
