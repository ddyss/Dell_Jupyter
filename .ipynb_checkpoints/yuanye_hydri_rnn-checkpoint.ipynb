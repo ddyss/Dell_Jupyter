{
 "cells": [
  {
   "cell_type": "code",
   "execution_count": 2,
   "metadata": {},
   "outputs": [],
   "source": [
    "import torch\n",
    "import torch.nn as nn\n",
    "import scipy.io\n",
    "import torch.nn.functional as F"
   ]
  },
  {
   "cell_type": "code",
   "execution_count": 3,
   "metadata": {},
   "outputs": [],
   "source": [
    "dd=torch.randn(1,1,5,1950) "
   ]
  },
  {
   "cell_type": "code",
   "execution_count": 8,
   "metadata": {},
   "outputs": [],
   "source": [
    "class CNN_0(nn.Module):\n",
    "    def __init__(self, hidden_size, dropout_rate=0.5):\n",
    "        super(CNN_0, self).__init__()\n",
    "        self.hidden_size = hidden_size\n",
    "        self.layer1 = nn.Sequential(\n",
    "            nn.Conv1d(1, 16, kernel_size=5, padding=2),\n",
    "            nn.BatchNorm1d(16),\n",
    "            nn.ReLU(),\n",
    "            nn.MaxPool1d(2))\n",
    "        self.layer2 = nn.Sequential(\n",
    "            nn.Conv1d(16, 32, kernel_size=5, padding=2),\n",
    "            nn.BatchNorm1d(32),\n",
    "            nn.ReLU(),\n",
    "            nn.MaxPool1d(2))\n",
    "        self.dropout = nn.Dropout(dropout_rate)\n",
    "\n",
    "        self.relu = nn.ReLU()\n",
    "\n",
    "\n",
    "        self.conv1_1 = nn.Conv2d(1, 8, kernel_size=(1,8), stride=(1,2), padding=(0,3))\n",
    "        self.conv1_2 = nn.Conv2d(1, 8, kernel_size=(1,16), stride=(1,2), padding=(0,7))\n",
    "        self.conv1_3 = nn.Conv2d(1, 8, kernel_size=(1,32), stride=(1,2), padding=(0,15))\n",
    "        self.conv1_4 = nn.Conv2d(1, 8, kernel_size=(1,64), stride=(1,2), padding=(0,31))\n",
    "\n",
    "        self.norm1 = nn.BatchNorm2d(32) #\n",
    "        self.pool1 = nn.AvgPool2d((1,6), stride=(1,4), padding=(0,1)) #\n",
    "\n",
    "        self.conv2_1 = nn.Conv2d(32, 16, kernel_size=3, stride=1, padding=1)\n",
    "        self.conv2_2 = nn.Conv2d(32, 16, kernel_size=5, stride=1, padding=2)\n",
    "\n",
    "        self.norm2 = nn.BatchNorm2d(32)\n",
    "        self.pool2 = nn.AvgPool2d((1,3), stride=(1,2), padding=(0,1)) #\n",
    "\n",
    "\n",
    "        self.conv3_1 = nn.Conv2d(32, 16, kernel_size=3, stride=1, padding=1)\n",
    "        self.conv3_2 = nn.Conv2d(32, 16, kernel_size=5, stride=1, padding=2)\n",
    "\n",
    "        self.norm3 = nn.BatchNorm2d(32)\n",
    "        self.pool3 = nn.AvgPool2d((5,3), stride=(5,2), padding=(0,1)) #\n",
    "\n",
    "        self.fc = nn.Linear(61*32, hidden_size) #\n",
    "\n",
    "\n",
    "    def forward(self, x):\n",
    "        # shape: batch x 1 x channel5 x raw_feature1950\n",
    "\n",
    "        encoded = torch.cat([self.conv1_1(x),self.conv1_2(x),self.conv1_3(x),self.conv1_4(x)],1)\n",
    "        encoded = self.relu(self.norm1(encoded))\n",
    "        encoded = self.pool1(encoded)\n",
    "\n",
    "        encoded = torch.cat([self.conv2_1(encoded),self.conv2_2(encoded)],1)\n",
    "        encoded = self.relu(self.norm2(encoded))\n",
    "        encoded = self.pool2(encoded)\n",
    "\n",
    "        encoded = torch.cat([self.conv3_1(encoded),self.conv3_2(encoded)],1)\n",
    "        encoded = self.relu(self.norm3(encoded))\n",
    "        encoded = self.pool3(encoded)\n",
    "\n",
    "        encoded = self.relu(self.fc(encoded.view(encoded.size(0),-1))) # batch x hidden_size\n",
    "        return encoded\n",
    "djgnet=CNN_0(hidden_size=128)"
   ]
  },
  {
   "cell_type": "code",
   "execution_count": 9,
   "metadata": {},
   "outputs": [
    {
     "name": "stdout",
     "output_type": "stream",
     "text": [
      "<class 'torch.Tensor'>\n",
      "1\n",
      "torch.Size([1, 128])\n"
     ]
    }
   ],
   "source": [
    "yy=djgnet(dd)\n",
    "print(type(yy))\n",
    "print(len(yy))\n",
    "print(yy.shape)"
   ]
  },
  {
   "cell_type": "code",
   "execution_count": null,
   "metadata": {},
   "outputs": [],
   "source": []
  }
 ],
 "metadata": {
  "kernelspec": {
   "display_name": "Python 3",
   "language": "python",
   "name": "python3"
  },
  "language_info": {
   "codemirror_mode": {
    "name": "ipython",
    "version": 3
   },
   "file_extension": ".py",
   "mimetype": "text/x-python",
   "name": "python",
   "nbconvert_exporter": "python",
   "pygments_lexer": "ipython3",
   "version": "3.6.6"
  }
 },
 "nbformat": 4,
 "nbformat_minor": 2
}
