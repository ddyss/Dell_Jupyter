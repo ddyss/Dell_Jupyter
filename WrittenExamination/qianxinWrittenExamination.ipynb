{
 "cells": [
  {
   "cell_type": "code",
   "execution_count": 21,
   "metadata": {},
   "outputs": [
    {
     "name": "stdout",
     "output_type": "stream",
     "text": [
      "1\n"
     ]
    },
    {
     "data": {
      "text/plain": [
       "1"
      ]
     },
     "execution_count": 21,
     "metadata": {},
     "output_type": "execute_result"
    }
   ],
   "source": [
    "# https://blog.csdn.net/liuxiao214/article/details/81673093\n",
    "# 在函数体中改变变量指向的堆中的值 , 对函数外变量有效.\n",
    "# 在函数体中改变变量的引用 , 对函数外变量无效\n",
    "\n",
    "a = 1\n",
    "def qianxin(a):\n",
    "    # 重新赋值后不会对原参数造成改变，但是append则会；\n",
    "    a = 2 #无论函数中对其做什么操作，都不会改变函数外这个参数的值；\n",
    "    return a\n",
    "qianxin(a)\n",
    "print(a)\n",
    "a"
   ]
  },
  {
   "cell_type": "code",
   "execution_count": 18,
   "metadata": {},
   "outputs": [
    {
     "name": "stdout",
     "output_type": "stream",
     "text": [
      "2\n"
     ]
    },
    {
     "data": {
      "text/plain": [
       "2"
      ]
     },
     "execution_count": 18,
     "metadata": {},
     "output_type": "execute_result"
    }
   ],
   "source": [
    "a = 1\n",
    "def qianxin():\n",
    "    global a\n",
    "    a = 2\n",
    "    return a\n",
    "qianxin()\n",
    "print(a)\n",
    "a"
   ]
  },
  {
   "cell_type": "code",
   "execution_count": null,
   "metadata": {},
   "outputs": [],
   "source": []
  }
 ],
 "metadata": {
  "kernelspec": {
   "display_name": "Python 3",
   "language": "python",
   "name": "python3"
  },
  "language_info": {
   "codemirror_mode": {
    "name": "ipython",
    "version": 3
   },
   "file_extension": ".py",
   "mimetype": "text/x-python",
   "name": "python",
   "nbconvert_exporter": "python",
   "pygments_lexer": "ipython3",
   "version": "3.6.6"
  }
 },
 "nbformat": 4,
 "nbformat_minor": 4
}
