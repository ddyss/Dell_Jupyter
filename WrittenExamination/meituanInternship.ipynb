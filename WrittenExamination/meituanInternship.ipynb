{
 "cells": [
  {
   "cell_type": "code",
   "execution_count": 46,
   "metadata": {},
   "outputs": [],
   "source": [
    "nums = [1,2,6,5,9,63,19,56,3,5,6,5,55,3,25,5,1,3,3,3,3,3,3]"
   ]
  },
  {
   "cell_type": "code",
   "execution_count": 47,
   "metadata": {},
   "outputs": [
    {
     "name": "stdout",
     "output_type": "stream",
     "text": [
      "[(3, 8), (5, 4), (1, 2), (6, 2), (2, 1), (9, 1), (63, 1), (19, 1), (56, 1), (55, 1), (25, 1)]\n"
     ]
    }
   ],
   "source": [
    "# https://blog.csdn.net/sinat_24091225/article/details/77925473\n",
    "dic = {}\n",
    "for num in nums:\n",
    "    dic[num] = dic.get(num,0) + 1\n",
    "\n",
    "dic = sorted(dic.items(),key = lambda x:x[1],reverse = True)\n",
    "print(dic)"
   ]
  },
  {
   "cell_type": "code",
   "execution_count": 38,
   "metadata": {},
   "outputs": [
    {
     "name": "stdout",
     "output_type": "stream",
     "text": [
      "[(3, 8), (5, 4), (1, 2), (6, 2), (2, 1), (9, 1), (63, 1), (19, 1), (56, 1), (55, 1), (25, 1)]\n"
     ]
    }
   ],
   "source": [
    "import collections\n",
    "counts = collections.Counter(nums)\n",
    "# counts.most_common(1)[0][0]#出现次数最多的前1个元素\n",
    "sorted_x = sorted(counts.items(),key = lambda x:x[1],reverse = True) # x[1]按第二个位置排序 True表示降序\n",
    "print(sorted_x)"
   ]
  },
  {
   "cell_type": "code",
   "execution_count": 10,
   "metadata": {},
   "outputs": [],
   "source": [
    "# 可以利用计数排序的做法，将其存起来\n",
    "n = len(nums)\n",
    "_min = min(nums)\n",
    "_max = max(nums)\n",
    "# 注意此处长度要+1\n",
    "# 当最大最小相差很大，占用很大内存\n",
    "tmp_arr = [0]*(_max - _min + 1)\n",
    "for num in nums:\n",
    "    tmp_arr[num - _min] += 1"
   ]
  },
  {
   "cell_type": "code",
   "execution_count": 11,
   "metadata": {},
   "outputs": [
    {
     "data": {
      "text/plain": [
       "2"
      ]
     },
     "execution_count": 11,
     "metadata": {},
     "output_type": "execute_result"
    }
   ],
   "source": [
    "# 索引 + 1 就是对应的众数\n",
    "tmp_arr.index(max(tmp_arr)) + 1"
   ]
  },
  {
   "cell_type": "code",
   "execution_count": 12,
   "metadata": {},
   "outputs": [
    {
     "data": {
      "text/plain": [
       "8"
      ]
     },
     "execution_count": 12,
     "metadata": {},
     "output_type": "execute_result"
    }
   ],
   "source": [
    "max(tmp_arr)"
   ]
  },
  {
   "cell_type": "code",
   "execution_count": null,
   "metadata": {},
   "outputs": [],
   "source": [
    "# 说明 索引为2（也就是3）出现次数最多，为8次"
   ]
  }
 ],
 "metadata": {
  "kernelspec": {
   "display_name": "Python 3",
   "language": "python",
   "name": "python3"
  },
  "language_info": {
   "codemirror_mode": {
    "name": "ipython",
    "version": 3
   },
   "file_extension": ".py",
   "mimetype": "text/x-python",
   "name": "python",
   "nbconvert_exporter": "python",
   "pygments_lexer": "ipython3",
   "version": "3.6.6"
  }
 },
 "nbformat": 4,
 "nbformat_minor": 4
}
