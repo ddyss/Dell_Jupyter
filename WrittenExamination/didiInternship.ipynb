{
 "cells": [
  {
   "cell_type": "code",
   "execution_count": null,
   "metadata": {},
   "outputs": [],
   "source": [
    "# LeetCode 146 lru缓存机制         https://leetcode-cn.com/problems/lru-cache/\n",
    "# https://leetcode-cn.com/problems/lru-cache/solution/lruhuan-cun-ji-zhi-by-leetcode-solution/\n",
    "\n",
    "class LRUCache(collections.OrderedDict):\n",
    "\n",
    "    def __init__(self, capacity: int):\n",
    "        super().__init__()\n",
    "        self.capacity = capacity\n",
    "\n",
    "\n",
    "    def get(self, key: int) -> int:\n",
    "        if key not in self:\n",
    "            return -1\n",
    "        self.move_to_end(key)\n",
    "        return self[key]\n",
    "\n",
    "    def put(self, key: int, value: int) -> None:\n",
    "        if key in self:\n",
    "            self.move_to_end(key)\n",
    "        self[key] = value\n",
    "        if len(self) > self.capacity:\n",
    "            self.popitem(last=False)\n",
    "\n",
    "\n"
   ]
  },
  {
   "cell_type": "code",
   "execution_count": 1,
   "metadata": {},
   "outputs": [
    {
     "name": "stdout",
     "output_type": "stream",
     "text": [
      "None\n",
      "\n",
      "re.search() return value: <class '_sre.SRE_Match'>\n",
      "STR1 STR1 1\n",
      "\n",
      "re.findall() return value: <class 'list'>\n",
      "STR1 1\n",
      "STR2 2\n",
      "\n",
      "re.finditer() return value: <class 'callable_iterator'>\n",
      "STR1 STR1 1\n",
      "STR2 STR2 2\n"
     ]
    }
   ],
   "source": [
    "# 奇虎360二面的小问题。-----------正则模块中，match和search的区别\n",
    "# https://blog.csdn.net/tp7309/article/details/72823258\n",
    "\n",
    "from __future__ import print_function\n",
    "import re\n",
    "\n",
    "content = '333STR1666STR299'\n",
    "regex = r'([A-Z]+(\\d))'\n",
    "\n",
    "if __name__ == '__main__':\n",
    "    print(re.match(regex, content)) ##content的开头不符合正则，所以结果为None。\n",
    "\n",
    "    ##只会找一个匹配，match[0]是regex所代表的整个字符串，match[1]是第一个()中的内容，match[2]是第二对()中的内容。\n",
    "    match = re.search(regex, content)\n",
    "    print('\\nre.search() return value: ' + str(type(match)))\n",
    "    print(match.group(0), match.group(1), match.group(2))  \n",
    "\n",
    "    result1 = re.findall(regex, content)\n",
    "    print('\\nre.findall() return value: ' + str(type(result1)))\n",
    "    for m in result1:\n",
    "        print(m[0], m[1])\n",
    "\n",
    "    result2 = re.finditer(regex, content)\n",
    "    print('\\nre.finditer() return value: ' + str(type(result2)))\n",
    "    for m in result2:\n",
    "        print(m.group(0), m.group(1), m.group(2))  ##字符串"
   ]
  },
  {
   "cell_type": "code",
   "execution_count": null,
   "metadata": {},
   "outputs": [],
   "source": []
  }
 ],
 "metadata": {
  "kernelspec": {
   "display_name": "Python 3",
   "language": "python",
   "name": "python3"
  },
  "language_info": {
   "codemirror_mode": {
    "name": "ipython",
    "version": 3
   },
   "file_extension": ".py",
   "mimetype": "text/x-python",
   "name": "python",
   "nbconvert_exporter": "python",
   "pygments_lexer": "ipython3",
   "version": "3.6.6"
  }
 },
 "nbformat": 4,
 "nbformat_minor": 4
}
