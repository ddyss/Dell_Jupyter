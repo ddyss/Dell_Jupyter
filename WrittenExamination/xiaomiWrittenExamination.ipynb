{
 "cells": [
  {
   "cell_type": "code",
   "execution_count": null,
   "metadata": {},
   "outputs": [],
   "source": [
    "grid = [\n",
    "  [1,3,1],\n",
    "  [1,5,1],\n",
    "  [4,2,1],\n",
    "  [5,6,9]\n",
    "]"
   ]
  },
  {
   "cell_type": "code",
   "execution_count": null,
   "metadata": {},
   "outputs": [],
   "source": [
    "aa = ['1','0','1']"
   ]
  },
  {
   "cell_type": "code",
   "execution_count": null,
   "metadata": {},
   "outputs": [],
   "source": [
    "res = [65, 18, 11, 52, 12, 1, 37, 51, 31, 88, 40, 88, 49, 100, 20, 40, 14, 4, 69, 96, 27]"
   ]
  },
  {
   "cell_type": "code",
   "execution_count": null,
   "metadata": {},
   "outputs": [],
   "source": [
    "def huiwen(s):\n",
    "    return s==s[::-1]\n",
    "while True:\n",
    "    try:\n",
    "        n=int(input())\n",
    "        for i in range(2,17):\n",
    "            if huiwen(jinzhi(n,i)):\n",
    "                print('Yes')\n",
    "                break\n",
    "        else:\n",
    "            print(\"No\")\n",
    "    except:\n",
    "        break"
   ]
  },
  {
   "cell_type": "code",
   "execution_count": null,
   "metadata": {},
   "outputs": [],
   "source": [
    "sen = '1,,a.d,c,600,10.2000,abc'#小米字符串\n",
    "res = 0\n",
    "i = 0\n",
    "while i <= len(sen)-1:\n",
    "    if not '0' <= sen[i] <= '9':\n",
    "        res = max(res,ord(sen[i]))\n",
    "        i+=1\n",
    "\n",
    "    else:\n",
    "        tmp = sen[i]\n",
    "        i+=1\n",
    "        while '0' <= sen[i] <= '9':\n",
    "            tmp += sen[i]\n",
    "            res = max(res,int(tmp))\n",
    "            i+=1\n",
    "\n",
    "print(res)#2000\n",
    "print(len(sen))#24"
   ]
  }
 ],
 "metadata": {
  "kernelspec": {
   "display_name": "Python 3",
   "language": "python",
   "name": "python3"
  },
  "language_info": {
   "codemirror_mode": {
    "name": "ipython",
    "version": 3
   },
   "file_extension": ".py",
   "mimetype": "text/x-python",
   "name": "python",
   "nbconvert_exporter": "python",
   "pygments_lexer": "ipython3",
   "version": "3.6.6"
  },
  "toc": {
   "base_numbering": 1,
   "nav_menu": {},
   "number_sections": true,
   "sideBar": true,
   "skip_h1_title": false,
   "title_cell": "Table of Contents",
   "title_sidebar": "Contents",
   "toc_cell": false,
   "toc_position": {
    "height": "calc(100% - 180px)",
    "left": "10px",
    "top": "150px",
    "width": "307.2px"
   },
   "toc_section_display": true,
   "toc_window_display": true
  }
 },
 "nbformat": 4,
 "nbformat_minor": 4
}
