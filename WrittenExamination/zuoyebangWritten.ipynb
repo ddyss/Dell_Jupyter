{
 "cells": [
  {
   "cell_type": "code",
   "execution_count": null,
   "metadata": {},
   "outputs": [],
   "source": [
    "# 1. 学生表 student\n",
    "# id，name，classid，score\n",
    "# 2.班级表 class\n",
    "# id，name\n",
    "\n",
    "# 1. 查询班级名称为 宏志班 的所有学生名字\n",
    "# 2. 获取 班级平均分>80 的班级名称"
   ]
  },
  {
   "cell_type": "code",
   "execution_count": 31,
   "metadata": {},
   "outputs": [
    {
     "name": "stdout",
     "output_type": "stream",
     "text": [
      "0.0\n"
     ]
    },
    {
     "data": {
      "text/plain": [
       "'1245'"
      ]
     },
     "execution_count": 31,
     "metadata": {},
     "output_type": "execute_result"
    }
   ],
   "source": [
    "# 作业帮校招一面。两个大数相加： 字符串都是由数字组成，字符串很长，求两个相等长度字符串的数字和。如：11111 + 11111 = 22222\n",
    "# 另可参考 LeetCode 415\n",
    "import time\n",
    "str1 = '456'\n",
    "str2 = '789'\n",
    "def timeCal(func):\n",
    "    def wrapper(*args,**kargs):\n",
    "        start = time.time()\n",
    "        f = func(str1,str2)\n",
    "        end = time.time()\n",
    "        print(end-start)\n",
    "        # 这里要把func的结果f返回，不然不会输出函数的结果\n",
    "        return f\n",
    "    return wrapper\n",
    "\n",
    "\n",
    "@timeCal\n",
    "def func(str1,str2):\n",
    "    str1 = str1[::-1]\n",
    "    str2 = str2[::-1]\n",
    "    str11 = list(str1) #直接list即可拆分['4','5','6']\n",
    "    str22 = list(str2)\n",
    "    n = max(len(str11),len(str22))    \n",
    "    res = [0] * (n+1)\n",
    "    # 第一个位置赋值为空字符串，防止出现0 和字符相加，不匹配的情况\n",
    "    res[0] = ''\n",
    "    for i,j in zip(str11,str22):        \n",
    "        if int(i) + int(j) < 10:\n",
    "            res[n] = str(int(i) + int(j) + int(res[n]))\n",
    "            n -= 1\n",
    "        else:\n",
    "            # 每次进位为字符串'1'，防止最高位相加不匹配的情况\n",
    "            res[n-1] = '1'\n",
    "            res[n] = str(int(i) + int(j) + int(res[n]) - 10)\n",
    "            n -= 1\n",
    "\n",
    "    return ''.join(res)\n",
    "# func(str1,str2)\n",
    "\n",
    "@timeCal\n",
    "def func2(str1,str2): # 还是这种方法明显快一点啊\n",
    "    return str(int(str1) + int(str2))\n",
    "\n",
    "func(str1,str2)\n",
    "\n",
    "\n",
    "# func2(str1,str2)\n",
    "\n"
   ]
  },
  {
   "cell_type": "code",
   "execution_count": null,
   "metadata": {},
   "outputs": [],
   "source": []
  }
 ],
 "metadata": {
  "kernelspec": {
   "display_name": "Python 3",
   "language": "python",
   "name": "python3"
  },
  "language_info": {
   "codemirror_mode": {
    "name": "ipython",
    "version": 3
   },
   "file_extension": ".py",
   "mimetype": "text/x-python",
   "name": "python",
   "nbconvert_exporter": "python",
   "pygments_lexer": "ipython3",
   "version": "3.6.6"
  }
 },
 "nbformat": 4,
 "nbformat_minor": 4
}
