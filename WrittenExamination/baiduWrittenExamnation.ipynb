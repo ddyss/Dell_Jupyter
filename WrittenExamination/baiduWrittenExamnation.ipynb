{
 "cells": [
  {
   "cell_type": "code",
   "execution_count": 17,
   "metadata": {},
   "outputs": [
    {
     "name": "stdout",
     "output_type": "stream",
     "text": [
      "3.141\n",
      "2.718\n",
      "global pi= 3.14\n",
      "local e=   2.71\n",
      "3.14\n",
      "2.718\n"
     ]
    }
   ],
   "source": [
    "# 怎么修改全局变量\n",
    "\n",
    "pi=3.141\n",
    "e=2.718\n",
    "def func():\n",
    "    global pi\n",
    "    pi=3.14\n",
    "    print('global pi=',pi)\n",
    "    e=2.71\n",
    "    print('local e=  ',e)\n",
    "print(pi)\n",
    "print(e)\n",
    "func()\n",
    "print(pi)#这个print出来是3.14局部变量\n",
    "print(e)#这个print出来是2.718全局变量\n",
    "  #如果要修改全局变量 则在函数中先声明是全局变量 然后进行赋值就可以修改了"
   ]
  },
  {
   "cell_type": "code",
   "execution_count": 20,
   "metadata": {},
   "outputs": [
    {
     "name": "stdout",
     "output_type": "stream",
     "text": [
      "None\n"
     ]
    }
   ],
   "source": [
    "def binSearch(nums,target):\n",
    "\tif not nums:\n",
    "\t\treturn\n",
    "\n",
    "\tn = len(nums)\n",
    "\tif n == 1 and nums[0] == target:\n",
    "\t\treturn nums[0] \n",
    "\telse:\n",
    "\t\treturn \n",
    "\n",
    "\tleft = 0\n",
    "\tright = n - 1\n",
    "\n",
    "\twhile left <= right:\n",
    "\t\tmid = left + (right-left)//2\n",
    "\t\tif targt == nums[mid]:\n",
    "\t\t\treturn nums[mid]\n",
    "\t\telif target < nums[mid]:\n",
    "\t\t\tright = mid - 1\n",
    "\t\telse:\n",
    "\t\t\tleft = mid + 1\n",
    "\n",
    "\treturn \n",
    "arr = [1,2,5,6,8,14,69]\n",
    "print(binSearch(arr,88))"
   ]
  },
  {
   "cell_type": "code",
   "execution_count": 16,
   "metadata": {},
   "outputs": [],
   "source": [
    "# 根据上面的代码编写测试用例，就是找一些特殊情况\n",
    "# 输入可能不是排好序的\n",
    "\n",
    "# 输入为空----输出\n",
    "# 输入只有一个----输出\n",
    "# 输入只有两个（2个：一样、其中一个为0、正数负数？）----输出\n",
    "# 输入有特别多个----输出"
   ]
  },
  {
   "cell_type": "code",
   "execution_count": 21,
   "metadata": {},
   "outputs": [
    {
     "data": {
      "text/plain": [
       "4"
      ]
     },
     "execution_count": 21,
     "metadata": {},
     "output_type": "execute_result"
    }
   ],
   "source": [
    "# 电信里的一个小题目\n",
    "\n",
    "s= 'abc\\n'  # 转义字符 长度算一个\n",
    "len(s)"
   ]
  },
  {
   "cell_type": "code",
   "execution_count": 4,
   "metadata": {},
   "outputs": [
    {
     "data": {
      "text/plain": [
       "False"
      ]
     },
     "execution_count": 4,
     "metadata": {},
     "output_type": "execute_result"
    }
   ],
   "source": [
    "# 电信里的一个小题目  判断是否为2的幂\n",
    "\n",
    "# 一个数n若为2的幂，其二进制形式100000000000，则n-1 的二进制形式011111111111111\n",
    "# 对两者求 与 运算即可，判断是否为0；排除特殊情况0\n",
    "def checkPowerOf2(n):\n",
    "    return not n & (n - 1) and n != 0\n",
    "checkPowerOf2(127)"
   ]
  },
  {
   "cell_type": "code",
   "execution_count": null,
   "metadata": {},
   "outputs": [],
   "source": []
  }
 ],
 "metadata": {
  "kernelspec": {
   "display_name": "Python 3",
   "language": "python",
   "name": "python3"
  },
  "language_info": {
   "codemirror_mode": {
    "name": "ipython",
    "version": 3
   },
   "file_extension": ".py",
   "mimetype": "text/x-python",
   "name": "python",
   "nbconvert_exporter": "python",
   "pygments_lexer": "ipython3",
   "version": "3.6.6"
  }
 },
 "nbformat": 4,
 "nbformat_minor": 4
}
