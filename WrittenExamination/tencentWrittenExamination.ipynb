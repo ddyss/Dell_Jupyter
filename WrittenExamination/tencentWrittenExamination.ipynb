{
 "cells": [
  {
   "cell_type": "code",
   "execution_count": 17,
   "metadata": {
    "collapsed": true,
    "jupyter": {
     "outputs_hidden": true
    }
   },
   "outputs": [
    {
     "data": {
      "text/plain": [
       "[99,\n",
       " 98,\n",
       " 97,\n",
       " 96,\n",
       " 95,\n",
       " 94,\n",
       " 93,\n",
       " 92,\n",
       " 91,\n",
       " 90,\n",
       " 89,\n",
       " 88,\n",
       " 87,\n",
       " 86,\n",
       " 85,\n",
       " 84,\n",
       " 83,\n",
       " 82,\n",
       " 81,\n",
       " 80,\n",
       " 79,\n",
       " 78,\n",
       " 77,\n",
       " 76,\n",
       " 75,\n",
       " 74,\n",
       " 73,\n",
       " 72,\n",
       " 71,\n",
       " 70,\n",
       " 69,\n",
       " 68,\n",
       " 67,\n",
       " 66,\n",
       " 65,\n",
       " 64,\n",
       " 63,\n",
       " 62,\n",
       " 61,\n",
       " 60,\n",
       " 59,\n",
       " 58,\n",
       " 57,\n",
       " 56,\n",
       " 55,\n",
       " 54,\n",
       " 53,\n",
       " 52,\n",
       " 51,\n",
       " 50,\n",
       " 49,\n",
       " 48,\n",
       " 47,\n",
       " 46,\n",
       " 45,\n",
       " 44,\n",
       " 43,\n",
       " 42,\n",
       " 41,\n",
       " 40,\n",
       " 39,\n",
       " 38,\n",
       " 37,\n",
       " 36,\n",
       " 35,\n",
       " 34,\n",
       " 33,\n",
       " 32,\n",
       " 31,\n",
       " 30,\n",
       " 29,\n",
       " 28,\n",
       " 27,\n",
       " 26,\n",
       " 25,\n",
       " 24,\n",
       " 23,\n",
       " 22,\n",
       " 21,\n",
       " 20,\n",
       " 19,\n",
       " 18,\n",
       " 17,\n",
       " 16,\n",
       " 15,\n",
       " 14,\n",
       " 13,\n",
       " 12,\n",
       " 11,\n",
       " 10,\n",
       " 9,\n",
       " 8,\n",
       " 7,\n",
       " 6,\n",
       " 5,\n",
       " 4,\n",
       " 3,\n",
       " 2,\n",
       " 1,\n",
       " 0]"
      ]
     },
     "execution_count": 17,
     "metadata": {},
     "output_type": "execute_result"
    }
   ],
   "source": [
    "# 用递归反转一个数组\n",
    "\n",
    "nums = [i for i in range(100)]\n",
    "\n",
    "def reverse(nums):\n",
    "    if len(nums) == 0:\n",
    "        return nums\n",
    "    else:\n",
    "        # 最后一个数 + 递归后的n-1个数 = 最后一个数 + （倒数第二个数 + 递归后的（n-1）-1个数）\n",
    "        # return [nums[-1]] + reverse(nums[:-1])\n",
    "        \n",
    "        # 字符串相比 TypeError: can only concatenate list (not \"int\") to list   给nums[0]加[]变成list，即可\n",
    "        return reverse(nums[1:]) + [nums[0]] \n",
    "reverse(nums) # "
   ]
  },
  {
   "cell_type": "code",
   "execution_count": 18,
   "metadata": {},
   "outputs": [
    {
     "data": {
      "text/plain": [
       "'dlrow olleh'"
      ]
     },
     "execution_count": 18,
     "metadata": {},
     "output_type": "execute_result"
    }
   ],
   "source": [
    "# 用递归反转一个字符串\n",
    "\n",
    "nums = 'hello world'\n",
    "\n",
    "def reverse(nums):\n",
    "    if len(nums) == 0:\n",
    "        return nums\n",
    "    else:\n",
    "        # 输出为 nums[-1] + ... + nums[2] + nums[1] + nums[0]\n",
    "        # return reverse(nums[1:]) + nums[0] \n",
    "        # TypeError: can only concatenate list (not \"str\") to list  同样，去掉[]，使其可以相加即可\n",
    "        return nums[-1] + reverse(nums[:-1]) \n",
    "reverse(nums) # 'dlrow olleh'"
   ]
  },
  {
   "cell_type": "code",
   "execution_count": 13,
   "metadata": {},
   "outputs": [],
   "source": [
    "# # 双指针法\n",
    "# def reverse(nums):\n",
    "#     left = 0\n",
    "#     right = len(nums) - 1\n",
    "#     while left < right:\n",
    "#         nums[left],nums[right] = nums[right],nums[left]\n",
    "#         left += 1\n",
    "#         right -= 1\n",
    "#     return nums\n",
    "# reverse(nums)"
   ]
  },
  {
   "cell_type": "code",
   "execution_count": 19,
   "metadata": {},
   "outputs": [
    {
     "name": "stdout",
     "output_type": "stream",
     "text": [
      "dlrow olleh\n"
     ]
    }
   ],
   "source": [
    "# # 循环逆转法\n",
    "# str1 = 'hello world'\n",
    "# b = ''\n",
    "# for i in str1:\n",
    "#     b = i + b\n",
    "# print(b)"
   ]
  },
  {
   "cell_type": "code",
   "execution_count": 3,
   "metadata": {},
   "outputs": [
    {
     "data": {
      "text/plain": [
       "15"
      ]
     },
     "execution_count": 3,
     "metadata": {},
     "output_type": "execute_result"
    }
   ],
   "source": [
    "# 不用for循环，求数组的和；可采用递归\n",
    "\n",
    "def sum(n):\n",
    "    if n == 1:\n",
    "        return n\n",
    "    else:\n",
    "        return sum(n-1) + n\n",
    "sum(5)"
   ]
  },
  {
   "cell_type": "code",
   "execution_count": 20,
   "metadata": {},
   "outputs": [
    {
     "data": {
      "text/plain": [
       "int"
      ]
     },
     "execution_count": 20,
     "metadata": {},
     "output_type": "execute_result"
    }
   ],
   "source": [
    "age  = 35\n",
    "age.__class__"
   ]
  },
  {
   "cell_type": "code",
   "execution_count": 1,
   "metadata": {},
   "outputs": [
    {
     "name": "stdout",
     "output_type": "stream",
     "text": [
      "1\n"
     ]
    }
   ],
   "source": [
    "# 元类 https://zhuanlan.zhihu.com/p/60461261\n",
    "# 函数type实际上是一个元类。\n",
    "\n",
    "# 道 即是 type\n",
    "# 一 即是 metaclass(元类，或者叫类生成器)\n",
    "# 二 即是 class(类，或者叫实例生成器)\n",
    "# 三 即是 instance(实例)\n",
    "# 万物 即是 实例的各种属性与方法，我们平常使用python时，调用的就是它们。\n",
    "\n",
    "class Class: # <class 'type'>\n",
    "    def __init__(self):\n",
    "        self.x = 1\n",
    "        \n",
    "\n",
    "# 类可以赋值给变量        \n",
    "one = Class #<class 'type'>\n",
    "\n",
    "# 通过变量可以实例化类\n",
    "print(one().x)"
   ]
  },
  {
   "cell_type": "code",
   "execution_count": 2,
   "metadata": {},
   "outputs": [],
   "source": [
    "def fn(self, name = 'world'):\n",
    "    print('Hello,%s.' % name)\n",
    "\n",
    " # 通过type创建Hello class ---- 神秘的“道”，可以点化一切，这次我们直接从“道”生出了“二”    \n",
    "Hello = type('Hello',(object,),dict(say_hello = fn)) # 三个参数 ‘我是谁；我从哪里来；要到哪里去’\n",
    "\n",
    "# 通过实例化可以调用\n",
    "hello = Hello()\n",
    "hello.say_hello()\n",
    "\n",
    "# 道”可以直接生出“二”，但它会先生出“一”，再批量地制造“二”。\n",
    "# type可以直接生成类（class），但也可以先生成元类（metaclass），再使用元类批量定制类（class）。"
   ]
  },
  {
   "cell_type": "code",
   "execution_count": 5,
   "metadata": {},
   "outputs": [
    {
     "name": "stdout",
     "output_type": "stream",
     "text": [
      "Hello,中华!!\n"
     ]
    }
   ],
   "source": [
    "# 道生一：传入type\n",
    "\n",
    "class  SayMetaClass(type):\n",
    "\n",
    "    # 传入三大永恒命题：类名称、父类、属性\n",
    "\n",
    "    def  __new__(cls,  name,  bases,  attrs):\n",
    "\n",
    "        # 创造“天赋”\n",
    "\n",
    "        attrs['say_'+name]  =  lambda  self,value,saying=name:  print(saying+','+value+'!')\n",
    "\n",
    "        # 传承三大永恒命题：类名称、父类、属性\n",
    "\n",
    "        return  type.__new__(cls,  name,  bases,  attrs)\n",
    "\n",
    "# 一生二：创建类\n",
    "\n",
    "class  Hello(object,  metaclass=SayMetaClass): #注意：通过元类创建的类，第一个参数是父类，第二个参数是metaclass\n",
    "\n",
    "    pass\n",
    "\n",
    "# 二生三：创建实列\n",
    "\n",
    "hello  =  Hello()\n",
    "\n",
    "# 三生万物：调用实例方法\n",
    "\n",
    "# hello.say_Hello('world!')\n",
    "hello.say_Hello('中华!') # say 后面的Hello 和上面的class类名相同"
   ]
  },
  {
   "cell_type": "code",
   "execution_count": 6,
   "metadata": {},
   "outputs": [],
   "source": [
    "# 道生一\n",
    "\n",
    "class ListMetaclass(type):\n",
    "    def __new__(cls,name,bases,attrs):\n",
    "         # 天赋：通过add方法将值绑定\n",
    "        attrs['add'] = lambda self, value: self.append(value)\n",
    "        return type.__new__(cls,name,bases,attrs)\n",
    "    \n",
    "# 一生二\n",
    "class Mylist(list, metaclass = ListMetaclass):\n",
    "    pass\n",
    "\n",
    "# 二生三\n",
    "L = Mylist()\n",
    "\n",
    "# 三生万物\n",
    "L.add(1)\n",
    "\n",
    "\n",
    "# 类的本质仍然是一个对象，于是乎你可以对它做如下的操作：\n",
    "# 1)   你可以将它赋值给一个变量\n",
    "# 2)   你可以拷贝它\n",
    "# 3)   你可以为它增加属性\n",
    "# 4)   你可以将它作为函数参数进行传递"
   ]
  },
  {
   "cell_type": "code",
   "execution_count": 7,
   "metadata": {},
   "outputs": [
    {
     "ename": "AttributeError",
     "evalue": "'list' object has no attribute 'add'",
     "output_type": "error",
     "traceback": [
      "\u001b[1;31m---------------------------------------------------------------------------\u001b[0m",
      "\u001b[1;31mAttributeError\u001b[0m                            Traceback (most recent call last)",
      "\u001b[1;32m<ipython-input-7-e9551a7fbae7>\u001b[0m in \u001b[0;36m<module>\u001b[1;34m\u001b[0m\n\u001b[0;32m      1\u001b[0m \u001b[0mL2\u001b[0m \u001b[1;33m=\u001b[0m \u001b[0mlist\u001b[0m\u001b[1;33m(\u001b[0m\u001b[1;33m)\u001b[0m\u001b[1;33m\u001b[0m\u001b[0m\n\u001b[1;32m----> 2\u001b[1;33m \u001b[0mL2\u001b[0m\u001b[1;33m.\u001b[0m\u001b[0madd\u001b[0m\u001b[1;33m(\u001b[0m\u001b[1;36m1\u001b[0m\u001b[1;33m)\u001b[0m\u001b[1;33m\u001b[0m\u001b[0m\n\u001b[0m",
      "\u001b[1;31mAttributeError\u001b[0m: 'list' object has no attribute 'add'"
     ]
    }
   ],
   "source": [
    "# 而普通的list没有add属性                  造物主的乐趣\n",
    "L2 = list()\n",
    "L2.add(1)"
   ]
  },
  {
   "cell_type": "code",
   "execution_count": null,
   "metadata": {},
   "outputs": [],
   "source": []
  }
 ],
 "metadata": {
  "kernelspec": {
   "display_name": "Python 3",
   "language": "python",
   "name": "python3"
  },
  "language_info": {
   "codemirror_mode": {
    "name": "ipython",
    "version": 3
   },
   "file_extension": ".py",
   "mimetype": "text/x-python",
   "name": "python",
   "nbconvert_exporter": "python",
   "pygments_lexer": "ipython3",
   "version": "3.6.6"
  }
 },
 "nbformat": 4,
 "nbformat_minor": 4
}
