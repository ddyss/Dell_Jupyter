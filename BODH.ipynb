{
 "cells": [
  {
   "cell_type": "code",
   "execution_count": null,
   "metadata": {},
   "outputs": [],
   "source": [
    "# https://zhidao.baidu.com/question/549823293.html\n",
    "# 二进制转十进制的三种调用\n",
    "x = 0b1010\n",
    "print(x)#第一种\n",
    "\n",
    "x = eval('0b1010')#第二种\n",
    "\n",
    "int('1010',base=2)#第三种，这时没有前缀也可以\n",
    "int('0b1010',2)\n",
    "\n",
    "class Solution:\n",
    "    def getDecimalValue(self, head: ListNode) -> int:\n",
    "        # res = 0\n",
    "        # cur = head\n",
    "        # while cur:\n",
    "        #     res = res*2 + cur.val*2**0 #另类计算二进制，res实时更新，24816，最后结果也对\n",
    "        #     cur = cur.next\n",
    "        # return res"
   ]
  },
  {
   "cell_type": "code",
   "execution_count": null,
   "metadata": {},
   "outputs": [],
   "source": []
  },
  {
   "cell_type": "code",
   "execution_count": null,
   "metadata": {},
   "outputs": [],
   "source": [
    "s = 13\n",
    "def jinzhi(n,m):\n",
    "    s = ''\n",
    "    fu = '0123456789abcdef'\n",
    "    while n: #一直向下取整，直到n=0退出，否则继续执行        \n",
    "        s += fu[n%m]\n",
    "        n = n//m\n",
    "    return s\n",
    "b = jinzhi(s,2)\n",
    "print(list(b) == list(b)[::-1])"
   ]
  },
  {
   "cell_type": "code",
   "execution_count": null,
   "metadata": {},
   "outputs": [],
   "source": []
  }
 ],
 "metadata": {
  "kernelspec": {
   "display_name": "Python 3",
   "language": "python",
   "name": "python3"
  },
  "language_info": {
   "codemirror_mode": {
    "name": "ipython",
    "version": 3
   },
   "file_extension": ".py",
   "mimetype": "text/x-python",
   "name": "python",
   "nbconvert_exporter": "python",
   "pygments_lexer": "ipython3",
   "version": "3.6.6"
  }
 },
 "nbformat": 4,
 "nbformat_minor": 4
}
