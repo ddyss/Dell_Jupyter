{
 "cells": [
  {
   "cell_type": "code",
   "execution_count": 30,
   "metadata": {},
   "outputs": [
    {
     "name": "stdout",
     "output_type": "stream",
     "text": [
      "alice female Peter male\n",
      "girl\n",
      "man\n"
     ]
    }
   ],
   "source": [
    "# https://www.cnblogs.com/feeland/p/4419121.html\n",
    "class Person(object):\n",
    "    def __init__(self,name,sex):\n",
    "        self.name = name\n",
    "        self.sex = sex\n",
    "\n",
    "    def print_title(self):\n",
    "        if self.sex == \"male\":\n",
    "            print(\"man\")\n",
    "        elif self.sex == \"female\":\n",
    "            print(\"woman\")\n",
    "\n",
    "class Child(Person):                            # Child 继承 Person\n",
    "    # 对print_title函数进行重写\n",
    "    def print_title(self):\n",
    "        if self.sex == \"male\":\n",
    "            print(\"boy\")\n",
    "        elif self.sex == \"female\":\n",
    "            print(\"girl\")\n",
    "\n",
    "May = Child(\"alice\",\"female\")\n",
    "Peter = Person(\"Peter\",\"male\")\n",
    "\n",
    "print(May.name,May.sex,Peter.name,Peter.sex)    # 子类继承父类方法及属性\n",
    "# 因为重写了，下式输出为girl，而不是women\n",
    "May.print_title()\n",
    "Peter.print_title()"
   ]
  },
  {
   "cell_type": "code",
   "execution_count": 31,
   "metadata": {},
   "outputs": [
    {
     "name": "stdout",
     "output_type": "stream",
     "text": [
      "调用子类构造方法\n",
      "调用子类方法\n",
      "调用父类方法\n",
      "父类属性 : 200\n"
     ]
    }
   ],
   "source": [
    "# https://www.runoob.com/python/python-object.html\n",
    "class Parent:        # 定义父类\n",
    "    parentAttr = 100\n",
    "    def __init__(self):\n",
    "        print (\"调用父类构造函数\")\n",
    " \n",
    "    def parentMethod(self):\n",
    "        print ('调用父类方法')\n",
    " \n",
    "    def setAttr(self, attr):\n",
    "        Parent.parentAttr = attr\n",
    " \n",
    "    def getAttr(self):\n",
    "        print (\"父类属性 :\", Parent.parentAttr)\n",
    "\n",
    "class Child(Parent): # 定义子类\n",
    "    def __init__(self):\n",
    "        print (\"调用子类构造方法\")\n",
    " \n",
    "    def childMethod(self):\n",
    "        print ('调用子类方法')\n",
    "\n",
    "c = Child()          # 实例化子类\n",
    "c.childMethod()      # 调用子类的方法\n",
    "c.parentMethod()     # 调用父类方法\n",
    "c.setAttr(200)       # 再次调用父类的方法 - 设置属性值\n",
    "c.getAttr()          # 再次调用父类的方法 - 获取属性值--获取结果是上面设置的200，而不是初始的100"
   ]
  },
  {
   "cell_type": "code",
   "execution_count": null,
   "metadata": {},
   "outputs": [],
   "source": []
  }
 ],
 "metadata": {
  "kernelspec": {
   "display_name": "Python 3",
   "language": "python",
   "name": "python3"
  },
  "language_info": {
   "codemirror_mode": {
    "name": "ipython",
    "version": 3
   },
   "file_extension": ".py",
   "mimetype": "text/x-python",
   "name": "python",
   "nbconvert_exporter": "python",
   "pygments_lexer": "ipython3",
   "version": "3.6.6"
  }
 },
 "nbformat": 4,
 "nbformat_minor": 4
}
